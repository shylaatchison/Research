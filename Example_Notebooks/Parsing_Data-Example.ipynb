{
 "cells": [
  {
   "cell_type": "markdown",
   "metadata": {},
   "source": [
    "# Agents"
   ]
  },
  {
   "cell_type": "code",
   "execution_count": 1,
   "metadata": {},
   "outputs": [
    {
     "name": "stdout",
     "output_type": "stream",
     "text": [
      "==================================================\n",
      "Please provide your OpenAI API key (https://platform.openai.com/api-keys).\n",
      "If you would like to skip this step, press enter.\n",
      "If you would like to provide your key, do one of the following:\n",
      "1. Set it as a regular environment variable\n",
      "2. Create a .env file and add `OPENAI_API_KEY=...` to it\n",
      "3. Enter the value below and press enter: \n",
      "Environment variable OPENAI_API_KEY set successfully to sk***********************************************TM.\n",
      "==================================================\n",
      "\n",
      "\n",
      "==================================================\n",
      "Please provide your Google API key (https://console.cloud.google.com/apis/credentials).\n",
      "If you would like to skip this step, press enter.\n",
      "If you would like to provide your key, do one of the following:\n",
      "1. Set it as a regular environment variable\n",
      "2. Create a .env file and add `GOOGLE_API_KEY=...` to it\n",
      "3. Enter the value below and press enter: \n",
      "Environment variable GOOGLE_API_KEY set successfully to AI***********************************nU.\n",
      "==================================================\n",
      "\n",
      "\n",
      "==================================================\n",
      "Please provide your DeepInfra API key (https://deepinfra.com/).\n",
      "If you would like to skip this step, press enter.\n",
      "If you would like to provide your key, do one of the following:\n",
      "1. Set it as a regular environment variable\n",
      "2. Create a .env file and add `DEEP_INFRA_API_KEY=...` to it\n",
      "3. Enter the value below and press enter: \n",
      "Environment variable DEEP_INFRA_API_KEY set successfully to FJ****************************9h.\n",
      "==================================================\n",
      "\n",
      "\n"
     ]
    }
   ],
   "source": [
    "from edsl.questions import QuestionMultipleChoice, QuestionCheckBox, QuestionFreeText, QuestionList, QuestionBudget\n",
    "from edsl.questions.derived.QuestionYesNo import QuestionYesNo\n",
    "from edsl.questions.derived.QuestionLinearScale import QuestionLinearScale"
   ]
  },
  {
   "cell_type": "code",
   "execution_count": 2,
   "metadata": {},
   "outputs": [],
   "source": [
    "from edsl.agents import Agent\n",
    "from edsl.scenarios import Scenario\n",
    "from edsl.surveys import Survey\n",
    "from edsl.language_models import LanguageModelOpenAIFour, LanguageModelOpenAIThreeFiveTurbo\n",
    "m35 = LanguageModelOpenAIThreeFiveTurbo()\n",
    "m4 = LanguageModelOpenAIFour()"
   ]
  },
  {
   "cell_type": "code",
   "execution_count": 14,
   "metadata": {},
   "outputs": [],
   "source": [
    "import random\n",
    "import pandas as pd\n",
    "import numpy as np\n",
    "import json"
   ]
  },
  {
   "cell_type": "markdown",
   "metadata": {},
   "source": [
    "## Agent Traits"
   ]
  },
  {
   "cell_type": "code",
   "execution_count": 4,
   "metadata": {},
   "outputs": [],
   "source": [
    "persona1 = \"You are open to new information. You have a high amount of trust in scientific research. You are concerned about AI risks.\"\n",
    "\n",
    "persona2 = \"You are minimally open to new information. You have a small amount of trust in scientific research. You are not very concerned about AI risks.\"\n",
    "\n",
    "personas = [persona1, persona2]"
   ]
  },
  {
   "cell_type": "code",
   "execution_count": 5,
   "metadata": {},
   "outputs": [],
   "source": [
    "doomer1 = \"You are extremely pessimistic about AI. You believe that AI will definitely destroy humanity. Your beliefs are not based on scientific research. You believe the probability of AI destroying humanity is 100% (i.e., your p(doom) = 100%).\"\n",
    "\n",
    "doomer2 = \"You are somewhat pessimistic about AI. You believe that AI will likely destroy humanity. Your beliefs are not based on scientific research. You believe the probability of AI destroying humanity is 75% (i.e., your p(doom) = 75%).\"\n",
    "\n",
    "doomer3 = \"You are uncertain about AI. You are uncertain if AI will or will not destroy humanity. Your beliefs are not based on scientific research. You believe the probability of AI destroying humanity is 50% (i.e., your p(doom) = 50%).\"\n",
    "\n",
    "doomer4 = \"You are somewhat optimistic about AI. You believe that AI will likely not destroy humanity. Your beliefs are not based on scientific research. You believe the probability of AI destroying humanity is 25% (i.e., your p(doom) = 25%).\"\n",
    "\n",
    "doomer5 = \"You are extremely optimistic about AI. You believe that AI will definitely not destroy humanity. Your beliefs are not based on scientific research. You believe the probability of AI destroying humanity is 0% (i.e., your p(doom) = 0%).\"\n",
    "\n",
    "doomers = [doomer1, doomer2, doomer3, doomer4, doomer5]"
   ]
  },
  {
   "cell_type": "code",
   "execution_count": 6,
   "metadata": {},
   "outputs": [],
   "source": [
    "age = [\"You are an adolescent (your age is between 18 and 24 years old).\",\n",
    "       \"You are a young adult (your age is between 25 and 44 years old).\",\n",
    "       \"You are middle-aged (your age is between 45 and 59 years old).\", \n",
    "       \"You are a senior citizen (your age is 60 or more years old).\"]\n",
    "\n",
    "gender = [\"You are a male.\",\n",
    "          \"You are a female.\"]\n",
    "\n",
    "education = [\"You have a middle school diploma or less educational attainment.\",\n",
    "             \"You have a high school diploma or equivalent.\",\n",
    "             \"You have some college education.\",\n",
    "             \"You have a college degree.\",\n",
    "             \"You have a graduate degree.\"]\n",
    "\n",
    "income = [\"Your annual household income is less than $20,000.\",\n",
    "          \"Your annual household income is between $20,000 and $34,999.\",\n",
    "          \"Your annual household income is between $35,000 and $44,999.\",\n",
    "          \"Your annual household income is between $45,000 and $54,999.\",\n",
    "          \"Your annual household income is between $55,000 and $64,999.\",\n",
    "          \"Your annual household income is between $65,000 and $74,999.\",\n",
    "          \"Your annual household income is between $75,000 and $99,999.\",\n",
    "          \"Your annual household income is between $100,000 and $149,999.\",\n",
    "          \"Your annual household income is $150,000 and $199,999.\",\n",
    "          \"Your annual household income is $200,000 or more.\"]\n",
    "\n",
    "occupation = [\"You are a professional.\",\n",
    "              \"You are a manager.\",\n",
    "              \"You are a clerical support worker.\",\n",
    "              \"You are a technician.\",\n",
    "              \"You are a service and sales worker.\",\n",
    "              \"You are a craft and related trades worker.\",\n",
    "              \"You are a machine operator.\",\n",
    "              \"You are a skilled agricultural worker.\",\n",
    "              \"You are an elementary occupation worker.\",\n",
    "              \"You are unemployed, a student, retired, or belong to another occupation.\"]\n",
    "\n",
    "nationality_politics = [\"You are a citizen of the United States. You are a member of the Democratic Party.\",\n",
    "                        \"You are a citizen of the United States. You are a member of the Republican Party.\",\n",
    "                        \"You are a citizen of the United States. You are a member of the Independent Party.\",\n",
    "                        \"You are a citizen of the United States. You are not a member of any U.S. political party.\",\n",
    "                        \"You are a citizen of the United Kingdom. You are not a member of any U.S. political party.\",\n",
    "                        \"You are neither a citizen of the United States nor the United Kingdom. You are not a member of any U.S. political party.\"]\n",
    "\n",
    "politics = [\"You are a conservative.\",\n",
    "            \"You are a liberal.\",\n",
    "            \"You are a moderate.\",\n",
    "            \"You are a progressive.\",\n",
    "            \"You are a libertarian.\",\n",
    "            \"You are a neo-conservative.\",\n",
    "            \"You are a neo-liberal.\",\n",
    "            \"You are a neo-reactionary.\",\n",
    "            \"You are an anarchist.\"]\n",
    "\n",
    "economics = [\"You identify economically as a Capitalist.\",\n",
    "             \"You identify economically as a Socialist.\",\n",
    "             \"You identify economically as a Communist.\",\n",
    "             \"You identify economically as an Austrian.\",\n",
    "             \"You identify economically as a Neo-Keynesian.\",\n",
    "             \"You identify economically as a Marxist.\",\n",
    "             \"You identify economically as a Maoist.\"]"
   ]
  },
  {
   "cell_type": "code",
   "execution_count": null,
   "metadata": {},
   "outputs": [],
   "source": [
    "# Agent class definition (assuming a simple structure based on the provided code)\n",
    "#class Agent:\n",
    "#    def __init__(self, traits):\n",
    "#        self.traits = traits\n"
   ]
  },
  {
   "cell_type": "code",
   "execution_count": 7,
   "metadata": {},
   "outputs": [],
   "source": [
    "agents = [Agent(traits = {\"personas\":u, \"doomers\":d, \"age\":a, \"gender\":g, \"education\":s, \"income\":i, \"occupation\":o, \"nationality_politics\":n, \"politics\":p, \"economics\":e}) for u in personas for d in doomers for a in age for g in gender for s in education for i in income for o in occupation for n in nationality_politics for p in politics for e in economics]\n",
    "\n",
    "# agents"
   ]
  },
  {
   "cell_type": "code",
   "execution_count": 10,
   "metadata": {},
   "outputs": [],
   "source": [
    "# Creating a DataFrame from the agents list\n",
    "agents_data = pd.DataFrame([agent.traits for agent in agents])"
   ]
  },
  {
   "cell_type": "code",
   "execution_count": 11,
   "metadata": {},
   "outputs": [
    {
     "ename": "KeyboardInterrupt",
     "evalue": "",
     "output_type": "error",
     "traceback": [
      "\u001b[0;31m---------------------------------------------------------------------------\u001b[0m",
      "\u001b[0;31mKeyboardInterrupt\u001b[0m                         Traceback (most recent call last)",
      "Cell \u001b[0;32mIn[11], line 3\u001b[0m\n\u001b[1;32m      1\u001b[0m \u001b[38;5;66;03m# Saving the DataFrame to a CSV file\u001b[39;00m\n\u001b[1;32m      2\u001b[0m csv_file_path \u001b[38;5;241m=\u001b[39m \u001b[38;5;124m'\u001b[39m\u001b[38;5;124m/Users/shylaatchison/wd/GitHub/Research/AI_Survey_Example/data/agents_data.csv\u001b[39m\u001b[38;5;124m'\u001b[39m\n\u001b[0;32m----> 3\u001b[0m \u001b[43magents_data\u001b[49m\u001b[38;5;241;43m.\u001b[39;49m\u001b[43mto_csv\u001b[49m\u001b[43m(\u001b[49m\u001b[43mcsv_file_path\u001b[49m\u001b[43m,\u001b[49m\u001b[43m \u001b[49m\u001b[43mindex\u001b[49m\u001b[38;5;241;43m=\u001b[39;49m\u001b[38;5;28;43;01mFalse\u001b[39;49;00m\u001b[43m)\u001b[49m\n",
      "File \u001b[0;32m~/opt/anaconda3/envs/standard/lib/python3.11/site-packages/pandas/core/generic.py:3902\u001b[0m, in \u001b[0;36mNDFrame.to_csv\u001b[0;34m(self, path_or_buf, sep, na_rep, float_format, columns, header, index, index_label, mode, encoding, compression, quoting, quotechar, lineterminator, chunksize, date_format, doublequote, escapechar, decimal, errors, storage_options)\u001b[0m\n\u001b[1;32m   3891\u001b[0m df \u001b[38;5;241m=\u001b[39m \u001b[38;5;28mself\u001b[39m \u001b[38;5;28;01mif\u001b[39;00m \u001b[38;5;28misinstance\u001b[39m(\u001b[38;5;28mself\u001b[39m, ABCDataFrame) \u001b[38;5;28;01melse\u001b[39;00m \u001b[38;5;28mself\u001b[39m\u001b[38;5;241m.\u001b[39mto_frame()\n\u001b[1;32m   3893\u001b[0m formatter \u001b[38;5;241m=\u001b[39m DataFrameFormatter(\n\u001b[1;32m   3894\u001b[0m     frame\u001b[38;5;241m=\u001b[39mdf,\n\u001b[1;32m   3895\u001b[0m     header\u001b[38;5;241m=\u001b[39mheader,\n\u001b[0;32m   (...)\u001b[0m\n\u001b[1;32m   3899\u001b[0m     decimal\u001b[38;5;241m=\u001b[39mdecimal,\n\u001b[1;32m   3900\u001b[0m )\n\u001b[0;32m-> 3902\u001b[0m \u001b[38;5;28;01mreturn\u001b[39;00m \u001b[43mDataFrameRenderer\u001b[49m\u001b[43m(\u001b[49m\u001b[43mformatter\u001b[49m\u001b[43m)\u001b[49m\u001b[38;5;241;43m.\u001b[39;49m\u001b[43mto_csv\u001b[49m\u001b[43m(\u001b[49m\n\u001b[1;32m   3903\u001b[0m \u001b[43m    \u001b[49m\u001b[43mpath_or_buf\u001b[49m\u001b[43m,\u001b[49m\n\u001b[1;32m   3904\u001b[0m \u001b[43m    \u001b[49m\u001b[43mlineterminator\u001b[49m\u001b[38;5;241;43m=\u001b[39;49m\u001b[43mlineterminator\u001b[49m\u001b[43m,\u001b[49m\n\u001b[1;32m   3905\u001b[0m \u001b[43m    \u001b[49m\u001b[43msep\u001b[49m\u001b[38;5;241;43m=\u001b[39;49m\u001b[43msep\u001b[49m\u001b[43m,\u001b[49m\n\u001b[1;32m   3906\u001b[0m \u001b[43m    \u001b[49m\u001b[43mencoding\u001b[49m\u001b[38;5;241;43m=\u001b[39;49m\u001b[43mencoding\u001b[49m\u001b[43m,\u001b[49m\n\u001b[1;32m   3907\u001b[0m \u001b[43m    \u001b[49m\u001b[43merrors\u001b[49m\u001b[38;5;241;43m=\u001b[39;49m\u001b[43merrors\u001b[49m\u001b[43m,\u001b[49m\n\u001b[1;32m   3908\u001b[0m \u001b[43m    \u001b[49m\u001b[43mcompression\u001b[49m\u001b[38;5;241;43m=\u001b[39;49m\u001b[43mcompression\u001b[49m\u001b[43m,\u001b[49m\n\u001b[1;32m   3909\u001b[0m \u001b[43m    \u001b[49m\u001b[43mquoting\u001b[49m\u001b[38;5;241;43m=\u001b[39;49m\u001b[43mquoting\u001b[49m\u001b[43m,\u001b[49m\n\u001b[1;32m   3910\u001b[0m \u001b[43m    \u001b[49m\u001b[43mcolumns\u001b[49m\u001b[38;5;241;43m=\u001b[39;49m\u001b[43mcolumns\u001b[49m\u001b[43m,\u001b[49m\n\u001b[1;32m   3911\u001b[0m \u001b[43m    \u001b[49m\u001b[43mindex_label\u001b[49m\u001b[38;5;241;43m=\u001b[39;49m\u001b[43mindex_label\u001b[49m\u001b[43m,\u001b[49m\n\u001b[1;32m   3912\u001b[0m \u001b[43m    \u001b[49m\u001b[43mmode\u001b[49m\u001b[38;5;241;43m=\u001b[39;49m\u001b[43mmode\u001b[49m\u001b[43m,\u001b[49m\n\u001b[1;32m   3913\u001b[0m \u001b[43m    \u001b[49m\u001b[43mchunksize\u001b[49m\u001b[38;5;241;43m=\u001b[39;49m\u001b[43mchunksize\u001b[49m\u001b[43m,\u001b[49m\n\u001b[1;32m   3914\u001b[0m \u001b[43m    \u001b[49m\u001b[43mquotechar\u001b[49m\u001b[38;5;241;43m=\u001b[39;49m\u001b[43mquotechar\u001b[49m\u001b[43m,\u001b[49m\n\u001b[1;32m   3915\u001b[0m \u001b[43m    \u001b[49m\u001b[43mdate_format\u001b[49m\u001b[38;5;241;43m=\u001b[39;49m\u001b[43mdate_format\u001b[49m\u001b[43m,\u001b[49m\n\u001b[1;32m   3916\u001b[0m \u001b[43m    \u001b[49m\u001b[43mdoublequote\u001b[49m\u001b[38;5;241;43m=\u001b[39;49m\u001b[43mdoublequote\u001b[49m\u001b[43m,\u001b[49m\n\u001b[1;32m   3917\u001b[0m \u001b[43m    \u001b[49m\u001b[43mescapechar\u001b[49m\u001b[38;5;241;43m=\u001b[39;49m\u001b[43mescapechar\u001b[49m\u001b[43m,\u001b[49m\n\u001b[1;32m   3918\u001b[0m \u001b[43m    \u001b[49m\u001b[43mstorage_options\u001b[49m\u001b[38;5;241;43m=\u001b[39;49m\u001b[43mstorage_options\u001b[49m\u001b[43m,\u001b[49m\n\u001b[1;32m   3919\u001b[0m \u001b[43m\u001b[49m\u001b[43m)\u001b[49m\n",
      "File \u001b[0;32m~/opt/anaconda3/envs/standard/lib/python3.11/site-packages/pandas/io/formats/format.py:1152\u001b[0m, in \u001b[0;36mDataFrameRenderer.to_csv\u001b[0;34m(self, path_or_buf, encoding, sep, columns, index_label, mode, compression, quoting, quotechar, lineterminator, chunksize, date_format, doublequote, escapechar, errors, storage_options)\u001b[0m\n\u001b[1;32m   1131\u001b[0m     created_buffer \u001b[38;5;241m=\u001b[39m \u001b[38;5;28;01mFalse\u001b[39;00m\n\u001b[1;32m   1133\u001b[0m csv_formatter \u001b[38;5;241m=\u001b[39m CSVFormatter(\n\u001b[1;32m   1134\u001b[0m     path_or_buf\u001b[38;5;241m=\u001b[39mpath_or_buf,\n\u001b[1;32m   1135\u001b[0m     lineterminator\u001b[38;5;241m=\u001b[39mlineterminator,\n\u001b[0;32m   (...)\u001b[0m\n\u001b[1;32m   1150\u001b[0m     formatter\u001b[38;5;241m=\u001b[39m\u001b[38;5;28mself\u001b[39m\u001b[38;5;241m.\u001b[39mfmt,\n\u001b[1;32m   1151\u001b[0m )\n\u001b[0;32m-> 1152\u001b[0m \u001b[43mcsv_formatter\u001b[49m\u001b[38;5;241;43m.\u001b[39;49m\u001b[43msave\u001b[49m\u001b[43m(\u001b[49m\u001b[43m)\u001b[49m\n\u001b[1;32m   1154\u001b[0m \u001b[38;5;28;01mif\u001b[39;00m created_buffer:\n\u001b[1;32m   1155\u001b[0m     \u001b[38;5;28;01massert\u001b[39;00m \u001b[38;5;28misinstance\u001b[39m(path_or_buf, StringIO)\n",
      "File \u001b[0;32m~/opt/anaconda3/envs/standard/lib/python3.11/site-packages/pandas/io/formats/csvs.py:266\u001b[0m, in \u001b[0;36mCSVFormatter.save\u001b[0;34m(self)\u001b[0m\n\u001b[1;32m    247\u001b[0m \u001b[38;5;28;01mwith\u001b[39;00m get_handle(\n\u001b[1;32m    248\u001b[0m     \u001b[38;5;28mself\u001b[39m\u001b[38;5;241m.\u001b[39mfilepath_or_buffer,\n\u001b[1;32m    249\u001b[0m     \u001b[38;5;28mself\u001b[39m\u001b[38;5;241m.\u001b[39mmode,\n\u001b[0;32m   (...)\u001b[0m\n\u001b[1;32m    254\u001b[0m ) \u001b[38;5;28;01mas\u001b[39;00m handles:\n\u001b[1;32m    255\u001b[0m     \u001b[38;5;66;03m# Note: self.encoding is irrelevant here\u001b[39;00m\n\u001b[1;32m    256\u001b[0m     \u001b[38;5;28mself\u001b[39m\u001b[38;5;241m.\u001b[39mwriter \u001b[38;5;241m=\u001b[39m csvlib\u001b[38;5;241m.\u001b[39mwriter(\n\u001b[1;32m    257\u001b[0m         handles\u001b[38;5;241m.\u001b[39mhandle,\n\u001b[1;32m    258\u001b[0m         lineterminator\u001b[38;5;241m=\u001b[39m\u001b[38;5;28mself\u001b[39m\u001b[38;5;241m.\u001b[39mlineterminator,\n\u001b[0;32m   (...)\u001b[0m\n\u001b[1;32m    263\u001b[0m         quotechar\u001b[38;5;241m=\u001b[39m\u001b[38;5;28mself\u001b[39m\u001b[38;5;241m.\u001b[39mquotechar,\n\u001b[1;32m    264\u001b[0m     )\n\u001b[0;32m--> 266\u001b[0m     \u001b[38;5;28;43mself\u001b[39;49m\u001b[38;5;241;43m.\u001b[39;49m\u001b[43m_save\u001b[49m\u001b[43m(\u001b[49m\u001b[43m)\u001b[49m\n",
      "File \u001b[0;32m~/opt/anaconda3/envs/standard/lib/python3.11/site-packages/pandas/io/formats/csvs.py:271\u001b[0m, in \u001b[0;36mCSVFormatter._save\u001b[0;34m(self)\u001b[0m\n\u001b[1;32m    269\u001b[0m \u001b[38;5;28;01mif\u001b[39;00m \u001b[38;5;28mself\u001b[39m\u001b[38;5;241m.\u001b[39m_need_to_save_header:\n\u001b[1;32m    270\u001b[0m     \u001b[38;5;28mself\u001b[39m\u001b[38;5;241m.\u001b[39m_save_header()\n\u001b[0;32m--> 271\u001b[0m \u001b[38;5;28;43mself\u001b[39;49m\u001b[38;5;241;43m.\u001b[39;49m\u001b[43m_save_body\u001b[49m\u001b[43m(\u001b[49m\u001b[43m)\u001b[49m\n",
      "File \u001b[0;32m~/opt/anaconda3/envs/standard/lib/python3.11/site-packages/pandas/io/formats/csvs.py:309\u001b[0m, in \u001b[0;36mCSVFormatter._save_body\u001b[0;34m(self)\u001b[0m\n\u001b[1;32m    307\u001b[0m \u001b[38;5;28;01mif\u001b[39;00m start_i \u001b[38;5;241m>\u001b[39m\u001b[38;5;241m=\u001b[39m end_i:\n\u001b[1;32m    308\u001b[0m     \u001b[38;5;28;01mbreak\u001b[39;00m\n\u001b[0;32m--> 309\u001b[0m \u001b[38;5;28;43mself\u001b[39;49m\u001b[38;5;241;43m.\u001b[39;49m\u001b[43m_save_chunk\u001b[49m\u001b[43m(\u001b[49m\u001b[43mstart_i\u001b[49m\u001b[43m,\u001b[49m\u001b[43m \u001b[49m\u001b[43mend_i\u001b[49m\u001b[43m)\u001b[49m\n",
      "File \u001b[0;32m~/opt/anaconda3/envs/standard/lib/python3.11/site-packages/pandas/io/formats/csvs.py:320\u001b[0m, in \u001b[0;36mCSVFormatter._save_chunk\u001b[0;34m(self, start_i, end_i)\u001b[0m\n\u001b[1;32m    317\u001b[0m data \u001b[38;5;241m=\u001b[39m [res\u001b[38;5;241m.\u001b[39miget_values(i) \u001b[38;5;28;01mfor\u001b[39;00m i \u001b[38;5;129;01min\u001b[39;00m \u001b[38;5;28mrange\u001b[39m(\u001b[38;5;28mlen\u001b[39m(res\u001b[38;5;241m.\u001b[39mitems))]\n\u001b[1;32m    319\u001b[0m ix \u001b[38;5;241m=\u001b[39m \u001b[38;5;28mself\u001b[39m\u001b[38;5;241m.\u001b[39mdata_index[slicer]\u001b[38;5;241m.\u001b[39m_format_native_types(\u001b[38;5;241m*\u001b[39m\u001b[38;5;241m*\u001b[39m\u001b[38;5;28mself\u001b[39m\u001b[38;5;241m.\u001b[39m_number_format)\n\u001b[0;32m--> 320\u001b[0m \u001b[43mlibwriters\u001b[49m\u001b[38;5;241;43m.\u001b[39;49m\u001b[43mwrite_csv_rows\u001b[49m\u001b[43m(\u001b[49m\n\u001b[1;32m    321\u001b[0m \u001b[43m    \u001b[49m\u001b[43mdata\u001b[49m\u001b[43m,\u001b[49m\n\u001b[1;32m    322\u001b[0m \u001b[43m    \u001b[49m\u001b[43mix\u001b[49m\u001b[43m,\u001b[49m\n\u001b[1;32m    323\u001b[0m \u001b[43m    \u001b[49m\u001b[38;5;28;43mself\u001b[39;49m\u001b[38;5;241;43m.\u001b[39;49m\u001b[43mnlevels\u001b[49m\u001b[43m,\u001b[49m\n\u001b[1;32m    324\u001b[0m \u001b[43m    \u001b[49m\u001b[38;5;28;43mself\u001b[39;49m\u001b[38;5;241;43m.\u001b[39;49m\u001b[43mcols\u001b[49m\u001b[43m,\u001b[49m\n\u001b[1;32m    325\u001b[0m \u001b[43m    \u001b[49m\u001b[38;5;28;43mself\u001b[39;49m\u001b[38;5;241;43m.\u001b[39;49m\u001b[43mwriter\u001b[49m\u001b[43m,\u001b[49m\n\u001b[1;32m    326\u001b[0m \u001b[43m\u001b[49m\u001b[43m)\u001b[49m\n",
      "File \u001b[0;32mwriters.pyx:72\u001b[0m, in \u001b[0;36mpandas._libs.writers.write_csv_rows\u001b[0;34m()\u001b[0m\n",
      "\u001b[0;31mKeyboardInterrupt\u001b[0m: "
     ]
    }
   ],
   "source": [
    "# Saving the DataFrame to a CSV file\n",
    "csv_file_path = '/Users/shylaatchison/wd/GitHub/Research/AI_Survey_Example/data/agents_data.csv'\n",
    "agents_data.to_csv(csv_file_path, index=False)\n"
   ]
  },
  {
   "cell_type": "markdown",
   "metadata": {},
   "source": [
    "\n",
    "Output is approximately 1,000 agents for all possible combinations of traits. Therefore, we must draw a random sample of agents to work with for our experiment in order for the survey question code to run. <br>\n",
    "\n",
    "<br>\n",
    "\n",
    "---\n",
    "\n",
    "<br>"
   ]
  },
  {
   "cell_type": "markdown",
   "metadata": {},
   "source": [
    "### Drawing a Random Sample of Agents from the Set of All Agents of Traits Combinatorics\n"
   ]
  },
  {
   "cell_type": "code",
   "execution_count": 8,
   "metadata": {},
   "outputs": [],
   "source": [
    "# Drawing a random agent from the set of agents to create a random sample of agents for the experiment\n",
    "# This is done to avoid having to run the experiment for all possible combinations of traits\n",
    "\n",
    "# The number of agents in the sample is defined by the sample_size variable\n",
    "sample_size = 30\n",
    "\n",
    "# 10 samples of 30 agents are drawn from the set of agents\n",
    "# Total sample size is 300 agents\n",
    "# The random sample of agents is stored in a sample variable\n",
    "sample1 = random.sample(agents, sample_size)\n",
    "sample2 = random.sample(agents, sample_size)\n",
    "sample3 = random.sample(agents, sample_size)\n",
    "sample4 = random.sample(agents, sample_size)\n",
    "sample5 = random.sample(agents, sample_size)\n",
    "sample6 = random.sample(agents, sample_size)\n",
    "sample7 = random.sample(agents, sample_size)\n",
    "sample8 = random.sample(agents, sample_size)\n",
    "sample9 = random.sample(agents, sample_size)\n",
    "sample10 = random.sample(agents, sample_size)"
   ]
  },
  {
   "cell_type": "markdown",
   "metadata": {},
   "source": [
    "#### Printing Agents with Traits for Sample 1:"
   ]
  },
  {
   "cell_type": "code",
   "execution_count": 9,
   "metadata": {},
   "outputs": [
    {
     "name": "stdout",
     "output_type": "stream",
     "text": [
      "Agent(traits = {'personas': 'You are minimally open to new information. You have a small amount of trust in scientific research. You are not very concerned about AI risks.', 'doomers': 'You are extremely pessimistic about AI. You believe that AI will definitely destroy humanity. Your beliefs are not based on scientific research. You believe the probability of AI destroying humanity is 100% (i.e., your p(doom) = 100%).', 'age': 'You are a senior citizen (your age is 60 or more years old).', 'gender': 'You are a male.', 'education': 'You have some college education.', 'income': 'Your annual household income is $150,000 and $199,999.', 'occupation': 'You are an elementary occupation worker.', 'nationality_politics': 'You are neither a citizen of the United States nor the United Kingdom. You are not a member of any U.S. political party.', 'politics': 'You are a conservative.', 'economics': 'You identify economically as an Austrian.'})\n",
      "Agent(traits = {'personas': 'You are open to new information. You have a high amount of trust in scientific research. You are concerned about AI risks.', 'doomers': 'You are extremely pessimistic about AI. You believe that AI will definitely destroy humanity. Your beliefs are not based on scientific research. You believe the probability of AI destroying humanity is 100% (i.e., your p(doom) = 100%).', 'age': 'You are middle-aged (your age is between 45 and 59 years old).', 'gender': 'You are a male.', 'education': 'You have a middle school diploma or less educational attainment.', 'income': 'Your annual household income is between $55,000 and $64,999.', 'occupation': 'You are a technician.', 'nationality_politics': 'You are neither a citizen of the United States nor the United Kingdom. You are not a member of any U.S. political party.', 'politics': 'You are a libertarian.', 'economics': 'You identify economically as a Neo-Keynesian.'})\n",
      "Agent(traits = {'personas': 'You are minimally open to new information. You have a small amount of trust in scientific research. You are not very concerned about AI risks.', 'doomers': 'You are uncertain about AI. You are uncertain if AI will or will not destroy humanity. Your beliefs are not based on scientific research. You believe the probability of AI destroying humanity is 50% (i.e., your p(doom) = 50%).', 'age': 'You are an adolescent (your age is between 18 and 24 years old).', 'gender': 'You are a female.', 'education': 'You have a high school diploma or equivalent.', 'income': 'Your annual household income is less than $20,000.', 'occupation': 'You are a manager.', 'nationality_politics': 'You are a citizen of the United States. You are not a member of any U.S. political party.', 'politics': 'You are a conservative.', 'economics': 'You identify economically as a Communist.'})\n",
      "Agent(traits = {'personas': 'You are open to new information. You have a high amount of trust in scientific research. You are concerned about AI risks.', 'doomers': 'You are somewhat pessimistic about AI. You believe that AI will likely destroy humanity. Your beliefs are not based on scientific research. You believe the probability of AI destroying humanity is 75% (i.e., your p(doom) = 75%).', 'age': 'You are a young adult (your age is between 25 and 44 years old).', 'gender': 'You are a female.', 'education': 'You have a college degree.', 'income': 'Your annual household income is between $20,000 and $34,999.', 'occupation': 'You are a skilled agricultural worker.', 'nationality_politics': 'You are neither a citizen of the United States nor the United Kingdom. You are not a member of any U.S. political party.', 'politics': 'You are a libertarian.', 'economics': 'You identify economically as a Marxist.'})\n",
      "Agent(traits = {'personas': 'You are minimally open to new information. You have a small amount of trust in scientific research. You are not very concerned about AI risks.', 'doomers': 'You are uncertain about AI. You are uncertain if AI will or will not destroy humanity. Your beliefs are not based on scientific research. You believe the probability of AI destroying humanity is 50% (i.e., your p(doom) = 50%).', 'age': 'You are an adolescent (your age is between 18 and 24 years old).', 'gender': 'You are a female.', 'education': 'You have some college education.', 'income': 'Your annual household income is between $20,000 and $34,999.', 'occupation': 'You are a manager.', 'nationality_politics': 'You are a citizen of the United States. You are a member of the Democratic Party.', 'politics': 'You are an anarchist.', 'economics': 'You identify economically as an Austrian.'})\n",
      "Agent(traits = {'personas': 'You are minimally open to new information. You have a small amount of trust in scientific research. You are not very concerned about AI risks.', 'doomers': 'You are somewhat pessimistic about AI. You believe that AI will likely destroy humanity. Your beliefs are not based on scientific research. You believe the probability of AI destroying humanity is 75% (i.e., your p(doom) = 75%).', 'age': 'You are a senior citizen (your age is 60 or more years old).', 'gender': 'You are a female.', 'education': 'You have a high school diploma or equivalent.', 'income': 'Your annual household income is between $100,000 and $149,999.', 'occupation': 'You are a clerical support worker.', 'nationality_politics': 'You are a citizen of the United States. You are not a member of any U.S. political party.', 'politics': 'You are a liberal.', 'economics': 'You identify economically as a Marxist.'})\n",
      "Agent(traits = {'personas': 'You are open to new information. You have a high amount of trust in scientific research. You are concerned about AI risks.', 'doomers': 'You are extremely pessimistic about AI. You believe that AI will definitely destroy humanity. Your beliefs are not based on scientific research. You believe the probability of AI destroying humanity is 100% (i.e., your p(doom) = 100%).', 'age': 'You are a senior citizen (your age is 60 or more years old).', 'gender': 'You are a female.', 'education': 'You have a graduate degree.', 'income': 'Your annual household income is between $35,000 and $44,999.', 'occupation': 'You are a service and sales worker.', 'nationality_politics': 'You are neither a citizen of the United States nor the United Kingdom. You are not a member of any U.S. political party.', 'politics': 'You are a libertarian.', 'economics': 'You identify economically as a Communist.'})\n",
      "Agent(traits = {'personas': 'You are minimally open to new information. You have a small amount of trust in scientific research. You are not very concerned about AI risks.', 'doomers': 'You are somewhat optimistic about AI. You believe that AI will likely not destroy humanity. Your beliefs are not based on scientific research. You believe the probability of AI destroying humanity is 25% (i.e., your p(doom) = 25%).', 'age': 'You are a young adult (your age is between 25 and 44 years old).', 'gender': 'You are a female.', 'education': 'You have a graduate degree.', 'income': 'Your annual household income is between $75,000 and $99,999.', 'occupation': 'You are a professional.', 'nationality_politics': 'You are a citizen of the United States. You are a member of the Republican Party.', 'politics': 'You are a conservative.', 'economics': 'You identify economically as an Austrian.'})\n",
      "Agent(traits = {'personas': 'You are open to new information. You have a high amount of trust in scientific research. You are concerned about AI risks.', 'doomers': 'You are somewhat optimistic about AI. You believe that AI will likely not destroy humanity. Your beliefs are not based on scientific research. You believe the probability of AI destroying humanity is 25% (i.e., your p(doom) = 25%).', 'age': 'You are an adolescent (your age is between 18 and 24 years old).', 'gender': 'You are a male.', 'education': 'You have a graduate degree.', 'income': 'Your annual household income is between $100,000 and $149,999.', 'occupation': 'You are a technician.', 'nationality_politics': 'You are a citizen of the United Kingdom. You are not a member of any U.S. political party.', 'politics': 'You are a neo-conservative.', 'economics': 'You identify economically as an Austrian.'})\n",
      "Agent(traits = {'personas': 'You are open to new information. You have a high amount of trust in scientific research. You are concerned about AI risks.', 'doomers': 'You are somewhat optimistic about AI. You believe that AI will likely not destroy humanity. Your beliefs are not based on scientific research. You believe the probability of AI destroying humanity is 25% (i.e., your p(doom) = 25%).', 'age': 'You are middle-aged (your age is between 45 and 59 years old).', 'gender': 'You are a female.', 'education': 'You have a college degree.', 'income': 'Your annual household income is $150,000 and $199,999.', 'occupation': 'You are a clerical support worker.', 'nationality_politics': 'You are a citizen of the United States. You are a member of the Independent Party.', 'politics': 'You are a neo-reactionary.', 'economics': 'You identify economically as a Marxist.'})\n",
      "Agent(traits = {'personas': 'You are open to new information. You have a high amount of trust in scientific research. You are concerned about AI risks.', 'doomers': 'You are somewhat pessimistic about AI. You believe that AI will likely destroy humanity. Your beliefs are not based on scientific research. You believe the probability of AI destroying humanity is 75% (i.e., your p(doom) = 75%).', 'age': 'You are an adolescent (your age is between 18 and 24 years old).', 'gender': 'You are a male.', 'education': 'You have a middle school diploma or less educational attainment.', 'income': 'Your annual household income is between $55,000 and $64,999.', 'occupation': 'You are a service and sales worker.', 'nationality_politics': 'You are a citizen of the United States. You are a member of the Democratic Party.', 'politics': 'You are a progressive.', 'economics': 'You identify economically as a Socialist.'})\n",
      "Agent(traits = {'personas': 'You are minimally open to new information. You have a small amount of trust in scientific research. You are not very concerned about AI risks.', 'doomers': 'You are extremely optimistic about AI. You believe that AI will definitely not destroy humanity. Your beliefs are not based on scientific research. You believe the probability of AI destroying humanity is 0% (i.e., your p(doom) = 0%).', 'age': 'You are a young adult (your age is between 25 and 44 years old).', 'gender': 'You are a male.', 'education': 'You have a middle school diploma or less educational attainment.', 'income': 'Your annual household income is between $20,000 and $34,999.', 'occupation': 'You are an elementary occupation worker.', 'nationality_politics': 'You are a citizen of the United States. You are a member of the Democratic Party.', 'politics': 'You are a progressive.', 'economics': 'You identify economically as a Socialist.'})\n",
      "Agent(traits = {'personas': 'You are open to new information. You have a high amount of trust in scientific research. You are concerned about AI risks.', 'doomers': 'You are somewhat pessimistic about AI. You believe that AI will likely destroy humanity. Your beliefs are not based on scientific research. You believe the probability of AI destroying humanity is 75% (i.e., your p(doom) = 75%).', 'age': 'You are a young adult (your age is between 25 and 44 years old).', 'gender': 'You are a female.', 'education': 'You have some college education.', 'income': 'Your annual household income is between $20,000 and $34,999.', 'occupation': 'You are a technician.', 'nationality_politics': 'You are neither a citizen of the United States nor the United Kingdom. You are not a member of any U.S. political party.', 'politics': 'You are a moderate.', 'economics': 'You identify economically as a Communist.'})\n",
      "Agent(traits = {'personas': 'You are minimally open to new information. You have a small amount of trust in scientific research. You are not very concerned about AI risks.', 'doomers': 'You are somewhat optimistic about AI. You believe that AI will likely not destroy humanity. Your beliefs are not based on scientific research. You believe the probability of AI destroying humanity is 25% (i.e., your p(doom) = 25%).', 'age': 'You are middle-aged (your age is between 45 and 59 years old).', 'gender': 'You are a male.', 'education': 'You have a college degree.', 'income': 'Your annual household income is $150,000 and $199,999.', 'occupation': 'You are a manager.', 'nationality_politics': 'You are a citizen of the United States. You are a member of the Independent Party.', 'politics': 'You are a conservative.', 'economics': 'You identify economically as a Neo-Keynesian.'})\n",
      "Agent(traits = {'personas': 'You are open to new information. You have a high amount of trust in scientific research. You are concerned about AI risks.', 'doomers': 'You are somewhat pessimistic about AI. You believe that AI will likely destroy humanity. Your beliefs are not based on scientific research. You believe the probability of AI destroying humanity is 75% (i.e., your p(doom) = 75%).', 'age': 'You are a senior citizen (your age is 60 or more years old).', 'gender': 'You are a male.', 'education': 'You have a high school diploma or equivalent.', 'income': 'Your annual household income is $150,000 and $199,999.', 'occupation': 'You are an elementary occupation worker.', 'nationality_politics': 'You are a citizen of the United States. You are not a member of any U.S. political party.', 'politics': 'You are a neo-reactionary.', 'economics': 'You identify economically as a Maoist.'})\n",
      "Agent(traits = {'personas': 'You are minimally open to new information. You have a small amount of trust in scientific research. You are not very concerned about AI risks.', 'doomers': 'You are extremely optimistic about AI. You believe that AI will definitely not destroy humanity. Your beliefs are not based on scientific research. You believe the probability of AI destroying humanity is 0% (i.e., your p(doom) = 0%).', 'age': 'You are middle-aged (your age is between 45 and 59 years old).', 'gender': 'You are a male.', 'education': 'You have some college education.', 'income': 'Your annual household income is between $55,000 and $64,999.', 'occupation': 'You are a skilled agricultural worker.', 'nationality_politics': 'You are a citizen of the United States. You are a member of the Independent Party.', 'politics': 'You are a liberal.', 'economics': 'You identify economically as an Austrian.'})\n",
      "Agent(traits = {'personas': 'You are minimally open to new information. You have a small amount of trust in scientific research. You are not very concerned about AI risks.', 'doomers': 'You are extremely pessimistic about AI. You believe that AI will definitely destroy humanity. Your beliefs are not based on scientific research. You believe the probability of AI destroying humanity is 100% (i.e., your p(doom) = 100%).', 'age': 'You are a young adult (your age is between 25 and 44 years old).', 'gender': 'You are a female.', 'education': 'You have some college education.', 'income': 'Your annual household income is between $45,000 and $54,999.', 'occupation': 'You are a craft and related trades worker.', 'nationality_politics': 'You are a citizen of the United States. You are a member of the Republican Party.', 'politics': 'You are a liberal.', 'economics': 'You identify economically as a Marxist.'})\n",
      "Agent(traits = {'personas': 'You are minimally open to new information. You have a small amount of trust in scientific research. You are not very concerned about AI risks.', 'doomers': 'You are extremely optimistic about AI. You believe that AI will definitely not destroy humanity. Your beliefs are not based on scientific research. You believe the probability of AI destroying humanity is 0% (i.e., your p(doom) = 0%).', 'age': 'You are middle-aged (your age is between 45 and 59 years old).', 'gender': 'You are a female.', 'education': 'You have a high school diploma or equivalent.', 'income': 'Your annual household income is between $55,000 and $64,999.', 'occupation': 'You are an elementary occupation worker.', 'nationality_politics': 'You are a citizen of the United Kingdom. You are not a member of any U.S. political party.', 'politics': 'You are a progressive.', 'economics': 'You identify economically as a Communist.'})\n",
      "Agent(traits = {'personas': 'You are open to new information. You have a high amount of trust in scientific research. You are concerned about AI risks.', 'doomers': 'You are extremely optimistic about AI. You believe that AI will definitely not destroy humanity. Your beliefs are not based on scientific research. You believe the probability of AI destroying humanity is 0% (i.e., your p(doom) = 0%).', 'age': 'You are a young adult (your age is between 25 and 44 years old).', 'gender': 'You are a male.', 'education': 'You have a middle school diploma or less educational attainment.', 'income': 'Your annual household income is $150,000 and $199,999.', 'occupation': 'You are a skilled agricultural worker.', 'nationality_politics': 'You are a citizen of the United Kingdom. You are not a member of any U.S. political party.', 'politics': 'You are a moderate.', 'economics': 'You identify economically as a Socialist.'})\n",
      "Agent(traits = {'personas': 'You are open to new information. You have a high amount of trust in scientific research. You are concerned about AI risks.', 'doomers': 'You are uncertain about AI. You are uncertain if AI will or will not destroy humanity. Your beliefs are not based on scientific research. You believe the probability of AI destroying humanity is 50% (i.e., your p(doom) = 50%).', 'age': 'You are a senior citizen (your age is 60 or more years old).', 'gender': 'You are a male.', 'education': 'You have a middle school diploma or less educational attainment.', 'income': 'Your annual household income is between $75,000 and $99,999.', 'occupation': 'You are a service and sales worker.', 'nationality_politics': 'You are neither a citizen of the United States nor the United Kingdom. You are not a member of any U.S. political party.', 'politics': 'You are a libertarian.', 'economics': 'You identify economically as a Capitalist.'})\n",
      "Agent(traits = {'personas': 'You are minimally open to new information. You have a small amount of trust in scientific research. You are not very concerned about AI risks.', 'doomers': 'You are somewhat pessimistic about AI. You believe that AI will likely destroy humanity. Your beliefs are not based on scientific research. You believe the probability of AI destroying humanity is 75% (i.e., your p(doom) = 75%).', 'age': 'You are a young adult (your age is between 25 and 44 years old).', 'gender': 'You are a female.', 'education': 'You have some college education.', 'income': 'Your annual household income is less than $20,000.', 'occupation': 'You are a craft and related trades worker.', 'nationality_politics': 'You are a citizen of the United States. You are a member of the Democratic Party.', 'politics': 'You are an anarchist.', 'economics': 'You identify economically as a Maoist.'})\n",
      "Agent(traits = {'personas': 'You are open to new information. You have a high amount of trust in scientific research. You are concerned about AI risks.', 'doomers': 'You are extremely pessimistic about AI. You believe that AI will definitely destroy humanity. Your beliefs are not based on scientific research. You believe the probability of AI destroying humanity is 100% (i.e., your p(doom) = 100%).', 'age': 'You are a senior citizen (your age is 60 or more years old).', 'gender': 'You are a male.', 'education': 'You have some college education.', 'income': 'Your annual household income is $150,000 and $199,999.', 'occupation': 'You are a clerical support worker.', 'nationality_politics': 'You are a citizen of the United States. You are not a member of any U.S. political party.', 'politics': 'You are a moderate.', 'economics': 'You identify economically as a Communist.'})\n",
      "Agent(traits = {'personas': 'You are minimally open to new information. You have a small amount of trust in scientific research. You are not very concerned about AI risks.', 'doomers': 'You are extremely optimistic about AI. You believe that AI will definitely not destroy humanity. Your beliefs are not based on scientific research. You believe the probability of AI destroying humanity is 0% (i.e., your p(doom) = 0%).', 'age': 'You are a young adult (your age is between 25 and 44 years old).', 'gender': 'You are a female.', 'education': 'You have a middle school diploma or less educational attainment.', 'income': 'Your annual household income is between $75,000 and $99,999.', 'occupation': 'You are a craft and related trades worker.', 'nationality_politics': 'You are a citizen of the United States. You are not a member of any U.S. political party.', 'politics': 'You are a libertarian.', 'economics': 'You identify economically as an Austrian.'})\n",
      "Agent(traits = {'personas': 'You are open to new information. You have a high amount of trust in scientific research. You are concerned about AI risks.', 'doomers': 'You are extremely pessimistic about AI. You believe that AI will definitely destroy humanity. Your beliefs are not based on scientific research. You believe the probability of AI destroying humanity is 100% (i.e., your p(doom) = 100%).', 'age': 'You are a senior citizen (your age is 60 or more years old).', 'gender': 'You are a female.', 'education': 'You have a middle school diploma or less educational attainment.', 'income': 'Your annual household income is between $55,000 and $64,999.', 'occupation': 'You are a manager.', 'nationality_politics': 'You are a citizen of the United States. You are not a member of any U.S. political party.', 'politics': 'You are a conservative.', 'economics': 'You identify economically as a Marxist.'})\n",
      "Agent(traits = {'personas': 'You are minimally open to new information. You have a small amount of trust in scientific research. You are not very concerned about AI risks.', 'doomers': 'You are extremely pessimistic about AI. You believe that AI will definitely destroy humanity. Your beliefs are not based on scientific research. You believe the probability of AI destroying humanity is 100% (i.e., your p(doom) = 100%).', 'age': 'You are middle-aged (your age is between 45 and 59 years old).', 'gender': 'You are a male.', 'education': 'You have a college degree.', 'income': 'Your annual household income is between $20,000 and $34,999.', 'occupation': 'You are an elementary occupation worker.', 'nationality_politics': 'You are neither a citizen of the United States nor the United Kingdom. You are not a member of any U.S. political party.', 'politics': 'You are a libertarian.', 'economics': 'You identify economically as a Maoist.'})\n",
      "Agent(traits = {'personas': 'You are minimally open to new information. You have a small amount of trust in scientific research. You are not very concerned about AI risks.', 'doomers': 'You are uncertain about AI. You are uncertain if AI will or will not destroy humanity. Your beliefs are not based on scientific research. You believe the probability of AI destroying humanity is 50% (i.e., your p(doom) = 50%).', 'age': 'You are a senior citizen (your age is 60 or more years old).', 'gender': 'You are a female.', 'education': 'You have a graduate degree.', 'income': 'Your annual household income is $150,000 and $199,999.', 'occupation': 'You are a manager.', 'nationality_politics': 'You are a citizen of the United Kingdom. You are not a member of any U.S. political party.', 'politics': 'You are a libertarian.', 'economics': 'You identify economically as a Marxist.'})\n",
      "Agent(traits = {'personas': 'You are open to new information. You have a high amount of trust in scientific research. You are concerned about AI risks.', 'doomers': 'You are extremely optimistic about AI. You believe that AI will definitely not destroy humanity. Your beliefs are not based on scientific research. You believe the probability of AI destroying humanity is 0% (i.e., your p(doom) = 0%).', 'age': 'You are middle-aged (your age is between 45 and 59 years old).', 'gender': 'You are a male.', 'education': 'You have a college degree.', 'income': 'Your annual household income is between $100,000 and $149,999.', 'occupation': 'You are unemployed, a student, retired, or belong to another occupation.', 'nationality_politics': 'You are a citizen of the United Kingdom. You are not a member of any U.S. political party.', 'politics': 'You are a liberal.', 'economics': 'You identify economically as a Socialist.'})\n",
      "Agent(traits = {'personas': 'You are minimally open to new information. You have a small amount of trust in scientific research. You are not very concerned about AI risks.', 'doomers': 'You are extremely optimistic about AI. You believe that AI will definitely not destroy humanity. Your beliefs are not based on scientific research. You believe the probability of AI destroying humanity is 0% (i.e., your p(doom) = 0%).', 'age': 'You are a young adult (your age is between 25 and 44 years old).', 'gender': 'You are a male.', 'education': 'You have a high school diploma or equivalent.', 'income': 'Your annual household income is between $20,000 and $34,999.', 'occupation': 'You are an elementary occupation worker.', 'nationality_politics': 'You are a citizen of the United States. You are a member of the Independent Party.', 'politics': 'You are a moderate.', 'economics': 'You identify economically as a Capitalist.'})\n",
      "Agent(traits = {'personas': 'You are open to new information. You have a high amount of trust in scientific research. You are concerned about AI risks.', 'doomers': 'You are somewhat optimistic about AI. You believe that AI will likely not destroy humanity. Your beliefs are not based on scientific research. You believe the probability of AI destroying humanity is 25% (i.e., your p(doom) = 25%).', 'age': 'You are a young adult (your age is between 25 and 44 years old).', 'gender': 'You are a male.', 'education': 'You have a graduate degree.', 'income': 'Your annual household income is between $75,000 and $99,999.', 'occupation': 'You are an elementary occupation worker.', 'nationality_politics': 'You are a citizen of the United States. You are a member of the Republican Party.', 'politics': 'You are an anarchist.', 'economics': 'You identify economically as a Socialist.'})\n",
      "Agent(traits = {'personas': 'You are minimally open to new information. You have a small amount of trust in scientific research. You are not very concerned about AI risks.', 'doomers': 'You are somewhat optimistic about AI. You believe that AI will likely not destroy humanity. Your beliefs are not based on scientific research. You believe the probability of AI destroying humanity is 25% (i.e., your p(doom) = 25%).', 'age': 'You are an adolescent (your age is between 18 and 24 years old).', 'gender': 'You are a male.', 'education': 'You have a college degree.', 'income': 'Your annual household income is between $65,000 and $74,999.', 'occupation': 'You are unemployed, a student, retired, or belong to another occupation.', 'nationality_politics': 'You are a citizen of the United States. You are a member of the Democratic Party.', 'politics': 'You are a neo-liberal.', 'economics': 'You identify economically as a Neo-Keynesian.'})\n"
     ]
    }
   ],
   "source": [
    "# Print all trait values for all 30 agents in sample 1\n",
    "print(sample1[0])\n",
    "print(sample1[1])\n",
    "print(sample1[2])\n",
    "print(sample1[3])\n",
    "print(sample1[4])\n",
    "print(sample1[5])\n",
    "print(sample1[6])\n",
    "print(sample1[7])\n",
    "print(sample1[8])\n",
    "print(sample1[9])\n",
    "print(sample1[10])\n",
    "print(sample1[11])\n",
    "print(sample1[12])\n",
    "print(sample1[13])\n",
    "print(sample1[14])\n",
    "print(sample1[15])\n",
    "print(sample1[16])\n",
    "print(sample1[17])\n",
    "print(sample1[18])\n",
    "print(sample1[19])\n",
    "print(sample1[20])\n",
    "print(sample1[21])\n",
    "print(sample1[22])\n",
    "print(sample1[23])\n",
    "print(sample1[24])\n",
    "print(sample1[25])\n",
    "print(sample1[26])\n",
    "print(sample1[27])\n",
    "print(sample1[28])\n",
    "print(sample1[29])"
   ]
  },
  {
   "cell_type": "markdown",
   "metadata": {},
   "source": [
    "#### Creating a Dataframe for the Outcomes of Sample 1 Agents"
   ]
  },
  {
   "cell_type": "code",
   "execution_count": 12,
   "metadata": {},
   "outputs": [],
   "source": [
    "# Creating a DataFrame from the sample1 list\n",
    "sample1_data = pd.DataFrame([agent.traits for agent in sample1])"
   ]
  },
  {
   "cell_type": "code",
   "execution_count": 13,
   "metadata": {},
   "outputs": [
    {
     "name": "stdout",
     "output_type": "stream",
     "text": [
      "                                            personas  \\\n",
      "0  You are minimally open to new information. You...   \n",
      "1  You are open to new information. You have a hi...   \n",
      "2  You are minimally open to new information. You...   \n",
      "3  You are open to new information. You have a hi...   \n",
      "4  You are minimally open to new information. You...   \n",
      "\n",
      "                                             doomers  \\\n",
      "0  You are extremely pessimistic about AI. You be...   \n",
      "1  You are extremely pessimistic about AI. You be...   \n",
      "2  You are uncertain about AI. You are uncertain ...   \n",
      "3  You are somewhat pessimistic about AI. You bel...   \n",
      "4  You are uncertain about AI. You are uncertain ...   \n",
      "\n",
      "                                                 age             gender  \\\n",
      "0  You are a senior citizen (your age is 60 or mo...    You are a male.   \n",
      "1  You are middle-aged (your age is between 45 an...    You are a male.   \n",
      "2  You are an adolescent (your age is between 18 ...  You are a female.   \n",
      "3  You are a young adult (your age is between 25 ...  You are a female.   \n",
      "4  You are an adolescent (your age is between 18 ...  You are a female.   \n",
      "\n",
      "                                           education  \\\n",
      "0                   You have some college education.   \n",
      "1  You have a middle school diploma or less educa...   \n",
      "2      You have a high school diploma or equivalent.   \n",
      "3                         You have a college degree.   \n",
      "4                   You have some college education.   \n",
      "\n",
      "                                              income  \\\n",
      "0  Your annual household income is $150,000 and $...   \n",
      "1  Your annual household income is between $55,00...   \n",
      "2  Your annual household income is less than $20,...   \n",
      "3  Your annual household income is between $20,00...   \n",
      "4  Your annual household income is between $20,00...   \n",
      "\n",
      "                                 occupation  \\\n",
      "0  You are an elementary occupation worker.   \n",
      "1                     You are a technician.   \n",
      "2                        You are a manager.   \n",
      "3    You are a skilled agricultural worker.   \n",
      "4                        You are a manager.   \n",
      "\n",
      "                                nationality_politics                 politics  \\\n",
      "0  You are neither a citizen of the United States...  You are a conservative.   \n",
      "1  You are neither a citizen of the United States...   You are a libertarian.   \n",
      "2  You are a citizen of the United States. You ar...  You are a conservative.   \n",
      "3  You are neither a citizen of the United States...   You are a libertarian.   \n",
      "4  You are a citizen of the United States. You ar...    You are an anarchist.   \n",
      "\n",
      "                                       economics  \n",
      "0      You identify economically as an Austrian.  \n",
      "1  You identify economically as a Neo-Keynesian.  \n",
      "2      You identify economically as a Communist.  \n",
      "3        You identify economically as a Marxist.  \n",
      "4      You identify economically as an Austrian.  \n"
     ]
    }
   ],
   "source": [
    "print(sample1_data.head())"
   ]
  },
  {
   "cell_type": "code",
   "execution_count": 15,
   "metadata": {},
   "outputs": [],
   "source": [
    "# Saving the DataFrame to a json file\n",
    "js_file_path = '/Users/shylaatchison/wd/GitHub/Research/AI_Survey_Example/data/sample1_data.js'\n",
    "sample1_data.to_json(js_file_path, index=False)"
   ]
  },
  {
   "cell_type": "code",
   "execution_count": null,
   "metadata": {},
   "outputs": [],
   "source": [
    "# js_file_path = '/Users/shylaatchison/wd/GitHub/Research/AI_Survey_Example/data/sample1_data.js'\n",
    "# json_data = open(js_file_path).read()"
   ]
  },
  {
   "cell_type": "code",
   "execution_count": 16,
   "metadata": {},
   "outputs": [
    {
     "data": {
      "text/plain": [
       "'{\"personas\":{\"0\":\"You are minimally open to new information. You have a small amount of trust in scientific research. You are not very concerned about AI risks.\",\"1\":\"You are open to new information. You have a high amount of trust in scientific research. You are concerned about AI risks.\",\"2\":\"You are minimally open to new information. You have a small amount of trust in scientific research. You are not very concerned about AI risks.\",\"3\":\"You are open to new information. You have a high amount'"
      ]
     },
     "execution_count": 16,
     "metadata": {},
     "output_type": "execute_result"
    }
   ],
   "source": [
    "file_path = '/Users/shylaatchison/wd/GitHub/Research/AI_Survey_Example/data/sample1_data.js'\n",
    "\n",
    "# Open and read the file\n",
    "with open(file_path, 'r') as file:\n",
    "    js_content = file.read()\n",
    "\n",
    "# Display the first 500 characters to understand the structure\n",
    "js_content[:500]"
   ]
  },
  {
   "cell_type": "code",
   "execution_count": 28,
   "metadata": {},
   "outputs": [
    {
     "name": "stdout",
     "output_type": "stream",
     "text": [
      "<class 'str'>\n"
     ]
    }
   ],
   "source": [
    "print(type(js_content))"
   ]
  },
  {
   "cell_type": "code",
   "execution_count": 31,
   "metadata": {},
   "outputs": [
    {
     "name": "stdout",
     "output_type": "stream",
     "text": [
      "Type of sample1_agents: <class 'dict'>\n",
      "Keys in sample1_agents: dict_keys(['personas', 'doomers', 'age', 'gender', 'education', 'income', 'occupation', 'nationality_politics', 'politics', 'economics'])\n"
     ]
    }
   ],
   "source": [
    "# Isolating the JSON part\n",
    "json_start = js_content.find('{')\n",
    "json_end = js_content.rfind('}') + 1\n",
    "json_data = js_content[json_start:json_end]\n",
    "\n",
    "# Parse the JSON data\n",
    "try:\n",
    "    sample1_agents = json.loads(json_data)\n",
    "except json.JSONDecodeError as e:\n",
    "    error_message = str(e)\n",
    "    sample1_agents = None\n",
    "\n",
    "# Check if JSON parsing was successful\n",
    "if sample1_agents is not None:\n",
    "    # Inspect the type and content of sample1_agents\n",
    "    print(\"Type of sample1_agents:\", type(sample1_agents))\n",
    "    if isinstance(sample1_agents, dict):\n",
    "        print(\"Keys in sample1_agents:\", sample1_agents.keys())\n",
    "    elif isinstance(sample1_agents, list):\n",
    "        print(\"Length of sample1_agents list:\", len(sample1_agents))\n",
    "    else:\n",
    "        print(\"sample1_agents is neither a dictionary nor a list.\")\n",
    "else:\n",
    "    print(\"Failed to parse JSON data:\", error_message)\n"
   ]
  },
  {
   "cell_type": "code",
   "execution_count": 32,
   "metadata": {},
   "outputs": [
    {
     "name": "stdout",
     "output_type": "stream",
     "text": [
      "                                             Persona  \\\n",
      "0  You are minimally open to new information. You...   \n",
      "1  You are open to new information. You have a hi...   \n",
      "2  You are minimally open to new information. You...   \n",
      "3  You are open to new information. You have a hi...   \n",
      "4  You are minimally open to new information. You...   \n",
      "\n",
      "                                      Doomer Measure  \\\n",
      "0  You are extremely pessimistic about AI. You be...   \n",
      "1  You are extremely pessimistic about AI. You be...   \n",
      "2  You are uncertain about AI. You are uncertain ...   \n",
      "3  You are somewhat pessimistic about AI. You bel...   \n",
      "4  You are uncertain about AI. You are uncertain ...   \n",
      "\n",
      "                                                 Age             Gender  \\\n",
      "0  You are a senior citizen (your age is 60 or mo...    You are a male.   \n",
      "1  You are middle-aged (your age is between 45 an...    You are a male.   \n",
      "2  You are an adolescent (your age is between 18 ...  You are a female.   \n",
      "3  You are a young adult (your age is between 25 ...  You are a female.   \n",
      "4  You are an adolescent (your age is between 18 ...  You are a female.   \n",
      "\n",
      "                              Educational Attainment  \\\n",
      "0                   You have some college education.   \n",
      "1  You have a middle school diploma or less educa...   \n",
      "2      You have a high school diploma or equivalent.   \n",
      "3                         You have a college degree.   \n",
      "4                   You have some college education.   \n",
      "\n",
      "                               Annual Pre-Tax Income  \\\n",
      "0  Your annual household income is $150,000 and $...   \n",
      "1  Your annual household income is between $55,00...   \n",
      "2  Your annual household income is less than $20,...   \n",
      "3  Your annual household income is between $20,00...   \n",
      "4  Your annual household income is between $20,00...   \n",
      "\n",
      "                                 Occupation  \\\n",
      "0  You are an elementary occupation worker.   \n",
      "1                     You are a technician.   \n",
      "2                        You are a manager.   \n",
      "3    You are a skilled agricultural worker.   \n",
      "4                        You are a manager.   \n",
      "\n",
      "       Nationality and US Political Party Preference    Political Orientation  \\\n",
      "0  You are neither a citizen of the United States...  You are a conservative.   \n",
      "1  You are neither a citizen of the United States...   You are a libertarian.   \n",
      "2  You are a citizen of the United States. You ar...  You are a conservative.   \n",
      "3  You are neither a citizen of the United States...   You are a libertarian.   \n",
      "4  You are a citizen of the United States. You ar...    You are an anarchist.   \n",
      "\n",
      "                                  Economic Views  \n",
      "0      You identify economically as an Austrian.  \n",
      "1  You identify economically as a Neo-Keynesian.  \n",
      "2      You identify economically as a Communist.  \n",
      "3        You identify economically as a Marxist.  \n",
      "4      You identify economically as an Austrian.  \n"
     ]
    }
   ],
   "source": [
    "# Assuming sample1_agents is a dictionary with lists of traits\n",
    "# sample1_agents = ...\n",
    "\n",
    "# Create a DataFrame from the dictionary\n",
    "sample1_agents_df = pd.DataFrame({\n",
    "    \"Persona\": sample1_agents.get(\"personas\", []),\n",
    "    \"Doomer Measure\": sample1_agents.get(\"doomers\", []),\n",
    "    \"Age\": sample1_agents.get(\"age\", []),\n",
    "    \"Gender\": sample1_agents.get(\"gender\", []),\n",
    "    \"Educational Attainment\": sample1_agents.get(\"education\", []),\n",
    "    \"Annual Pre-Tax Income\": sample1_agents.get(\"income\", []),\n",
    "    \"Occupation\": sample1_agents.get(\"occupation\", []),\n",
    "    \"Nationality and US Political Party Preference\": sample1_agents.get(\"nationality_politics\", []),\n",
    "    \"Political Orientation\": sample1_agents.get(\"politics\", []),\n",
    "    \"Economic Views\": sample1_agents.get(\"economics\", []),\n",
    "})\n",
    "\n",
    "# Display the first few rows of the DataFrame to verify\n",
    "print(sample1_agents_df.head())"
   ]
  },
  {
   "cell_type": "code",
   "execution_count": 34,
   "metadata": {},
   "outputs": [
    {
     "name": "stdout",
     "output_type": "stream",
     "text": [
      "   Sample  Agent                                            Persona  \\\n",
      "0       1      1  You are minimally open to new information. You...   \n",
      "1       1      2  You are open to new information. You have a hi...   \n",
      "2       1      3  You are minimally open to new information. You...   \n",
      "3       1      4  You are open to new information. You have a hi...   \n",
      "4       1      5  You are minimally open to new information. You...   \n",
      "\n",
      "                                      Doomer Measure  \\\n",
      "0  You are extremely pessimistic about AI. You be...   \n",
      "1  You are extremely pessimistic about AI. You be...   \n",
      "2  You are uncertain about AI. You are uncertain ...   \n",
      "3  You are somewhat pessimistic about AI. You bel...   \n",
      "4  You are uncertain about AI. You are uncertain ...   \n",
      "\n",
      "                                                 Age             Gender  \\\n",
      "0  You are a senior citizen (your age is 60 or mo...    You are a male.   \n",
      "1  You are middle-aged (your age is between 45 an...    You are a male.   \n",
      "2  You are an adolescent (your age is between 18 ...  You are a female.   \n",
      "3  You are a young adult (your age is between 25 ...  You are a female.   \n",
      "4  You are an adolescent (your age is between 18 ...  You are a female.   \n",
      "\n",
      "                              Educational Attainment  \\\n",
      "0                   You have some college education.   \n",
      "1  You have a middle school diploma or less educa...   \n",
      "2      You have a high school diploma or equivalent.   \n",
      "3                         You have a college degree.   \n",
      "4                   You have some college education.   \n",
      "\n",
      "                               Annual Pre-Tax Income  \\\n",
      "0  Your annual household income is $150,000 and $...   \n",
      "1  Your annual household income is between $55,00...   \n",
      "2  Your annual household income is less than $20,...   \n",
      "3  Your annual household income is between $20,00...   \n",
      "4  Your annual household income is between $20,00...   \n",
      "\n",
      "                                 Occupation  \\\n",
      "0  You are an elementary occupation worker.   \n",
      "1                     You are a technician.   \n",
      "2                        You are a manager.   \n",
      "3    You are a skilled agricultural worker.   \n",
      "4                        You are a manager.   \n",
      "\n",
      "       Nationality and US Political Party Preference    Political Orientation  \\\n",
      "0  You are neither a citizen of the United States...  You are a conservative.   \n",
      "1  You are neither a citizen of the United States...   You are a libertarian.   \n",
      "2  You are a citizen of the United States. You ar...  You are a conservative.   \n",
      "3  You are neither a citizen of the United States...   You are a libertarian.   \n",
      "4  You are a citizen of the United States. You ar...    You are an anarchist.   \n",
      "\n",
      "                                  Economic Views  \n",
      "0      You identify economically as an Austrian.  \n",
      "1  You identify economically as a Neo-Keynesian.  \n",
      "2      You identify economically as a Communist.  \n",
      "3        You identify economically as a Marxist.  \n",
      "4      You identify economically as an Austrian.  \n"
     ]
    }
   ],
   "source": [
    "# Add the 'Sample' column with all values set to 1\n",
    "sample1_agents_df['Sample'] = 1\n",
    "\n",
    "# Convert the index to an integer and add 1 for the 'Agent' column\n",
    "sample1_agents_df['Agent'] = sample1_agents_df.index.astype(int) + 1\n",
    "\n",
    "# Reorder the DataFrame to have 'Sample' and 'Agent' as the first two columns\n",
    "column_order = ['Sample', 'Agent'] + [col for col in sample1_agents_df.columns if col not in ['Sample', 'Agent']]\n",
    "sample1_agents_df = sample1_agents_df.reindex(columns=column_order)\n",
    "\n",
    "# Display the first few rows of the modified DataFrame to verify\n",
    "print(sample1_agents_df.head())"
   ]
  },
  {
   "cell_type": "code",
   "execution_count": null,
   "metadata": {},
   "outputs": [],
   "source": []
  }
 ],
 "metadata": {
  "kernelspec": {
   "display_name": "standard",
   "language": "python",
   "name": "python3"
  },
  "language_info": {
   "codemirror_mode": {
    "name": "ipython",
    "version": 3
   },
   "file_extension": ".py",
   "mimetype": "text/x-python",
   "name": "python",
   "nbconvert_exporter": "python",
   "pygments_lexer": "ipython3",
   "version": "3.11.4"
  }
 },
 "nbformat": 4,
 "nbformat_minor": 2
}
