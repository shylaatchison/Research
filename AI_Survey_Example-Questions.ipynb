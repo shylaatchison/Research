{
 "cells": [
  {
   "cell_type": "markdown",
   "metadata": {},
   "source": [
    "# Example AI Public Opinion Survey"
   ]
  },
  {
   "cell_type": "markdown",
   "metadata": {},
   "source": [
    "## Example AI Public Opinion Survery Questions"
   ]
  },
  {
   "cell_type": "code",
   "execution_count": null,
   "metadata": {},
   "outputs": [],
   "source": [
    "from edsl.questions import QuestionMultipleChoice, QuestionCheckBox, QuestionFreeText, QuestionList, QuestionBudget\n",
    "from edsl.questions.derived.QuestionYesNo import QuestionYesNo\n",
    "from edsl.questions.derived.QuestionLinearScale import QuestionLinearScale"
   ]
  },
  {
   "cell_type": "markdown",
   "metadata": {},
   "source": [
    "### Questions on AI Product Familiarity and Usage"
   ]
  },
  {
   "cell_type": "code",
   "execution_count": null,
   "metadata": {},
   "outputs": [],
   "source": [
    "# Check Box (Question 1): AI Product Familiarity\n",
    "q1_cb = QuestionCheckBox(\n",
    "    question_name = \"q1_cb\",\n",
    "    question_text = \"Which of the following AI products have you heard of before? Select all that apply.\",\n",
    "    question_options = [\n",
    "        \"ChatGPT\",\n",
    "        \"DALL-E\",\n",
    "        \"Whisper\",\n",
    "        \"Roomba\",\n",
    "        \"Siri\",\n",
    "        \"Alexa\",\n",
    "        \"Tesla\",\n",
    "        \"Netflix\",\n",
    "        \"Hulu\",\n",
    "        \"Google Maps\",\n",
    "        \"Waze\",\n",
    "        \"Uber\",\n",
    "        \"Lyft\",\n",
    "        \"Midjourney\",\n",
    "        \"Microsoft Copilot\",\n",
    "        \"Character AI\",\n",
    "        \"Grammarly\",\n",
    "        \"Google Bard AI\",\n",
    "        \"Otter.ai\"\n",
    "    ]\n",
    ")"
   ]
  },
  {
   "cell_type": "code",
   "execution_count": null,
   "metadata": {},
   "outputs": [],
   "source": [
    "# Check Box (Question 2): AI Products Used\n",
    "q2_cb = QuestionCheckBox(\n",
    "    question_name = \"q2_cb\",\n",
    "    question_text = \"Which of the following AI products have you used before? Select all that apply.\",\n",
    "    question_options = [\n",
    "        \"ChatGPT\",\n",
    "        \"DALL-E\",\n",
    "        \"Whisper\",\n",
    "        \"Roomba\",\n",
    "        \"Siri\",\n",
    "        \"Alexa\",\n",
    "        \"Tesla\",\n",
    "        \"Netflix\",\n",
    "        \"Hulu\",\n",
    "        \"Google Maps\",\n",
    "        \"Waze\",\n",
    "        \"Uber\",\n",
    "        \"Lyft\",\n",
    "        \"Midjourney\",\n",
    "        \"Microsoft Copilot\",\n",
    "        \"Character AI\",\n",
    "        \"Grammarly\",\n",
    "        \"Google Bard AI\",\n",
    "        \"Otter.ai\"\n",
    "    ]\n",
    ")"
   ]
  },
  {
   "cell_type": "code",
   "execution_count": null,
   "metadata": {},
   "outputs": [],
   "source": [
    "# Multiple Choice (Question 3): Frequency of AI Product Use\n",
    "q3_mc = QuestionMultipleChoice(\n",
    "    question_name = \"q3_mc\",\n",
    "    question_text = \"How often did you use one or more AI products within the last month?\",\n",
    "    question_options = [\n",
    "        \"Not at all\",\n",
    "        \"A few days a month\",\n",
    "        \"Weekly\",\n",
    "        \"Several days a week\",\n",
    "        \"Daily\"\n",
    "    ]\n",
    ")"
   ]
  },
  {
   "cell_type": "markdown",
   "metadata": {},
   "source": [
    "### Questions on Pre-Informed AI Opinion"
   ]
  },
  {
   "cell_type": "code",
   "execution_count": null,
   "metadata": {},
   "outputs": [],
   "source": [
    "# Linear Scale (Question 4): Current AI Product Enjoyment and Benefit\n",
    "q4_ls = QuestionLinearScale(\n",
    "    question_name = \"q4_ls\",\n",
    "    question_text = \"On a scale of 0-10, how much do you typically enjoy or benefit from current AI products? (0 = Not at all, 10 = Very much)\",\n",
    "    question_options = [0,1,2,3,4,5,6,7,8,9,10]\n",
    ")"
   ]
  },
  {
   "cell_type": "code",
   "execution_count": null,
   "metadata": {},
   "outputs": [],
   "source": [
    "# Linear Scale (Question 5): Future AI Product Enjoyment and Benefit\n",
    "q5_ls = QuestionLinearScale(\n",
    "    question_name = \"q5_ls\",\n",
    "    question_text = \"On a scale of 0-10, how much do you expect you will enjoy or benefit from future AI products? (0 = Not at all, 10 = Very much)\",\n",
    "    question_options = [0,1,2,3,4,5,6,7,8,9,10]\n",
    ")"
   ]
  },
  {
   "cell_type": "code",
   "execution_count": null,
   "metadata": {},
   "outputs": [],
   "source": [
    "# Linear Scale (Question 6): Current AI Products Safety\n",
    "q6_ls = QuestionLinearScale(\n",
    "    question_name = \"q6_ls\",\n",
    "    question_text = \"On a scale of 0-10, how much do you typically worry about the safety of the AI products you currently use or have used in the past? (0 = Not at all, 10 = Very much)\",\n",
    "    question_options = [0,1,2,3,4,5,6,7,8,9,10]\n",
    ")"
   ]
  },
  {
   "cell_type": "code",
   "execution_count": null,
   "metadata": {},
   "outputs": [],
   "source": [
    "# Linear Scale (Question 7): Current AI Products Replacing Jobs\n",
    "q7_ls = QuestionLinearScale(\n",
    "    question_name = \"q7_ls\",\n",
    "    question_text = \"On a scale of 0-10, how much do you typically worry about the AI products you currently use or have used in the past replacing your job? (0 = Not at all, 10 = Very much)\",\n",
    "    question_options = [0,1,2,3,4,5,6,7,8,9,10]\n",
    ")"
   ]
  },
  {
   "cell_type": "code",
   "execution_count": null,
   "metadata": {},
   "outputs": [],
   "source": [
    "# Linear Scale (Question 8): Future AI Products Safety\n",
    "q8_ls = QuestionLinearScale(\n",
    "    question_name = \"q8_ls\",\n",
    "    question_text = \"On a scale of 0-10, how much do you typically worry about the safety of future AI products? (0 = Not at all, 10 = Very much)\",\n",
    "    question_options = [0,1,2,3,4,5,6,7,8,9,10]\n",
    ")"
   ]
  },
  {
   "cell_type": "code",
   "execution_count": null,
   "metadata": {},
   "outputs": [],
   "source": [
    "# Linear Scale (Question 9): Future AI Products Replacing Jobs\n",
    "q9_ls = QuestionLinearScale(\n",
    "    question_name = \"q9_ls\",\n",
    "    question_text = \"On a scale of 0-10, how much do you typically worry about future AI products replacing your job? (0 = Not at all, 10 = Very much)\",\n",
    "    question_options = [0,1,2,3,4,5,6,7,8,9,10]\n",
    ")"
   ]
  },
  {
   "cell_type": "markdown",
   "metadata": {},
   "source": [
    "### Questions on Demographic Data"
   ]
  },
  {
   "cell_type": "code",
   "execution_count": null,
   "metadata": {},
   "outputs": [],
   "source": [
    "# Multiple Choice (Question 10): Occupation Group of Work\n",
    "q10_mc = QuestionMultipleChoice(\n",
    "    question_name = \"q10_mc\",\n",
    "    question_text = \"Which of the following major occupation groups does your work belong to?\",\n",
    "    question_options = [\n",
    "        \"Professionals\",\n",
    "        \"Managers\",\n",
    "        \"Clerical Support Workers\",\n",
    "        \"Technicians\",\n",
    "        \"Services and Sales Workers\",\n",
    "        \"Craft and Related Trades Workers\",\n",
    "        \"Machine Operators\",\n",
    "        \"Skilled Agricultural Workers\",\n",
    "        \"Elementary Occupations\"\n",
    "    ]\n",
    ")"
   ]
  },
  {
   "cell_type": "code",
   "execution_count": null,
   "metadata": {},
   "outputs": [],
   "source": [
    "# Multiple Choice (Question 11): Gender\n",
    "q11_mc = QuestionMultipleChoice(\n",
    "    question_name = \"q11_mc\",\n",
    "    question_text = \"Which gender do you most closely identify as?\",\n",
    "    question_options = [\n",
    "        \"Male\",\n",
    "        \"Female\"\n",
    "    ]\n",
    ")"
   ]
  },
  {
   "cell_type": "code",
   "execution_count": null,
   "metadata": {},
   "outputs": [],
   "source": [
    "# Multiple Choice (Question 12): Education Level\n",
    "q12_mc = QuestionMultipleChoice(\n",
    "    question_name = \"q12_mc\",\n",
    "    question_text = \"What is your highest level of educational attainment?\",\n",
    "    question_options = [\n",
    "        \"Middle School and Below\",\n",
    "        \"High School\",\n",
    "        \"Some College/Higher Education\",\n",
    "        \"College Degree\",\n",
    "        \"Graduate or Professional Degree\"\n",
    "    ]\n",
    ")"
   ]
  },
  {
   "cell_type": "code",
   "execution_count": null,
   "metadata": {},
   "outputs": [],
   "source": [
    "# Multiple Choice (Question 13): Age Group\n",
    "q13_mc = QuestionMultipleChoice(\n",
    "    question_name = \"q13_mc\",\n",
    "    question_text = \"Which of the following age groups do you belong to?\",\n",
    "    question_options = [\n",
    "        \"Age below 25\",\n",
    "        \"Age 25-44\",\n",
    "        \"Age 45-59\",\n",
    "        \"Age 60+\"\n",
    "    ]\n",
    ")"
   ]
  },
  {
   "cell_type": "code",
   "execution_count": null,
   "metadata": {},
   "outputs": [],
   "source": [
    "# Multiple Choice Question 14: Annual Earnings Groups\n",
    "q14_mc = QuestionMultipleChoice(\n",
    "    question_name = \"q14_mc\"\n",
    "    question_text = \"Which of the following groups of pre-tax annual earnings do you belong to?\",\n",
    "    question_options = [\n",
    "        \"Less than $20,000\",\n",
    "        \"$20,000-$34,999\",\n",
    "        \"$35,000-$44,999\",\n",
    "        \"$45,000-$54,999\",\n",
    "        \"$55,000-59,999\",\n",
    "        \"$60,000-$74,999\",\n",
    "        \"$75,000-$99,999\",\n",
    "        \"$100,000-$149,999\",\n",
    "        \"$150,000-$199,999\",\n",
    "        \"$200,000 or more\"\n",
    "    ]\n",
    ")"
   ]
  },
  {
   "cell_type": "markdown",
   "metadata": {},
   "source": [
    "## Information on IMF AI Labor Market Exposure Paper\n",
    "\n",
    "**INSERT PAPER CITATION AND LINK** <br>\n",
    "\n",
    "... <br>\n",
    "\n",
    "<br>\n",
    "\n",
    "---\n",
    "\n",
    "<br>"
   ]
  },
  {
   "cell_type": "markdown",
   "metadata": {},
   "source": [
    "### Information on AI Exposure Share by Demographic Charateristics\n",
    "\n",
    "<br>\n",
    "\n",
    "---\n",
    "\n",
    "<br>\n",
    "\n",
    "#### Information on AI Exposure Share by Gender\n",
    "\n",
    "* **Gender**: Employment Share of Low Complementary, High Complementary for U.S. Males and Females <br>\n",
    "\n",
    "**[ INSERT TABLE ]** <br>\n",
    "\n",
    "<br>\n",
    "\n",
    "---\n",
    "\n",
    "<br>\n",
    "\n",
    "#### Information on AI Exposure Share by Educational Attainment\n",
    "\n",
    "* **Educational Attainment**: Employment Share of Low Complementary, High Complementary for Educational Attatinment in the U.S. <br>\n",
    "\n",
    "**[ INSERT TABLE ]** <br>\n",
    "\n",
    "<br>\n",
    "\n",
    "---\n",
    "\n",
    "<br>\n",
    "\n",
    "#### Information on AI Exposure Share by Age\n",
    "\n",
    "* **Age**: Employment Share of Low Complementary, High Complementary for Age Groups in the U.S. <br>\n",
    "\n",
    "**[ INSERT TABLE ]** <br>\n",
    "\n",
    "<br>\n",
    "\n",
    "---\n",
    "\n",
    "<br>"
   ]
  },
  {
   "cell_type": "markdown",
   "metadata": {},
   "source": [
    "### Information on AI Exposure Share by Occupation\n",
    "\n",
    "* AI Exposure Share Low Complementary, High Complementary for Occupation Group in U.S. <br>\n",
    "\n",
    "**[ INSERT TABLE ]** <br>\n",
    "\n",
    "* ... <br>\n",
    "\n",
    "<br>\n",
    "\n",
    "---\n",
    "\n",
    "<br>"
   ]
  },
  {
   "cell_type": "markdown",
   "metadata": {},
   "source": [
    "### Information on AI Exposure Share by Earnings Class\n",
    "\n",
    "* **Earnings**: Employment Share of Low Complementary, High Complementary for Earnings Groups in the U.S. <br>\n",
    "\n",
    "**[ INSERT TABLE ]** <br>\n",
    "\n",
    "* ... <br>\n",
    "\n",
    "<br>\n",
    "\n",
    "---\n",
    "\n",
    "<br>"
   ]
  },
  {
   "cell_type": "markdown",
   "metadata": {},
   "source": [
    "## Questions on Post-Informed AI Opinion"
   ]
  },
  {
   "cell_type": "code",
   "execution_count": null,
   "metadata": {},
   "outputs": [],
   "source": [
    "# Linear Scale (Question 15): Future AI Risk to Jobs\n",
    "q15_ls = QuestionLinearScale(\n",
    "    question_name = \"q15_ls\",\n",
    "    question_text = \"On a scale of 0-10, how worried are you that AI products will pose a risk to your job security in the future? (0 = Not at all, 10 = Very much)\",\n",
    "    question_options = [0,1,2,3,4,5,6,7,8,9,10]\n",
    ")"
   ]
  },
  {
   "cell_type": "code",
   "execution_count": null,
   "metadata": {},
   "outputs": [],
   "source": [
    "# Linear Scale (Question 16): Future AI Safety Risk\n",
    "q16_ls = QuestionLinearScale(\n",
    "    question_name = \"q16_ls\",\n",
    "    question_text = \"On a scale of 0-10, how concerned are you that AI products will pose a safety risk in the future? (0 = Not at all, 10 = Very much)\",\n",
    "    question_options = [0,1,2,3,4,5,6,7,8,9,10]\n",
    ")"
   ]
  },
  {
   "cell_type": "code",
   "execution_count": null,
   "metadata": {},
   "outputs": [],
   "source": [
    "# Linear Scale (Question 17): Future AI Risk to Privacy\n",
    "q17_ls = QuestionLinearScale(\n",
    "    question_name = \"q17_ls\",\n",
    "    question_text = \"On a scale of 0-10, how concerned are you that AI products will pose a risk to your privacy in the future? (0 = Not at all, 10 = Very much)\",\n",
    "    question_options = [0,1,2,3,4,5,6,7,8,9,10]\n",
    ")"
   ]
  },
  {
   "cell_type": "code",
   "execution_count": null,
   "metadata": {},
   "outputs": [],
   "source": [
    "# Yes/No (Question 18): Need for AI Regulation and Oversight (Yes/No)\n",
    "q18_yn = QuestionYesNo(\n",
    "    question_name = \"q18_yn\",\n",
    "    question_text = \"Do you believe there exists a strong need for pre-emptive legislation to establish regulation and oversight for AI?\", \n",
    ")"
   ]
  },
  {
   "cell_type": "code",
   "execution_count": null,
   "metadata": {},
   "outputs": [],
   "source": [
    "# Linear Scale (Question 19): Need for AI Regulation and Oversight\n",
    "q19_ls = QuestionLinearScale(\n",
    "    question_name = \"q19_ls\",\n",
    "    question_text = \"On a scale of 0-10, to what degree of strictness do you believe pre-emptive legislation needs to be for establishing regulation and oversight for AI? (0 = No regulatory and oversight legislation at all, 10 = Extremely strict regulatory and oversight legislation)\",\n",
    "    question_options = [0,1,2,3,4,5,6,7,8,9,10]\n",
    ")"
   ]
  },
  {
   "cell_type": "code",
   "execution_count": null,
   "metadata": {},
   "outputs": [],
   "source": [
    "# Check Box (Question 20): AI Regulation and Oversight\n",
    "q20_cb = QuestionCheckBox(\n",
    "    question_name = \"q20_cb\",\n",
    "    question_text = \"Which of the following areas do you believe pre-emptive legislation for AI should focus on? Select all that apply.\",\n",
    "    question_options = [\n",
    "        \"Licensing Use of Training AI Models\",\n",
    "        \"Required Reporting of AI Model Training Data\",\n",
    "        \"Required Safety Benchmark Testing of AI Models for Commercial Use\",\n",
    "        \"Other\"\n",
    "    ]\n",
    ")"
   ]
  },
  {
   "cell_type": "code",
   "execution_count": null,
   "metadata": {},
   "outputs": [],
   "source": [
    "# Multiple Choice (Question 21): Political Party Affiliation (Democrat, Republican, Independent, Other)\n",
    "q21_mc = QuestionMultipleChoice(\n",
    "    question_name = \"q21_mc\",\n",
    "    question_text = \"Which of the following political parties do you most closely identify with?\",\n",
    "    question_options = [\n",
    "        \"Democrat\",\n",
    "        \"Republican\",\n",
    "        \"Independent\",\n",
    "        \"Other\"\n",
    "    ]\n",
    ")"
   ]
  },
  {
   "cell_type": "markdown",
   "metadata": {},
   "source": [
    "<br>\n",
    "\n",
    "---\n",
    "\n",
    "<br>\n",
    "\n",
    "## Administering Questions\n",
    "Here we administer each question to the default LLM. We do this by simply appending the `run()` method to a question. (See how to administer questions and surveys to specific agent personas and LLMs in example <a href=\"https://examples.goemeritus.com/example_agent/\">Agents</a> and <a href=\"https://examples.goemeritus.com/example_survey/\">Surveys</a>.)"
   ]
  },
  {
   "cell_type": "code",
   "execution_count": null,
   "metadata": {},
   "outputs": [],
   "source": [
    "# Run all questions\n",
    "result1_cb = q1_cb.run()\n",
    "result2_cb = q2_cb.run()\n",
    "result3_mc = q3_mc.run()\n",
    "result4_ls = q4_ls.run()\n",
    "result5_ls = q5_ls.run()\n",
    "result6_ls = q6_ls.run()\n",
    "result7_ls = q7_ls.run()\n",
    "result8_ls = q8_ls.run()\n",
    "result9_ls = q9_ls.run()\n",
    "result10_mc = q10_mc.run()\n",
    "result11_mc = q11_mc.run()\n",
    "result12_mc = q12_mc.run()\n",
    "result13_mc = q13_mc.run()\n",
    "result14_mc = q14_mc.run()\n",
    "result15_ls = q15_ls.run()\n",
    "result16_ls = q16_ls.run()\n",
    "result17_ls = q17_ls.run()\n",
    "result18_yn = q18_yn.run()\n",
    "result19_ls = q19_ls.run()\n",
    "result20_cb = q20_cb.run()\n",
    "result21_mc = q21_mc.run()"
   ]
  },
  {
   "cell_type": "markdown",
   "metadata": {},
   "source": [
    "<br>\n",
    "<p>Here we inspect the results&mdash;more on how to do this in <a href=\"https://examples.goemeritus.com/example_visualization/\"><i>visualization examples</i></a>.</p>"
   ]
  },
  {
   "cell_type": "code",
   "execution_count": null,
   "metadata": {},
   "outputs": [],
   "source": [
    "result1_cb"
   ]
  },
  {
   "cell_type": "code",
   "execution_count": null,
   "metadata": {},
   "outputs": [],
   "source": [
    "result3_mc"
   ]
  },
  {
   "cell_type": "code",
   "execution_count": null,
   "metadata": {},
   "outputs": [],
   "source": [
    "# Select fields to inspect (the responses to the questions)\n",
    "result1_cb.select(\"q1_cb\").print()\n",
    "result2_cb.select(\"q2_cb\").print()\n",
    "result3_mc.select(\"q3_mc\").print()\n",
    "result4_ls.select(\"q4_ls\").print()\n",
    "result5_ls.select(\"5_ls\").print()\n",
    "result6_ls.select(\"q6_ls\").print()\n",
    "result7_ls.select(\"q7_ls\").print()\n",
    "result8_ls.select(\"q8_ls\").print()\n",
    "result9_ls.select(\"q9_ls\").print()\n",
    "result10_mc.select(\"q10_mc\").print()\n",
    "result11_mc.select(\"q11_mc\").print()\n",
    "result12_mc.select(\"q12_mc\").print()\n",
    "result13_mc.select(\"q13_mc\").print()\n",
    "result14_mc.select(\"q14_mc\").print()\n",
    "result15_ls.select(\"q15_ls\").print()\n",
    "result16_ls.select(\"q16_ls\").print()\n",
    "result17_ls.select(\"q17_ls\").print()\n",
    "result18_yn.select(\"q18_yn\").print()\n",
    "result19_ls.select(\"q19_ls\").print()\n",
    "result20_cb.select(\"q20_cb\").print()\n",
    "result21_mc.select(\"q21_mc\").print()"
   ]
  },
  {
   "cell_type": "code",
   "execution_count": null,
   "metadata": {},
   "outputs": [],
   "source": [
    "# Select fields to inspect (the responses to the questions) with pretty labels\n",
    "result1_cb.select(\"q1_cb\").print(pretty_labels={\"answer.q1_cb\":q1_cb.question_text})\n",
    "result2_cb.select(\"q2_cb\").print(pretty_labels={\"answer.q2_cb\":q2_cb.question_text})\n",
    "result3_mc.select(\"q3_mc\").print(pretty_labels={\"answer.q3_mc\":q3_mc.question_text})\n",
    "result4_ls.select(\"q4_ls\").print(pretty_labels={\"answer.q4_ls\":q4_ls.question_text})\n",
    "result5_ls.select(\"5_ls\").print(pretty_labels={\"answer.q5_ls\":q5_ls.question_text})\n",
    "result6_ls.select(\"q6_ls\").print(pretty_labels={\"answer.q6_ls\":q6_ls.question_text})\n",
    "result7_ls.select(\"q7_ls\").print(pretty_labels={\"answer.q7_ls\":q7_ls.question_text})\n",
    "result8_ls.select(\"q8_ls\").print(pretty_labels={\"answer.q8_ls\":q8_ls.question_text})\n",
    "result9_ls.select(\"q9_ls\").print(pretty_labels={\"answer.q9_ls\":q9_ls.question_text})\n",
    "result10_mc.select(\"q10_mc\").print(pretty_labels={\"answer.q10_mc\":q10_mc.question_text})\n",
    "result11_mc.select(\"q11_mc\").print(pretty_labels={\"answer.q11_mc\":q11_mc.question_text})\n",
    "result12_mc.select(\"q12_mc\").print(pretty_labels={\"answer.q12_mc\":q12_mc.question_text})\n",
    "result13_mc.select(\"q13_mc\").print(pretty_labels={\"answer.q13_mc\":q13_mc.question_text})\n",
    "result14_mc.select(\"q14_mc\").print(pretty_labels={\"answer.q14_mc\":q14_mc.question_text})\n",
    "result15_ls.select(\"q15_ls\").print(pretty_labels={\"answer.q15_ls\":q15_ls.question_text})\n",
    "result16_ls.select(\"q16_ls\").print(pretty_labels={\"answer.q16_ls\":q16_ls.question_text})\n",
    "result17_ls.select(\"q17_ls\").print(pretty_labels={\"answer.q17_ls\":q17_ls.question_text})\n",
    "result18_yn.select(\"q18_yn\").print(pretty_labels={\"answer.q18_yn\":q18_yn.question_text})\n",
    "result19_ls.select(\"q19_ls\").print(pretty_labels={\"answer.q19_ls\":q19_ls.question_text})\n",
    "result20_cb.select(\"q20_cb\").print(pretty_labels={\"answer.q20_cb\":q20_cb.question_text})\n",
    "result21_mc.select(\"q21_mc\").print(pretty_labels={\"answer.q21_mc\":q21_mc.question_text})"
   ]
  },
  {
   "cell_type": "markdown",
   "metadata": {},
   "source": [
    "<br>\n",
    "\n",
    "---\n",
    "\n",
    "<br>"
   ]
  },
  {
   "cell_type": "markdown",
   "metadata": {},
   "source": [
    "# Survey"
   ]
  },
  {
   "cell_type": "markdown",
   "metadata": {},
   "source": []
  },
  {
   "cell_type": "markdown",
   "metadata": {},
   "source": [
    "<br>\n",
    "\n",
    "---\n",
    "\n",
    "<br>\n",
    "\n",
    "# Agents"
   ]
  },
  {
   "cell_type": "markdown",
   "metadata": {},
   "source": []
  }
 ],
 "metadata": {
  "kernelspec": {
   "display_name": "standard",
   "language": "python",
   "name": "python3"
  },
  "language_info": {
   "name": "python",
   "version": "3.11.4"
  }
 },
 "nbformat": 4,
 "nbformat_minor": 2
}
