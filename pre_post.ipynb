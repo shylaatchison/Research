{
 "cells": [
  {
   "cell_type": "code",
   "execution_count": 1,
   "id": "5c1cf2cb-7756-4c5b-ae52-af5f066064a7",
   "metadata": {},
   "outputs": [],
   "source": [
    "from edsl import QuestionMultipleChoice\n",
    "from edsl.agents import Agent\n",
    "from edsl.surveys import Survey"
   ]
  },
  {
   "cell_type": "code",
   "execution_count": 2,
   "id": "38419e77-e36b-4a63-a995-0d601240cb95",
   "metadata": {},
   "outputs": [],
   "source": [
    "# Topic: Renewable Energy\n",
    "\n",
    "question_text = \"\"\"Do you believe that renewable energy sources (such as solar and wind power) can effectively \n",
    "    replace fossil fuels for the majority of the world's energy needs within the next 20 years?\"\"\"\n",
    "\n",
    "question_options = [\"Yes\", \"No\", \"Unsure\"]\n",
    "\n",
    "research = \"\"\"According to the latest research by the International Renewable Energy Agency (IRENA) and the \n",
    "    Intergovernmental Panel on Climate Change (IPCC), renewable energy sources have the potential to meet the \n",
    "    majority of the world's energy needs by 2040, with advancements in technology and increased investment in \n",
    "    green energy infrastructure. \"\"\"\n",
    "\n",
    "q_pre = QuestionMultipleChoice(\n",
    "    question_name = \"pre\",\n",
    "    question_text = question_text,\n",
    "    question_options = question_options\n",
    ")\n",
    "\n",
    "q_post = QuestionMultipleChoice(\n",
    "    question_name = \"post\",\n",
    "    question_text = research + question_text,\n",
    "    question_options = question_options\n",
    ")"
   ]
  },
  {
   "cell_type": "code",
   "execution_count": 3,
   "id": "c39c37f7-87f3-433e-9f6d-5322561a9868",
   "metadata": {},
   "outputs": [],
   "source": [
    "persona1 = \"\"\"You are open to new information. \n",
    "    You have a high amount of trust in scientific reseach.\n",
    "    You are concerned about environmental issues.\"\"\""
   ]
  },
  {
   "cell_type": "code",
   "execution_count": 4,
   "id": "f1e238b7-71c7-4efc-bbcb-12b837f23ba0",
   "metadata": {},
   "outputs": [],
   "source": [
    "persona2 = \"\"\"You are minimally open to new information. \n",
    "    You have a small amount of trust in scientific reseach.\n",
    "    You are not very concerned about environmental issues.\"\"\""
   ]
  },
  {
   "cell_type": "code",
   "execution_count": 5,
   "id": "1063a7f2-7caf-452a-9763-d638bff358d8",
   "metadata": {},
   "outputs": [],
   "source": [
    "personas = [persona1, persona2]"
   ]
  },
  {
   "cell_type": "code",
   "execution_count": 6,
   "id": "aa2f728f-a4ff-478e-b785-fad993a56b14",
   "metadata": {},
   "outputs": [],
   "source": [
    "agents = [Agent({'persona':p}) for p in personas]"
   ]
  },
  {
   "cell_type": "code",
   "execution_count": 7,
   "id": "90bee513-246c-4386-a7df-ce8a8052ff14",
   "metadata": {},
   "outputs": [],
   "source": [
    "survey = Survey(questions=[q_pre, q_post])"
   ]
  },
  {
   "cell_type": "code",
   "execution_count": 8,
   "id": "9ff6796f-e552-45dd-bd9e-2715ad14fd90",
   "metadata": {},
   "outputs": [
    {
     "name": "stderr",
     "output_type": "stream",
     "text": [
      "Running surveys: 100%|██████████████████████████████████████████████████████| 2/2 [00:00<00:00, 134.09it/s]\n"
     ]
    },
    {
     "data": {
      "text/plain": [
       "<Figure size 640x480 with 0 Axes>"
      ]
     },
     "metadata": {},
     "output_type": "display_data"
    }
   ],
   "source": [
    "results = survey.by(agents).run()"
   ]
  },
  {
   "cell_type": "code",
   "execution_count": 9,
   "id": "7583c414-f0aa-4e6e-82d6-13405ccdcaba",
   "metadata": {},
   "outputs": [
    {
     "data": {
      "text/html": [
       "<pre style=\"white-space:pre;overflow-x:auto;line-height:normal;font-family:Menlo,'DejaVu Sans Mono',consolas,'Courier New',monospace\">┏━━━━━━━━━━━━━━━━━━━━━━━━━━━━━━━━━━━━━━━━━━━━━━━━━━━━━━━━━━━━━┳━━━━━━━━┳━━━━━━━━┓\n",
       "┃<span style=\"color: #800080; text-decoration-color: #800080; font-weight: bold\"> Persona                                                     </span>┃<span style=\"color: #800080; text-decoration-color: #800080; font-weight: bold\"> Before </span>┃<span style=\"color: #800080; text-decoration-color: #800080; font-weight: bold\"> After  </span>┃\n",
       "┡━━━━━━━━━━━━━━━━━━━━━━━━━━━━━━━━━━━━━━━━━━━━━━━━━━━━━━━━━━━━━╇━━━━━━━━╇━━━━━━━━┩\n",
       "│<span style=\"color: #7f7f7f; text-decoration-color: #7f7f7f\"> You are open to new information.                            </span>│<span style=\"color: #7f7f7f; text-decoration-color: #7f7f7f\"> Yes    </span>│<span style=\"color: #7f7f7f; text-decoration-color: #7f7f7f\"> Yes    </span>│\n",
       "│<span style=\"color: #7f7f7f; text-decoration-color: #7f7f7f\">     You have a high amount of trust in scientific reseach.  </span>│<span style=\"color: #7f7f7f; text-decoration-color: #7f7f7f\">        </span>│<span style=\"color: #7f7f7f; text-decoration-color: #7f7f7f\">        </span>│\n",
       "│<span style=\"color: #7f7f7f; text-decoration-color: #7f7f7f\">     You are concerned about environmental issues.           </span>│<span style=\"color: #7f7f7f; text-decoration-color: #7f7f7f\">        </span>│<span style=\"color: #7f7f7f; text-decoration-color: #7f7f7f\">        </span>│\n",
       "├─────────────────────────────────────────────────────────────┼────────┼────────┤\n",
       "│<span style=\"color: #7f7f7f; text-decoration-color: #7f7f7f\"> You are minimally open to new information.                  </span>│<span style=\"color: #7f7f7f; text-decoration-color: #7f7f7f\"> No     </span>│<span style=\"color: #7f7f7f; text-decoration-color: #7f7f7f\"> Unsure </span>│\n",
       "│<span style=\"color: #7f7f7f; text-decoration-color: #7f7f7f\">     You have a small amount of trust in scientific reseach. </span>│<span style=\"color: #7f7f7f; text-decoration-color: #7f7f7f\">        </span>│<span style=\"color: #7f7f7f; text-decoration-color: #7f7f7f\">        </span>│\n",
       "│<span style=\"color: #7f7f7f; text-decoration-color: #7f7f7f\">     You are not very concerned about environmental issues.  </span>│<span style=\"color: #7f7f7f; text-decoration-color: #7f7f7f\">        </span>│<span style=\"color: #7f7f7f; text-decoration-color: #7f7f7f\">        </span>│\n",
       "└─────────────────────────────────────────────────────────────┴────────┴────────┘\n",
       "</pre>\n"
      ],
      "text/plain": [
       "┏━━━━━━━━━━━━━━━━━━━━━━━━━━━━━━━━━━━━━━━━━━━━━━━━━━━━━━━━━━━━━┳━━━━━━━━┳━━━━━━━━┓\n",
       "┃\u001b[1;35m \u001b[0m\u001b[1;35mPersona                                                    \u001b[0m\u001b[1;35m \u001b[0m┃\u001b[1;35m \u001b[0m\u001b[1;35mBefore\u001b[0m\u001b[1;35m \u001b[0m┃\u001b[1;35m \u001b[0m\u001b[1;35mAfter \u001b[0m\u001b[1;35m \u001b[0m┃\n",
       "┡━━━━━━━━━━━━━━━━━━━━━━━━━━━━━━━━━━━━━━━━━━━━━━━━━━━━━━━━━━━━━╇━━━━━━━━╇━━━━━━━━┩\n",
       "│\u001b[2m \u001b[0m\u001b[2mYou are open to new information.                           \u001b[0m\u001b[2m \u001b[0m│\u001b[2m \u001b[0m\u001b[2mYes   \u001b[0m\u001b[2m \u001b[0m│\u001b[2m \u001b[0m\u001b[2mYes   \u001b[0m\u001b[2m \u001b[0m│\n",
       "│\u001b[2m \u001b[0m\u001b[2m    You have a high amount of trust in scientific reseach. \u001b[0m\u001b[2m \u001b[0m│\u001b[2m        \u001b[0m│\u001b[2m        \u001b[0m│\n",
       "│\u001b[2m \u001b[0m\u001b[2m    You are concerned about environmental issues.          \u001b[0m\u001b[2m \u001b[0m│\u001b[2m        \u001b[0m│\u001b[2m        \u001b[0m│\n",
       "├─────────────────────────────────────────────────────────────┼────────┼────────┤\n",
       "│\u001b[2m \u001b[0m\u001b[2mYou are minimally open to new information.                 \u001b[0m\u001b[2m \u001b[0m│\u001b[2m \u001b[0m\u001b[2mNo    \u001b[0m\u001b[2m \u001b[0m│\u001b[2m \u001b[0m\u001b[2mUnsure\u001b[0m\u001b[2m \u001b[0m│\n",
       "│\u001b[2m \u001b[0m\u001b[2m    You have a small amount of trust in scientific reseach.\u001b[0m\u001b[2m \u001b[0m│\u001b[2m        \u001b[0m│\u001b[2m        \u001b[0m│\n",
       "│\u001b[2m \u001b[0m\u001b[2m    You are not very concerned about environmental issues. \u001b[0m\u001b[2m \u001b[0m│\u001b[2m        \u001b[0m│\u001b[2m        \u001b[0m│\n",
       "└─────────────────────────────────────────────────────────────┴────────┴────────┘\n"
      ]
     },
     "metadata": {},
     "output_type": "display_data"
    }
   ],
   "source": [
    "(results\n",
    " .select(\"agent.*\",\"pre\",\"post\")\n",
    " .print(pretty_labels={\"agent.persona\":\"Persona\", \"answer.pre\":\"Before\", \"answer.post\":\"After\"})\n",
    ")"
   ]
  }
 ],
 "metadata": {
  "kernelspec": {
   "display_name": "Python 3 (ipykernel)",
   "language": "python",
   "name": "python3"
  },
  "language_info": {
   "codemirror_mode": {
    "name": "ipython",
    "version": 3
   },
   "file_extension": ".py",
   "mimetype": "text/x-python",
   "name": "python",
   "nbconvert_exporter": "python",
   "pygments_lexer": "ipython3",
   "version": "3.11.7"
  }
 },
 "nbformat": 4,
 "nbformat_minor": 5
}
