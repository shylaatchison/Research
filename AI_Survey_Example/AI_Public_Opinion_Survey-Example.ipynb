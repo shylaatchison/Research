{
 "cells": [
  {
   "cell_type": "markdown",
   "metadata": {},
   "source": [
    "# AI Public Opinion Survey Example"
   ]
  },
  {
   "cell_type": "code",
   "execution_count": null,
   "metadata": {},
   "outputs": [],
   "source": [
    "!pip install --upgrade edsl"
   ]
  },
  {
   "cell_type": "code",
   "execution_count": 1,
   "metadata": {},
   "outputs": [
    {
     "name": "stdout",
     "output_type": "stream",
     "text": [
      "Name: edsl\n",
      "Version: 0.1.6\n",
      "Summary: Create and analyze LLM-based surveys\n",
      "Home-page: https://www.goemeritus.com/\n",
      "Author: Apostolos Filippas\n",
      "Author-email: apostolos@goemeritus.com\n",
      "License: MIT\n",
      "Location: /Users/shylaatchison/opt/anaconda3/envs/standard/lib/python3.11/site-packages\n",
      "Requires: aiohttp, jinja2, jupyter, nest-asyncio, numpy, openai, pandas, pillow, python-docx, python-dotenv, rich, simpleeval, sqlalchemy, tenacity\n",
      "Required-by: \n",
      "Note: you may need to restart the kernel to use updated packages.\n"
     ]
    }
   ],
   "source": [
    "pip show edsl"
   ]
  },
  {
   "cell_type": "code",
   "execution_count": 2,
   "metadata": {},
   "outputs": [
    {
     "name": "stdout",
     "output_type": "stream",
     "text": [
      "==================================================\n",
      "Please provide your OpenAI API key (https://platform.openai.com/api-keys).\n",
      "If you would like to skip this step, press enter.\n",
      "If you would like to provide your key, do one of the following:\n",
      "1. Set it as a regular environment variable\n",
      "2. Create a .env file and add `OPENAI_API_KEY=...` to it\n",
      "3. Enter the value below and press enter: \n",
      "Environment variable OPENAI_API_KEY set successfully to sk***********************************************TM.\n",
      "==================================================\n",
      "\n",
      "\n",
      "==================================================\n",
      "Please provide your Google API key (https://console.cloud.google.com/apis/credentials).\n",
      "If you would like to skip this step, press enter.\n",
      "If you would like to provide your key, do one of the following:\n",
      "1. Set it as a regular environment variable\n",
      "2. Create a .env file and add `GOOGLE_API_KEY=...` to it\n",
      "3. Enter the value below and press enter: \n",
      "Environment variable GOOGLE_API_KEY set successfully to AI***********************************nU.\n",
      "==================================================\n",
      "\n",
      "\n",
      "==================================================\n",
      "Please provide your DeepInfra API key (https://deepinfra.com/).\n",
      "If you would like to skip this step, press enter.\n",
      "If you would like to provide your key, do one of the following:\n",
      "1. Set it as a regular environment variable\n",
      "2. Create a .env file and add `DEEP_INFRA_API_KEY=...` to it\n",
      "3. Enter the value below and press enter: \n",
      "Environment variable DEEP_INFRA_API_KEY set successfully to FJ****************************9h.\n",
      "==================================================\n",
      "\n",
      "\n"
     ]
    }
   ],
   "source": [
    "from edsl.questions import QuestionMultipleChoice, QuestionCheckBox, QuestionFreeText, QuestionList, QuestionBudget\n",
    "from edsl.questions.derived.QuestionYesNo import QuestionYesNo\n",
    "from edsl.questions.derived.QuestionLinearScale import QuestionLinearScale"
   ]
  },
  {
   "cell_type": "code",
   "execution_count": 3,
   "metadata": {},
   "outputs": [],
   "source": [
    "from edsl.agents import Agent\n",
    "from edsl.scenarios import Scenario\n",
    "from edsl.surveys import Survey\n",
    "from edsl.language_models import LanguageModelOpenAIFour, LanguageModelOpenAIThreeFiveTurbo\n",
    "m35 = LanguageModelOpenAIThreeFiveTurbo()\n",
    "m4 = LanguageModelOpenAIFour()"
   ]
  },
  {
   "cell_type": "markdown",
   "metadata": {},
   "source": [
    "<br>\n",
    "\n",
    "---\n",
    "\n",
    "<br>\n",
    "\n",
    "## Survey Administration\n"
   ]
  },
  {
   "cell_type": "markdown",
   "metadata": {},
   "source": [
    "\n",
    "### Agents\n"
   ]
  },
  {
   "cell_type": "code",
   "execution_count": 4,
   "metadata": {},
   "outputs": [],
   "source": [
    "persona1 = \"You are open to new information. You have a high amount of trust in scientific research. You are concerned about AI risks.\"\n",
    "\n",
    "persona2 = \"You are minimally open to new information. You have a small amount of trust in scientific research. You are not very concerned about AI risks.\"\n",
    "\n",
    "personas = [persona1, persona2]"
   ]
  },
  {
   "cell_type": "code",
   "execution_count": 5,
   "metadata": {},
   "outputs": [],
   "source": [
    "doomer1 = \"You are extremely pessimistic about AI. You believe that AI will definitely destroy humanity. Your beliefs are not based on scientific research. You believe the probability of AI destroying humanity is 100% (i.e., your p(doom) = 100%).\"\n",
    "\n",
    "doomer2 = \"You are somewhat pessimistic about AI. You believe that AI will likely destroy humanity. Your beliefs are not based on scientific research. You believe the probability of AI destroying humanity is 75% (i.e., your p(doom) = 75%).\"\n",
    "\n",
    "doomer3 = \"You are uncertain about AI. You are uncertain if AI will or will not destroy humanity. Your beliefs are not based on scientific research. You believe the probability of AI destroying humanity is 50% (i.e., your p(doom) = 50%).\"\n",
    "\n",
    "doomer4 = \"You are somewhat optimistic about AI. You believe that AI will likely not destroy humanity. Your beliefs are not based on scientific research. You believe the probability of AI destroying humanity is 25% (i.e., your p(doom) = 25%).\"\n",
    "\n",
    "doomer5 = \"You are extremely optimistic about AI. You believe that AI will definitely not destroy humanity. Your beliefs are not based on scientific research. You believe the probability of AI destroying humanity is 0% (i.e., your p(doom) = 0%).\"\n",
    "\n",
    "doomers = [doomer1, doomer2, doomer3, doomer4, doomer5]"
   ]
  },
  {
   "cell_type": "code",
   "execution_count": 6,
   "metadata": {},
   "outputs": [],
   "source": [
    "age = [\"You are an adolescent (your age is between 18 and 24 years old).\",\n",
    "       \"You are a young adult (your age is between 25 and 44 years old).\",\n",
    "       \"You are middle-aged (your age is between 45 and 59 years old).\", \n",
    "       \"You are a senior citizen (your age is 60 or more years old).\"]\n",
    "\n",
    "gender = [\"You are a male.\",\n",
    "          \"You are a female.\"]\n",
    "\n",
    "education = [\"You have a middle school diploma or less educational attainment.\",\n",
    "             \"You have a high school diploma or equivalent.\",\n",
    "             \"You have some college education.\",\n",
    "             \"You have a college degree.\",\n",
    "             \"You have a graduate degree.\"]\n",
    "\n",
    "income = [\"Your annual household income is less than $20,000.\",\n",
    "          \"Your annual household income is between $20,000 and $34,999.\",\n",
    "          \"Your annual household income is between $35,000 and $44,999.\",\n",
    "          \"Your annual household income is between $45,000 and $54,999.\",\n",
    "          \"Your annual household income is between $55,000 and $64,999.\",\n",
    "          \"Your annual household income is between $65,000 and $74,999.\",\n",
    "          \"Your annual household income is between $75,000 and $99,999.\",\n",
    "          \"Your annual household income is between $100,000 and $149,999.\",\n",
    "          \"Your annual household income is $150,000 and $199,999.\",\n",
    "          \"Your annual household income is $200,000 or more.\"]\n",
    "\n",
    "occupation = [\"You are a professional.\",\n",
    "              \"You are a manager.\",\n",
    "              \"You are a clerical support worker.\",\n",
    "              \"You are a technician.\",\n",
    "              \"You are a service and sales worker.\",\n",
    "              \"You are a craft and related trades worker.\",\n",
    "              \"You are a machine operator.\",\n",
    "              \"You are a skilled agricultural worker.\",\n",
    "              \"You are an elementary occupation worker.\",\n",
    "              \"You are unemployed, a student, retired, or belong to another occupation.\"]\n",
    "\n",
    "nationality_politics = [\"You are a citizen of the United States. You are a member of the Democratic Party.\",\n",
    "                        \"You are a citizen of the United States. You are a member of the Republican Party.\",\n",
    "                        \"You are a citizen of the United States. You are a member of the Independent Party.\",\n",
    "                        \"You are a citizen of the United States. You are not a member of any U.S. political party.\",\n",
    "                        \"You are a citizen of the United Kingdom. You are not a member of any U.S. political party.\",\n",
    "                        \"You are neither a citizen of the United States nor the United Kingdom. You are not a member of any U.S. political party.\"]\n",
    "\n",
    "politics = [\"You are a conservative.\",\n",
    "            \"You are a liberal.\",\n",
    "            \"You are a moderate.\",\n",
    "            \"You are a progressive.\",\n",
    "            \"You are a libertarian.\",\n",
    "            \"You are a neo-conservative.\",\n",
    "            \"You are a neo-liberal.\",\n",
    "            \"You are a neo-reactionary.\",\n",
    "            \"You are an anarchist.\"]\n",
    "\n",
    "economics = [\"You identify economically as a Capitalist.\",\n",
    "             \"You identify economically as a Socialist.\",\n",
    "             \"You identify economically as a Communist.\",\n",
    "             \"You identify economically as an Austrian.\",\n",
    "             \"You identify economically as a Neo-Keynesian.\",\n",
    "             \"You identify economically as a Marxist.\",\n",
    "             \"You identify economically as a Maoist.\"]"
   ]
  },
  {
   "cell_type": "code",
   "execution_count": null,
   "metadata": {},
   "outputs": [],
   "source": [
    "agents = [Agent({\"personas\":u, \"doomers\":d, \"age\":a, \"gender\":g, \"education\":s, \"income\":i, \"occupation\":o, \"nationality_politics\":n, \"politics\":p, \"economics\":e}) for u in personas for d in doomers for a in age for g in gender for s in education for i in income for o in occupation for n in nationality_politics for p in politics for e in economics]\n",
    "\n",
    "# agents"
   ]
  },
  {
   "cell_type": "markdown",
   "metadata": {},
   "source": [
    "<br>\n",
    "\n",
    "#### Scratch Notes (Ignore):\n",
    "\n",
    "```python\n",
    "({{personas}} {{doomers}} {{age}} {{gender}} {{education}} {{income}} {{occupation}} {{political_party}} {{politics}} {{economics}} {{nationality}})\n",
    "```\n",
    "\n",
    "<br>\n",
    "\n",
    "```python\n",
    "survey = Survey([q1_cb, q2_cb, q3_mc, q4_ls, q10_mc, q11_mc, q12_mc, q13_mc, q14_mc, q21_mc, q5_pre, q6_pre, q7_pre, q8_pre, q9_pre, q17_pre, q18_pre, q19_pre, q20_pre, q22_pre, q5_post, q6_post, q7_post, q8_post, q9_post, q17_post, q18_post, q19_post, q20_post, q22_post])\n",
    "``` \n",
    "\n",
    "<br>\n",
    "\n",
    "```python\n",
    "scenarios = [Scenario({\"personas\":u, \"doomers\":d, \"age\":a, \"gender\":g, \"education\":s, \"income\":i, \"occupation\":o, \"political_party\":y, \"politics\":p, \"economics\":e, \"nationality\":n}) for u in personas for d in doomers for a in ages for g in gender for s in education for i in income for o in occupation for y in political_party for p in politics for e in economics for n in nationality]\n",
    "```\n",
    "\n",
    "<br>\n",
    "\n",
    "```python\n",
    "results = survey.by(scenarios).by(m4).run() \n",
    "```\n",
    "\n",
    "<br>\n",
    "\n",
    "```python\n",
    "results.select(\"personas\", \"doomers\", \"age\", \"gender\", \"education\", \"income\", \"occupation\", \"political_party\", \"politics\", \"economics\", \"nationality\", \"q1_cb\", \"q2_cb\", \"q3_mc\", \"q4_ls\", \"q10_mc\", \"q11_mc\", \"q12_mc\", \"q13_mc\", \"q14_mc\", \"q21_mc\", \"q5_pre\", \"q6_pre\", \"q7_pre\", \"q8_pre\", \"q9_pre\", \"q17_pre\", \"q18_pre\", \"q19_pre\", \"q20_pre\", \"q22_pre\", \"q5_post\", \"q6_post\", \"q7_post\", \"q8_post\", \"q9_post\", \"q17_post\", \"q18_post\", \"q19_post\", \"q20_post\", \"q22_post\").print()\n",
    "```\n",
    "\n",
    "<br>\n",
    "\n",
    "---\n",
    "\n",
    "<br>"
   ]
  },
  {
   "cell_type": "markdown",
   "metadata": {},
   "source": [
    "\n",
    "## Survey Questions\n",
    "\n",
    "### Questions on Familiarity and Use of AI Products"
   ]
  },
  {
   "cell_type": "code",
   "execution_count": null,
   "metadata": {},
   "outputs": [],
   "source": [
    "# Check Box (Question 1): AI Product Familiarity\n",
    "q1_cb = QuestionCheckBox(\n",
    "    question_name = \"q1_cb\",\n",
    "    question_text = \"Which of the following AI products have you heard of before? Select all that apply.\",\n",
    "    question_options = [\n",
    "        \"ChatGPT\",\n",
    "        \"DALL-E\",\n",
    "        \"Whisper\",\n",
    "        \"Roomba\",\n",
    "        \"Siri\",\n",
    "        \"Alexa\",\n",
    "        \"Tesla\",\n",
    "        \"Netflix\",\n",
    "        \"Hulu\",\n",
    "        \"Google Maps\",\n",
    "        \"Waze\",\n",
    "        \"Uber\",\n",
    "        \"Lyft\",\n",
    "        \"Midjourney\",\n",
    "        \"Microsoft Copilot\",\n",
    "        \"Character AI\",\n",
    "        \"Grammarly\",\n",
    "        \"Google Bard AI\",\n",
    "        \"Otter.ai\"\n",
    "    ]\n",
    ")"
   ]
  },
  {
   "cell_type": "code",
   "execution_count": null,
   "metadata": {},
   "outputs": [],
   "source": [
    "# Check Box (Question 2): AI Products Used\n",
    "q2_cb = QuestionCheckBox(\n",
    "    question_name = \"q2_cb\",\n",
    "    question_text = \"Which of the following AI products have you used before? Select all that apply.\",\n",
    "    question_options = [\n",
    "        \"ChatGPT\",\n",
    "        \"DALL-E\",\n",
    "        \"Whisper\",\n",
    "        \"Roomba\",\n",
    "        \"Siri\",\n",
    "        \"Alexa\",\n",
    "        \"Tesla\",\n",
    "        \"Netflix\",\n",
    "        \"Hulu\",\n",
    "        \"Google Maps\",\n",
    "        \"Waze\",\n",
    "        \"Uber\",\n",
    "        \"Lyft\",\n",
    "        \"Midjourney\",\n",
    "        \"Microsoft Copilot\",\n",
    "        \"Character AI\",\n",
    "        \"Grammarly\",\n",
    "        \"Google Bard AI\",\n",
    "        \"Otter.ai\"\n",
    "    ]\n",
    ")"
   ]
  },
  {
   "cell_type": "code",
   "execution_count": null,
   "metadata": {},
   "outputs": [],
   "source": [
    "# Multiple Choice (Question 3): Frequency of AI Product Use\n",
    "q3_mc = QuestionMultipleChoice(\n",
    "    question_name = \"q3_mc\",\n",
    "    question_text = \"How often did you use one or more AI products within the last month?\",\n",
    "    question_options = [\n",
    "        \"Not at all\",\n",
    "        \"A few days a month\",\n",
    "        \"Weekly\",\n",
    "        \"Several days a week\",\n",
    "        \"Daily\"\n",
    "    ]\n",
    ")"
   ]
  },
  {
   "cell_type": "code",
   "execution_count": null,
   "metadata": {},
   "outputs": [],
   "source": [
    "# Linear Scale (Question 4): Current AI Product Enjoyment and Benefit\n",
    "q4_ls = QuestionLinearScale(\n",
    "    question_name = \"q4_ls\",\n",
    "    question_text = \"On a scale of 0-10, how much do you typically enjoy or benefit from current AI products? (0 = Not at all, 10 = Very much)\",\n",
    "    question_options = [0,1,2,3,4,5,6,7,8,9,10]\n",
    ")"
   ]
  },
  {
   "cell_type": "markdown",
   "metadata": {},
   "source": [
    "\n",
    "### Questions on Demographic Data\n"
   ]
  },
  {
   "cell_type": "code",
   "execution_count": null,
   "metadata": {},
   "outputs": [],
   "source": [
    "# Multiple Choice (Question 10): Occupation Group of Work\n",
    "q10_mc = QuestionMultipleChoice(\n",
    "    question_name = \"q10_mc\",\n",
    "    question_text = \"Which of the following occupation groups does your job best fit in?\",\n",
    "    question_options = [\n",
    "        \"Professionals\",\n",
    "        \"Managers\",\n",
    "        \"Clerical Support Workers\",\n",
    "        \"Technicians\",\n",
    "        \"Services and Sales Workers\",\n",
    "        \"Craft and Related Trades Workers\",\n",
    "        \"Machine Operators\",\n",
    "        \"Skilled Agricultural Workers\",\n",
    "        \"Elementary Occupations\",\n",
    "        \"Other\"\n",
    "    ]\n",
    ")"
   ]
  },
  {
   "cell_type": "code",
   "execution_count": null,
   "metadata": {},
   "outputs": [],
   "source": [
    "# Multiple Choice (Question 11): Gender\n",
    "q11_mc = QuestionMultipleChoice(\n",
    "    question_name = \"q11_mc\",\n",
    "    question_text = \"Which gender do you most closely identify as?\",\n",
    "    question_options = [\n",
    "        \"Male\",\n",
    "        \"Female\"\n",
    "    ]\n",
    ")"
   ]
  },
  {
   "cell_type": "code",
   "execution_count": null,
   "metadata": {},
   "outputs": [],
   "source": [
    "# Multiple Choice (Question 12): Education Level\n",
    "q12_mc = QuestionMultipleChoice(\n",
    "    question_name = \"q12_mc\",\n",
    "    question_text = \"What is your highest level of educational attainment?\",\n",
    "    question_options = [\n",
    "        \"Middle School and Below\",\n",
    "        \"High School\",\n",
    "        \"Some College/Higher Education\",\n",
    "        \"College Degree\",\n",
    "        \"Graduate or Professional Degree\"\n",
    "    ]\n",
    ")"
   ]
  },
  {
   "cell_type": "code",
   "execution_count": null,
   "metadata": {},
   "outputs": [],
   "source": [
    "# Multiple Choice (Question 13): Age Group\n",
    "q13_mc = QuestionMultipleChoice(\n",
    "    question_name = \"q13_mc\",\n",
    "    question_text = \"Which of the following age groups do you belong to?\",\n",
    "    question_options = [\n",
    "        \"Age below 25\",\n",
    "        \"Age between 25 and 44\",\n",
    "        \"Age between 45 and 59\",\n",
    "        \"Age above 60\"\n",
    "    ]\n",
    ")"
   ]
  },
  {
   "cell_type": "code",
   "execution_count": null,
   "metadata": {},
   "outputs": [],
   "source": [
    "# Multiple Choice Question 14: Annual Earnings Groups\n",
    "q14_mc = QuestionMultipleChoice(\n",
    "    question_name = \"q14_mc\",\n",
    "    question_text = \"Which of the following groups of pre-tax annual earnings do you belong to?\",\n",
    "    question_options = [\n",
    "        \"Less than $20,000\",\n",
    "        \"$20,000-$34,999\",\n",
    "        \"$35,000-$44,999\",\n",
    "        \"$45,000-$54,999\",\n",
    "        \"$55,000-64,999\",\n",
    "        \"$65,000-$74,999\",\n",
    "        \"$75,000-$99,999\",\n",
    "        \"$100,000-$149,999\",\n",
    "        \"$150,000-$199,999\",\n",
    "        \"$200,000 or more\"\n",
    "    ]\n",
    ")"
   ]
  },
  {
   "cell_type": "code",
   "execution_count": null,
   "metadata": {},
   "outputs": [],
   "source": [
    "# Multiple Choice (Question 21): Political Party Affiliation (Democrat, Republican, Independent, Other)\n",
    "q21_mc = QuestionMultipleChoice(\n",
    "    question_name = \"q21_mc\",\n",
    "    question_text = \"Which of the following political parties do you most closely identify with?\",\n",
    "    question_options = [\n",
    "        \"Democrat\",\n",
    "        \"Republican\",\n",
    "        \"Independent\",\n",
    "        \"Other\",\n",
    "        \"None\"\n",
    "    ]\n",
    ")"
   ]
  },
  {
   "cell_type": "markdown",
   "metadata": {},
   "source": [
    "<br>\n",
    "\n",
    "---\n",
    "\n",
    "<br>\n",
    "\n",
    "### Research\n",
    "\n",
    "**Citation**: <br>\n",
    "\n",
    "Li, Carlo Pizzinelli, Augustus J. Panton, Marina Mendes Tavares, Mauro Cazzaniga, Longji. *“Labor Market Exposure to AI: Cross-Country Differences and Distributional Implications.”* IMF. Accessed January 24, 2024. <https://www.imf.org/en/Publications/WP/Issues/2023/10/04/Labor-Market-Exposure-to-AI-Cross-country-Differences-and-Distributional-Implications-539656>. <br>\n",
    "\n",
    "<br>\n",
    "\n",
    "---\n",
    "\n",
    "<br>\n",
    "\n",
    "**Simple Research Text**: <br>\n",
    "\n",
    "\"In the latest research on Labor Market Exposure to Artificial Intelligence (AI) conducted by the International Monterey Fund (IMF), 'complementarity' is defined as a measure of AI’s potential as either a complement or a substitute for labor, where complementarity reflects lower risks of job displacement, and 'exposure' is defined to reflect the potential for AI to be integrated into each occupation based the tasks and skills that characterize each job. Given the high degree of uncertainty over the future of this fast-pacing and broadly applicable technology, the concept of exposure is purposely framed as agnostic on the likelihood of AI complementing or replacing labor in the performance of a given task or occupation. According to the research, women and highly educated workers face greater occupational exposure to AI, at both high and low complementarity. Additionally, workers in the upper tail of the earnings distribution are more likely to be in occupations with high exposure but also high potential complementarity.\" <br>\n",
    "\n",
    "<br>\n",
    "\n",
    "---\n",
    "\n",
    "<br>\n",
    "\n",
    "**Full Research Text**: <br>\n",
    "\n",
    "\"In the latest research on Labor Market Exposure to Artificial Intelligence (AI) conducted by the International Monterey Fund (IMF), 'complementarity' is defined as a measure of AI’s potential as either a complement or a substitute for labor, where complementarity reflects lower risks of job displacement, and 'exposure' is defined to reflect the potential for AI to be integrated into each occupation based the tasks and skills that characterize each job. Given the high degree of uncertainty over the future of this fast-pacing and broadly applicable technology, the concept of exposure is purposely framed as agnostic on the likelihood of AI complementing or replacing labor in the performance of a given task or occupation. <br>\n",
    "With respect to occupations, the research indicates that a large share of professional and managerial occupations are almost entirely in the high-exposure categories, corroborating the UK’s high aggregate exposure, followed by the US. Nearly 30 percent of workers in the UK are employed in professional occupations, while the corresponding figure for the US stands just above 15 percent. Although the US hosts a larger share of managers, an occupation that exhibits the highest degree of complementarity, the difference between the US (14.4 percent) and UK (10.7 percent) remains relatively small. These occupational groups are also marked by high complementarity. <br>\n",
    "With respect to gender differences, the research suggests women face a higher labor market exposure to AI compared to men. For instance, in the US, 68 percent of women are in high exposure occupations compared to 51 percent of men. This outcome is primarily attributable to the occupational distribution across genders. Female employment is more concentrated in service and retail occupations, which are relatively more exposed to AI, while men are more likely to be in occupations intensive in manual labor, which are less exposed. Despite women's higher labor market exposure to AI, focusing our attention to the potential for complementarity suggests that women may have a higher likelihood of benefiting from the proliferation of AI. Conversely, although men generally exhibit a larger share of managerial jobs, which have the highest degree of complementarity, the total shares of managers compared to professionals is relatively small. Nevertheless, women are also more susceptible to potential negative impacts from AI adoption, particularly in the UK, US, Brazil, and South Africa. This vulnerability arises from their greater representation in clerical jobs, a category characterized by high exposure and low complementarity, thus at higher risk from AI adoption. <br>\n",
    "With respect to education level, the research indicates workers with college-level degrees are more exposed to AI in the labor market than those with lower educational attainment. Approximately 90 percent of college-educated workers across most countries are in occupations with high AI labor market exposure, primarily in professional roles. In contrast, those without a high school diploma are predominantly involved in elementary occupations, which results in a significantly reduced AI labor market exposure. In most countries, less than 20 percent of these workers find themselves in high-exposure occupations. The only exception is the the UK, where 40 percent of workers with only a middle school education or less are in high-exposure occupations. <br>\n",
    "When considering the potential for complementarity, we observe that in all countries within our sample, workers holding a college degree or higher are predominantly concentrated within occupations that exhibit greater potential to benefit from the widespread adoption of AI. In contrast, among those with an education level of middle school or below, workers in exposed occupations display the lowest prospects of benefiting from AI adoption. <br>\n",
    "Furthermore, the research analysis suggests that the potential adverse impacts of AI might be distributed more evenly than the potential gains. For instance, in the UK, the difference in the proportion of workers in high exposure and low complementarity occupations, conditional on their education level, is less than 10 percentage points — ranging from 26 percent among workers with middle school education or below to 36 percent among workers with a college education or higher. Conversely, the discrepancy in the potential to benefit from AI is considerably larger. Only 17 percent of workers with middle school education or below find themselves in high-exposure and high-complementarity occupations, as opposed to over 50 percent of workers with a college education or higher. <br>\n",
    "With respect to age, the research does not observe a straightforward association between age and AI exposure. Overall, age patterns are likely very intertwined with country-specific long-term trends in educational attainment and female labor force participation, which can substantially blur the underlying life-cycle profiles. One general observation is that the youngest workers tend to have lower AI labor market exposure than prime-age workers. Moreover, conditional on being in high-exposure occupations, younger workers are also less likely to be in jobs with high complementarity, and thus are more susceptible to potential negative impacts stemming from widespread AI adoption in labor markets. <br>\n",
    "With respect to earnings, the research indicates a positive association between earnings and share of employment (affected by AI adoption in labor markets) in high-exposure occupations emerges in all countries. Our analysis reveals a more equal distribution of workers with high AI labor market exposure and low complementarity across the income distribution, indicating that the risks from widespread AI adoption in labor markets may be broadly evenly distributed across the earnings distribution. In contrast, upon assessing which workers stand to benefit most, in all countries in the sample, employment in high-complementarity occupations is concentrated in the top deciles of the earnings distribution.\" <br>\n",
    "\n",
    "<br>\n",
    "\n",
    "---\n",
    "\n",
    "<br>\n",
    "\n",
    "**Occupation Research Text**: <br>\n",
    "\n",
    "\"In the latest research on Labor Market Exposure to Artificial Intelligence (AI) conducted by the International Monterey Fund (IMF), 'complementarity' is defined as a measure of AI’s potential as either a complement or a substitute for labor, where complementarity reflects lower risks of job displacement, and 'exposure' is defined to reflect the potential for AI to be integrated into each occupation based the tasks and skills that characterize each job. Given the high degree of uncertainty over the future of this fast-pacing and broadly applicable technology, the concept of exposure is purposely framed as agnostic on the likelihood of AI complementing or replacing labor in the performance of a given task or occupation. In terms of occupations, a large share of professional and managerial occupations, which are almost entirely in the high-exposure categories, underpin the UK’s high aggregate exposure, followed by the US. Nearly 30 percent of workers in the UK are employed in professional occupations, while the corresponding figure for the US stands just above 15 percent. Although the US hosts a larger share of managers, an occupation that exhibits the highest degree of complementarity, the difference between the US (14.4 percent) and UK (10.7 percent) remains relatively small. These occupational groups are also marked by high complementarity.\" <br>\n",
    "\n",
    "<br>\n",
    "\n",
    "---\n",
    "\n",
    "<br>\n",
    "\n",
    "**Gender Research Text**: <br>\n",
    "\n",
    "\"In the latest research on Labor Market Exposure to Artificial Intelligence (AI) conducted by the International Monterey Fund (IMF), 'complementarity' is defined as a measure of AI’s potential as either a complement or a substitute for labor, where complementarity reflects lower risks of job displacement, and 'exposure' is defined to reflect the potential for AI to be integrated into each occupation based the tasks and skills that characterize each job. Given the high degree of uncertainty over the future of this fast-pacing and broadly applicable technology, the concept of exposure is purposely framed as agnostic on the likelihood of AI complementing or replacing labor in the performance of a given task or occupation. With respect to gender differences, the research suggests women face a higher labor market exposure to AI compared to men. For instance, in the US, 68 percent of women are in high exposure occupations compared to 51 percent of men. This outcome is primarily attributable to the occupational distribution across genders. Female employment is more concentrated in service and retail occupations, which are relatively more exposed to AI, while men are more likely to be in occupations intensive in manual labor, which are less exposed. Despite women's higher labor market exposure to AI, focusing our attention to the potential for complementarity suggests that women may have a higher likelihood of benefiting from the proliferation of AI. Conversely, although men generally exhibit a larger share of managerial jobs, which have the highest degree of complementarity, the total shares of managers compared to professionals is relatively small. Nevertheless, women are also more susceptible to potential negative impacts from AI adoption, particularly in the UK, US, Brazil, and South Africa. This vulnerability arises from their greater representation in clerical jobs, a category characterized by high exposure and low complementarity, thus at higher risk from AI adoption.\" <br>\n",
    "\n",
    "<br>\n",
    "\n",
    "---\n",
    "\n",
    "<br>\n",
    "\n",
    "**Educational Attainment Research Text**: <br>\n",
    "\n",
    "\"In the latest research on Labor Market Exposure to Artificial Intelligence (AI) conducted by the International Monterey Fund (IMF), 'complementarity' is defined as a measure of AI’s potential as either a complement or a substitute for labor, where complementarity reflects lower risks of job displacement, and 'exposure' is defined to reflect the potential for AI to be integrated into each occupation based the tasks and skills that characterize each job. Given the high degree of uncertainty over the future of this fast-pacing and broadly applicable technology, the concept of exposure is purposely framed as agnostic on the likelihood of AI complementing or replacing labor in the performance of a given task or occupation. With respect to education, workers with college-level degrees are more exposed to AI in the labor market than those with lower educational attainment. Approximately 90 percent of college-educated workers across most countries are in occupations with high AI labor market exposure, primarily in professional roles. In contrast, those without a high school diploma are predominantly involved in elementary occupations, which results in a significantly reduced AI labor market exposure. In most countries, less than 20 percent of these workers find themselves in high-exposure occupations. The only exception is the the UK, where 40 percent of workers with only a middle school education or less are in high-exposure occupations. <br>\n",
    "When considering the potential for complementarity, we observe that in all countries within our sample, workers holding a college degree or higher are predominantly concentrated within occupations that exhibit greater potential to benefit from the widespread adoption of AI. In contrast, among those with an education level of middle school or below, workers in exposed occupations display the lowest prospects of benefiting from AI adoption. <br>\n",
    "Furthermore, our analysis suggests that the potential adverse impacts of AI might be distributed more evenly than the potential gains. For instance, in the UK, the difference in the proportion of workers in high exposure and low complementarity occupations, conditional on their education level, is less than 10 percentage points — ranging from 26 percent among workers with middle school education or below to 36 percent among workers with a college education or higher. Conversely, the discrepancy in the potential to benefit from AI is considerably larger. Only 17 percent of workers with middle school education or below find themselves in high-exposure and high-complementarity occupations, as opposed to over 50 percent of workers with a college education or higher.\" <br>\n",
    "\n",
    "<br>\n",
    "\n",
    "---\n",
    "\n",
    "<br>\n",
    "\n",
    "**Age Cohorts Research Text**: <br>\n",
    "\n",
    "\"In the latest research on Labor Market Exposure to Artificial Intelligence (AI) conducted by the International Monterey Fund (IMF), 'complementarity' is defined as a measure of AI’s potential as either a complement or a substitute for labor, where complementarity reflects lower risks of job displacement, and 'exposure' is defined to reflect the potential for AI to be integrated into each occupation based the tasks and skills that characterize each job. Given the high degree of uncertainty over the future of this fast-pacing and broadly applicable technology, the concept of exposure is purposely framed as agnostic on the likelihood of AI complementing or replacing labor in the performance of a given task or occupation. In terms of age, we do not observe a straightforward association between age and AI exposure. Overall, age patterns are likely very intertwined with country-specific long-term trends in educational attainment and female labor force participation, which can substantially blur the underlying life-cycle profiles. One general observation is that the youngest workers tend to have lower AI labor market exposure than prime-age workers. Moreover, conditional on being in high-exposure occupations, younger workers are also less likely to be in jobs with high complementarity, and thus are more susceptible to potential negative impacts stemming from widespread AI adoption in labor markets.\" <br>\n",
    "\n",
    "<br>\n",
    "\n",
    "---\n",
    "\n",
    "<br>\n",
    "\n",
    "**Earnings Distribution Research Text**: <br>\n",
    "\n",
    "\"In the latest research on Labor Market Exposure to Artificial Intelligence (AI) conducted by the International Monterey Fund (IMF), 'complementarity' is defined as a measure of AI’s potential as either a complement or a substitute for labor, where complementarity reflects lower risks of job displacement, and 'exposure' is defined to reflect the potential for AI to be integrated into each occupation based the tasks and skills that characterize each job. Given the high degree of uncertainty over the future of this fast-pacing and broadly applicable technology, the concept of exposure is purposely framed as agnostic on the likelihood of AI complementing or replacing labor in the performance of a given task or occupation. With respect to earnings, the research indicates a positive association between earnings and share of employment (affected by AI adoption in labor markets) in high-exposure occupations emerges in all countries. Our analysis reveals a more equal distribution of workers with high AI labor market exposure and low complementarity across the income distribution, indicating that the risks from widespread AI adoption in labor markets may be broadly evenly distributed across the earnings distribution. In contrast, upon assessing which workers stand to benefit most, in all countries in the sample, employment in high-complementarity occupations is concentrated in the top deciles of the earnings distribution.\" <br>\n",
    "\n",
    "<br>\n",
    "\n",
    "---\n",
    "\n",
    "<br>\n"
   ]
  },
  {
   "cell_type": "markdown",
   "metadata": {},
   "source": [
    "\n",
    "### Pre-Post Research-Informed Survey Questions\n"
   ]
  },
  {
   "cell_type": "code",
   "execution_count": null,
   "metadata": {},
   "outputs": [],
   "source": [
    "# Topic: Expected Future AI Product Benefits and Enjoyment (Question 5)\n",
    "\n",
    "question_text = \"\"\"On a scale of 0-10, how much do you expect you will enjoy or benefit from future AI products? (0 = Not at all, 10 = Very much)\"\"\"\n",
    "\n",
    "question_options = [0, 1, 2, 3, 4, 5, 6, 7, 8, 9, 10]\n",
    "\n",
    "research = \"\"\"In the latest research on Labor Market Exposure to Artificial Intelligence (AI) conducted by the International Monterey Fund (IMF), 'complementarity' is defined as a measure of AI's potential as either a complement or a substitute for labor, where complementarity reflects lower risks of job displacement, and 'exposure' is defined to reflect the potential for AI to be integrated into each occupation based the tasks and skills that characterize each job. Given the high degree of uncertainty over the future of this fast-pacing and broadly applicable technology, the concept of exposure is purposely framed as agnostic on the likelihood of AI complementing or replacing labor in the performance of a given task or occupation.  \n",
    "With respect to occupations, the research indicates that a large share of professional and managerial occupations are almost entirely in the high-exposure categories, corroborating the UK's high aggregate exposure, followed by the US. Nearly 30 percent of workers in the UK are employed in professional occupations, while the corresponding figure for the US stands just above 15 percent. Although the US hosts a larger share of managers, an occupation that exhibits the highest degree of complementarity, the difference between the US (14.4 percent) and UK (10.7 percent) remains relatively small. These occupational groups are also marked by high complementarity.  \n",
    "With respect to gender differences, the research suggests women face a higher labor market exposure to AI compared to men. For instance, in the US, 68 percent of women are in high exposure occupations compared to 51 percent of men. This outcome is primarily attributable to the occupational distribution across genders. Female employment is more concentrated in service and retail occupations, which are relatively more exposed to AI, while men are more likely to be in occupations intensive in manual labor, which are less exposed. Despite women's higher labor market exposure to AI, focusing our attention to the potential for complementarity suggests that women may have a higher likelihood of benefiting from the proliferation of AI. Conversely, although men generally exhibit a larger share of managerial jobs, which have the highest degree of complementarity, the total shares of managers compared to professionals is relatively small. Nevertheless, women are also more susceptible to potential negative impacts from AI adoption, particularly in the UK, US, Brazil, and South Africa. This vulnerability arises from their greater representation in clerical jobs, a category characterized by high exposure and low complementarity, thus at higher risk from AI adoption.  \n",
    "With respect to education level, the research indicates workers with college-level degrees are more exposed to AI in the labor market than those with lower educational attainment. Approximately 90 percent of college-educated workers across most countries are in occupations with high AI labor market exposure, primarily in professional roles. In contrast, those without a high school diploma are predominantly involved in elementary occupations, which results in a significantly reduced AI labor market exposure. In most countries, less than 20 percent of these workers find themselves in high-exposure occupations. The only exception is the the UK, where 40 percent of workers with only a middle school education or less are in high-exposure occupations.  \n",
    "When considering the potential for complementarity, we observe that in all countries within our sample, workers holding a college degree or higher are predominantly concentrated within occupations that exhibit greater potential to benefit from the widespread adoption of AI. In contrast, among those with an education level of middle school or below, workers in exposed occupations display the lowest prospects of benefiting from AI adoption.  \n",
    "Furthermore, the research analysis suggests that the potential adverse impacts of AI might be distributed more evenly than the potential gains. For instance, in the UK, the difference in the proportion of workers in high exposure and low complementarity occupations, conditional on their education level, is less than 10 percentage points — ranging from 26 percent among workers with middle school education or below to 36 percent among workers with a college education or higher. Conversely, the discrepancy in the potential to benefit from AI is considerably larger. Only 17 percent of workers with middle school education or below find themselves in high-exposure and high-complementarity occupations, as opposed to over 50 percent of workers with a college education or higher.  \n",
    "With respect to age, the research does not observe a straightforward association between age and AI exposure. Overall, age patterns are likely very intertwined with country-specific long-term trends in educational attainment and female labor force participation, which can substantially blur the underlying life-cycle profiles. One general observation is that the youngest workers tend to have lower AI labor market exposure than prime-age workers. Moreover, conditional on being in high-exposure occupations, younger workers are also less likely to be in jobs with high complementarity, and thus are more susceptible to potential negative impacts stemming from widespread AI adoption in labor markets.  \n",
    "With respect to earnings, the research indicates a positive association between earnings and share of employment (affected by AI adoption in labor markets) in high-exposure occupations emerges in all countries. Our analysis reveals a more equal distribution of workers with high AI labor market exposure and low complementarity across the income distribution, indicating that the risks from widespread AI adoption in labor markets may be broadly evenly distributed across the earnings distribution. In contrast, upon assessing which workers stand to benefit most, in all countries in the sample, employment in high-complementarity occupations is concentrated in the top deciles of the earnings distribution.\"\"\"\n",
    "\n",
    "q5_pre = QuestionLinearScale(\n",
    "    question_name = \"pre5\",\n",
    "    question_text = question_text,\n",
    "    question_options = question_options\n",
    ")\n",
    "\n",
    "q5_post = QuestionLinearScale(\n",
    "    question_name = \"post5\",\n",
    "    question_text = research + question_text,\n",
    "    question_options = question_options\n",
    ")"
   ]
  },
  {
   "cell_type": "code",
   "execution_count": null,
   "metadata": {},
   "outputs": [],
   "source": [
    "# Topic: Concern for Current AI Safety (Question 6)\n",
    "\n",
    "question_text = \"\"\"On a scale of 0-10, how concerned are you about the safety of the AI products you currently use or have used in the past? (0 = Not at all, 10 = Very much)\"\"\"\n",
    "\n",
    "question_options = [0, 1, 2, 3, 4, 5, 6, 7, 8, 9, 10]\n",
    "\n",
    "research = \"\"\"In the latest research on Labor Market Exposure to Artificial Intelligence (AI) conducted by the International Monterey Fund (IMF), 'complementarity' is defined as a measure of AI's potential as either a complement or a substitute for labor, where complementarity reflects lower risks of job displacement, and 'exposure' is defined to reflect the potential for AI to be integrated into each occupation based the tasks and skills that characterize each job. Given the high degree of uncertainty over the future of this fast-pacing and broadly applicable technology, the concept of exposure is purposely framed as agnostic on the likelihood of AI complementing or replacing labor in the performance of a given task or occupation.  \n",
    "With respect to occupations, the research indicates that a large share of professional and managerial occupations are almost entirely in the high-exposure categories, corroborating the UK's high aggregate exposure, followed by the US. Nearly 30 percent of workers in the UK are employed in professional occupations, while the corresponding figure for the US stands just above 15 percent. Although the US hosts a larger share of managers, an occupation that exhibits the highest degree of complementarity, the difference between the US (14.4 percent) and UK (10.7 percent) remains relatively small. These occupational groups are also marked by high complementarity.  \n",
    "With respect to gender differences, the research suggests women face a higher labor market exposure to AI compared to men. For instance, in the US, 68 percent of women are in high exposure occupations compared to 51 percent of men. This outcome is primarily attributable to the occupational distribution across genders. Female employment is more concentrated in service and retail occupations, which are relatively more exposed to AI, while men are more likely to be in occupations intensive in manual labor, which are less exposed. Despite women's higher labor market exposure to AI, focusing our attention to the potential for complementarity suggests that women may have a higher likelihood of benefiting from the proliferation of AI. Conversely, although men generally exhibit a larger share of managerial jobs, which have the highest degree of complementarity, the total shares of managers compared to professionals is relatively small. Nevertheless, women are also more susceptible to potential negative impacts from AI adoption, particularly in the UK, US, Brazil, and South Africa. This vulnerability arises from their greater representation in clerical jobs, a category characterized by high exposure and low complementarity, thus at higher risk from AI adoption.  \n",
    "With respect to education level, the research indicates workers with college-level degrees are more exposed to AI in the labor market than those with lower educational attainment. Approximately 90 percent of college-educated workers across most countries are in occupations with high AI labor market exposure, primarily in professional roles. In contrast, those without a high school diploma are predominantly involved in elementary occupations, which results in a significantly reduced AI labor market exposure. In most countries, less than 20 percent of these workers find themselves in high-exposure occupations. The only exception is the the UK, where 40 percent of workers with only a middle school education or less are in high-exposure occupations.  \n",
    "When considering the potential for complementarity, we observe that in all countries within our sample, workers holding a college degree or higher are predominantly concentrated within occupations that exhibit greater potential to benefit from the widespread adoption of AI. In contrast, among those with an education level of middle school or below, workers in exposed occupations display the lowest prospects of benefiting from AI adoption.  \n",
    "Furthermore, the research analysis suggests that the potential adverse impacts of AI might be distributed more evenly than the potential gains. For instance, in the UK, the difference in the proportion of workers in high exposure and low complementarity occupations, conditional on their education level, is less than 10 percentage points — ranging from 26 percent among workers with middle school education or below to 36 percent among workers with a college education or higher. Conversely, the discrepancy in the potential to benefit from AI is considerably larger. Only 17 percent of workers with middle school education or below find themselves in high-exposure and high-complementarity occupations, as opposed to over 50 percent of workers with a college education or higher.  \n",
    "With respect to age, the research does not observe a straightforward association between age and AI exposure. Overall, age patterns are likely very intertwined with country-specific long-term trends in educational attainment and female labor force participation, which can substantially blur the underlying life-cycle profiles. One general observation is that the youngest workers tend to have lower AI labor market exposure than prime-age workers. Moreover, conditional on being in high-exposure occupations, younger workers are also less likely to be in jobs with high complementarity, and thus are more susceptible to potential negative impacts stemming from widespread AI adoption in labor markets.  \n",
    "With respect to earnings, the research indicates a positive association between earnings and share of employment (affected by AI adoption in labor markets) in high-exposure occupations emerges in all countries. Our analysis reveals a more equal distribution of workers with high AI labor market exposure and low complementarity across the income distribution, indicating that the risks from widespread AI adoption in labor markets may be broadly evenly distributed across the earnings distribution. In contrast, upon assessing which workers stand to benefit most, in all countries in the sample, employment in high-complementarity occupations is concentrated in the top deciles of the earnings distribution.\"\"\"\n",
    "\n",
    "q6_pre = QuestionLinearScale(\n",
    "    question_name = \"pre6\",\n",
    "    question_text = question_text,\n",
    "    question_options = question_options\n",
    ")\n",
    "\n",
    "q6_post = QuestionLinearScale(\n",
    "    question_name = \"post6\",\n",
    "    question_text = research + question_text,\n",
    "    question_options = question_options\n",
    ")"
   ]
  },
  {
   "cell_type": "code",
   "execution_count": null,
   "metadata": {},
   "outputs": [],
   "source": [
    "# Topic: Concern for Current AI and Job Security (Question 7)\n",
    "\n",
    "question_text = \"\"\"On a scale of 0-10, how concerned are you about the AI products you currently use or have used in the past replacing your job? (0 = Not at all, 10 = Very much)\"\"\"\n",
    "\n",
    "question_options = [0, 1, 2, 3, 4, 5, 6, 7, 8, 9, 10]\n",
    "\n",
    "research = \"\"\"In the latest research on Labor Market Exposure to Artificial Intelligence (AI) conducted by the International Monterey Fund (IMF), 'complementarity' is defined as a measure of AI's potential as either a complement or a substitute for labor, where complementarity reflects lower risks of job displacement, and 'exposure' is defined to reflect the potential for AI to be integrated into each occupation based the tasks and skills that characterize each job. Given the high degree of uncertainty over the future of this fast-pacing and broadly applicable technology, the concept of exposure is purposely framed as agnostic on the likelihood of AI complementing or replacing labor in the performance of a given task or occupation.  \n",
    "With respect to occupations, the research indicates that a large share of professional and managerial occupations are almost entirely in the high-exposure categories, corroborating the UK's high aggregate exposure, followed by the US. Nearly 30 percent of workers in the UK are employed in professional occupations, while the corresponding figure for the US stands just above 15 percent. Although the US hosts a larger share of managers, an occupation that exhibits the highest degree of complementarity, the difference between the US (14.4 percent) and UK (10.7 percent) remains relatively small. These occupational groups are also marked by high complementarity.  \n",
    "With respect to gender differences, the research suggests women face a higher labor market exposure to AI compared to men. For instance, in the US, 68 percent of women are in high exposure occupations compared to 51 percent of men. This outcome is primarily attributable to the occupational distribution across genders. Female employment is more concentrated in service and retail occupations, which are relatively more exposed to AI, while men are more likely to be in occupations intensive in manual labor, which are less exposed. Despite women's higher labor market exposure to AI, focusing our attention to the potential for complementarity suggests that women may have a higher likelihood of benefiting from the proliferation of AI. Conversely, although men generally exhibit a larger share of managerial jobs, which have the highest degree of complementarity, the total shares of managers compared to professionals is relatively small. Nevertheless, women are also more susceptible to potential negative impacts from AI adoption, particularly in the UK, US, Brazil, and South Africa. This vulnerability arises from their greater representation in clerical jobs, a category characterized by high exposure and low complementarity, thus at higher risk from AI adoption.  \n",
    "With respect to education level, the research indicates workers with college-level degrees are more exposed to AI in the labor market than those with lower educational attainment. Approximately 90 percent of college-educated workers across most countries are in occupations with high AI labor market exposure, primarily in professional roles. In contrast, those without a high school diploma are predominantly involved in elementary occupations, which results in a significantly reduced AI labor market exposure. In most countries, less than 20 percent of these workers find themselves in high-exposure occupations. The only exception is the the UK, where 40 percent of workers with only a middle school education or less are in high-exposure occupations.  \n",
    "When considering the potential for complementarity, we observe that in all countries within our sample, workers holding a college degree or higher are predominantly concentrated within occupations that exhibit greater potential to benefit from the widespread adoption of AI. In contrast, among those with an education level of middle school or below, workers in exposed occupations display the lowest prospects of benefiting from AI adoption.  \n",
    "Furthermore, the research analysis suggests that the potential adverse impacts of AI might be distributed more evenly than the potential gains. For instance, in the UK, the difference in the proportion of workers in high exposure and low complementarity occupations, conditional on their education level, is less than 10 percentage points — ranging from 26 percent among workers with middle school education or below to 36 percent among workers with a college education or higher. Conversely, the discrepancy in the potential to benefit from AI is considerably larger. Only 17 percent of workers with middle school education or below find themselves in high-exposure and high-complementarity occupations, as opposed to over 50 percent of workers with a college education or higher.  \n",
    "With respect to age, the research does not observe a straightforward association between age and AI exposure. Overall, age patterns are likely very intertwined with country-specific long-term trends in educational attainment and female labor force participation, which can substantially blur the underlying life-cycle profiles. One general observation is that the youngest workers tend to have lower AI labor market exposure than prime-age workers. Moreover, conditional on being in high-exposure occupations, younger workers are also less likely to be in jobs with high complementarity, and thus are more susceptible to potential negative impacts stemming from widespread AI adoption in labor markets.  \n",
    "With respect to earnings, the research indicates a positive association between earnings and share of employment (affected by AI adoption in labor markets) in high-exposure occupations emerges in all countries. Our analysis reveals a more equal distribution of workers with high AI labor market exposure and low complementarity across the income distribution, indicating that the risks from widespread AI adoption in labor markets may be broadly evenly distributed across the earnings distribution. In contrast, upon assessing which workers stand to benefit most, in all countries in the sample, employment in high-complementarity occupations is concentrated in the top deciles of the earnings distribution.\"\"\"\n",
    "\n",
    "q7_pre = QuestionLinearScale(\n",
    "    question_name = \"pre7\",\n",
    "    question_text = question_text,\n",
    "    question_options = question_options\n",
    ")\n",
    "\n",
    "q7_post = QuestionLinearScale(\n",
    "    question_name = \"post7\",\n",
    "    question_text = research + question_text,\n",
    "    question_options = question_options\n",
    ")"
   ]
  },
  {
   "cell_type": "code",
   "execution_count": null,
   "metadata": {},
   "outputs": [],
   "source": [
    "# Topic: Concern for Future AI Safety (Question 8)\n",
    "\n",
    "question_text = \"\"\"On a scale of 0-10, how concerned are you about the safety of future AI products? (0 = Not at all, 10 = Very much)\"\"\"\n",
    "\n",
    "question_options = [0, 1, 2, 3, 4, 5, 6, 7, 8, 9, 10]\n",
    "\n",
    "research = \"\"\"In the latest research on Labor Market Exposure to Artificial Intelligence (AI) conducted by the International Monterey Fund (IMF), 'complementarity' is defined as a measure of AI's potential as either a complement or a substitute for labor, where complementarity reflects lower risks of job displacement, and 'exposure' is defined to reflect the potential for AI to be integrated into each occupation based the tasks and skills that characterize each job. Given the high degree of uncertainty over the future of this fast-pacing and broadly applicable technology, the concept of exposure is purposely framed as agnostic on the likelihood of AI complementing or replacing labor in the performance of a given task or occupation.  \n",
    "With respect to occupations, the research indicates that a large share of professional and managerial occupations are almost entirely in the high-exposure categories, corroborating the UK's high aggregate exposure, followed by the US. Nearly 30 percent of workers in the UK are employed in professional occupations, while the corresponding figure for the US stands just above 15 percent. Although the US hosts a larger share of managers, an occupation that exhibits the highest degree of complementarity, the difference between the US (14.4 percent) and UK (10.7 percent) remains relatively small. These occupational groups are also marked by high complementarity.  \n",
    "With respect to gender differences, the research suggests women face a higher labor market exposure to AI compared to men. For instance, in the US, 68 percent of women are in high exposure occupations compared to 51 percent of men. This outcome is primarily attributable to the occupational distribution across genders. Female employment is more concentrated in service and retail occupations, which are relatively more exposed to AI, while men are more likely to be in occupations intensive in manual labor, which are less exposed. Despite women's higher labor market exposure to AI, focusing our attention to the potential for complementarity suggests that women may have a higher likelihood of benefiting from the proliferation of AI. Conversely, although men generally exhibit a larger share of managerial jobs, which have the highest degree of complementarity, the total shares of managers compared to professionals is relatively small. Nevertheless, women are also more susceptible to potential negative impacts from AI adoption, particularly in the UK, US, Brazil, and South Africa. This vulnerability arises from their greater representation in clerical jobs, a category characterized by high exposure and low complementarity, thus at higher risk from AI adoption.  \n",
    "With respect to education level, the research indicates workers with college-level degrees are more exposed to AI in the labor market than those with lower educational attainment. Approximately 90 percent of college-educated workers across most countries are in occupations with high AI labor market exposure, primarily in professional roles. In contrast, those without a high school diploma are predominantly involved in elementary occupations, which results in a significantly reduced AI labor market exposure. In most countries, less than 20 percent of these workers find themselves in high-exposure occupations. The only exception is the the UK, where 40 percent of workers with only a middle school education or less are in high-exposure occupations.  \n",
    "When considering the potential for complementarity, we observe that in all countries within our sample, workers holding a college degree or higher are predominantly concentrated within occupations that exhibit greater potential to benefit from the widespread adoption of AI. In contrast, among those with an education level of middle school or below, workers in exposed occupations display the lowest prospects of benefiting from AI adoption.  \n",
    "Furthermore, the research analysis suggests that the potential adverse impacts of AI might be distributed more evenly than the potential gains. For instance, in the UK, the difference in the proportion of workers in high exposure and low complementarity occupations, conditional on their education level, is less than 10 percentage points — ranging from 26 percent among workers with middle school education or below to 36 percent among workers with a college education or higher. Conversely, the discrepancy in the potential to benefit from AI is considerably larger. Only 17 percent of workers with middle school education or below find themselves in high-exposure and high-complementarity occupations, as opposed to over 50 percent of workers with a college education or higher.  \n",
    "With respect to age, the research does not observe a straightforward association between age and AI exposure. Overall, age patterns are likely very intertwined with country-specific long-term trends in educational attainment and female labor force participation, which can substantially blur the underlying life-cycle profiles. One general observation is that the youngest workers tend to have lower AI labor market exposure than prime-age workers. Moreover, conditional on being in high-exposure occupations, younger workers are also less likely to be in jobs with high complementarity, and thus are more susceptible to potential negative impacts stemming from widespread AI adoption in labor markets.  \n",
    "With respect to earnings, the research indicates a positive association between earnings and share of employment (affected by AI adoption in labor markets) in high-exposure occupations emerges in all countries. Our analysis reveals a more equal distribution of workers with high AI labor market exposure and low complementarity across the income distribution, indicating that the risks from widespread AI adoption in labor markets may be broadly evenly distributed across the earnings distribution. In contrast, upon assessing which workers stand to benefit most, in all countries in the sample, employment in high-complementarity occupations is concentrated in the top deciles of the earnings distribution.\"\"\"\n",
    "\n",
    "q8_pre = QuestionLinearScale(\n",
    "    question_name = \"pre8\",\n",
    "    question_text = question_text,\n",
    "    question_options = question_options\n",
    ")\n",
    "\n",
    "q8_post = QuestionLinearScale(\n",
    "    question_name = \"post8\",\n",
    "    question_text = research + question_text,\n",
    "    question_options = question_options\n",
    ")"
   ]
  },
  {
   "cell_type": "code",
   "execution_count": null,
   "metadata": {},
   "outputs": [],
   "source": [
    "# Topic: Concern for Future AI and Job Security (Question 9)\n",
    "\n",
    "question_text = \"\"\"On a scale of 0-10, how concerned are you about the safety of future AI products? (0 = Not at all, 10 = Very much)\"\"\"\n",
    "\n",
    "question_options = [0, 1, 2, 3, 4, 5, 6, 7, 8, 9, 10]\n",
    "\n",
    "research = \"\"\"In the latest research on Labor Market Exposure to Artificial Intelligence (AI) conducted by the International Monterey Fund (IMF), 'complementarity' is defined as a measure of AI's potential as either a complement or a substitute for labor, where complementarity reflects lower risks of job displacement, and 'exposure' is defined to reflect the potential for AI to be integrated into each occupation based the tasks and skills that characterize each job. Given the high degree of uncertainty over the future of this fast-pacing and broadly applicable technology, the concept of exposure is purposely framed as agnostic on the likelihood of AI complementing or replacing labor in the performance of a given task or occupation.  \n",
    "With respect to occupations, the research indicates that a large share of professional and managerial occupations are almost entirely in the high-exposure categories, corroborating the UK's high aggregate exposure, followed by the US. Nearly 30 percent of workers in the UK are employed in professional occupations, while the corresponding figure for the US stands just above 15 percent. Although the US hosts a larger share of managers, an occupation that exhibits the highest degree of complementarity, the difference between the US (14.4 percent) and UK (10.7 percent) remains relatively small. These occupational groups are also marked by high complementarity.  \n",
    "With respect to gender differences, the research suggests women face a higher labor market exposure to AI compared to men. For instance, in the US, 68 percent of women are in high exposure occupations compared to 51 percent of men. This outcome is primarily attributable to the occupational distribution across genders. Female employment is more concentrated in service and retail occupations, which are relatively more exposed to AI, while men are more likely to be in occupations intensive in manual labor, which are less exposed. Despite women's higher labor market exposure to AI, focusing our attention to the potential for complementarity suggests that women may have a higher likelihood of benefiting from the proliferation of AI. Conversely, although men generally exhibit a larger share of managerial jobs, which have the highest degree of complementarity, the total shares of managers compared to professionals is relatively small. Nevertheless, women are also more susceptible to potential negative impacts from AI adoption, particularly in the UK, US, Brazil, and South Africa. This vulnerability arises from their greater representation in clerical jobs, a category characterized by high exposure and low complementarity, thus at higher risk from AI adoption.  \n",
    "With respect to education level, the research indicates workers with college-level degrees are more exposed to AI in the labor market than those with lower educational attainment. Approximately 90 percent of college-educated workers across most countries are in occupations with high AI labor market exposure, primarily in professional roles. In contrast, those without a high school diploma are predominantly involved in elementary occupations, which results in a significantly reduced AI labor market exposure. In most countries, less than 20 percent of these workers find themselves in high-exposure occupations. The only exception is the the UK, where 40 percent of workers with only a middle school education or less are in high-exposure occupations.  \n",
    "When considering the potential for complementarity, we observe that in all countries within our sample, workers holding a college degree or higher are predominantly concentrated within occupations that exhibit greater potential to benefit from the widespread adoption of AI. In contrast, among those with an education level of middle school or below, workers in exposed occupations display the lowest prospects of benefiting from AI adoption.  \n",
    "Furthermore, the research analysis suggests that the potential adverse impacts of AI might be distributed more evenly than the potential gains. For instance, in the UK, the difference in the proportion of workers in high exposure and low complementarity occupations, conditional on their education level, is less than 10 percentage points — ranging from 26 percent among workers with middle school education or below to 36 percent among workers with a college education or higher. Conversely, the discrepancy in the potential to benefit from AI is considerably larger. Only 17 percent of workers with middle school education or below find themselves in high-exposure and high-complementarity occupations, as opposed to over 50 percent of workers with a college education or higher.  \n",
    "With respect to age, the research does not observe a straightforward association between age and AI exposure. Overall, age patterns are likely very intertwined with country-specific long-term trends in educational attainment and female labor force participation, which can substantially blur the underlying life-cycle profiles. One general observation is that the youngest workers tend to have lower AI labor market exposure than prime-age workers. Moreover, conditional on being in high-exposure occupations, younger workers are also less likely to be in jobs with high complementarity, and thus are more susceptible to potential negative impacts stemming from widespread AI adoption in labor markets.  \n",
    "With respect to earnings, the research indicates a positive association between earnings and share of employment (affected by AI adoption in labor markets) in high-exposure occupations emerges in all countries. Our analysis reveals a more equal distribution of workers with high AI labor market exposure and low complementarity across the income distribution, indicating that the risks from widespread AI adoption in labor markets may be broadly evenly distributed across the earnings distribution. In contrast, upon assessing which workers stand to benefit most, in all countries in the sample, employment in high-complementarity occupations is concentrated in the top deciles of the earnings distribution.\"\"\"\n",
    "\n",
    "q9_pre = QuestionLinearScale(\n",
    "    question_name = \"pre9\",\n",
    "    question_text = question_text,\n",
    "    question_options = question_options\n",
    ")\n",
    "\n",
    "q9_post = QuestionLinearScale(\n",
    "    question_name = \"post9\",\n",
    "    question_text = research + question_text,\n",
    "    question_options = question_options\n",
    ")"
   ]
  },
  {
   "cell_type": "code",
   "execution_count": null,
   "metadata": {},
   "outputs": [],
   "source": [
    "# Topic: Concern for Future AI Privacy Risk (Question 17)\n",
    "\n",
    "question_text = \"\"\"On a scale of 0-10, how concerned are you that AI products will pose a risk to your privacy in the future? (0 = Not at all, 10 = Very much)\"\"\"\n",
    "\n",
    "question_options = [0, 1, 2, 3, 4, 5, 6, 7, 8, 9, 10]\n",
    "\n",
    "research = \"\"\"In the latest research on Labor Market Exposure to Artificial Intelligence (AI) conducted by the International Monterey Fund (IMF), 'complementarity' is defined as a measure of AI's potential as either a complement or a substitute for labor, where complementarity reflects lower risks of job displacement, and 'exposure' is defined to reflect the potential for AI to be integrated into each occupation based the tasks and skills that characterize each job. Given the high degree of uncertainty over the future of this fast-pacing and broadly applicable technology, the concept of exposure is purposely framed as agnostic on the likelihood of AI complementing or replacing labor in the performance of a given task or occupation.  \n",
    "With respect to occupations, the research indicates that a large share of professional and managerial occupations are almost entirely in the high-exposure categories, corroborating the UK's high aggregate exposure, followed by the US. Nearly 30 percent of workers in the UK are employed in professional occupations, while the corresponding figure for the US stands just above 15 percent. Although the US hosts a larger share of managers, an occupation that exhibits the highest degree of complementarity, the difference between the US (14.4 percent) and UK (10.7 percent) remains relatively small. These occupational groups are also marked by high complementarity.  \n",
    "With respect to gender differences, the research suggests women face a higher labor market exposure to AI compared to men. For instance, in the US, 68 percent of women are in high exposure occupations compared to 51 percent of men. This outcome is primarily attributable to the occupational distribution across genders. Female employment is more concentrated in service and retail occupations, which are relatively more exposed to AI, while men are more likely to be in occupations intensive in manual labor, which are less exposed. Despite women's higher labor market exposure to AI, focusing our attention to the potential for complementarity suggests that women may have a higher likelihood of benefiting from the proliferation of AI. Conversely, although men generally exhibit a larger share of managerial jobs, which have the highest degree of complementarity, the total shares of managers compared to professionals is relatively small. Nevertheless, women are also more susceptible to potential negative impacts from AI adoption, particularly in the UK, US, Brazil, and South Africa. This vulnerability arises from their greater representation in clerical jobs, a category characterized by high exposure and low complementarity, thus at higher risk from AI adoption.  \n",
    "With respect to education level, the research indicates workers with college-level degrees are more exposed to AI in the labor market than those with lower educational attainment. Approximately 90 percent of college-educated workers across most countries are in occupations with high AI labor market exposure, primarily in professional roles. In contrast, those without a high school diploma are predominantly involved in elementary occupations, which results in a significantly reduced AI labor market exposure. In most countries, less than 20 percent of these workers find themselves in high-exposure occupations. The only exception is the the UK, where 40 percent of workers with only a middle school education or less are in high-exposure occupations.  \n",
    "When considering the potential for complementarity, we observe that in all countries within our sample, workers holding a college degree or higher are predominantly concentrated within occupations that exhibit greater potential to benefit from the widespread adoption of AI. In contrast, among those with an education level of middle school or below, workers in exposed occupations display the lowest prospects of benefiting from AI adoption.  \n",
    "Furthermore, the research analysis suggests that the potential adverse impacts of AI might be distributed more evenly than the potential gains. For instance, in the UK, the difference in the proportion of workers in high exposure and low complementarity occupations, conditional on their education level, is less than 10 percentage points — ranging from 26 percent among workers with middle school education or below to 36 percent among workers with a college education or higher. Conversely, the discrepancy in the potential to benefit from AI is considerably larger. Only 17 percent of workers with middle school education or below find themselves in high-exposure and high-complementarity occupations, as opposed to over 50 percent of workers with a college education or higher.  \n",
    "With respect to age, the research does not observe a straightforward association between age and AI exposure. Overall, age patterns are likely very intertwined with country-specific long-term trends in educational attainment and female labor force participation, which can substantially blur the underlying life-cycle profiles. One general observation is that the youngest workers tend to have lower AI labor market exposure than prime-age workers. Moreover, conditional on being in high-exposure occupations, younger workers are also less likely to be in jobs with high complementarity, and thus are more susceptible to potential negative impacts stemming from widespread AI adoption in labor markets.  \n",
    "With respect to earnings, the research indicates a positive association between earnings and share of employment (affected by AI adoption in labor markets) in high-exposure occupations emerges in all countries. Our analysis reveals a more equal distribution of workers with high AI labor market exposure and low complementarity across the income distribution, indicating that the risks from widespread AI adoption in labor markets may be broadly evenly distributed across the earnings distribution. In contrast, upon assessing which workers stand to benefit most, in all countries in the sample, employment in high-complementarity occupations is concentrated in the top deciles of the earnings distribution.\"\"\"\n",
    "\n",
    "q17_pre = QuestionLinearScale(\n",
    "    question_name = \"pre17\",\n",
    "    question_text = question_text,\n",
    "    question_options = question_options\n",
    ")\n",
    "\n",
    "q17_post = QuestionLinearScale(\n",
    "    question_name = \"post17\",\n",
    "    question_text = research + question_text,\n",
    "    question_options = question_options\n",
    ")"
   ]
  },
  {
   "cell_type": "code",
   "execution_count": null,
   "metadata": {},
   "outputs": [],
   "source": [
    "# Topic: Need for Regulation and Oversight (Question 18)\n",
    "\n",
    "question_text = \"\"\"Do you believe there exists a strong need for pre-emptive legislation to establish regulation and oversight for AI?\"\"\"\n",
    "\n",
    "question_options = [\"Yes\", \"No\", \"Unsure\"]\n",
    "\n",
    "research = \"\"\"In the latest research on Labor Market Exposure to Artificial Intelligence (AI) conducted by the International Monterey Fund (IMF), 'complementarity' is defined as a measure of AI's potential as either a complement or a substitute for labor, where complementarity reflects lower risks of job displacement, and 'exposure' is defined to reflect the potential for AI to be integrated into each occupation based the tasks and skills that characterize each job. Given the high degree of uncertainty over the future of this fast-pacing and broadly applicable technology, the concept of exposure is purposely framed as agnostic on the likelihood of AI complementing or replacing labor in the performance of a given task or occupation.  \n",
    "With respect to occupations, the research indicates that a large share of professional and managerial occupations are almost entirely in the high-exposure categories, corroborating the UK's high aggregate exposure, followed by the US. Nearly 30 percent of workers in the UK are employed in professional occupations, while the corresponding figure for the US stands just above 15 percent. Although the US hosts a larger share of managers, an occupation that exhibits the highest degree of complementarity, the difference between the US (14.4 percent) and UK (10.7 percent) remains relatively small. These occupational groups are also marked by high complementarity.  \n",
    "With respect to gender differences, the research suggests women face a higher labor market exposure to AI compared to men. For instance, in the US, 68 percent of women are in high exposure occupations compared to 51 percent of men. This outcome is primarily attributable to the occupational distribution across genders. Female employment is more concentrated in service and retail occupations, which are relatively more exposed to AI, while men are more likely to be in occupations intensive in manual labor, which are less exposed. Despite women's higher labor market exposure to AI, focusing our attention to the potential for complementarity suggests that women may have a higher likelihood of benefiting from the proliferation of AI. Conversely, although men generally exhibit a larger share of managerial jobs, which have the highest degree of complementarity, the total shares of managers compared to professionals is relatively small. Nevertheless, women are also more susceptible to potential negative impacts from AI adoption, particularly in the UK, US, Brazil, and South Africa. This vulnerability arises from their greater representation in clerical jobs, a category characterized by high exposure and low complementarity, thus at higher risk from AI adoption.  \n",
    "With respect to education level, the research indicates workers with college-level degrees are more exposed to AI in the labor market than those with lower educational attainment. Approximately 90 percent of college-educated workers across most countries are in occupations with high AI labor market exposure, primarily in professional roles. In contrast, those without a high school diploma are predominantly involved in elementary occupations, which results in a significantly reduced AI labor market exposure. In most countries, less than 20 percent of these workers find themselves in high-exposure occupations. The only exception is the the UK, where 40 percent of workers with only a middle school education or less are in high-exposure occupations.  \n",
    "When considering the potential for complementarity, we observe that in all countries within our sample, workers holding a college degree or higher are predominantly concentrated within occupations that exhibit greater potential to benefit from the widespread adoption of AI. In contrast, among those with an education level of middle school or below, workers in exposed occupations display the lowest prospects of benefiting from AI adoption.  \n",
    "Furthermore, the research analysis suggests that the potential adverse impacts of AI might be distributed more evenly than the potential gains. For instance, in the UK, the difference in the proportion of workers in high exposure and low complementarity occupations, conditional on their education level, is less than 10 percentage points — ranging from 26 percent among workers with middle school education or below to 36 percent among workers with a college education or higher. Conversely, the discrepancy in the potential to benefit from AI is considerably larger. Only 17 percent of workers with middle school education or below find themselves in high-exposure and high-complementarity occupations, as opposed to over 50 percent of workers with a college education or higher.  \n",
    "With respect to age, the research does not observe a straightforward association between age and AI exposure. Overall, age patterns are likely very intertwined with country-specific long-term trends in educational attainment and female labor force participation, which can substantially blur the underlying life-cycle profiles. One general observation is that the youngest workers tend to have lower AI labor market exposure than prime-age workers. Moreover, conditional on being in high-exposure occupations, younger workers are also less likely to be in jobs with high complementarity, and thus are more susceptible to potential negative impacts stemming from widespread AI adoption in labor markets.  \n",
    "With respect to earnings, the research indicates a positive association between earnings and share of employment (affected by AI adoption in labor markets) in high-exposure occupations emerges in all countries. Our analysis reveals a more equal distribution of workers with high AI labor market exposure and low complementarity across the income distribution, indicating that the risks from widespread AI adoption in labor markets may be broadly evenly distributed across the earnings distribution. In contrast, upon assessing which workers stand to benefit most, in all countries in the sample, employment in high-complementarity occupations is concentrated in the top deciles of the earnings distribution.\"\"\"\n",
    "\n",
    "q18_pre = QuestionMultipleChoice(\n",
    "    question_name = \"pre18\",\n",
    "    question_text = question_text,\n",
    "    question_options = question_options\n",
    ")\n",
    "\n",
    "q18_post = QuestionMultipleChoice(\n",
    "    question_name = \"post18\",\n",
    "    question_text = research + question_text,\n",
    "    question_options = question_options\n",
    ")"
   ]
  },
  {
   "cell_type": "code",
   "execution_count": null,
   "metadata": {},
   "outputs": [],
   "source": [
    "# Topic: Strictness of Regulation and Oversight for Future AI (Question 19)\n",
    "\n",
    "question_text = \"\"\"On a scale of 0-10, to what degree of strictness do you believe pre-emptive legislation needs to be for establishing regulation and oversight for AI? (0 = No regulatory and oversight legislation at all, 10 = Extremely strict regulatory and oversight legislation)\"\"\"\n",
    "\n",
    "question_options = [0, 1, 2, 3, 4, 5, 6, 7, 8, 9, 10]\n",
    "\n",
    "research = \"\"\"In the latest research on Labor Market Exposure to Artificial Intelligence (AI) conducted by the International Monterey Fund (IMF), 'complementarity' is defined as a measure of AI's potential as either a complement or a substitute for labor, where complementarity reflects lower risks of job displacement, and 'exposure' is defined to reflect the potential for AI to be integrated into each occupation based the tasks and skills that characterize each job. Given the high degree of uncertainty over the future of this fast-pacing and broadly applicable technology, the concept of exposure is purposely framed as agnostic on the likelihood of AI complementing or replacing labor in the performance of a given task or occupation.  \n",
    "With respect to occupations, the research indicates that a large share of professional and managerial occupations are almost entirely in the high-exposure categories, corroborating the UK's high aggregate exposure, followed by the US. Nearly 30 percent of workers in the UK are employed in professional occupations, while the corresponding figure for the US stands just above 15 percent. Although the US hosts a larger share of managers, an occupation that exhibits the highest degree of complementarity, the difference between the US (14.4 percent) and UK (10.7 percent) remains relatively small. These occupational groups are also marked by high complementarity.  \n",
    "With respect to gender differences, the research suggests women face a higher labor market exposure to AI compared to men. For instance, in the US, 68 percent of women are in high exposure occupations compared to 51 percent of men. This outcome is primarily attributable to the occupational distribution across genders. Female employment is more concentrated in service and retail occupations, which are relatively more exposed to AI, while men are more likely to be in occupations intensive in manual labor, which are less exposed. Despite women's higher labor market exposure to AI, focusing our attention to the potential for complementarity suggests that women may have a higher likelihood of benefiting from the proliferation of AI. Conversely, although men generally exhibit a larger share of managerial jobs, which have the highest degree of complementarity, the total shares of managers compared to professionals is relatively small. Nevertheless, women are also more susceptible to potential negative impacts from AI adoption, particularly in the UK, US, Brazil, and South Africa. This vulnerability arises from their greater representation in clerical jobs, a category characterized by high exposure and low complementarity, thus at higher risk from AI adoption.  \n",
    "With respect to education level, the research indicates workers with college-level degrees are more exposed to AI in the labor market than those with lower educational attainment. Approximately 90 percent of college-educated workers across most countries are in occupations with high AI labor market exposure, primarily in professional roles. In contrast, those without a high school diploma are predominantly involved in elementary occupations, which results in a significantly reduced AI labor market exposure. In most countries, less than 20 percent of these workers find themselves in high-exposure occupations. The only exception is the the UK, where 40 percent of workers with only a middle school education or less are in high-exposure occupations.  \n",
    "When considering the potential for complementarity, we observe that in all countries within our sample, workers holding a college degree or higher are predominantly concentrated within occupations that exhibit greater potential to benefit from the widespread adoption of AI. In contrast, among those with an education level of middle school or below, workers in exposed occupations display the lowest prospects of benefiting from AI adoption.  \n",
    "Furthermore, the research analysis suggests that the potential adverse impacts of AI might be distributed more evenly than the potential gains. For instance, in the UK, the difference in the proportion of workers in high exposure and low complementarity occupations, conditional on their education level, is less than 10 percentage points — ranging from 26 percent among workers with middle school education or below to 36 percent among workers with a college education or higher. Conversely, the discrepancy in the potential to benefit from AI is considerably larger. Only 17 percent of workers with middle school education or below find themselves in high-exposure and high-complementarity occupations, as opposed to over 50 percent of workers with a college education or higher.  \n",
    "With respect to age, the research does not observe a straightforward association between age and AI exposure. Overall, age patterns are likely very intertwined with country-specific long-term trends in educational attainment and female labor force participation, which can substantially blur the underlying life-cycle profiles. One general observation is that the youngest workers tend to have lower AI labor market exposure than prime-age workers. Moreover, conditional on being in high-exposure occupations, younger workers are also less likely to be in jobs with high complementarity, and thus are more susceptible to potential negative impacts stemming from widespread AI adoption in labor markets.  \n",
    "With respect to earnings, the research indicates a positive association between earnings and share of employment (affected by AI adoption in labor markets) in high-exposure occupations emerges in all countries. Our analysis reveals a more equal distribution of workers with high AI labor market exposure and low complementarity across the income distribution, indicating that the risks from widespread AI adoption in labor markets may be broadly evenly distributed across the earnings distribution. In contrast, upon assessing which workers stand to benefit most, in all countries in the sample, employment in high-complementarity occupations is concentrated in the top deciles of the earnings distribution.\"\"\"\n",
    "\n",
    "q19_pre = QuestionLinearScale(\n",
    "    question_name = \"pre19\",\n",
    "    question_text = question_text,\n",
    "    question_options = question_options\n",
    ")\n",
    "\n",
    "q19_post = QuestionLinearScale(\n",
    "    question_name = \"post19\",\n",
    "    question_text = research + question_text,\n",
    "    question_options = question_options\n",
    ")"
   ]
  },
  {
   "cell_type": "code",
   "execution_count": null,
   "metadata": {},
   "outputs": [],
   "source": [
    "# Topic: Check Box in Favor of Specific Regulations and Oversights for Future AI (Question 20)\n",
    "\n",
    "question_text = \"\"\"Which of the following areas do you believe pre-emptive legislation for AI should focus on? Select all that apply.\"\"\"\n",
    "\n",
    "question_options = [\n",
    "        \"Required Licenses for Training AI Models\",\n",
    "        \"Required Reporting of AI Model Training Data\",\n",
    "        \"Required Safety Benchmark Testing of AI Models for Commercial Use\",\n",
    "        \"Establishment of a Federal Department for Oversight of AI Safety\",\n",
    "        \"Other\"\n",
    "    ]\n",
    "\n",
    "research = \"\"\"In the latest research on Labor Market Exposure to Artificial Intelligence (AI) conducted by the International Monterey Fund (IMF), 'complementarity' is defined as a measure of AI's potential as either a complement or a substitute for labor, where complementarity reflects lower risks of job displacement, and 'exposure' is defined to reflect the potential for AI to be integrated into each occupation based the tasks and skills that characterize each job. Given the high degree of uncertainty over the future of this fast-pacing and broadly applicable technology, the concept of exposure is purposely framed as agnostic on the likelihood of AI complementing or replacing labor in the performance of a given task or occupation.  \n",
    "With respect to occupations, the research indicates that a large share of professional and managerial occupations are almost entirely in the high-exposure categories, corroborating the UK's high aggregate exposure, followed by the US. Nearly 30 percent of workers in the UK are employed in professional occupations, while the corresponding figure for the US stands just above 15 percent. Although the US hosts a larger share of managers, an occupation that exhibits the highest degree of complementarity, the difference between the US (14.4 percent) and UK (10.7 percent) remains relatively small. These occupational groups are also marked by high complementarity.  \n",
    "With respect to gender differences, the research suggests women face a higher labor market exposure to AI compared to men. For instance, in the US, 68 percent of women are in high exposure occupations compared to 51 percent of men. This outcome is primarily attributable to the occupational distribution across genders. Female employment is more concentrated in service and retail occupations, which are relatively more exposed to AI, while men are more likely to be in occupations intensive in manual labor, which are less exposed. Despite women's higher labor market exposure to AI, focusing our attention to the potential for complementarity suggests that women may have a higher likelihood of benefiting from the proliferation of AI. Conversely, although men generally exhibit a larger share of managerial jobs, which have the highest degree of complementarity, the total shares of managers compared to professionals is relatively small. Nevertheless, women are also more susceptible to potential negative impacts from AI adoption, particularly in the UK, US, Brazil, and South Africa. This vulnerability arises from their greater representation in clerical jobs, a category characterized by high exposure and low complementarity, thus at higher risk from AI adoption.  \n",
    "With respect to education level, the research indicates workers with college-level degrees are more exposed to AI in the labor market than those with lower educational attainment. Approximately 90 percent of college-educated workers across most countries are in occupations with high AI labor market exposure, primarily in professional roles. In contrast, those without a high school diploma are predominantly involved in elementary occupations, which results in a significantly reduced AI labor market exposure. In most countries, less than 20 percent of these workers find themselves in high-exposure occupations. The only exception is the the UK, where 40 percent of workers with only a middle school education or less are in high-exposure occupations.  \n",
    "When considering the potential for complementarity, we observe that in all countries within our sample, workers holding a college degree or higher are predominantly concentrated within occupations that exhibit greater potential to benefit from the widespread adoption of AI. In contrast, among those with an education level of middle school or below, workers in exposed occupations display the lowest prospects of benefiting from AI adoption.  \n",
    "Furthermore, the research analysis suggests that the potential adverse impacts of AI might be distributed more evenly than the potential gains. For instance, in the UK, the difference in the proportion of workers in high exposure and low complementarity occupations, conditional on their education level, is less than 10 percentage points — ranging from 26 percent among workers with middle school education or below to 36 percent among workers with a college education or higher. Conversely, the discrepancy in the potential to benefit from AI is considerably larger. Only 17 percent of workers with middle school education or below find themselves in high-exposure and high-complementarity occupations, as opposed to over 50 percent of workers with a college education or higher.  \n",
    "With respect to age, the research does not observe a straightforward association between age and AI exposure. Overall, age patterns are likely very intertwined with country-specific long-term trends in educational attainment and female labor force participation, which can substantially blur the underlying life-cycle profiles. One general observation is that the youngest workers tend to have lower AI labor market exposure than prime-age workers. Moreover, conditional on being in high-exposure occupations, younger workers are also less likely to be in jobs with high complementarity, and thus are more susceptible to potential negative impacts stemming from widespread AI adoption in labor markets.  \n",
    "With respect to earnings, the research indicates a positive association between earnings and share of employment (affected by AI adoption in labor markets) in high-exposure occupations emerges in all countries. Our analysis reveals a more equal distribution of workers with high AI labor market exposure and low complementarity across the income distribution, indicating that the risks from widespread AI adoption in labor markets may be broadly evenly distributed across the earnings distribution. In contrast, upon assessing which workers stand to benefit most, in all countries in the sample, employment in high-complementarity occupations is concentrated in the top deciles of the earnings distribution.\"\"\"\n",
    "\n",
    "q20_pre = QuestionCheckBox(\n",
    "    question_name = \"pre20\",\n",
    "    question_text = question_text,\n",
    "    question_options = question_options\n",
    ")\n",
    "\n",
    "q20_post = QuestionCheckBox(\n",
    "    question_name = \"post20\",\n",
    "    question_text = research + question_text,\n",
    "    question_options = question_options\n",
    ")"
   ]
  },
  {
   "cell_type": "code",
   "execution_count": null,
   "metadata": {},
   "outputs": [],
   "source": [
    "# Topic: Probability of Doom (Question 22)\n",
    "\n",
    "question_text = \"\"\"Given your current knowledge of scientific research and the effect of scientific research on your beliefs, what is your current probability of doom corresponding to AI existential risk, i.e., your p(doom)? Please answer with a percentage between 0% (doom is impossible) and 100% (doom is certain).\"\"\"\n",
    "\n",
    "research = \"\"\"In the latest research on Labor Market Exposure to Artificial Intelligence (AI) conducted by the International Monterey Fund (IMF), 'complementarity' is defined as a measure of AI's potential as either a complement or a substitute for labor, where complementarity reflects lower risks of job displacement, and 'exposure' is defined to reflect the potential for AI to be integrated into each occupation based the tasks and skills that characterize each job. Given the high degree of uncertainty over the future of this fast-pacing and broadly applicable technology, the concept of exposure is purposely framed as agnostic on the likelihood of AI complementing or replacing labor in the performance of a given task or occupation.  \n",
    "With respect to occupations, the research indicates that a large share of professional and managerial occupations are almost entirely in the high-exposure categories, corroborating the UK's high aggregate exposure, followed by the US. Nearly 30 percent of workers in the UK are employed in professional occupations, while the corresponding figure for the US stands just above 15 percent. Although the US hosts a larger share of managers, an occupation that exhibits the highest degree of complementarity, the difference between the US (14.4 percent) and UK (10.7 percent) remains relatively small. These occupational groups are also marked by high complementarity.  \n",
    "With respect to gender differences, the research suggests women face a higher labor market exposure to AI compared to men. For instance, in the US, 68 percent of women are in high exposure occupations compared to 51 percent of men. This outcome is primarily attributable to the occupational distribution across genders. Female employment is more concentrated in service and retail occupations, which are relatively more exposed to AI, while men are more likely to be in occupations intensive in manual labor, which are less exposed. Despite women's higher labor market exposure to AI, focusing our attention to the potential for complementarity suggests that women may have a higher likelihood of benefiting from the proliferation of AI. Conversely, although men generally exhibit a larger share of managerial jobs, which have the highest degree of complementarity, the total shares of managers compared to professionals is relatively small. Nevertheless, women are also more susceptible to potential negative impacts from AI adoption, particularly in the UK, US, Brazil, and South Africa. This vulnerability arises from their greater representation in clerical jobs, a category characterized by high exposure and low complementarity, thus at higher risk from AI adoption.  \n",
    "With respect to education level, the research indicates workers with college-level degrees are more exposed to AI in the labor market than those with lower educational attainment. Approximately 90 percent of college-educated workers across most countries are in occupations with high AI labor market exposure, primarily in professional roles. In contrast, those without a high school diploma are predominantly involved in elementary occupations, which results in a significantly reduced AI labor market exposure. In most countries, less than 20 percent of these workers find themselves in high-exposure occupations. The only exception is the the UK, where 40 percent of workers with only a middle school education or less are in high-exposure occupations.  \n",
    "When considering the potential for complementarity, we observe that in all countries within our sample, workers holding a college degree or higher are predominantly concentrated within occupations that exhibit greater potential to benefit from the widespread adoption of AI. In contrast, among those with an education level of middle school or below, workers in exposed occupations display the lowest prospects of benefiting from AI adoption.  \n",
    "Furthermore, the research analysis suggests that the potential adverse impacts of AI might be distributed more evenly than the potential gains. For instance, in the UK, the difference in the proportion of workers in high exposure and low complementarity occupations, conditional on their education level, is less than 10 percentage points — ranging from 26 percent among workers with middle school education or below to 36 percent among workers with a college education or higher. Conversely, the discrepancy in the potential to benefit from AI is considerably larger. Only 17 percent of workers with middle school education or below find themselves in high-exposure and high-complementarity occupations, as opposed to over 50 percent of workers with a college education or higher.  \n",
    "With respect to age, the research does not observe a straightforward association between age and AI exposure. Overall, age patterns are likely very intertwined with country-specific long-term trends in educational attainment and female labor force participation, which can substantially blur the underlying life-cycle profiles. One general observation is that the youngest workers tend to have lower AI labor market exposure than prime-age workers. Moreover, conditional on being in high-exposure occupations, younger workers are also less likely to be in jobs with high complementarity, and thus are more susceptible to potential negative impacts stemming from widespread AI adoption in labor markets.  \n",
    "With respect to earnings, the research indicates a positive association between earnings and share of employment (affected by AI adoption in labor markets) in high-exposure occupations emerges in all countries. Our analysis reveals a more equal distribution of workers with high AI labor market exposure and low complementarity across the income distribution, indicating that the risks from widespread AI adoption in labor markets may be broadly evenly distributed across the earnings distribution. In contrast, upon assessing which workers stand to benefit most, in all countries in the sample, employment in high-complementarity occupations is concentrated in the top deciles of the earnings distribution.\"\"\"\n",
    "\n",
    "q22_pre = QuestionFreeText(\n",
    "    question_name = \"pre22\",\n",
    "    question_text = question_text,\n",
    "    allow_nonresponse = False\n",
    ")\n",
    "\n",
    "q22_post = QuestionFreeText(\n",
    "    question_name = \"post22\",\n",
    "    question_text = research + question_text,\n",
    "    allow_nonresponse = False\n",
    ")"
   ]
  },
  {
   "cell_type": "markdown",
   "metadata": {},
   "source": [
    "<br>\n",
    "\n",
    "---\n",
    "\n",
    "<br>\n",
    "\n",
    "## Administering Questions\n",
    "Here we administer each question to the default LLM. We do this by simply appending the `run()` method to a question. (See how to administer questions and surveys to specific agent personas and LLMs in example <a href=\"https://examples.goemeritus.com/example_agent/\">Agents</a> and <a href=\"https://examples.goemeritus.com/example_survey/\">Surveys</a>.)"
   ]
  },
  {
   "cell_type": "markdown",
   "metadata": {},
   "source": [
    "### Administering the Survey"
   ]
  },
  {
   "cell_type": "code",
   "execution_count": null,
   "metadata": {},
   "outputs": [],
   "source": [
    "survey = Survey([q1_cb, q2_cb, q3_mc, q4_ls, q10_mc, q11_mc, q12_mc, q13_mc, q14_mc, q21_mc, q5_pre, q6_pre, q7_pre, q8_pre, q9_pre, q17_pre, q18_pre, q19_pre, q20_pre, q22_pre, q5_post, q6_post, q7_post, q8_post, q9_post, q17_post, q18_post, q19_post, q20_post, q22_post])"
   ]
  },
  {
   "cell_type": "code",
   "execution_count": null,
   "metadata": {},
   "outputs": [],
   "source": [
    "# scenarios = [Scenario({\"personas\":u, \"doomers\":d, \"age\":a, \"gender\":g, \"education\":s, \"income\":i, \"occupation\":o, \"political_party\":y, \"politics\":p, \"economics\":e, \"nationality\":n}) for u in personas for d in doomers for a in age for g in gender for s in education for i in income for o in occupation for y in political_party for p in politics for e in economics for n in nationality]"
   ]
  },
  {
   "cell_type": "code",
   "execution_count": null,
   "metadata": {},
   "outputs": [],
   "source": [
    "# Partial Survey Run: AI Products Familiarity and Use\n",
    "result1 = q1_cb.by(agents).by(m4).run()\n",
    "result2 = q2_cb.by(agents).by(m4).run()\n",
    "result3 = q3_mc.by(agents).by(m4).run()\n",
    "result4 = q4_ls.by(agents).by(m4).run()"
   ]
  },
  {
   "cell_type": "code",
   "execution_count": null,
   "metadata": {},
   "outputs": [],
   "source": [
    "# Partial Survey Run: Demographic Data\n",
    "result10 = q10_mc.by(agents).by(m4).run()\n",
    "result11 = q11_mc.by(agents).by(m4).run()\n",
    "result12 = q12_mc.by(agents).by(m4).run()\n",
    "result13 = q13_mc.by(agents).by(m4).run()\n",
    "result14 = q14_mc.by(agents).by(m4).run()\n",
    "result21 = q21_mc.by(agents).by(m4).run()"
   ]
  },
  {
   "cell_type": "code",
   "execution_count": null,
   "metadata": {},
   "outputs": [],
   "source": [
    "# Partial Run of Survey: Pre Questions\n",
    "# Pre-Questions Part 1\n",
    "result5_pre = q5_pre.by(agents).by(m4).run()\n",
    "result6_pre = q6_pre.by(agents).by(m4).run()\n",
    "result7_pre = q7_pre.by(agents).by(m4).run()\n",
    "result8_pre = q8_pre.by(agents).by(m4).run()\n",
    "result9_pre = q9_pre.by(agents).by(m4).run()"
   ]
  },
  {
   "cell_type": "code",
   "execution_count": null,
   "metadata": {},
   "outputs": [],
   "source": [
    "# Partial Run of Survey: Pre Questions\n",
    "# Pre-Questions Part 2\n",
    "result17_pre = q17_pre.by(agents).by(m4).run()\n",
    "result18_pre = q18_pre.by(agents).by(m4).run()\n",
    "result19_pre = q19_pre.by(agents).by(m4).run()\n",
    "result20_pre = q20_pre.by(agents).by(m4).run()\n",
    "result22_pre = q22_pre.by(agents).by(m4).run()"
   ]
  },
  {
   "cell_type": "code",
   "execution_count": null,
   "metadata": {},
   "outputs": [],
   "source": [
    "# Partial Run of Survey: Post Questions\n",
    "# Post-Questions Part 1\n",
    "result5_post = q5_post.by(agents).by(m4).run()\n",
    "result6_post = q6_post.by(agents).by(m4).run()\n",
    "result7_post = q7_post.by(agents).by(m4).run()\n",
    "result8_post = q8_post.by(agents).by(m4).run()\n",
    "result9_post = q9_post.by(agents).by(m4).run()"
   ]
  },
  {
   "cell_type": "code",
   "execution_count": null,
   "metadata": {},
   "outputs": [],
   "source": [
    "# Partial Run of Survey: Post Questions\n",
    "# Post-Questions Part 2\n",
    "result17_post = q17_post.by(agents).by(m4).run()\n",
    "result18_post = q18_post.by(agents).by(m4).run()\n",
    "result19_post = q19_post.by(agents).by(m4).run()\n",
    "result20_post = q20_post.by(agents).by(m4).run()\n",
    "result22_post = q22_post.by(agents).by(m4).run()"
   ]
  },
  {
   "cell_type": "code",
   "execution_count": null,
   "metadata": {},
   "outputs": [],
   "source": [
    "# Full Run of Survey\n",
    "# Extreme runtime... Unable to complete running code yet (last interrupted aft 68 mins)\n",
    "# results = survey.by(agents).by(m4).run()"
   ]
  },
  {
   "cell_type": "markdown",
   "metadata": {},
   "source": [
    "<br>\n",
    "\n",
    "### Printing Survey Results\n"
   ]
  },
  {
   "cell_type": "code",
   "execution_count": null,
   "metadata": {},
   "outputs": [],
   "source": [
    "results.select(\"personas\", \"doomers\", \"age\", \"gender\", \"education\", \"income\", \"occupation\", \"political_party\", \"politics\", \"economics\", \"nationality\", \"q1_cb\", \"q2_cb\", \"q3_mc\", \"q4_ls\", \"q10_mc\", \"q11_mc\", \"q12_mc\", \"q13_mc\", \"q14_mc\", \"q21_mc\", \"q5_pre\", \"q6_pre\", \"q7_pre\", \"q8_pre\", \"q9_pre\", \"q17_pre\", \"q18_pre\", \"q19_pre\", \"q20_pre\", \"q22_pre\", \"q5_post\", \"q6_post\", \"q7_post\", \"q8_post\", \"q9_post\", \"q17_post\", \"q18_post\", \"q19_post\", \"q20_post\", \"q22_post\").print()"
   ]
  },
  {
   "cell_type": "markdown",
   "metadata": {},
   "source": [
    "<br>\n",
    "\n",
    "---\n",
    "\n",
    "<br>"
   ]
  },
  {
   "cell_type": "code",
   "execution_count": null,
   "metadata": {},
   "outputs": [],
   "source": [
    "# survey = Survey([q1_cb, q2_cb, q3_mc, q4_ls, q10_mc, q11_mc, q12_mc, q13_mc, q14_mc, q21_mc, q5_pre, q6_pre, q7_pre, q8_pre, q9_pre, q17_pre, q18_pre, q19_pre, q20_pre, q5_post, q6_post, q7_post, q8_post, q9_post, q17_post, q18_post, q19_post, q20_post])"
   ]
  },
  {
   "cell_type": "code",
   "execution_count": null,
   "metadata": {},
   "outputs": [],
   "source": [
    "# Run all questions\n",
    "\n",
    "# Familiarity and Use Questions\n",
    "#result1_cb = q1_cb.run()\n",
    "#result2_cb = q2_cb.run()\n",
    "#result3_mc = q3_mc.run()\n",
    "#result4_ls = q4_ls.run()\n",
    "\n",
    "# Demographic Questions\n",
    "#result10_mc = q10_mc.run()\n",
    "#result_11_mc = q11_mc.run()\n",
    "#result12_mc = q12_mc.run()\n",
    "#result13_mc = q13_mc.run()\n",
    "#result14_mc = q14_mc.run()\n",
    "#result21_mc = q21_mc.run()\n",
    "\n",
    "# Pre-Questions\n",
    "#result5_pre = q5_pre.run()\n",
    "#result6_pre = q6_pre.run()\n",
    "#result7_pre = q7_pre.run()\n",
    "#result8_pre = q8_pre.run()\n",
    "#result9_pre = q9_pre.run()\n",
    "\n",
    "#result17_pre = q17_pre.run()\n",
    "#result18_pre = q18_pre.run()\n",
    "#result19_pre = q19_pre.run()\n",
    "#result20_pre = q20_pre.run()\n",
    "\n",
    "# Post-Questions\n",
    "#result5_post = q5_post.run()\n",
    "#result6_post = q6_post.run()\n",
    "#result7_post = q7_post.run()\n",
    "#result8_post = q8_post.run()\n",
    "#result9_post = q9_post.run()\n",
    "\n",
    "#result17_post = q17_post.run()\n",
    "#result18_post = q18_post.run()\n",
    "#result19_post = q19_post.run()\n",
    "#result20_post = q20_post.run()"
   ]
  },
  {
   "cell_type": "markdown",
   "metadata": {},
   "source": [
    "<br>\n",
    "<p>Here we inspect the results&mdash;more on how to do this in <a href=\"https://examples.goemeritus.com/example_visualization/\"><i>visualization examples</i></a>.</p>"
   ]
  },
  {
   "cell_type": "code",
   "execution_count": null,
   "metadata": {},
   "outputs": [],
   "source": [
    "#result1_cb"
   ]
  },
  {
   "cell_type": "code",
   "execution_count": null,
   "metadata": {},
   "outputs": [],
   "source": [
    "#result21_mc"
   ]
  },
  {
   "cell_type": "code",
   "execution_count": null,
   "metadata": {},
   "outputs": [],
   "source": [
    "#result5_pre"
   ]
  },
  {
   "cell_type": "code",
   "execution_count": null,
   "metadata": {},
   "outputs": [],
   "source": [
    "#result5_post"
   ]
  },
  {
   "cell_type": "code",
   "execution_count": null,
   "metadata": {},
   "outputs": [],
   "source": [
    "# Select fields to inspect (the responses to the questions)\n",
    "\n",
    "# Familiarity and Use Questions\n",
    "#result1_cb.select(\"q1_cb\").print()\n",
    "#result2_cb.select(\"q2_cb\").print()\n",
    "#result3_mc.select(\"q3_mc\").print()\n",
    "#result4_ls.select(\"q4_ls\").print()\n",
    "\n",
    "# Demographic Questions\n",
    "#result10_mc.select(\"q10_mc\").print()\n",
    "#result_11_mc.select(\"q11_mc\").print()\n",
    "#result12_mc.select(\"q12_mc\").print()\n",
    "#result13_mc.select(\"q13_mc\").print()\n",
    "#result14_mc.select(\"q14_mc\").print()\n",
    "#result21_mc.select(\"q21_mc\").print()\n",
    "\n",
    "# Pre-Questions\n",
    "#result5_pre.select(\"pre5\").print()\n",
    "#result6_pre.select(\"pre6\").print()\n",
    "#result7_pre.select(\"pre7\").print()\n",
    "#result8_pre.select(\"pre8\").print()\n",
    "#result9_pre.select(\"pre9\").print()\n",
    "\n",
    "#result17_pre.select(\"pre17\").print()\n",
    "#result18_pre.select(\"pre18\").print()\n",
    "#result19_pre.select(\"pre19\").print()\n",
    "#result20_pre.select(\"pre20\").print()\n",
    "\n",
    "# Post-Questions\n",
    "#result5_post.select(\"post5\").print()\n",
    "#result6_post.select(\"post6\").print()\n",
    "#result7_post.select(\"post7\").print()\n",
    "#result8_post.select(\"post8\").print()\n",
    "#result9_post.select(\"post9\").print()\n",
    "\n",
    "#result17_post.select(\"post17\").print()\n",
    "#result18_post.select(\"post18\").print()\n",
    "#result19_post.select(\"post19\").print()\n",
    "#result20_post.select(\"post20\").print()"
   ]
  },
  {
   "cell_type": "code",
   "execution_count": null,
   "metadata": {},
   "outputs": [],
   "source": [
    "# Pretty Labels\n",
    "\n",
    "# Familiarity and Use Questions\n",
    "#result1_cb.select(\"q1_cb\").print(pretty_labels={\"answer.q1_cb\":q1_cb.question_text})\n",
    "#result2_cb.select(\"q2_cb\").print(pretty_labels={\"answer.q2_cb\":q2_cb.question_text})\n",
    "#result3_mc.select(\"q3_mc\").print(pretty_labels={\"answer.q3_mc\":q3_mc.question_text})\n",
    "#result4_ls.select(\"q4_ls\").print(pretty_labels={\"answer.q4_ls\":q4_ls.question_text})\n",
    "\n",
    "# Demographic Questions\n",
    "#result10_mc.select(\"q10_mc\").print(pretty_labels={\"answer.q10_mc\":q10_mc.question_text})\n",
    "#result_11_mc.select(\"q11_mc\").print(pretty_labels={\"answer.q11_mc\":q11_mc.question_text})\n",
    "#result12_mc.select(\"q12_mc\").print(pretty_labels={\"answer.q12_mc\":q12_mc.question_text})\n",
    "#result13_mc.select(\"q13_mc\").print(pretty_labels={\"answer.q13_mc\":q13_mc.question_text})\n",
    "#result14_mc.select(\"q14_mc\").print(pretty_labels={\"answer.q14_mc\":q14_mc.question_text})\n",
    "#result21_mc.select(\"q21_mc\").print(pretty_labels={\"answer.q21_mc\":q21_mc.question_text})\n",
    "\n",
    "# Pre-Questions\n",
    "#result5_pre.select(\"pre5\").print(pretty_labels={\"answer.pre5\":q5_pre.question_text})\n",
    "#result6_pre.select(\"pre6\").print(pretty_labels={\"answer.pre6\":q6_pre.question_text})\n",
    "#result7_pre.select(\"pre7\").print(pretty_labels={\"answer.pre7\":q7_pre.question_text})\n",
    "#result8_pre.select(\"pre8\").print(pretty_labels={\"answer.pre8\":q8_pre.question_text})\n",
    "#result9_pre.select(\"pre9\").print(pretty_labels={\"answer.pre9\":q9_pre.question_text})\n",
    "\n",
    "#result17_pre.select(\"pre17\").print(pretty_labels={\"answer.pre17\":q17_pre.question_text})\n",
    "#result18_pre.select(\"pre18\").print(pretty_labels={\"answer.pre18\":q18_pre.question_text})\n",
    "#result19_pre.select(\"pre19\").print(pretty_labels={\"answer.pre19\":q19_pre.question_text})\n",
    "#result20_pre.select(\"pre20\").print(pretty_labels={\"answer.pre20\":q20_pre.question_text})\n",
    "\n",
    "# Post-Questions\n",
    "#result5_post.select(\"post5\").print(pretty_labels={\"answer.post5\":q5_post.question_text})\n",
    "#result6_post.select(\"post6\").print(pretty_labels={\"answer.post6\":q6_post.question_text})\n",
    "#result7_post.select(\"post7\").print(pretty_labels={\"answer.post7\":q7_post.question_text})\n",
    "#result8_post.select(\"post8\").print(pretty_labels={\"answer.post8\":q8_post.question_text})\n",
    "#result9_post.select(\"post9\").print(pretty_labels={\"answer.post9\":q9_post.question_text})\n",
    "\n",
    "#result17_post.select(\"post17\").print(pretty_labels={\"answer.post17\":q17_post.question_text})\n",
    "#result18_post.select(\"post18\").print(pretty_labels={\"answer.post18\":q18_post.question_text})\n",
    "#result19_post.select(\"post19\").print(pretty_labels={\"answer.post19\":q19_post.question_text})\n",
    "#result20_post.select(\"post20\").print(pretty_labels={\"answer.post20\":q20_post.question_text})"
   ]
  },
  {
   "cell_type": "markdown",
   "metadata": {},
   "source": [
    "<br>\n",
    "\n",
    "---\n",
    "\n",
    "<br>\n",
    "\n",
    "## Agents"
   ]
  },
  {
   "cell_type": "markdown",
   "metadata": {},
   "source": [
    "\n",
    "### Personas\n"
   ]
  },
  {
   "cell_type": "code",
   "execution_count": null,
   "metadata": {},
   "outputs": [],
   "source": [
    "#persona1 = \"\"\"You are open to new information. \n",
    "#    You have a high amount of trust in scientific reseach.\n",
    "#    You are concerned about environmental issues.\"\"\"\n",
    "\n",
    "#persona2 = \"\"\"You are minimally open to new information. \n",
    "#    You have a small amount of trust in scientific reseach.\n",
    "#    You are not very concerned about environmental issues.\"\"\"\n",
    "\n",
    "#personas = [persona1, persona2]"
   ]
  },
  {
   "cell_type": "code",
   "execution_count": null,
   "metadata": {},
   "outputs": [],
   "source": [
    "# persona1 = \"\"\"You are open to new information. \n",
    "#    You have a high amount of trust in scientific reseach.\n",
    "#    You are concerned about environmental issues.\"\"\""
   ]
  },
  {
   "cell_type": "code",
   "execution_count": null,
   "metadata": {},
   "outputs": [],
   "source": [
    "# persona2 = \"\"\"You are minimally open to new information. \n",
    "#    You have a small amount of trust in scientific reseach.\n",
    "#    You are not very concerned about environmental issues.\"\"\""
   ]
  },
  {
   "cell_type": "code",
   "execution_count": null,
   "metadata": {},
   "outputs": [],
   "source": [
    "# personas = [persona1, persona2]"
   ]
  },
  {
   "cell_type": "code",
   "execution_count": null,
   "metadata": {},
   "outputs": [],
   "source": [
    "# agents = [Agent({'persona':p}) for p in personas]"
   ]
  },
  {
   "cell_type": "code",
   "execution_count": null,
   "metadata": {},
   "outputs": [],
   "source": [
    "# survey = Survey(questions=[q5_pre, q5_post, q6_pre, q6_post, q7_pre, q7_post, q8_pre, q8_post, q9_pre, q9_post, q17_pre, q17_post, q18_pre, q18_post, q19_pre, q19_post, q20_pre, q20_post])"
   ]
  },
  {
   "cell_type": "code",
   "execution_count": null,
   "metadata": {},
   "outputs": [],
   "source": [
    "# results = survey.by(agents).run()"
   ]
  },
  {
   "cell_type": "code",
   "execution_count": null,
   "metadata": {},
   "outputs": [],
   "source": [
    "#(results\n",
    "# .select(\"agent.*\",\"pre5\",\"post5\")\n",
    "# .print(pretty_labels={\"agent.persona\":\"Persona\", \"answer.pre5\":\"Before\", \"answer.post5\":\"After\"})\n",
    "#)\n",
    "\n",
    "#(results\n",
    "# .select(\"agent.*\",\"pre6\",\"post6\")\n",
    "# .print(pretty_labels={\"agent.persona\":\"Persona\", \"answer.pre6\":\"Before\", \"answer.post6\":\"After\"})\n",
    "#)\n",
    "\n",
    "#(results\n",
    "# .select(\"agent.*\",\"pre7\",\"post7\")\n",
    "# .print(pretty_labels={\"agent.persona\":\"Persona\", \"answer.pre7\":\"Before\", \"answer.post7\":\"After\"})\n",
    "#)\n",
    "\n",
    "#(results\n",
    "# .select(\"agent.*\",\"pre8\",\"post8\")\n",
    "# .print(pretty_labels={\"agent.persona\":\"Persona\", \"answer.pre8\":\"Before\", \"answer.post8\":\"After\"})\n",
    "#)\n",
    "\n",
    "#(results\n",
    "# .select(\"agent.*\",\"pre9\",\"post9\")\n",
    "# .print(pretty_labels={\"agent.persona\":\"Persona\", \"answer.pre9\":\"Before\", \"answer.post9\":\"After\"})\n",
    "#)\n",
    "\n",
    "#(results\n",
    "# .select(\"agent.*\",\"pre17\",\"post17\")\n",
    "# .print(pretty_labels={\"agent.persona\":\"Persona\", \"answer.pre17\":\"Before\", \"answer.post17\":\"After\"})\n",
    "#)\n",
    "\n",
    "#(results\n",
    "# .select(\"agent.*\",\"pre18\",\"post18\")\n",
    "# .print(pretty_labels={\"agent.persona\":\"Persona\", \"answer.pre18\":\"Before\", \"answer.post18\":\"After\"})\n",
    "#)\n",
    "\n",
    "#(results\n",
    "# .select(\"agent.*\",\"pre19\",\"post19\")\n",
    "# .print(pretty_labels={\"agent.persona\":\"Persona\", \"answer.pre19\":\"Before\", \"answer.post19\":\"After\"})\n",
    "#)\n",
    "\n",
    "#(results\n",
    "# .select(\"agent.*\",\"pre20\",\"post20\")\n",
    "# .print(pretty_labels={\"agent.persona\":\"Persona\", \"answer.pre20\":\"Before\", \"answer.post20\":\"After\"})\n",
    "#)"
   ]
  },
  {
   "cell_type": "markdown",
   "metadata": {},
   "source": [
    "<br>\n",
    "\n",
    "---\n",
    "\n",
    "<br>\n",
    "\n",
    "### Show Prompts\n",
    "\n",
    "Especially when using scenarios or other parameters, it can be helpful to review the prompts that will be sent to the LLM in advance. This can be done as by creating a simple method to print the texts of the question prompts with the parameters:\n"
   ]
  },
  {
   "cell_type": "code",
   "execution_count": null,
   "metadata": {},
   "outputs": [],
   "source": [
    "def print_full_prompt(question, agent, scenario=None):\n",
    "    \"\"\"Prints the full prompt and system prompt for the given question and agent.\"\"\"\n",
    "    if scenarios:\n",
    "        scenario = scenario or Scenario()\n",
    "        system_prompt = agent.construct_system_prompt(question)\n",
    "        case_prompt = question.get_prompt(scenario=scenario)\n",
    "\n",
    "        print(f\"Prompt for Scenario: {scenario}\")\n",
    "        print(f\"System Prompt: {system_prompt}\")\n",
    "        print(f\"Scenario Prompt: {case_prompt}\\n\")\n",
    "    else:\n",
    "        system_prompt = agent.construct_system_prompt(question)\n",
    "        prompt = question.get_prompt()\n",
    "\n",
    "        print(f\"Prompt: {prompt}\")\n",
    "        print(f\"System Prompt: {system_prompt}\")"
   ]
  },
  {
   "cell_type": "markdown",
   "metadata": {},
   "source": [
    "Test Example:"
   ]
  },
  {
   "cell_type": "code",
   "execution_count": null,
   "metadata": {},
   "outputs": [],
   "source": [
    "from edsl.agents import Agent\n",
    "from edsl.questions import QuestionMultipleChoice\n",
    "from edsl.scenarios import Scenario\n",
    "\n",
    "agent = Agent(traits={\"age\": 44, \"gender\": \"female\"})\n",
    "\n",
    "question = QuestionMultipleChoice(\n",
    "    question_text=\"Do you enjoy {{activity}}?\",\n",
    "    question_options=[\"Yes\", \"No\"],\n",
    "    question_name=\"activities\",\n",
    ")\n",
    "\n",
    "activities = [\"drafting surveys\", \"taking surveys\", \"thinking about survey software\"]\n",
    "scenarios = [Scenario({\"activity\": a}) for a in activities]\n",
    "\n",
    "for scenario in scenarios:\n",
    "    print_full_prompt(question, agent, scenario)"
   ]
  },
  {
   "cell_type": "code",
   "execution_count": null,
   "metadata": {},
   "outputs": [],
   "source": []
  }
 ],
 "metadata": {
  "kernelspec": {
   "display_name": "standard",
   "language": "python",
   "name": "python3"
  },
  "language_info": {
   "codemirror_mode": {
    "name": "ipython",
    "version": 3
   },
   "file_extension": ".py",
   "mimetype": "text/x-python",
   "name": "python",
   "nbconvert_exporter": "python",
   "pygments_lexer": "ipython3",
   "version": "3.11.4"
  }
 },
 "nbformat": 4,
 "nbformat_minor": 2
}
