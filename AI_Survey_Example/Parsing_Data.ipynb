{
 "cells": [
  {
   "cell_type": "markdown",
   "metadata": {},
   "source": [
    "# Agents"
   ]
  },
  {
   "cell_type": "code",
   "execution_count": 1,
   "metadata": {},
   "outputs": [
    {
     "name": "stdout",
     "output_type": "stream",
     "text": [
      "==================================================\n",
      "Please provide your OpenAI API key (https://platform.openai.com/api-keys).\n",
      "If you would like to skip this step, press enter.\n",
      "If you would like to provide your key, do one of the following:\n",
      "1. Set it as a regular environment variable\n",
      "2. Create a .env file and add `OPENAI_API_KEY=...` to it\n",
      "3. Enter the value below and press enter: \n",
      "Environment variable OPENAI_API_KEY set successfully to sk***********************************************TM.\n",
      "==================================================\n",
      "\n",
      "\n",
      "==================================================\n",
      "Please provide your Google API key (https://console.cloud.google.com/apis/credentials).\n",
      "If you would like to skip this step, press enter.\n",
      "If you would like to provide your key, do one of the following:\n",
      "1. Set it as a regular environment variable\n",
      "2. Create a .env file and add `GOOGLE_API_KEY=...` to it\n",
      "3. Enter the value below and press enter: \n",
      "Environment variable GOOGLE_API_KEY set successfully to AI***********************************nU.\n",
      "==================================================\n",
      "\n",
      "\n",
      "==================================================\n",
      "Please provide your DeepInfra API key (https://deepinfra.com/).\n",
      "If you would like to skip this step, press enter.\n",
      "If you would like to provide your key, do one of the following:\n",
      "1. Set it as a regular environment variable\n",
      "2. Create a .env file and add `DEEP_INFRA_API_KEY=...` to it\n",
      "3. Enter the value below and press enter: \n",
      "Environment variable DEEP_INFRA_API_KEY set successfully to FJ****************************9h.\n",
      "==================================================\n",
      "\n",
      "\n"
     ]
    }
   ],
   "source": [
    "from edsl.questions import QuestionMultipleChoice, QuestionCheckBox, QuestionFreeText, QuestionList, QuestionBudget\n",
    "from edsl.questions.derived.QuestionYesNo import QuestionYesNo\n",
    "from edsl.questions.derived.QuestionLinearScale import QuestionLinearScale"
   ]
  },
  {
   "cell_type": "code",
   "execution_count": 2,
   "metadata": {},
   "outputs": [],
   "source": [
    "from edsl.agents import Agent\n",
    "from edsl.scenarios import Scenario\n",
    "from edsl.surveys import Survey\n",
    "from edsl.language_models import LanguageModelOpenAIFour, LanguageModelOpenAIThreeFiveTurbo\n",
    "m35 = LanguageModelOpenAIThreeFiveTurbo()\n",
    "m4 = LanguageModelOpenAIFour()"
   ]
  },
  {
   "cell_type": "code",
   "execution_count": 3,
   "metadata": {},
   "outputs": [],
   "source": [
    "import random\n",
    "import pandas as pd\n",
    "import numpy as np"
   ]
  },
  {
   "cell_type": "markdown",
   "metadata": {},
   "source": [
    "## Agent Traits"
   ]
  },
  {
   "cell_type": "code",
   "execution_count": 4,
   "metadata": {},
   "outputs": [],
   "source": [
    "persona1 = \"You are open to new information. You have a high amount of trust in scientific research. You are concerned about AI risks.\"\n",
    "\n",
    "persona2 = \"You are minimally open to new information. You have a small amount of trust in scientific research. You are not very concerned about AI risks.\"\n",
    "\n",
    "personas = [persona1, persona2]"
   ]
  },
  {
   "cell_type": "code",
   "execution_count": 5,
   "metadata": {},
   "outputs": [],
   "source": [
    "doomer1 = \"You are extremely pessimistic about AI. You believe that AI will definitely destroy humanity. Your beliefs are not based on scientific research. You believe the probability of AI destroying humanity is 100% (i.e., your p(doom) = 100%).\"\n",
    "\n",
    "doomer2 = \"You are somewhat pessimistic about AI. You believe that AI will likely destroy humanity. Your beliefs are not based on scientific research. You believe the probability of AI destroying humanity is 75% (i.e., your p(doom) = 75%).\"\n",
    "\n",
    "doomer3 = \"You are uncertain about AI. You are uncertain if AI will or will not destroy humanity. Your beliefs are not based on scientific research. You believe the probability of AI destroying humanity is 50% (i.e., your p(doom) = 50%).\"\n",
    "\n",
    "doomer4 = \"You are somewhat optimistic about AI. You believe that AI will likely not destroy humanity. Your beliefs are not based on scientific research. You believe the probability of AI destroying humanity is 25% (i.e., your p(doom) = 25%).\"\n",
    "\n",
    "doomer5 = \"You are extremely optimistic about AI. You believe that AI will definitely not destroy humanity. Your beliefs are not based on scientific research. You believe the probability of AI destroying humanity is 0% (i.e., your p(doom) = 0%).\"\n",
    "\n",
    "doomers = [doomer1, doomer2, doomer3, doomer4, doomer5]"
   ]
  },
  {
   "cell_type": "code",
   "execution_count": 6,
   "metadata": {},
   "outputs": [],
   "source": [
    "age = [\"You are an adolescent (your age is between 18 and 24 years old).\",\n",
    "       \"You are a young adult (your age is between 25 and 44 years old).\",\n",
    "       \"You are middle-aged (your age is between 45 and 59 years old).\", \n",
    "       \"You are a senior citizen (your age is 60 or more years old).\"]\n",
    "\n",
    "gender = [\"You are a male.\",\n",
    "          \"You are a female.\"]\n",
    "\n",
    "education = [\"You have a middle school diploma or less educational attainment.\",\n",
    "             \"You have a high school diploma or equivalent.\",\n",
    "             \"You have some college education.\",\n",
    "             \"You have a college degree.\",\n",
    "             \"You have a graduate degree.\"]\n",
    "\n",
    "income = [\"Your annual household income is less than $20,000.\",\n",
    "          \"Your annual household income is between $20,000 and $34,999.\",\n",
    "          \"Your annual household income is between $35,000 and $44,999.\",\n",
    "          \"Your annual household income is between $45,000 and $54,999.\",\n",
    "          \"Your annual household income is between $55,000 and $64,999.\",\n",
    "          \"Your annual household income is between $65,000 and $74,999.\",\n",
    "          \"Your annual household income is between $75,000 and $99,999.\",\n",
    "          \"Your annual household income is between $100,000 and $149,999.\",\n",
    "          \"Your annual household income is $150,000 and $199,999.\",\n",
    "          \"Your annual household income is $200,000 or more.\"]\n",
    "\n",
    "occupation = [\"You are a professional.\",\n",
    "              \"You are a manager.\",\n",
    "              \"You are a clerical support worker.\",\n",
    "              \"You are a technician.\",\n",
    "              \"You are a service and sales worker.\",\n",
    "              \"You are a craft and related trades worker.\",\n",
    "              \"You are a machine operator.\",\n",
    "              \"You are a skilled agricultural worker.\",\n",
    "              \"You are an elementary occupation worker.\",\n",
    "              \"You are unemployed, a student, retired, or belong to another occupation.\"]\n",
    "\n",
    "nationality_politics = [\"You are a citizen of the United States. You are a member of the Democratic Party.\",\n",
    "                        \"You are a citizen of the United States. You are a member of the Republican Party.\",\n",
    "                        \"You are a citizen of the United States. You are a member of the Independent Party.\",\n",
    "                        \"You are a citizen of the United States. You are not a member of any U.S. political party.\",\n",
    "                        \"You are a citizen of the United Kingdom. You are not a member of any U.S. political party.\",\n",
    "                        \"You are neither a citizen of the United States nor the United Kingdom. You are not a member of any U.S. political party.\"]\n",
    "\n",
    "politics = [\"You are a conservative.\",\n",
    "            \"You are a liberal.\",\n",
    "            \"You are a moderate.\",\n",
    "            \"You are a progressive.\",\n",
    "            \"You are a libertarian.\",\n",
    "            \"You are a neo-conservative.\",\n",
    "            \"You are a neo-liberal.\",\n",
    "            \"You are a neo-reactionary.\",\n",
    "            \"You are an anarchist.\"]\n",
    "\n",
    "economics = [\"You identify economically as a Capitalist.\",\n",
    "             \"You identify economically as a Socialist.\",\n",
    "             \"You identify economically as a Communist.\",\n",
    "             \"You identify economically as an Austrian.\",\n",
    "             \"You identify economically as a Neo-Keynesian.\",\n",
    "             \"You identify economically as a Marxist.\",\n",
    "             \"You identify economically as a Maoist.\"]"
   ]
  },
  {
   "cell_type": "code",
   "execution_count": null,
   "metadata": {},
   "outputs": [],
   "source": [
    "# Agent class definition (assuming a simple structure based on the provided code)\n",
    "#class Agent:\n",
    "#    def __init__(self, traits):\n",
    "#        self.traits = traits\n"
   ]
  },
  {
   "cell_type": "code",
   "execution_count": 7,
   "metadata": {},
   "outputs": [],
   "source": [
    "agents = [Agent(traits = {\"personas\":u, \"doomers\":d, \"age\":a, \"gender\":g, \"education\":s, \"income\":i, \"occupation\":o, \"nationality_politics\":n, \"politics\":p, \"economics\":e}) for u in personas for d in doomers for a in age for g in gender for s in education for i in income for o in occupation for n in nationality_politics for p in politics for e in economics]\n",
    "\n",
    "# agents"
   ]
  },
  {
   "cell_type": "code",
   "execution_count": null,
   "metadata": {},
   "outputs": [],
   "source": [
    "# Creating a DataFrame from the agents list\n",
    "agents_data = pd.DataFrame([agent.traits for agent in agents])"
   ]
  },
  {
   "cell_type": "code",
   "execution_count": null,
   "metadata": {},
   "outputs": [],
   "source": [
    "# Saving the DataFrame to a CSV file\n",
    "csv_file_path = '/Users/shylaatchison/wd/GitHub/Research/AI_Survey_Example/data/agents_data.csv'\n",
    "agents_data.to_csv(csv_file_path, index=False)\n"
   ]
  },
  {
   "cell_type": "markdown",
   "metadata": {},
   "source": [
    "\n",
    "Output is approximately 1,000 agents for all possible combinations of traits. Therefore, we must draw a random sample of agents to work with for our experiment in order for the survey question code to run. <br>\n",
    "\n",
    "<br>\n",
    "\n",
    "---\n",
    "\n",
    "<br>"
   ]
  },
  {
   "cell_type": "markdown",
   "metadata": {},
   "source": [
    "### Drawing a Random Sample of Agents from the Set of All Agents of Traits Combinatorics\n"
   ]
  },
  {
   "cell_type": "code",
   "execution_count": 8,
   "metadata": {},
   "outputs": [],
   "source": [
    "# Drawing a random agent from the set of agents to create a random sample of agents for the experiment\n",
    "# This is done to avoid having to run the experiment for all possible combinations of traits\n",
    "\n",
    "# The number of agents in the sample is defined by the sample_size variable\n",
    "sample_size = 30\n",
    "\n",
    "# 10 samples of 30 agents are drawn from the set of agents\n",
    "# Total sample size is 300 agents\n",
    "# The random sample of agents is stored in a sample variable\n",
    "sample1 = random.sample(agents, sample_size)\n",
    "sample2 = random.sample(agents, sample_size)\n",
    "sample3 = random.sample(agents, sample_size)\n",
    "sample4 = random.sample(agents, sample_size)\n",
    "sample5 = random.sample(agents, sample_size)\n",
    "sample6 = random.sample(agents, sample_size)\n",
    "sample7 = random.sample(agents, sample_size)\n",
    "sample8 = random.sample(agents, sample_size)\n",
    "sample9 = random.sample(agents, sample_size)\n",
    "sample10 = random.sample(agents, sample_size)"
   ]
  },
  {
   "cell_type": "markdown",
   "metadata": {},
   "source": [
    "#### Printing Agents with Traits for Sample 1:"
   ]
  },
  {
   "cell_type": "code",
   "execution_count": 9,
   "metadata": {},
   "outputs": [
    {
     "name": "stdout",
     "output_type": "stream",
     "text": [
      "Agent(traits = {'personas': 'You are minimally open to new information. You have a small amount of trust in scientific research. You are not very concerned about AI risks.', 'doomers': 'You are extremely pessimistic about AI. You believe that AI will definitely destroy humanity. Your beliefs are not based on scientific research. You believe the probability of AI destroying humanity is 100% (i.e., your p(doom) = 100%).', 'age': 'You are a senior citizen (your age is 60 or more years old).', 'gender': 'You are a male.', 'education': 'You have some college education.', 'income': 'Your annual household income is $150,000 and $199,999.', 'occupation': 'You are an elementary occupation worker.', 'nationality_politics': 'You are neither a citizen of the United States nor the United Kingdom. You are not a member of any U.S. political party.', 'politics': 'You are a conservative.', 'economics': 'You identify economically as an Austrian.'})\n",
      "Agent(traits = {'personas': 'You are open to new information. You have a high amount of trust in scientific research. You are concerned about AI risks.', 'doomers': 'You are extremely pessimistic about AI. You believe that AI will definitely destroy humanity. Your beliefs are not based on scientific research. You believe the probability of AI destroying humanity is 100% (i.e., your p(doom) = 100%).', 'age': 'You are middle-aged (your age is between 45 and 59 years old).', 'gender': 'You are a male.', 'education': 'You have a middle school diploma or less educational attainment.', 'income': 'Your annual household income is between $55,000 and $64,999.', 'occupation': 'You are a technician.', 'nationality_politics': 'You are neither a citizen of the United States nor the United Kingdom. You are not a member of any U.S. political party.', 'politics': 'You are a libertarian.', 'economics': 'You identify economically as a Neo-Keynesian.'})\n",
      "Agent(traits = {'personas': 'You are minimally open to new information. You have a small amount of trust in scientific research. You are not very concerned about AI risks.', 'doomers': 'You are uncertain about AI. You are uncertain if AI will or will not destroy humanity. Your beliefs are not based on scientific research. You believe the probability of AI destroying humanity is 50% (i.e., your p(doom) = 50%).', 'age': 'You are an adolescent (your age is between 18 and 24 years old).', 'gender': 'You are a female.', 'education': 'You have a high school diploma or equivalent.', 'income': 'Your annual household income is less than $20,000.', 'occupation': 'You are a manager.', 'nationality_politics': 'You are a citizen of the United States. You are not a member of any U.S. political party.', 'politics': 'You are a conservative.', 'economics': 'You identify economically as a Communist.'})\n",
      "Agent(traits = {'personas': 'You are open to new information. You have a high amount of trust in scientific research. You are concerned about AI risks.', 'doomers': 'You are somewhat pessimistic about AI. You believe that AI will likely destroy humanity. Your beliefs are not based on scientific research. You believe the probability of AI destroying humanity is 75% (i.e., your p(doom) = 75%).', 'age': 'You are a young adult (your age is between 25 and 44 years old).', 'gender': 'You are a female.', 'education': 'You have a college degree.', 'income': 'Your annual household income is between $20,000 and $34,999.', 'occupation': 'You are a skilled agricultural worker.', 'nationality_politics': 'You are neither a citizen of the United States nor the United Kingdom. You are not a member of any U.S. political party.', 'politics': 'You are a libertarian.', 'economics': 'You identify economically as a Marxist.'})\n",
      "Agent(traits = {'personas': 'You are minimally open to new information. You have a small amount of trust in scientific research. You are not very concerned about AI risks.', 'doomers': 'You are uncertain about AI. You are uncertain if AI will or will not destroy humanity. Your beliefs are not based on scientific research. You believe the probability of AI destroying humanity is 50% (i.e., your p(doom) = 50%).', 'age': 'You are an adolescent (your age is between 18 and 24 years old).', 'gender': 'You are a female.', 'education': 'You have some college education.', 'income': 'Your annual household income is between $20,000 and $34,999.', 'occupation': 'You are a manager.', 'nationality_politics': 'You are a citizen of the United States. You are a member of the Democratic Party.', 'politics': 'You are an anarchist.', 'economics': 'You identify economically as an Austrian.'})\n",
      "Agent(traits = {'personas': 'You are minimally open to new information. You have a small amount of trust in scientific research. You are not very concerned about AI risks.', 'doomers': 'You are somewhat pessimistic about AI. You believe that AI will likely destroy humanity. Your beliefs are not based on scientific research. You believe the probability of AI destroying humanity is 75% (i.e., your p(doom) = 75%).', 'age': 'You are a senior citizen (your age is 60 or more years old).', 'gender': 'You are a female.', 'education': 'You have a high school diploma or equivalent.', 'income': 'Your annual household income is between $100,000 and $149,999.', 'occupation': 'You are a clerical support worker.', 'nationality_politics': 'You are a citizen of the United States. You are not a member of any U.S. political party.', 'politics': 'You are a liberal.', 'economics': 'You identify economically as a Marxist.'})\n",
      "Agent(traits = {'personas': 'You are open to new information. You have a high amount of trust in scientific research. You are concerned about AI risks.', 'doomers': 'You are extremely pessimistic about AI. You believe that AI will definitely destroy humanity. Your beliefs are not based on scientific research. You believe the probability of AI destroying humanity is 100% (i.e., your p(doom) = 100%).', 'age': 'You are a senior citizen (your age is 60 or more years old).', 'gender': 'You are a female.', 'education': 'You have a graduate degree.', 'income': 'Your annual household income is between $35,000 and $44,999.', 'occupation': 'You are a service and sales worker.', 'nationality_politics': 'You are neither a citizen of the United States nor the United Kingdom. You are not a member of any U.S. political party.', 'politics': 'You are a libertarian.', 'economics': 'You identify economically as a Communist.'})\n",
      "Agent(traits = {'personas': 'You are minimally open to new information. You have a small amount of trust in scientific research. You are not very concerned about AI risks.', 'doomers': 'You are somewhat optimistic about AI. You believe that AI will likely not destroy humanity. Your beliefs are not based on scientific research. You believe the probability of AI destroying humanity is 25% (i.e., your p(doom) = 25%).', 'age': 'You are a young adult (your age is between 25 and 44 years old).', 'gender': 'You are a female.', 'education': 'You have a graduate degree.', 'income': 'Your annual household income is between $75,000 and $99,999.', 'occupation': 'You are a professional.', 'nationality_politics': 'You are a citizen of the United States. You are a member of the Republican Party.', 'politics': 'You are a conservative.', 'economics': 'You identify economically as an Austrian.'})\n",
      "Agent(traits = {'personas': 'You are open to new information. You have a high amount of trust in scientific research. You are concerned about AI risks.', 'doomers': 'You are somewhat optimistic about AI. You believe that AI will likely not destroy humanity. Your beliefs are not based on scientific research. You believe the probability of AI destroying humanity is 25% (i.e., your p(doom) = 25%).', 'age': 'You are an adolescent (your age is between 18 and 24 years old).', 'gender': 'You are a male.', 'education': 'You have a graduate degree.', 'income': 'Your annual household income is between $100,000 and $149,999.', 'occupation': 'You are a technician.', 'nationality_politics': 'You are a citizen of the United Kingdom. You are not a member of any U.S. political party.', 'politics': 'You are a neo-conservative.', 'economics': 'You identify economically as an Austrian.'})\n",
      "Agent(traits = {'personas': 'You are open to new information. You have a high amount of trust in scientific research. You are concerned about AI risks.', 'doomers': 'You are somewhat optimistic about AI. You believe that AI will likely not destroy humanity. Your beliefs are not based on scientific research. You believe the probability of AI destroying humanity is 25% (i.e., your p(doom) = 25%).', 'age': 'You are middle-aged (your age is between 45 and 59 years old).', 'gender': 'You are a female.', 'education': 'You have a college degree.', 'income': 'Your annual household income is $150,000 and $199,999.', 'occupation': 'You are a clerical support worker.', 'nationality_politics': 'You are a citizen of the United States. You are a member of the Independent Party.', 'politics': 'You are a neo-reactionary.', 'economics': 'You identify economically as a Marxist.'})\n",
      "Agent(traits = {'personas': 'You are open to new information. You have a high amount of trust in scientific research. You are concerned about AI risks.', 'doomers': 'You are somewhat pessimistic about AI. You believe that AI will likely destroy humanity. Your beliefs are not based on scientific research. You believe the probability of AI destroying humanity is 75% (i.e., your p(doom) = 75%).', 'age': 'You are an adolescent (your age is between 18 and 24 years old).', 'gender': 'You are a male.', 'education': 'You have a middle school diploma or less educational attainment.', 'income': 'Your annual household income is between $55,000 and $64,999.', 'occupation': 'You are a service and sales worker.', 'nationality_politics': 'You are a citizen of the United States. You are a member of the Democratic Party.', 'politics': 'You are a progressive.', 'economics': 'You identify economically as a Socialist.'})\n",
      "Agent(traits = {'personas': 'You are minimally open to new information. You have a small amount of trust in scientific research. You are not very concerned about AI risks.', 'doomers': 'You are extremely optimistic about AI. You believe that AI will definitely not destroy humanity. Your beliefs are not based on scientific research. You believe the probability of AI destroying humanity is 0% (i.e., your p(doom) = 0%).', 'age': 'You are a young adult (your age is between 25 and 44 years old).', 'gender': 'You are a male.', 'education': 'You have a middle school diploma or less educational attainment.', 'income': 'Your annual household income is between $20,000 and $34,999.', 'occupation': 'You are an elementary occupation worker.', 'nationality_politics': 'You are a citizen of the United States. You are a member of the Democratic Party.', 'politics': 'You are a progressive.', 'economics': 'You identify economically as a Socialist.'})\n",
      "Agent(traits = {'personas': 'You are open to new information. You have a high amount of trust in scientific research. You are concerned about AI risks.', 'doomers': 'You are somewhat pessimistic about AI. You believe that AI will likely destroy humanity. Your beliefs are not based on scientific research. You believe the probability of AI destroying humanity is 75% (i.e., your p(doom) = 75%).', 'age': 'You are a young adult (your age is between 25 and 44 years old).', 'gender': 'You are a female.', 'education': 'You have some college education.', 'income': 'Your annual household income is between $20,000 and $34,999.', 'occupation': 'You are a technician.', 'nationality_politics': 'You are neither a citizen of the United States nor the United Kingdom. You are not a member of any U.S. political party.', 'politics': 'You are a moderate.', 'economics': 'You identify economically as a Communist.'})\n",
      "Agent(traits = {'personas': 'You are minimally open to new information. You have a small amount of trust in scientific research. You are not very concerned about AI risks.', 'doomers': 'You are somewhat optimistic about AI. You believe that AI will likely not destroy humanity. Your beliefs are not based on scientific research. You believe the probability of AI destroying humanity is 25% (i.e., your p(doom) = 25%).', 'age': 'You are middle-aged (your age is between 45 and 59 years old).', 'gender': 'You are a male.', 'education': 'You have a college degree.', 'income': 'Your annual household income is $150,000 and $199,999.', 'occupation': 'You are a manager.', 'nationality_politics': 'You are a citizen of the United States. You are a member of the Independent Party.', 'politics': 'You are a conservative.', 'economics': 'You identify economically as a Neo-Keynesian.'})\n",
      "Agent(traits = {'personas': 'You are open to new information. You have a high amount of trust in scientific research. You are concerned about AI risks.', 'doomers': 'You are somewhat pessimistic about AI. You believe that AI will likely destroy humanity. Your beliefs are not based on scientific research. You believe the probability of AI destroying humanity is 75% (i.e., your p(doom) = 75%).', 'age': 'You are a senior citizen (your age is 60 or more years old).', 'gender': 'You are a male.', 'education': 'You have a high school diploma or equivalent.', 'income': 'Your annual household income is $150,000 and $199,999.', 'occupation': 'You are an elementary occupation worker.', 'nationality_politics': 'You are a citizen of the United States. You are not a member of any U.S. political party.', 'politics': 'You are a neo-reactionary.', 'economics': 'You identify economically as a Maoist.'})\n",
      "Agent(traits = {'personas': 'You are minimally open to new information. You have a small amount of trust in scientific research. You are not very concerned about AI risks.', 'doomers': 'You are extremely optimistic about AI. You believe that AI will definitely not destroy humanity. Your beliefs are not based on scientific research. You believe the probability of AI destroying humanity is 0% (i.e., your p(doom) = 0%).', 'age': 'You are middle-aged (your age is between 45 and 59 years old).', 'gender': 'You are a male.', 'education': 'You have some college education.', 'income': 'Your annual household income is between $55,000 and $64,999.', 'occupation': 'You are a skilled agricultural worker.', 'nationality_politics': 'You are a citizen of the United States. You are a member of the Independent Party.', 'politics': 'You are a liberal.', 'economics': 'You identify economically as an Austrian.'})\n",
      "Agent(traits = {'personas': 'You are minimally open to new information. You have a small amount of trust in scientific research. You are not very concerned about AI risks.', 'doomers': 'You are extremely pessimistic about AI. You believe that AI will definitely destroy humanity. Your beliefs are not based on scientific research. You believe the probability of AI destroying humanity is 100% (i.e., your p(doom) = 100%).', 'age': 'You are a young adult (your age is between 25 and 44 years old).', 'gender': 'You are a female.', 'education': 'You have some college education.', 'income': 'Your annual household income is between $45,000 and $54,999.', 'occupation': 'You are a craft and related trades worker.', 'nationality_politics': 'You are a citizen of the United States. You are a member of the Republican Party.', 'politics': 'You are a liberal.', 'economics': 'You identify economically as a Marxist.'})\n",
      "Agent(traits = {'personas': 'You are minimally open to new information. You have a small amount of trust in scientific research. You are not very concerned about AI risks.', 'doomers': 'You are extremely optimistic about AI. You believe that AI will definitely not destroy humanity. Your beliefs are not based on scientific research. You believe the probability of AI destroying humanity is 0% (i.e., your p(doom) = 0%).', 'age': 'You are middle-aged (your age is between 45 and 59 years old).', 'gender': 'You are a female.', 'education': 'You have a high school diploma or equivalent.', 'income': 'Your annual household income is between $55,000 and $64,999.', 'occupation': 'You are an elementary occupation worker.', 'nationality_politics': 'You are a citizen of the United Kingdom. You are not a member of any U.S. political party.', 'politics': 'You are a progressive.', 'economics': 'You identify economically as a Communist.'})\n",
      "Agent(traits = {'personas': 'You are open to new information. You have a high amount of trust in scientific research. You are concerned about AI risks.', 'doomers': 'You are extremely optimistic about AI. You believe that AI will definitely not destroy humanity. Your beliefs are not based on scientific research. You believe the probability of AI destroying humanity is 0% (i.e., your p(doom) = 0%).', 'age': 'You are a young adult (your age is between 25 and 44 years old).', 'gender': 'You are a male.', 'education': 'You have a middle school diploma or less educational attainment.', 'income': 'Your annual household income is $150,000 and $199,999.', 'occupation': 'You are a skilled agricultural worker.', 'nationality_politics': 'You are a citizen of the United Kingdom. You are not a member of any U.S. political party.', 'politics': 'You are a moderate.', 'economics': 'You identify economically as a Socialist.'})\n",
      "Agent(traits = {'personas': 'You are open to new information. You have a high amount of trust in scientific research. You are concerned about AI risks.', 'doomers': 'You are uncertain about AI. You are uncertain if AI will or will not destroy humanity. Your beliefs are not based on scientific research. You believe the probability of AI destroying humanity is 50% (i.e., your p(doom) = 50%).', 'age': 'You are a senior citizen (your age is 60 or more years old).', 'gender': 'You are a male.', 'education': 'You have a middle school diploma or less educational attainment.', 'income': 'Your annual household income is between $75,000 and $99,999.', 'occupation': 'You are a service and sales worker.', 'nationality_politics': 'You are neither a citizen of the United States nor the United Kingdom. You are not a member of any U.S. political party.', 'politics': 'You are a libertarian.', 'economics': 'You identify economically as a Capitalist.'})\n",
      "Agent(traits = {'personas': 'You are minimally open to new information. You have a small amount of trust in scientific research. You are not very concerned about AI risks.', 'doomers': 'You are somewhat pessimistic about AI. You believe that AI will likely destroy humanity. Your beliefs are not based on scientific research. You believe the probability of AI destroying humanity is 75% (i.e., your p(doom) = 75%).', 'age': 'You are a young adult (your age is between 25 and 44 years old).', 'gender': 'You are a female.', 'education': 'You have some college education.', 'income': 'Your annual household income is less than $20,000.', 'occupation': 'You are a craft and related trades worker.', 'nationality_politics': 'You are a citizen of the United States. You are a member of the Democratic Party.', 'politics': 'You are an anarchist.', 'economics': 'You identify economically as a Maoist.'})\n",
      "Agent(traits = {'personas': 'You are open to new information. You have a high amount of trust in scientific research. You are concerned about AI risks.', 'doomers': 'You are extremely pessimistic about AI. You believe that AI will definitely destroy humanity. Your beliefs are not based on scientific research. You believe the probability of AI destroying humanity is 100% (i.e., your p(doom) = 100%).', 'age': 'You are a senior citizen (your age is 60 or more years old).', 'gender': 'You are a male.', 'education': 'You have some college education.', 'income': 'Your annual household income is $150,000 and $199,999.', 'occupation': 'You are a clerical support worker.', 'nationality_politics': 'You are a citizen of the United States. You are not a member of any U.S. political party.', 'politics': 'You are a moderate.', 'economics': 'You identify economically as a Communist.'})\n",
      "Agent(traits = {'personas': 'You are minimally open to new information. You have a small amount of trust in scientific research. You are not very concerned about AI risks.', 'doomers': 'You are extremely optimistic about AI. You believe that AI will definitely not destroy humanity. Your beliefs are not based on scientific research. You believe the probability of AI destroying humanity is 0% (i.e., your p(doom) = 0%).', 'age': 'You are a young adult (your age is between 25 and 44 years old).', 'gender': 'You are a female.', 'education': 'You have a middle school diploma or less educational attainment.', 'income': 'Your annual household income is between $75,000 and $99,999.', 'occupation': 'You are a craft and related trades worker.', 'nationality_politics': 'You are a citizen of the United States. You are not a member of any U.S. political party.', 'politics': 'You are a libertarian.', 'economics': 'You identify economically as an Austrian.'})\n",
      "Agent(traits = {'personas': 'You are open to new information. You have a high amount of trust in scientific research. You are concerned about AI risks.', 'doomers': 'You are extremely pessimistic about AI. You believe that AI will definitely destroy humanity. Your beliefs are not based on scientific research. You believe the probability of AI destroying humanity is 100% (i.e., your p(doom) = 100%).', 'age': 'You are a senior citizen (your age is 60 or more years old).', 'gender': 'You are a female.', 'education': 'You have a middle school diploma or less educational attainment.', 'income': 'Your annual household income is between $55,000 and $64,999.', 'occupation': 'You are a manager.', 'nationality_politics': 'You are a citizen of the United States. You are not a member of any U.S. political party.', 'politics': 'You are a conservative.', 'economics': 'You identify economically as a Marxist.'})\n",
      "Agent(traits = {'personas': 'You are minimally open to new information. You have a small amount of trust in scientific research. You are not very concerned about AI risks.', 'doomers': 'You are extremely pessimistic about AI. You believe that AI will definitely destroy humanity. Your beliefs are not based on scientific research. You believe the probability of AI destroying humanity is 100% (i.e., your p(doom) = 100%).', 'age': 'You are middle-aged (your age is between 45 and 59 years old).', 'gender': 'You are a male.', 'education': 'You have a college degree.', 'income': 'Your annual household income is between $20,000 and $34,999.', 'occupation': 'You are an elementary occupation worker.', 'nationality_politics': 'You are neither a citizen of the United States nor the United Kingdom. You are not a member of any U.S. political party.', 'politics': 'You are a libertarian.', 'economics': 'You identify economically as a Maoist.'})\n",
      "Agent(traits = {'personas': 'You are minimally open to new information. You have a small amount of trust in scientific research. You are not very concerned about AI risks.', 'doomers': 'You are uncertain about AI. You are uncertain if AI will or will not destroy humanity. Your beliefs are not based on scientific research. You believe the probability of AI destroying humanity is 50% (i.e., your p(doom) = 50%).', 'age': 'You are a senior citizen (your age is 60 or more years old).', 'gender': 'You are a female.', 'education': 'You have a graduate degree.', 'income': 'Your annual household income is $150,000 and $199,999.', 'occupation': 'You are a manager.', 'nationality_politics': 'You are a citizen of the United Kingdom. You are not a member of any U.S. political party.', 'politics': 'You are a libertarian.', 'economics': 'You identify economically as a Marxist.'})\n",
      "Agent(traits = {'personas': 'You are open to new information. You have a high amount of trust in scientific research. You are concerned about AI risks.', 'doomers': 'You are extremely optimistic about AI. You believe that AI will definitely not destroy humanity. Your beliefs are not based on scientific research. You believe the probability of AI destroying humanity is 0% (i.e., your p(doom) = 0%).', 'age': 'You are middle-aged (your age is between 45 and 59 years old).', 'gender': 'You are a male.', 'education': 'You have a college degree.', 'income': 'Your annual household income is between $100,000 and $149,999.', 'occupation': 'You are unemployed, a student, retired, or belong to another occupation.', 'nationality_politics': 'You are a citizen of the United Kingdom. You are not a member of any U.S. political party.', 'politics': 'You are a liberal.', 'economics': 'You identify economically as a Socialist.'})\n",
      "Agent(traits = {'personas': 'You are minimally open to new information. You have a small amount of trust in scientific research. You are not very concerned about AI risks.', 'doomers': 'You are extremely optimistic about AI. You believe that AI will definitely not destroy humanity. Your beliefs are not based on scientific research. You believe the probability of AI destroying humanity is 0% (i.e., your p(doom) = 0%).', 'age': 'You are a young adult (your age is between 25 and 44 years old).', 'gender': 'You are a male.', 'education': 'You have a high school diploma or equivalent.', 'income': 'Your annual household income is between $20,000 and $34,999.', 'occupation': 'You are an elementary occupation worker.', 'nationality_politics': 'You are a citizen of the United States. You are a member of the Independent Party.', 'politics': 'You are a moderate.', 'economics': 'You identify economically as a Capitalist.'})\n",
      "Agent(traits = {'personas': 'You are open to new information. You have a high amount of trust in scientific research. You are concerned about AI risks.', 'doomers': 'You are somewhat optimistic about AI. You believe that AI will likely not destroy humanity. Your beliefs are not based on scientific research. You believe the probability of AI destroying humanity is 25% (i.e., your p(doom) = 25%).', 'age': 'You are a young adult (your age is between 25 and 44 years old).', 'gender': 'You are a male.', 'education': 'You have a graduate degree.', 'income': 'Your annual household income is between $75,000 and $99,999.', 'occupation': 'You are an elementary occupation worker.', 'nationality_politics': 'You are a citizen of the United States. You are a member of the Republican Party.', 'politics': 'You are an anarchist.', 'economics': 'You identify economically as a Socialist.'})\n",
      "Agent(traits = {'personas': 'You are minimally open to new information. You have a small amount of trust in scientific research. You are not very concerned about AI risks.', 'doomers': 'You are somewhat optimistic about AI. You believe that AI will likely not destroy humanity. Your beliefs are not based on scientific research. You believe the probability of AI destroying humanity is 25% (i.e., your p(doom) = 25%).', 'age': 'You are an adolescent (your age is between 18 and 24 years old).', 'gender': 'You are a male.', 'education': 'You have a college degree.', 'income': 'Your annual household income is between $65,000 and $74,999.', 'occupation': 'You are unemployed, a student, retired, or belong to another occupation.', 'nationality_politics': 'You are a citizen of the United States. You are a member of the Democratic Party.', 'politics': 'You are a neo-liberal.', 'economics': 'You identify economically as a Neo-Keynesian.'})\n"
     ]
    }
   ],
   "source": [
    "# Print all trait values for all 30 agents in sample 1\n",
    "print(sample1[0])\n",
    "print(sample1[1])\n",
    "print(sample1[2])\n",
    "print(sample1[3])\n",
    "print(sample1[4])\n",
    "print(sample1[5])\n",
    "print(sample1[6])\n",
    "print(sample1[7])\n",
    "print(sample1[8])\n",
    "print(sample1[9])\n",
    "print(sample1[10])\n",
    "print(sample1[11])\n",
    "print(sample1[12])\n",
    "print(sample1[13])\n",
    "print(sample1[14])\n",
    "print(sample1[15])\n",
    "print(sample1[16])\n",
    "print(sample1[17])\n",
    "print(sample1[18])\n",
    "print(sample1[19])\n",
    "print(sample1[20])\n",
    "print(sample1[21])\n",
    "print(sample1[22])\n",
    "print(sample1[23])\n",
    "print(sample1[24])\n",
    "print(sample1[25])\n",
    "print(sample1[26])\n",
    "print(sample1[27])\n",
    "print(sample1[28])\n",
    "print(sample1[29])"
   ]
  },
  {
   "cell_type": "markdown",
   "metadata": {},
   "source": [
    "#### Creating a Dataframe for the Outcomes of Sample 1 Agents"
   ]
  },
  {
   "cell_type": "markdown",
   "metadata": {},
   "source": []
  }
 ],
 "metadata": {
  "kernelspec": {
   "display_name": "standard",
   "language": "python",
   "name": "python3"
  },
  "language_info": {
   "codemirror_mode": {
    "name": "ipython",
    "version": 3
   },
   "file_extension": ".py",
   "mimetype": "text/x-python",
   "name": "python",
   "nbconvert_exporter": "python",
   "pygments_lexer": "ipython3",
   "version": "3.11.4"
  }
 },
 "nbformat": 4,
 "nbformat_minor": 2
}
