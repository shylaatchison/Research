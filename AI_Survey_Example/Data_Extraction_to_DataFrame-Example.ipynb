{
 "cells": [
  {
   "cell_type": "markdown",
   "metadata": {},
   "source": [
    "# Data Extraction to Pandas DataFrame Example Code"
   ]
  },
  {
   "cell_type": "code",
   "execution_count": 1,
   "metadata": {},
   "outputs": [
    {
     "name": "stdout",
     "output_type": "stream",
     "text": [
      "==================================================\n",
      "Please provide your OpenAI API key (https://platform.openai.com/api-keys).\n",
      "If you would like to skip this step, press enter.\n",
      "If you would like to provide your key, do one of the following:\n",
      "1. Set it as a regular environment variable\n",
      "2. Create a .env file and add `OPENAI_API_KEY=...` to it\n",
      "3. Enter the value below and press enter: \n",
      "Environment variable OPENAI_API_KEY set successfully to sk***********************************************TM.\n",
      "==================================================\n",
      "\n",
      "\n",
      "==================================================\n",
      "Please provide your Google API key (https://console.cloud.google.com/apis/credentials).\n",
      "If you would like to skip this step, press enter.\n",
      "If you would like to provide your key, do one of the following:\n",
      "1. Set it as a regular environment variable\n",
      "2. Create a .env file and add `GOOGLE_API_KEY=...` to it\n",
      "3. Enter the value below and press enter: \n",
      "Skipping setting environment variable GOOGLE_API_KEY.\n",
      "==================================================\n",
      "\n",
      "\n",
      "==================================================\n",
      "Please provide your DeepInfra API key (https://deepinfra.com/).\n",
      "If you would like to skip this step, press enter.\n",
      "If you would like to provide your key, do one of the following:\n",
      "1. Set it as a regular environment variable\n",
      "2. Create a .env file and add `DEEP_INFRA_API_KEY=...` to it\n",
      "3. Enter the value below and press enter: \n",
      "Skipping setting environment variable DEEP_INFRA_API_KEY.\n",
      "==================================================\n",
      "\n",
      "\n"
     ]
    }
   ],
   "source": [
    "from edsl.questions import QuestionMultipleChoice, QuestionCheckBox, QuestionFreeText, QuestionList, QuestionBudget\n",
    "from edsl.questions.derived.QuestionYesNo import QuestionYesNo\n",
    "from edsl.questions.derived.QuestionLinearScale import QuestionLinearScale"
   ]
  },
  {
   "cell_type": "code",
   "execution_count": 2,
   "metadata": {},
   "outputs": [],
   "source": [
    "from edsl.agents import Agent\n",
    "from edsl.scenarios import Scenario\n",
    "from edsl.surveys import Survey\n",
    "from edsl.language_models import LanguageModelOpenAIFour, LanguageModelOpenAIThreeFiveTurbo\n",
    "m35 = LanguageModelOpenAIThreeFiveTurbo()\n",
    "m4 = LanguageModelOpenAIFour()"
   ]
  },
  {
   "cell_type": "code",
   "execution_count": 3,
   "metadata": {},
   "outputs": [],
   "source": [
    "import random\n",
    "import pandas as pd\n",
    "import numpy as np"
   ]
  },
  {
   "cell_type": "markdown",
   "metadata": {},
   "source": [
    "## Defining Agent Traits"
   ]
  },
  {
   "cell_type": "code",
   "execution_count": 4,
   "metadata": {},
   "outputs": [],
   "source": [
    "age = [\"You are an adolescent (your age is between 18 and 24 years old).\",\n",
    "       \"You are a young adult (your age is between 25 and 44 years old).\",\n",
    "       \"You are middle-aged (your age is between 45 and 59 years old).\", \n",
    "       \"You are a senior citizen (your age is 60 or more years old).\"]\n",
    "\n",
    "gender = [\"You are a male.\",\n",
    "          \"You are a female.\"]\n",
    "\n",
    "education = [\"You have a middle school diploma or less educational attainment.\",\n",
    "             \"You have a high school diploma or equivalent.\",\n",
    "             \"You have some college education.\",\n",
    "             \"You have a college degree.\",\n",
    "             \"You have a graduate degree.\"]"
   ]
  },
  {
   "cell_type": "code",
   "execution_count": 5,
   "metadata": {},
   "outputs": [],
   "source": [
    "agents = [Agent(traits = {\"age\":a, \"gender\":g, \"education\":e}) for a in age for g in gender for e in education]\n",
    "\n",
    "# agents"
   ]
  },
  {
   "cell_type": "markdown",
   "metadata": {},
   "source": [
    "#### Drawing a Random Sample of Agents from the Set of All Agents of Traits Combinatorics"
   ]
  },
  {
   "cell_type": "code",
   "execution_count": 6,
   "metadata": {},
   "outputs": [],
   "source": [
    "# Drawing a random agent from the set of agents to create a random sample of agents for the experiment\n",
    "# This is done to avoid having to run the experiment for all possible combinations of traits\n",
    "\n",
    "# The number of agents in the sample is defined by the sample_size variable\n",
    "sample_size = 10\n",
    "# Random samples of 10 agents are drawn from the set of agents\n",
    "# The random sample of agents is stored in a sample variable\n",
    "sample1 = random.sample(agents, sample_size)"
   ]
  },
  {
   "cell_type": "code",
   "execution_count": 7,
   "metadata": {},
   "outputs": [
    {
     "name": "stdout",
     "output_type": "stream",
     "text": [
      "{'age': 'You are a young adult (your age is between 25 and 44 years old).', 'gender': 'You are a female.', 'education': 'You have some college education.'}\n",
      "{'age': 'You are a senior citizen (your age is 60 or more years old).', 'gender': 'You are a male.', 'education': 'You have a graduate degree.'}\n",
      "{'age': 'You are a young adult (your age is between 25 and 44 years old).', 'gender': 'You are a female.', 'education': 'You have a graduate degree.'}\n",
      "{'age': 'You are middle-aged (your age is between 45 and 59 years old).', 'gender': 'You are a female.', 'education': 'You have a high school diploma or equivalent.'}\n",
      "{'age': 'You are middle-aged (your age is between 45 and 59 years old).', 'gender': 'You are a female.', 'education': 'You have some college education.'}\n"
     ]
    }
   ],
   "source": [
    "# Print the traits of the first 5 agents in sample 1\n",
    "print(sample1[0].traits)\n",
    "print(sample1[1].traits)\n",
    "print(sample1[2].traits)\n",
    "print(sample1[3].traits)\n",
    "print(sample1[4].traits)"
   ]
  },
  {
   "cell_type": "markdown",
   "metadata": {},
   "source": [
    "### Survey Questions"
   ]
  },
  {
   "cell_type": "code",
   "execution_count": 18,
   "metadata": {},
   "outputs": [],
   "source": [
    "# GPT 3.5\n",
    "# Linear Scale (Question 1):\n",
    "q1_ls = QuestionLinearScale(\n",
    "    question_name = \"q1_ls\",\n",
    "    question_text = \"On a scale of 0-10, how much do you typically enjoy reading in your free-time? (0 = Not at all, 10 = Very much)\",\n",
    "    question_options = [0,1,2,3,4,5,6,7,8,9,10]\n",
    ")"
   ]
  },
  {
   "cell_type": "code",
   "execution_count": 9,
   "metadata": {},
   "outputs": [],
   "source": [
    "# GPT 3.5\n",
    "# Multiple Choice (Question 2):\n",
    "q2_mc = QuestionMultipleChoice(\n",
    "    question_name = \"q2_mc\",\n",
    "    question_text = \"How many hours per week do you read in your free-time?\",\n",
    "    question_options = [\"0 hours per week\", \"Between 0 and 2 hours per week\", \"Between 2 and 4.5 hours per week\", \"Between 4.5 and 7 hours per week\", \"More than 7 hours per week\"]\n",
    ")"
   ]
  },
  {
   "cell_type": "code",
   "execution_count": 10,
   "metadata": {},
   "outputs": [],
   "source": [
    "# GPT 3.5\n",
    "# Multiple Choice (Question 3):\n",
    "q3_mc = QuestionMultipleChoice(\n",
    "    question_name = \"q3_mc\",\n",
    "    question_text = \"Do you use the social media app TikTok?\",\n",
    "    question_options = [\"Yes\", \"No\"]\n",
    ")"
   ]
  },
  {
   "cell_type": "code",
   "execution_count": 11,
   "metadata": {},
   "outputs": [],
   "source": [
    "# GPT 3.5\n",
    "# Multiple Choice (Question 4):\n",
    "q4_mc = QuestionMultipleChoice(\n",
    "    question_name = \"q4_mc\",\n",
    "    question_text = \"How many hours per week do you spend on TikTok?\",\n",
    "    question_options = [\"0 hours per week\", \"Between 0 and 2 hours per week\", \"Between 2 and 4.5 hours per week\", \"Between 4.5 and 7 hours per week\", \"Between 7 and 14 hours per week\", \"Between 14 and 21 hours per week\", \"More than 21 hours per week\"]\n",
    ")"
   ]
  },
  {
   "cell_type": "markdown",
   "metadata": {},
   "source": [
    "### Run Survey Question API Calls"
   ]
  },
  {
   "cell_type": "code",
   "execution_count": 19,
   "metadata": {},
   "outputs": [],
   "source": [
    "result1 = q1_ls.by(sample1).by(m35).run()"
   ]
  },
  {
   "cell_type": "code",
   "execution_count": 13,
   "metadata": {},
   "outputs": [],
   "source": [
    "result2 = q2_mc.by(sample1).by(m35).run()"
   ]
  },
  {
   "cell_type": "code",
   "execution_count": 14,
   "metadata": {},
   "outputs": [],
   "source": [
    "result3 = q3_mc.by(sample1).by(m35).run()"
   ]
  },
  {
   "cell_type": "code",
   "execution_count": 15,
   "metadata": {},
   "outputs": [],
   "source": [
    "result4 = q4_mc.by(sample1).by(m35).run()"
   ]
  },
  {
   "cell_type": "markdown",
   "metadata": {},
   "source": [
    "### Printing Survey Results"
   ]
  },
  {
   "cell_type": "markdown",
   "metadata": {},
   "source": [
    "#### Printing the Generated Trait Attributes for All 10 Simulated Agents in Sample 1:"
   ]
  },
  {
   "cell_type": "code",
   "execution_count": 16,
   "metadata": {},
   "outputs": [
    {
     "name": "stdout",
     "output_type": "stream",
     "text": [
      "Agent(traits = {'age': 'You are a young adult (your age is between 25 and 44 years old).', 'gender': 'You are a female.', 'education': 'You have some college education.'})\n",
      "Agent(traits = {'age': 'You are a senior citizen (your age is 60 or more years old).', 'gender': 'You are a male.', 'education': 'You have a graduate degree.'})\n",
      "Agent(traits = {'age': 'You are a young adult (your age is between 25 and 44 years old).', 'gender': 'You are a female.', 'education': 'You have a graduate degree.'})\n",
      "Agent(traits = {'age': 'You are middle-aged (your age is between 45 and 59 years old).', 'gender': 'You are a female.', 'education': 'You have a high school diploma or equivalent.'})\n",
      "Agent(traits = {'age': 'You are middle-aged (your age is between 45 and 59 years old).', 'gender': 'You are a female.', 'education': 'You have some college education.'})\n",
      "Agent(traits = {'age': 'You are an adolescent (your age is between 18 and 24 years old).', 'gender': 'You are a female.', 'education': 'You have a graduate degree.'})\n",
      "Agent(traits = {'age': 'You are a senior citizen (your age is 60 or more years old).', 'gender': 'You are a female.', 'education': 'You have a college degree.'})\n",
      "Agent(traits = {'age': 'You are an adolescent (your age is between 18 and 24 years old).', 'gender': 'You are a female.', 'education': 'You have a middle school diploma or less educational attainment.'})\n",
      "Agent(traits = {'age': 'You are middle-aged (your age is between 45 and 59 years old).', 'gender': 'You are a male.', 'education': 'You have a middle school diploma or less educational attainment.'})\n",
      "Agent(traits = {'age': 'You are a senior citizen (your age is 60 or more years old).', 'gender': 'You are a male.', 'education': 'You have some college education.'})\n"
     ]
    }
   ],
   "source": [
    "# Print all trait values for all 10 agents in sample 1\n",
    "print(sample1[0])\n",
    "print(sample1[1])\n",
    "print(sample1[2])\n",
    "print(sample1[3])\n",
    "print(sample1[4])\n",
    "print(sample1[5])\n",
    "print(sample1[6])\n",
    "print(sample1[7])\n",
    "print(sample1[8])\n",
    "print(sample1[9])"
   ]
  },
  {
   "cell_type": "markdown",
   "metadata": {},
   "source": [
    "#### Printing Survey Results with Pretty Labels"
   ]
  },
  {
   "cell_type": "code",
   "execution_count": 20,
   "metadata": {},
   "outputs": [
    {
     "data": {
      "text/html": [
       "<pre style=\"white-space:pre;overflow-x:auto;line-height:normal;font-family:Menlo,'DejaVu Sans Mono',consolas,'Courier New',monospace\">┏━━━━━━━━━━━━━━━━━━━━━━━━━━━━━━━━━━━━━━━━━━━━━━━━━━━━━━━━━━━━━━━━━━━━━━━━━━━━━━━━━━━━━━━━━━━━━━━━━━━━━━━━━━━━━━━━━┓\n",
       "┃<span style=\"color: #800080; text-decoration-color: #800080; font-weight: bold\"> On a scale of 0-10, how much do you typically enjoy reading in your free-time? (0 = Not at all, 10 = Very much) </span>┃\n",
       "┡━━━━━━━━━━━━━━━━━━━━━━━━━━━━━━━━━━━━━━━━━━━━━━━━━━━━━━━━━━━━━━━━━━━━━━━━━━━━━━━━━━━━━━━━━━━━━━━━━━━━━━━━━━━━━━━━━┩\n",
       "│<span style=\"color: #7f7f7f; text-decoration-color: #7f7f7f\"> 7                                                                                                               </span>│\n",
       "├─────────────────────────────────────────────────────────────────────────────────────────────────────────────────┤\n",
       "│<span style=\"color: #7f7f7f; text-decoration-color: #7f7f7f\"> 7                                                                                                               </span>│\n",
       "├─────────────────────────────────────────────────────────────────────────────────────────────────────────────────┤\n",
       "│<span style=\"color: #7f7f7f; text-decoration-color: #7f7f7f\"> 8                                                                                                               </span>│\n",
       "├─────────────────────────────────────────────────────────────────────────────────────────────────────────────────┤\n",
       "│<span style=\"color: #7f7f7f; text-decoration-color: #7f7f7f\"> 6                                                                                                               </span>│\n",
       "├─────────────────────────────────────────────────────────────────────────────────────────────────────────────────┤\n",
       "│<span style=\"color: #7f7f7f; text-decoration-color: #7f7f7f\"> 6                                                                                                               </span>│\n",
       "├─────────────────────────────────────────────────────────────────────────────────────────────────────────────────┤\n",
       "│<span style=\"color: #7f7f7f; text-decoration-color: #7f7f7f\"> 8                                                                                                               </span>│\n",
       "├─────────────────────────────────────────────────────────────────────────────────────────────────────────────────┤\n",
       "│<span style=\"color: #7f7f7f; text-decoration-color: #7f7f7f\"> 8                                                                                                               </span>│\n",
       "├─────────────────────────────────────────────────────────────────────────────────────────────────────────────────┤\n",
       "│<span style=\"color: #7f7f7f; text-decoration-color: #7f7f7f\"> 5                                                                                                               </span>│\n",
       "├─────────────────────────────────────────────────────────────────────────────────────────────────────────────────┤\n",
       "│<span style=\"color: #7f7f7f; text-decoration-color: #7f7f7f\"> 2                                                                                                               </span>│\n",
       "├─────────────────────────────────────────────────────────────────────────────────────────────────────────────────┤\n",
       "│<span style=\"color: #7f7f7f; text-decoration-color: #7f7f7f\"> 6                                                                                                               </span>│\n",
       "└─────────────────────────────────────────────────────────────────────────────────────────────────────────────────┘\n",
       "</pre>\n"
      ],
      "text/plain": [
       "┏━━━━━━━━━━━━━━━━━━━━━━━━━━━━━━━━━━━━━━━━━━━━━━━━━━━━━━━━━━━━━━━━━━━━━━━━━━━━━━━━━━━━━━━━━━━━━━━━━━━━━━━━━━━━━━━━━┓\n",
       "┃\u001b[1;35m \u001b[0m\u001b[1;35mOn a scale of 0-10, how much do you typically enjoy reading in your free-time? (0 = Not at all, 10 = Very much)\u001b[0m\u001b[1;35m \u001b[0m┃\n",
       "┡━━━━━━━━━━━━━━━━━━━━━━━━━━━━━━━━━━━━━━━━━━━━━━━━━━━━━━━━━━━━━━━━━━━━━━━━━━━━━━━━━━━━━━━━━━━━━━━━━━━━━━━━━━━━━━━━━┩\n",
       "│\u001b[2m \u001b[0m\u001b[2m7                                                                                                              \u001b[0m\u001b[2m \u001b[0m│\n",
       "├─────────────────────────────────────────────────────────────────────────────────────────────────────────────────┤\n",
       "│\u001b[2m \u001b[0m\u001b[2m7                                                                                                              \u001b[0m\u001b[2m \u001b[0m│\n",
       "├─────────────────────────────────────────────────────────────────────────────────────────────────────────────────┤\n",
       "│\u001b[2m \u001b[0m\u001b[2m8                                                                                                              \u001b[0m\u001b[2m \u001b[0m│\n",
       "├─────────────────────────────────────────────────────────────────────────────────────────────────────────────────┤\n",
       "│\u001b[2m \u001b[0m\u001b[2m6                                                                                                              \u001b[0m\u001b[2m \u001b[0m│\n",
       "├─────────────────────────────────────────────────────────────────────────────────────────────────────────────────┤\n",
       "│\u001b[2m \u001b[0m\u001b[2m6                                                                                                              \u001b[0m\u001b[2m \u001b[0m│\n",
       "├─────────────────────────────────────────────────────────────────────────────────────────────────────────────────┤\n",
       "│\u001b[2m \u001b[0m\u001b[2m8                                                                                                              \u001b[0m\u001b[2m \u001b[0m│\n",
       "├─────────────────────────────────────────────────────────────────────────────────────────────────────────────────┤\n",
       "│\u001b[2m \u001b[0m\u001b[2m8                                                                                                              \u001b[0m\u001b[2m \u001b[0m│\n",
       "├─────────────────────────────────────────────────────────────────────────────────────────────────────────────────┤\n",
       "│\u001b[2m \u001b[0m\u001b[2m5                                                                                                              \u001b[0m\u001b[2m \u001b[0m│\n",
       "├─────────────────────────────────────────────────────────────────────────────────────────────────────────────────┤\n",
       "│\u001b[2m \u001b[0m\u001b[2m2                                                                                                              \u001b[0m\u001b[2m \u001b[0m│\n",
       "├─────────────────────────────────────────────────────────────────────────────────────────────────────────────────┤\n",
       "│\u001b[2m \u001b[0m\u001b[2m6                                                                                                              \u001b[0m\u001b[2m \u001b[0m│\n",
       "└─────────────────────────────────────────────────────────────────────────────────────────────────────────────────┘\n"
      ]
     },
     "metadata": {},
     "output_type": "display_data"
    },
    {
     "data": {
      "text/html": [
       "<pre style=\"white-space:pre;overflow-x:auto;line-height:normal;font-family:Menlo,'DejaVu Sans Mono',consolas,'Courier New',monospace\">┏━━━━━━━━━━━━━━━━━━━━━━━━━━━━━━━━━━━━━━━━━━━━━━━━━━━━━━━━┓\n",
       "┃<span style=\"color: #800080; text-decoration-color: #800080; font-weight: bold\"> How many hours per week do you read in your free-time? </span>┃\n",
       "┡━━━━━━━━━━━━━━━━━━━━━━━━━━━━━━━━━━━━━━━━━━━━━━━━━━━━━━━━┩\n",
       "│<span style=\"color: #7f7f7f; text-decoration-color: #7f7f7f\"> Between 2 and 4.5 hours per week                       </span>│\n",
       "├────────────────────────────────────────────────────────┤\n",
       "│<span style=\"color: #7f7f7f; text-decoration-color: #7f7f7f\"> Between 2 and 4.5 hours per week                       </span>│\n",
       "├────────────────────────────────────────────────────────┤\n",
       "│<span style=\"color: #7f7f7f; text-decoration-color: #7f7f7f\"> More than 7 hours per week                             </span>│\n",
       "├────────────────────────────────────────────────────────┤\n",
       "│<span style=\"color: #7f7f7f; text-decoration-color: #7f7f7f\"> Between 2 and 4.5 hours per week                       </span>│\n",
       "├────────────────────────────────────────────────────────┤\n",
       "│<span style=\"color: #7f7f7f; text-decoration-color: #7f7f7f\"> Between 2 and 4.5 hours per week                       </span>│\n",
       "├────────────────────────────────────────────────────────┤\n",
       "│<span style=\"color: #7f7f7f; text-decoration-color: #7f7f7f\"> Between 4.5 and 7 hours per week                       </span>│\n",
       "├────────────────────────────────────────────────────────┤\n",
       "│<span style=\"color: #7f7f7f; text-decoration-color: #7f7f7f\"> More than 7 hours per week                             </span>│\n",
       "├────────────────────────────────────────────────────────┤\n",
       "│<span style=\"color: #7f7f7f; text-decoration-color: #7f7f7f\"> Between 0 and 2 hours per week                         </span>│\n",
       "├────────────────────────────────────────────────────────┤\n",
       "│<span style=\"color: #7f7f7f; text-decoration-color: #7f7f7f\"> Between 0 and 2 hours per week                         </span>│\n",
       "├────────────────────────────────────────────────────────┤\n",
       "│<span style=\"color: #7f7f7f; text-decoration-color: #7f7f7f\"> Between 4.5 and 7 hours per week                       </span>│\n",
       "└────────────────────────────────────────────────────────┘\n",
       "</pre>\n"
      ],
      "text/plain": [
       "┏━━━━━━━━━━━━━━━━━━━━━━━━━━━━━━━━━━━━━━━━━━━━━━━━━━━━━━━━┓\n",
       "┃\u001b[1;35m \u001b[0m\u001b[1;35mHow many hours per week do you read in your free-time?\u001b[0m\u001b[1;35m \u001b[0m┃\n",
       "┡━━━━━━━━━━━━━━━━━━━━━━━━━━━━━━━━━━━━━━━━━━━━━━━━━━━━━━━━┩\n",
       "│\u001b[2m \u001b[0m\u001b[2mBetween 2 and 4.5 hours per week                      \u001b[0m\u001b[2m \u001b[0m│\n",
       "├────────────────────────────────────────────────────────┤\n",
       "│\u001b[2m \u001b[0m\u001b[2mBetween 2 and 4.5 hours per week                      \u001b[0m\u001b[2m \u001b[0m│\n",
       "├────────────────────────────────────────────────────────┤\n",
       "│\u001b[2m \u001b[0m\u001b[2mMore than 7 hours per week                            \u001b[0m\u001b[2m \u001b[0m│\n",
       "├────────────────────────────────────────────────────────┤\n",
       "│\u001b[2m \u001b[0m\u001b[2mBetween 2 and 4.5 hours per week                      \u001b[0m\u001b[2m \u001b[0m│\n",
       "├────────────────────────────────────────────────────────┤\n",
       "│\u001b[2m \u001b[0m\u001b[2mBetween 2 and 4.5 hours per week                      \u001b[0m\u001b[2m \u001b[0m│\n",
       "├────────────────────────────────────────────────────────┤\n",
       "│\u001b[2m \u001b[0m\u001b[2mBetween 4.5 and 7 hours per week                      \u001b[0m\u001b[2m \u001b[0m│\n",
       "├────────────────────────────────────────────────────────┤\n",
       "│\u001b[2m \u001b[0m\u001b[2mMore than 7 hours per week                            \u001b[0m\u001b[2m \u001b[0m│\n",
       "├────────────────────────────────────────────────────────┤\n",
       "│\u001b[2m \u001b[0m\u001b[2mBetween 0 and 2 hours per week                        \u001b[0m\u001b[2m \u001b[0m│\n",
       "├────────────────────────────────────────────────────────┤\n",
       "│\u001b[2m \u001b[0m\u001b[2mBetween 0 and 2 hours per week                        \u001b[0m\u001b[2m \u001b[0m│\n",
       "├────────────────────────────────────────────────────────┤\n",
       "│\u001b[2m \u001b[0m\u001b[2mBetween 4.5 and 7 hours per week                      \u001b[0m\u001b[2m \u001b[0m│\n",
       "└────────────────────────────────────────────────────────┘\n"
      ]
     },
     "metadata": {},
     "output_type": "display_data"
    },
    {
     "data": {
      "text/html": [
       "<pre style=\"white-space:pre;overflow-x:auto;line-height:normal;font-family:Menlo,'DejaVu Sans Mono',consolas,'Courier New',monospace\">┏━━━━━━━━━━━━━━━━━━━━━━━━━━━━━━━━━━━━━━━━━┓\n",
       "┃<span style=\"color: #800080; text-decoration-color: #800080; font-weight: bold\"> Do you use the social media app TikTok? </span>┃\n",
       "┡━━━━━━━━━━━━━━━━━━━━━━━━━━━━━━━━━━━━━━━━━┩\n",
       "│<span style=\"color: #7f7f7f; text-decoration-color: #7f7f7f\"> Yes                                     </span>│\n",
       "├─────────────────────────────────────────┤\n",
       "│<span style=\"color: #7f7f7f; text-decoration-color: #7f7f7f\"> No                                      </span>│\n",
       "├─────────────────────────────────────────┤\n",
       "│<span style=\"color: #7f7f7f; text-decoration-color: #7f7f7f\"> No                                      </span>│\n",
       "├─────────────────────────────────────────┤\n",
       "│<span style=\"color: #7f7f7f; text-decoration-color: #7f7f7f\"> No                                      </span>│\n",
       "├─────────────────────────────────────────┤\n",
       "│<span style=\"color: #7f7f7f; text-decoration-color: #7f7f7f\"> No                                      </span>│\n",
       "├─────────────────────────────────────────┤\n",
       "│<span style=\"color: #7f7f7f; text-decoration-color: #7f7f7f\"> Yes                                     </span>│\n",
       "├─────────────────────────────────────────┤\n",
       "│<span style=\"color: #7f7f7f; text-decoration-color: #7f7f7f\"> No                                      </span>│\n",
       "├─────────────────────────────────────────┤\n",
       "│<span style=\"color: #7f7f7f; text-decoration-color: #7f7f7f\"> No                                      </span>│\n",
       "├─────────────────────────────────────────┤\n",
       "│<span style=\"color: #7f7f7f; text-decoration-color: #7f7f7f\"> No                                      </span>│\n",
       "├─────────────────────────────────────────┤\n",
       "│<span style=\"color: #7f7f7f; text-decoration-color: #7f7f7f\"> No                                      </span>│\n",
       "└─────────────────────────────────────────┘\n",
       "</pre>\n"
      ],
      "text/plain": [
       "┏━━━━━━━━━━━━━━━━━━━━━━━━━━━━━━━━━━━━━━━━━┓\n",
       "┃\u001b[1;35m \u001b[0m\u001b[1;35mDo you use the social media app TikTok?\u001b[0m\u001b[1;35m \u001b[0m┃\n",
       "┡━━━━━━━━━━━━━━━━━━━━━━━━━━━━━━━━━━━━━━━━━┩\n",
       "│\u001b[2m \u001b[0m\u001b[2mYes                                    \u001b[0m\u001b[2m \u001b[0m│\n",
       "├─────────────────────────────────────────┤\n",
       "│\u001b[2m \u001b[0m\u001b[2mNo                                     \u001b[0m\u001b[2m \u001b[0m│\n",
       "├─────────────────────────────────────────┤\n",
       "│\u001b[2m \u001b[0m\u001b[2mNo                                     \u001b[0m\u001b[2m \u001b[0m│\n",
       "├─────────────────────────────────────────┤\n",
       "│\u001b[2m \u001b[0m\u001b[2mNo                                     \u001b[0m\u001b[2m \u001b[0m│\n",
       "├─────────────────────────────────────────┤\n",
       "│\u001b[2m \u001b[0m\u001b[2mNo                                     \u001b[0m\u001b[2m \u001b[0m│\n",
       "├─────────────────────────────────────────┤\n",
       "│\u001b[2m \u001b[0m\u001b[2mYes                                    \u001b[0m\u001b[2m \u001b[0m│\n",
       "├─────────────────────────────────────────┤\n",
       "│\u001b[2m \u001b[0m\u001b[2mNo                                     \u001b[0m\u001b[2m \u001b[0m│\n",
       "├─────────────────────────────────────────┤\n",
       "│\u001b[2m \u001b[0m\u001b[2mNo                                     \u001b[0m\u001b[2m \u001b[0m│\n",
       "├─────────────────────────────────────────┤\n",
       "│\u001b[2m \u001b[0m\u001b[2mNo                                     \u001b[0m\u001b[2m \u001b[0m│\n",
       "├─────────────────────────────────────────┤\n",
       "│\u001b[2m \u001b[0m\u001b[2mNo                                     \u001b[0m\u001b[2m \u001b[0m│\n",
       "└─────────────────────────────────────────┘\n"
      ]
     },
     "metadata": {},
     "output_type": "display_data"
    },
    {
     "data": {
      "text/html": [
       "<pre style=\"white-space:pre;overflow-x:auto;line-height:normal;font-family:Menlo,'DejaVu Sans Mono',consolas,'Courier New',monospace\">┏━━━━━━━━━━━━━━━━━━━━━━━━━━━━━━━━━━━━━━━━━━━━━━━━━┓\n",
       "┃<span style=\"color: #800080; text-decoration-color: #800080; font-weight: bold\"> How many hours per week do you spend on TikTok? </span>┃\n",
       "┡━━━━━━━━━━━━━━━━━━━━━━━━━━━━━━━━━━━━━━━━━━━━━━━━━┩\n",
       "│<span style=\"color: #7f7f7f; text-decoration-color: #7f7f7f\"> Between 2 and 4.5 hours per week                </span>│\n",
       "├─────────────────────────────────────────────────┤\n",
       "│<span style=\"color: #7f7f7f; text-decoration-color: #7f7f7f\"> 0 hours per week                                </span>│\n",
       "├─────────────────────────────────────────────────┤\n",
       "│<span style=\"color: #7f7f7f; text-decoration-color: #7f7f7f\"> Between 0 and 2 hours per week                  </span>│\n",
       "├─────────────────────────────────────────────────┤\n",
       "│<span style=\"color: #7f7f7f; text-decoration-color: #7f7f7f\"> 0 hours per week                                </span>│\n",
       "├─────────────────────────────────────────────────┤\n",
       "│<span style=\"color: #7f7f7f; text-decoration-color: #7f7f7f\"> 0 hours per week                                </span>│\n",
       "├─────────────────────────────────────────────────┤\n",
       "│<span style=\"color: #7f7f7f; text-decoration-color: #7f7f7f\"> Between 2 and 4.5 hours per week                </span>│\n",
       "├─────────────────────────────────────────────────┤\n",
       "│<span style=\"color: #7f7f7f; text-decoration-color: #7f7f7f\"> 0 hours per week                                </span>│\n",
       "├─────────────────────────────────────────────────┤\n",
       "│<span style=\"color: #7f7f7f; text-decoration-color: #7f7f7f\"> Between 2 and 4.5 hours per week                </span>│\n",
       "├─────────────────────────────────────────────────┤\n",
       "│<span style=\"color: #7f7f7f; text-decoration-color: #7f7f7f\"> 0 hours per week                                </span>│\n",
       "├─────────────────────────────────────────────────┤\n",
       "│<span style=\"color: #7f7f7f; text-decoration-color: #7f7f7f\"> 0 hours per week                                </span>│\n",
       "└─────────────────────────────────────────────────┘\n",
       "</pre>\n"
      ],
      "text/plain": [
       "┏━━━━━━━━━━━━━━━━━━━━━━━━━━━━━━━━━━━━━━━━━━━━━━━━━┓\n",
       "┃\u001b[1;35m \u001b[0m\u001b[1;35mHow many hours per week do you spend on TikTok?\u001b[0m\u001b[1;35m \u001b[0m┃\n",
       "┡━━━━━━━━━━━━━━━━━━━━━━━━━━━━━━━━━━━━━━━━━━━━━━━━━┩\n",
       "│\u001b[2m \u001b[0m\u001b[2mBetween 2 and 4.5 hours per week               \u001b[0m\u001b[2m \u001b[0m│\n",
       "├─────────────────────────────────────────────────┤\n",
       "│\u001b[2m \u001b[0m\u001b[2m0 hours per week                               \u001b[0m\u001b[2m \u001b[0m│\n",
       "├─────────────────────────────────────────────────┤\n",
       "│\u001b[2m \u001b[0m\u001b[2mBetween 0 and 2 hours per week                 \u001b[0m\u001b[2m \u001b[0m│\n",
       "├─────────────────────────────────────────────────┤\n",
       "│\u001b[2m \u001b[0m\u001b[2m0 hours per week                               \u001b[0m\u001b[2m \u001b[0m│\n",
       "├─────────────────────────────────────────────────┤\n",
       "│\u001b[2m \u001b[0m\u001b[2m0 hours per week                               \u001b[0m\u001b[2m \u001b[0m│\n",
       "├─────────────────────────────────────────────────┤\n",
       "│\u001b[2m \u001b[0m\u001b[2mBetween 2 and 4.5 hours per week               \u001b[0m\u001b[2m \u001b[0m│\n",
       "├─────────────────────────────────────────────────┤\n",
       "│\u001b[2m \u001b[0m\u001b[2m0 hours per week                               \u001b[0m\u001b[2m \u001b[0m│\n",
       "├─────────────────────────────────────────────────┤\n",
       "│\u001b[2m \u001b[0m\u001b[2mBetween 2 and 4.5 hours per week               \u001b[0m\u001b[2m \u001b[0m│\n",
       "├─────────────────────────────────────────────────┤\n",
       "│\u001b[2m \u001b[0m\u001b[2m0 hours per week                               \u001b[0m\u001b[2m \u001b[0m│\n",
       "├─────────────────────────────────────────────────┤\n",
       "│\u001b[2m \u001b[0m\u001b[2m0 hours per week                               \u001b[0m\u001b[2m \u001b[0m│\n",
       "└─────────────────────────────────────────────────┘\n"
      ]
     },
     "metadata": {},
     "output_type": "display_data"
    }
   ],
   "source": [
    "# Sample 1 Survey Responses\n",
    "# Pretty Labels\n",
    "result1.select(\"q1_ls\").print(pretty_labels={\"answer.q1_ls\":q1_ls.question_text})\n",
    "result2.select(\"q2_mc\").print(pretty_labels={\"answer.q2_mc\":q2_mc.question_text})\n",
    "result3.select(\"q3_mc\").print(pretty_labels={\"answer.q3_mc\":q3_mc.question_text})\n",
    "result4.select(\"q4_mc\").print(pretty_labels={\"answer.q4_mc\":q4_mc.question_text})"
   ]
  },
  {
   "cell_type": "markdown",
   "metadata": {},
   "source": [
    "## Data Cleaning"
   ]
  },
  {
   "cell_type": "code",
   "execution_count": 21,
   "metadata": {},
   "outputs": [],
   "source": [
    "import json\n",
    "import pandas as pd\n",
    "import numpy as np"
   ]
  },
  {
   "cell_type": "code",
   "execution_count": 22,
   "metadata": {},
   "outputs": [],
   "source": [
    "# Creating a DataFrame from the agents list\n",
    "agents_data = pd.DataFrame([agent.traits for agent in agents])"
   ]
  },
  {
   "cell_type": "markdown",
   "metadata": {},
   "source": [
    "### Creating a DataFrame for Sample 1 Agents Data"
   ]
  },
  {
   "cell_type": "code",
   "execution_count": 23,
   "metadata": {},
   "outputs": [
    {
     "name": "stdout",
     "output_type": "stream",
     "text": [
      "<class 'list'>\n"
     ]
    }
   ],
   "source": [
    "print(type(sample1))"
   ]
  },
  {
   "cell_type": "code",
   "execution_count": 24,
   "metadata": {},
   "outputs": [],
   "source": [
    "# Creating a DataFrame from the sample1 DataFrame\n",
    "sample1_data = pd.DataFrame(sample1)"
   ]
  },
  {
   "cell_type": "code",
   "execution_count": 25,
   "metadata": {},
   "outputs": [
    {
     "name": "stdout",
     "output_type": "stream",
     "text": [
      "                                                   0\n",
      "0  Agent(traits = {'age': 'You are a young adult ...\n",
      "1  Agent(traits = {'age': 'You are a senior citiz...\n",
      "2  Agent(traits = {'age': 'You are a young adult ...\n",
      "3  Agent(traits = {'age': 'You are middle-aged (y...\n",
      "4  Agent(traits = {'age': 'You are middle-aged (y...\n"
     ]
    }
   ],
   "source": [
    "print(sample1_data.head())"
   ]
  },
  {
   "cell_type": "code",
   "execution_count": 26,
   "metadata": {},
   "outputs": [],
   "source": [
    "# Saving the DataFrame to a json file\n",
    "js_file_path = '/Users/shylaatchison/wd/GitHub/Research/AI_Survey_Example/data/df_example-sample1_data.js'\n",
    "sample1_data.to_json(js_file_path, index=False)\n",
    "\n",
    "js_file_path = '/Users/shylaatchison/wd/GitHub/Research/AI_Survey_Example/data/df_example-sample1_data.js'\n",
    "json_data = open(js_file_path).read()"
   ]
  },
  {
   "cell_type": "code",
   "execution_count": 27,
   "metadata": {},
   "outputs": [
    {
     "data": {
      "text/plain": [
       "'{\"0\":{\"0\":{\"codebook\":{},\"data\":{\"traits\":{\"age\":\"You are a young adult (your age is between 25 and 44 years old).\",\"gender\":\"You are a female.\",\"education\":\"You have some college education.\"}},\"default_instruction\":\"You are answering questions as if you were a human. Do not break character.\",\"instruction\":\"You are answering questions as if you were a human. Do not break character.\",\"set_instructions\":false,\"traits\":{\"age\":\"You are a young adult (your age is between 25 and 44 years old).\",\"gende'"
      ]
     },
     "execution_count": 27,
     "metadata": {},
     "output_type": "execute_result"
    }
   ],
   "source": [
    "file_path = '/Users/shylaatchison/wd/GitHub/Research/AI_Survey_Example/data/df_example-sample1_data.js'\n",
    "\n",
    "# Open and read the file\n",
    "with open(file_path, 'r') as file:\n",
    "    js_content = file.read()\n",
    "\n",
    "# Display the first 500 characters to understand the structure\n",
    "js_content[:500]"
   ]
  },
  {
   "cell_type": "code",
   "execution_count": 28,
   "metadata": {},
   "outputs": [
    {
     "name": "stdout",
     "output_type": "stream",
     "text": [
      "<class 'str'>\n"
     ]
    }
   ],
   "source": [
    "print(type(js_content))"
   ]
  },
  {
   "cell_type": "code",
   "execution_count": 29,
   "metadata": {},
   "outputs": [
    {
     "name": "stdout",
     "output_type": "stream",
     "text": [
      "Type of ex_sample1_agents: <class 'dict'>\n",
      "Keys in ex_sample1_agents: dict_keys(['0'])\n"
     ]
    }
   ],
   "source": [
    "# Isolating the JSON part\n",
    "json_start = js_content.find('{')\n",
    "json_end = js_content.rfind('}') + 1\n",
    "json_data = js_content[json_start:json_end]\n",
    "\n",
    "# Parse the JSON data\n",
    "try:\n",
    "    ex_sample1_agents = json.loads(json_data)\n",
    "except json.JSONDecodeError as e:\n",
    "    error_message = str(e)\n",
    "    ex_sample1_agents = None\n",
    "\n",
    "# Check if JSON parsing was successful\n",
    "if ex_sample1_agents is not None:\n",
    "    # Inspect the type and content of sample1_agents\n",
    "    print(\"Type of ex_sample1_agents:\", type(ex_sample1_agents))\n",
    "    if isinstance(ex_sample1_agents, dict):\n",
    "        print(\"Keys in ex_sample1_agents:\", ex_sample1_agents.keys())\n",
    "    elif isinstance(ex_sample1_agents, list):\n",
    "        print(\"Length of ex_sample1_agents list:\", len(ex_sample1_agents))\n",
    "    else:\n",
    "        print(\"ex_sample1_agents is neither a dictionary nor a list.\")\n",
    "else:\n",
    "    print(\"Failed to parse JSON data:\", error_message)"
   ]
  },
  {
   "cell_type": "code",
   "execution_count": 30,
   "metadata": {},
   "outputs": [
    {
     "name": "stdout",
     "output_type": "stream",
     "text": [
      "Empty DataFrame\n",
      "Columns: [Age, Gender, Educational Attainment]\n",
      "Index: []\n"
     ]
    }
   ],
   "source": [
    "# Assuming ex_sample1_agents is a dictionary with lists of traits\n",
    "# ex_sample1_agents = ...\n",
    "\n",
    "# Create a DataFrame from the dictionary\n",
    "ex_sample1_agents_df = pd.DataFrame({\n",
    "    \"Age\": ex_sample1_agents.get(\"age\", []),\n",
    "    \"Gender\": ex_sample1_agents.get(\"gender\", []),\n",
    "    \"Educational Attainment\": ex_sample1_agents.get(\"education\", [])\n",
    "})\n",
    "\n",
    "# Display the first few rows of the DataFrame to verify\n",
    "print(ex_sample1_agents_df.head())"
   ]
  },
  {
   "cell_type": "code",
   "execution_count": 31,
   "metadata": {},
   "outputs": [
    {
     "name": "stdout",
     "output_type": "stream",
     "text": [
      "Key: 0, Value: {'0': {'codebook': {}, 'data': {'traits': {'age': 'You are a young adult (your age is between 25 and 44 years old).', 'gender': 'You are a female.', 'education': 'You have some college education.'}}, 'default_instruction': 'You are answering questions as if you were a human. Do not break character.', 'instruction': 'You are answering questions as if you were a human. Do not break character.', 'set_instructions': False, 'traits': {'age': 'You are a young adult (your age is between 25 and 44 years old).', 'gender': 'You are a female.', 'education': 'You have some college education.'}}, '1': {'codebook': {}, 'data': {'traits': {'age': 'You are a senior citizen (your age is 60 or more years old).', 'gender': 'You are a male.', 'education': 'You have a graduate degree.'}}, 'default_instruction': 'You are answering questions as if you were a human. Do not break character.', 'instruction': 'You are answering questions as if you were a human. Do not break character.', 'set_instructions': False, 'traits': {'age': 'You are a senior citizen (your age is 60 or more years old).', 'gender': 'You are a male.', 'education': 'You have a graduate degree.'}}, '2': {'codebook': {}, 'data': {'traits': {'age': 'You are a young adult (your age is between 25 and 44 years old).', 'gender': 'You are a female.', 'education': 'You have a graduate degree.'}}, 'default_instruction': 'You are answering questions as if you were a human. Do not break character.', 'instruction': 'You are answering questions as if you were a human. Do not break character.', 'set_instructions': False, 'traits': {'age': 'You are a young adult (your age is between 25 and 44 years old).', 'gender': 'You are a female.', 'education': 'You have a graduate degree.'}}, '3': {'codebook': {}, 'data': {'traits': {'age': 'You are middle-aged (your age is between 45 and 59 years old).', 'gender': 'You are a female.', 'education': 'You have a high school diploma or equivalent.'}}, 'default_instruction': 'You are answering questions as if you were a human. Do not break character.', 'instruction': 'You are answering questions as if you were a human. Do not break character.', 'set_instructions': False, 'traits': {'age': 'You are middle-aged (your age is between 45 and 59 years old).', 'gender': 'You are a female.', 'education': 'You have a high school diploma or equivalent.'}}, '4': {'codebook': {}, 'data': {'traits': {'age': 'You are middle-aged (your age is between 45 and 59 years old).', 'gender': 'You are a female.', 'education': 'You have some college education.'}}, 'default_instruction': 'You are answering questions as if you were a human. Do not break character.', 'instruction': 'You are answering questions as if you were a human. Do not break character.', 'set_instructions': False, 'traits': {'age': 'You are middle-aged (your age is between 45 and 59 years old).', 'gender': 'You are a female.', 'education': 'You have some college education.'}}, '5': {'codebook': {}, 'data': {'traits': {'age': 'You are an adolescent (your age is between 18 and 24 years old).', 'gender': 'You are a female.', 'education': 'You have a graduate degree.'}}, 'default_instruction': 'You are answering questions as if you were a human. Do not break character.', 'instruction': 'You are answering questions as if you were a human. Do not break character.', 'set_instructions': False, 'traits': {'age': 'You are an adolescent (your age is between 18 and 24 years old).', 'gender': 'You are a female.', 'education': 'You have a graduate degree.'}}, '6': {'codebook': {}, 'data': {'traits': {'age': 'You are a senior citizen (your age is 60 or more years old).', 'gender': 'You are a female.', 'education': 'You have a college degree.'}}, 'default_instruction': 'You are answering questions as if you were a human. Do not break character.', 'instruction': 'You are answering questions as if you were a human. Do not break character.', 'set_instructions': False, 'traits': {'age': 'You are a senior citizen (your age is 60 or more years old).', 'gender': 'You are a female.', 'education': 'You have a college degree.'}}, '7': {'codebook': {}, 'data': {'traits': {'age': 'You are an adolescent (your age is between 18 and 24 years old).', 'gender': 'You are a female.', 'education': 'You have a middle school diploma or less educational attainment.'}}, 'default_instruction': 'You are answering questions as if you were a human. Do not break character.', 'instruction': 'You are answering questions as if you were a human. Do not break character.', 'set_instructions': False, 'traits': {'age': 'You are an adolescent (your age is between 18 and 24 years old).', 'gender': 'You are a female.', 'education': 'You have a middle school diploma or less educational attainment.'}}, '8': {'codebook': {}, 'data': {'traits': {'age': 'You are middle-aged (your age is between 45 and 59 years old).', 'gender': 'You are a male.', 'education': 'You have a middle school diploma or less educational attainment.'}}, 'default_instruction': 'You are answering questions as if you were a human. Do not break character.', 'instruction': 'You are answering questions as if you were a human. Do not break character.', 'set_instructions': False, 'traits': {'age': 'You are middle-aged (your age is between 45 and 59 years old).', 'gender': 'You are a male.', 'education': 'You have a middle school diploma or less educational attainment.'}}, '9': {'codebook': {}, 'data': {'traits': {'age': 'You are a senior citizen (your age is 60 or more years old).', 'gender': 'You are a male.', 'education': 'You have some college education.'}}, 'default_instruction': 'You are answering questions as if you were a human. Do not break character.', 'instruction': 'You are answering questions as if you were a human. Do not break character.', 'set_instructions': False, 'traits': {'age': 'You are a senior citizen (your age is 60 or more years old).', 'gender': 'You are a male.', 'education': 'You have some college education.'}}}\n"
     ]
    }
   ],
   "source": [
    "# Print a subset of the ex_sample1_agents dictionary to understand its structure\n",
    "if isinstance(ex_sample1_agents, dict):\n",
    "    for key, value in list(ex_sample1_agents.items())[:5]:  # Adjust the number 5 if needed\n",
    "        print(f\"Key: {key}, Value: {value}\")\n",
    "else:\n",
    "    print(\"ex_sample1_agents is not a dictionary.\")"
   ]
  },
  {
   "cell_type": "code",
   "execution_count": 32,
   "metadata": {},
   "outputs": [
    {
     "name": "stdout",
     "output_type": "stream",
     "text": [
      "Expected keys not found in dictionary for key: 0\n",
      "Empty DataFrame\n",
      "Columns: []\n",
      "Index: []\n",
      "Extracted traits list: []\n"
     ]
    }
   ],
   "source": [
    "# Initialize an empty list to store the extracted trait dictionaries\n",
    "extracted_traits = []\n",
    "\n",
    "# Iterate over the nested dictionary to extract the traits\n",
    "for key, value in ex_sample1_agents.items():\n",
    "    # Check if the expected keys are in the dictionary\n",
    "    if 'data' in value and 'traits' in value['data']:\n",
    "        traits = value['data']['traits']\n",
    "        extracted_traits.append(traits)\n",
    "    else:\n",
    "        print(f\"Expected keys not found in dictionary for key: {key}\")\n",
    "\n",
    "# Create a DataFrame from the list of traits dictionaries\n",
    "ex_sample1_agents_df = pd.DataFrame(extracted_traits)\n",
    "\n",
    "# Display the first few rows of the DataFrame to verify\n",
    "print(ex_sample1_agents_df.head())\n",
    "\n",
    "# If the DataFrame is still empty, print the extracted traits list\n",
    "if ex_sample1_agents_df.empty:\n",
    "    print(\"Extracted traits list:\", extracted_traits)"
   ]
  },
  {
   "cell_type": "code",
   "execution_count": 33,
   "metadata": {},
   "outputs": [
    {
     "name": "stdout",
     "output_type": "stream",
     "text": [
      "Keys in the first item: 0\n",
      "Keys in the value of the first item: ['0', '1', '2', '3', '4', '5', '6', '7', '8', '9']\n",
      "'data' key not found in the first item\n",
      "'traits' key not found in 'data'\n"
     ]
    }
   ],
   "source": [
    "# Print the keys of the first item in ex_sample1_agents\n",
    "first_item_key = list(ex_sample1_agents.keys())[0]\n",
    "first_item_value = ex_sample1_agents[first_item_key]\n",
    "\n",
    "print(f\"Keys in the first item: {first_item_key}\")\n",
    "print(f\"Keys in the value of the first item: {list(first_item_value.keys())}\")\n",
    "\n",
    "# Check if 'data' key is present and print its keys if it is\n",
    "if 'data' in first_item_value:\n",
    "    print(f\"Keys in 'data': {list(first_item_value['data'].keys())}\")\n",
    "else:\n",
    "    print(\"'data' key not found in the first item\")\n",
    "\n",
    "# Check if 'traits' key is present in 'data' and print its content if it is\n",
    "if 'traits' in first_item_value.get('data', {}):\n",
    "    print(f\"Content in 'traits': {first_item_value['data']['traits']}\")\n",
    "else:\n",
    "    print(\"'traits' key not found in 'data'\")"
   ]
  },
  {
   "cell_type": "code",
   "execution_count": 34,
   "metadata": {},
   "outputs": [
    {
     "name": "stdout",
     "output_type": "stream",
     "text": [
      "                                                 age             gender  \\\n",
      "0  You are a young adult (your age is between 25 ...  You are a female.   \n",
      "1  You are a senior citizen (your age is 60 or mo...    You are a male.   \n",
      "2  You are a young adult (your age is between 25 ...  You are a female.   \n",
      "3  You are middle-aged (your age is between 45 an...  You are a female.   \n",
      "4  You are middle-aged (your age is between 45 an...  You are a female.   \n",
      "\n",
      "                                       education  \n",
      "0               You have some college education.  \n",
      "1                    You have a graduate degree.  \n",
      "2                    You have a graduate degree.  \n",
      "3  You have a high school diploma or equivalent.  \n",
      "4               You have some college education.  \n"
     ]
    }
   ],
   "source": [
    "# Initialize an empty list to store the extracted trait dictionaries\n",
    "extracted_traits = []\n",
    "\n",
    "# Iterate over the nested dictionary to extract the traits\n",
    "for outer_key, outer_value in ex_sample1_agents.items():\n",
    "    for inner_key, inner_value in outer_value.items():\n",
    "        # Check if the expected keys are in the dictionary\n",
    "        if 'data' in inner_value and 'traits' in inner_value['data']:\n",
    "            traits = inner_value['data']['traits']\n",
    "            extracted_traits.append(traits)\n",
    "        else:\n",
    "            print(f\"Expected keys not found in dictionary for inner key: {inner_key} of outer key: {outer_key}\")\n",
    "\n",
    "# Create a DataFrame from the list of traits dictionaries\n",
    "ex_sample1_agents_df = pd.DataFrame(extracted_traits)\n",
    "\n",
    "# Display the first few rows of the DataFrame to verify\n",
    "print(ex_sample1_agents_df.head())\n",
    "\n",
    "# If the DataFrame is still empty, print the extracted traits list\n",
    "if ex_sample1_agents_df.empty:\n",
    "    print(\"Extracted traits list:\", extracted_traits)"
   ]
  },
  {
   "cell_type": "code",
   "execution_count": 35,
   "metadata": {},
   "outputs": [
    {
     "name": "stdout",
     "output_type": "stream",
     "text": [
      "                                                 age             gender  \\\n",
      "0  You are a young adult (your age is between 25 ...  You are a female.   \n",
      "1  You are a senior citizen (your age is 60 or mo...    You are a male.   \n",
      "2  You are a young adult (your age is between 25 ...  You are a female.   \n",
      "3  You are middle-aged (your age is between 45 an...  You are a female.   \n",
      "4  You are middle-aged (your age is between 45 an...  You are a female.   \n",
      "\n",
      "                                       education  \n",
      "0               You have some college education.  \n",
      "1                    You have a graduate degree.  \n",
      "2                    You have a graduate degree.  \n",
      "3  You have a high school diploma or equivalent.  \n",
      "4               You have some college education.  \n"
     ]
    }
   ],
   "source": [
    "print(ex_sample1_agents_df.head())"
   ]
  },
  {
   "cell_type": "code",
   "execution_count": 36,
   "metadata": {},
   "outputs": [
    {
     "name": "stdout",
     "output_type": "stream",
     "text": [
      "                                                 Age             Gender  \\\n",
      "0  You are a young adult (your age is between 25 ...  You are a female.   \n",
      "1  You are a senior citizen (your age is 60 or mo...    You are a male.   \n",
      "2  You are a young adult (your age is between 25 ...  You are a female.   \n",
      "3  You are middle-aged (your age is between 45 an...  You are a female.   \n",
      "4  You are middle-aged (your age is between 45 an...  You are a female.   \n",
      "\n",
      "                          Educational Attainment  \n",
      "0               You have some college education.  \n",
      "1                    You have a graduate degree.  \n",
      "2                    You have a graduate degree.  \n",
      "3  You have a high school diploma or equivalent.  \n",
      "4               You have some college education.  \n"
     ]
    }
   ],
   "source": [
    "# Rename the columns\n",
    "ex_sample1_agents_df = ex_sample1_agents_df.rename(columns={\"age\": \"Age\", \"gender\":\"Gender\", \"education\": \"Educational Attainment\"})\n",
    "\n",
    "# Display the first few rows of the DataFrame to verify the change\n",
    "print(ex_sample1_agents_df.head())"
   ]
  },
  {
   "cell_type": "code",
   "execution_count": 37,
   "metadata": {},
   "outputs": [
    {
     "name": "stdout",
     "output_type": "stream",
     "text": [
      "   Sample  Agent                                                Age  \\\n",
      "0       1      1  You are a young adult (your age is between 25 ...   \n",
      "1       1      2  You are a senior citizen (your age is 60 or mo...   \n",
      "2       1      3  You are a young adult (your age is between 25 ...   \n",
      "3       1      4  You are middle-aged (your age is between 45 an...   \n",
      "4       1      5  You are middle-aged (your age is between 45 an...   \n",
      "\n",
      "              Gender                         Educational Attainment  \n",
      "0  You are a female.               You have some college education.  \n",
      "1    You are a male.                    You have a graduate degree.  \n",
      "2  You are a female.                    You have a graduate degree.  \n",
      "3  You are a female.  You have a high school diploma or equivalent.  \n",
      "4  You are a female.               You have some college education.  \n"
     ]
    }
   ],
   "source": [
    "# Add the 'Sample' column with all values set to 1\n",
    "ex_sample1_agents_df['Sample'] = 1\n",
    "\n",
    "# Add the 'Agent' column, which is the index + 1\n",
    "ex_sample1_agents_df['Agent'] = ex_sample1_agents_df.index + 1\n",
    "\n",
    "# Reorder the DataFrame to have 'Sample' and 'Agent' as the first two columns\n",
    "column_order = ['Sample', 'Agent'] + [col for col in ex_sample1_agents_df.columns if col not in ['Sample', 'Agent']]\n",
    "ex_sample1_agents_df = ex_sample1_agents_df[column_order]\n",
    "\n",
    "# Display the first few rows of the modified DataFrame to verify\n",
    "print(ex_sample1_agents_df.head())"
   ]
  },
  {
   "cell_type": "code",
   "execution_count": 38,
   "metadata": {},
   "outputs": [],
   "source": [
    "# Export the DataFrame to a CSV file\n",
    "ex_sample1_agents_df.to_csv('ex_sample1_agents.csv', index=False)"
   ]
  },
  {
   "cell_type": "markdown",
   "metadata": {},
   "source": [
    "### Creating Sample 1 Dataframe for Both Agent Traits and Survey Responses:"
   ]
  },
  {
   "cell_type": "code",
   "execution_count": 39,
   "metadata": {},
   "outputs": [],
   "source": [
    "ex_sample1_df = pd.DataFrame(ex_sample1_agents_df)"
   ]
  },
  {
   "cell_type": "code",
   "execution_count": 40,
   "metadata": {},
   "outputs": [
    {
     "name": "stdout",
     "output_type": "stream",
     "text": [
      "<class 'pandas.core.frame.DataFrame'>\n"
     ]
    }
   ],
   "source": [
    "print(type(ex_sample1_df))"
   ]
  },
  {
   "cell_type": "code",
   "execution_count": 41,
   "metadata": {},
   "outputs": [
    {
     "name": "stdout",
     "output_type": "stream",
     "text": [
      "<class 'edsl.results.Results.Results'>\n"
     ]
    }
   ],
   "source": [
    "print(type(result1))"
   ]
  },
  {
   "cell_type": "code",
   "execution_count": 42,
   "metadata": {},
   "outputs": [],
   "source": [
    "result1_1 = result1.select(\"answer.q1_ls\")"
   ]
  },
  {
   "cell_type": "code",
   "execution_count": 43,
   "metadata": {},
   "outputs": [
    {
     "name": "stdout",
     "output_type": "stream",
     "text": [
      "<class 'edsl.results.Dataset.Dataset'>\n"
     ]
    }
   ],
   "source": [
    "print(type(result1_1))"
   ]
  },
  {
   "cell_type": "code",
   "execution_count": 44,
   "metadata": {},
   "outputs": [
    {
     "name": "stdout",
     "output_type": "stream",
     "text": [
      "{'answer.q1_ls': ['7', '7', '8', '6', '6', '8', '8', '5', '2', '6']}\n"
     ]
    }
   ],
   "source": [
    "print(result1_1[0])"
   ]
  },
  {
   "cell_type": "code",
   "execution_count": 45,
   "metadata": {},
   "outputs": [
    {
     "name": "stdout",
     "output_type": "stream",
     "text": [
      "[{'answer.q1_ls': ['7', '7', '8', '6', '6', '8', '8', '5', '2', '6']}]\n"
     ]
    }
   ],
   "source": [
    "print(result1_1)"
   ]
  },
  {
   "cell_type": "code",
   "execution_count": 46,
   "metadata": {},
   "outputs": [
    {
     "data": {
      "text/plain": [
       "10"
      ]
     },
     "execution_count": 46,
     "metadata": {},
     "output_type": "execute_result"
    }
   ],
   "source": [
    "len(ex_sample1_df)"
   ]
  },
  {
   "cell_type": "code",
   "execution_count": 47,
   "metadata": {},
   "outputs": [
    {
     "name": "stdout",
     "output_type": "stream",
     "text": [
      "   Sample  Agent                                                Age  \\\n",
      "0       1      1  You are a young adult (your age is between 25 ...   \n",
      "1       1      2  You are a senior citizen (your age is 60 or mo...   \n",
      "2       1      3  You are a young adult (your age is between 25 ...   \n",
      "3       1      4  You are middle-aged (your age is between 45 an...   \n",
      "4       1      5  You are middle-aged (your age is between 45 an...   \n",
      "\n",
      "              Gender                         Educational Attainment  \\\n",
      "0  You are a female.               You have some college education.   \n",
      "1    You are a male.                    You have a graduate degree.   \n",
      "2  You are a female.                    You have a graduate degree.   \n",
      "3  You are a female.  You have a high school diploma or equivalent.   \n",
      "4  You are a female.               You have some college education.   \n",
      "\n",
      "  answer.q1_ls  \n",
      "0            7  \n",
      "1            7  \n",
      "2            8  \n",
      "3            6  \n",
      "4            6  \n"
     ]
    }
   ],
   "source": [
    "# Assuming ex_sample1_df is your existing DataFrame\n",
    "# And result1_1 is the list containing a single dictionary\n",
    "\n",
    "# Extract the list of lists from the 'answer.q1_ls' key in the dictionary\n",
    "q1_ls_answers = result1_1[0]['answer.q1_ls']\n",
    "\n",
    "# Check if the length of q1_ls_answers matches the number of rows in ex_sample1_df\n",
    "if len(q1_ls_answers) == len(ex_sample1_df):\n",
    "    # Create a new column 'answer.q1_ls' with default values (empty lists or None)\n",
    "    ex_sample1_df['answer.q1_ls'] = [[] for _ in range(len(ex_sample1_df))]\n",
    "\n",
    "    # Update each row in the DataFrame with the corresponding sublist of answers\n",
    "    for i, answers in enumerate(q1_ls_answers):\n",
    "        ex_sample1_df.at[i, 'answer.q1_ls'] = answers\n",
    "else:\n",
    "    print(\"Mismatch in the number of rows and the number of extracted answers\")\n",
    "\n",
    "# Display the updated DataFrame\n",
    "print(ex_sample1_df.head())"
   ]
  },
  {
   "cell_type": "code",
   "execution_count": 48,
   "metadata": {},
   "outputs": [],
   "source": [
    "result1_2 = result2.select(\"answer.q2_mc\")\n",
    "result1_3 = result3.select(\"answer.q3_mc\")\n",
    "result1_4 = result4.select(\"answer.q4_mc\")"
   ]
  },
  {
   "cell_type": "code",
   "execution_count": 49,
   "metadata": {},
   "outputs": [
    {
     "name": "stdout",
     "output_type": "stream",
     "text": [
      "   Sample  Agent                                                Age  \\\n",
      "0       1      1  You are a young adult (your age is between 25 ...   \n",
      "1       1      2  You are a senior citizen (your age is 60 or mo...   \n",
      "2       1      3  You are a young adult (your age is between 25 ...   \n",
      "3       1      4  You are middle-aged (your age is between 45 an...   \n",
      "4       1      5  You are middle-aged (your age is between 45 an...   \n",
      "\n",
      "              Gender                         Educational Attainment  \\\n",
      "0  You are a female.               You have some college education.   \n",
      "1    You are a male.                    You have a graduate degree.   \n",
      "2  You are a female.                    You have a graduate degree.   \n",
      "3  You are a female.  You have a high school diploma or equivalent.   \n",
      "4  You are a female.               You have some college education.   \n",
      "\n",
      "  answer.q1_ls                      answer.q2_mc  \n",
      "0            7  Between 2 and 4.5 hours per week  \n",
      "1            7  Between 2 and 4.5 hours per week  \n",
      "2            8        More than 7 hours per week  \n",
      "3            6  Between 2 and 4.5 hours per week  \n",
      "4            6  Between 2 and 4.5 hours per week  \n"
     ]
    }
   ],
   "source": [
    "# Assuming ex_sample1_df is your existing DataFrame\n",
    "# And result1_2 is the list containing a single dictionary\n",
    "\n",
    "# Extract the list of lists from the 'answer.q2_mc' key in the dictionary\n",
    "q2_mc_answers = result1_2[0]['answer.q2_mc']\n",
    "\n",
    "# Check if the length of q2_mc_answers matches the number of rows in ex_sample1_df\n",
    "if len(q2_mc_answers) == len(ex_sample1_df):\n",
    "    # Create a new column 'answer.q2_mc' with default values (empty lists or None)\n",
    "    ex_sample1_df['answer.q2_mc'] = [[] for _ in range(len(ex_sample1_df))]\n",
    "\n",
    "    # Update each row in the DataFrame with the corresponding sublist of answers\n",
    "    for i, answers in enumerate(q2_mc_answers):\n",
    "        ex_sample1_df.at[i, 'answer.q2_mc'] = answers\n",
    "else:\n",
    "    print(\"Mismatch in the number of rows and the number of extracted answers\")\n",
    "\n",
    "# Display the updated DataFrame\n",
    "print(ex_sample1_df.head())"
   ]
  },
  {
   "cell_type": "code",
   "execution_count": 50,
   "metadata": {},
   "outputs": [
    {
     "name": "stdout",
     "output_type": "stream",
     "text": [
      "   Sample  Agent                                                Age  \\\n",
      "0       1      1  You are a young adult (your age is between 25 ...   \n",
      "1       1      2  You are a senior citizen (your age is 60 or mo...   \n",
      "2       1      3  You are a young adult (your age is between 25 ...   \n",
      "3       1      4  You are middle-aged (your age is between 45 an...   \n",
      "4       1      5  You are middle-aged (your age is between 45 an...   \n",
      "\n",
      "              Gender                         Educational Attainment  \\\n",
      "0  You are a female.               You have some college education.   \n",
      "1    You are a male.                    You have a graduate degree.   \n",
      "2  You are a female.                    You have a graduate degree.   \n",
      "3  You are a female.  You have a high school diploma or equivalent.   \n",
      "4  You are a female.               You have some college education.   \n",
      "\n",
      "  answer.q1_ls                      answer.q2_mc answer.q3_mc  \n",
      "0            7  Between 2 and 4.5 hours per week          Yes  \n",
      "1            7  Between 2 and 4.5 hours per week           No  \n",
      "2            8        More than 7 hours per week           No  \n",
      "3            6  Between 2 and 4.5 hours per week           No  \n",
      "4            6  Between 2 and 4.5 hours per week           No  \n"
     ]
    }
   ],
   "source": [
    "# Assuming ex_sample1_df is your existing DataFrame\n",
    "# And result1_3 is the list containing a single dictionary\n",
    "\n",
    "# Extract the list of lists from the 'answer.q3_mc' key in the dictionary\n",
    "q3_mc_answers = result1_3[0]['answer.q3_mc']\n",
    "\n",
    "# Check if the length of q3_mc_answers matches the number of rows in ex_sample1_df\n",
    "if len(q3_mc_answers) == len(ex_sample1_df):\n",
    "    # Create a new column 'answer.q3_mc' with default values (empty lists or None)\n",
    "    ex_sample1_df['answer.q3_mc'] = [[] for _ in range(len(ex_sample1_df))]\n",
    "\n",
    "    # Update each row in the DataFrame with the corresponding sublist of answers\n",
    "    for i, answers in enumerate(q3_mc_answers):\n",
    "        ex_sample1_df.at[i, 'answer.q3_mc'] = answers\n",
    "else:\n",
    "    print(\"Mismatch in the number of rows and the number of extracted answers\")\n",
    "\n",
    "# Display the updated DataFrame\n",
    "print(ex_sample1_df.head())"
   ]
  },
  {
   "cell_type": "code",
   "execution_count": 51,
   "metadata": {},
   "outputs": [
    {
     "name": "stdout",
     "output_type": "stream",
     "text": [
      "   Sample  Agent                                                Age  \\\n",
      "0       1      1  You are a young adult (your age is between 25 ...   \n",
      "1       1      2  You are a senior citizen (your age is 60 or mo...   \n",
      "2       1      3  You are a young adult (your age is between 25 ...   \n",
      "3       1      4  You are middle-aged (your age is between 45 an...   \n",
      "4       1      5  You are middle-aged (your age is between 45 an...   \n",
      "\n",
      "              Gender                         Educational Attainment  \\\n",
      "0  You are a female.               You have some college education.   \n",
      "1    You are a male.                    You have a graduate degree.   \n",
      "2  You are a female.                    You have a graduate degree.   \n",
      "3  You are a female.  You have a high school diploma or equivalent.   \n",
      "4  You are a female.               You have some college education.   \n",
      "\n",
      "  answer.q1_ls                      answer.q2_mc answer.q3_mc  \\\n",
      "0            7  Between 2 and 4.5 hours per week          Yes   \n",
      "1            7  Between 2 and 4.5 hours per week           No   \n",
      "2            8        More than 7 hours per week           No   \n",
      "3            6  Between 2 and 4.5 hours per week           No   \n",
      "4            6  Between 2 and 4.5 hours per week           No   \n",
      "\n",
      "                       answer.q4_mc  \n",
      "0  Between 2 and 4.5 hours per week  \n",
      "1                  0 hours per week  \n",
      "2    Between 0 and 2 hours per week  \n",
      "3                  0 hours per week  \n",
      "4                  0 hours per week  \n"
     ]
    }
   ],
   "source": [
    "# Assuming ex_sample1_df is your existing DataFrame\n",
    "# And result1_4 is the list containing a single dictionary\n",
    "\n",
    "# Extract the list of lists from the 'answer.q4_mc' key in the dictionary\n",
    "q4_mc_answers = result1_4[0]['answer.q4_mc']\n",
    "\n",
    "# Check if the length of q4_mc_answers matches the number of rows in ex_sample1_df\n",
    "if len(q4_mc_answers) == len(ex_sample1_df):\n",
    "    # Create a new column 'answer.q4_mc' with default values (empty lists or None)\n",
    "    ex_sample1_df['answer.q4_mc'] = [[] for _ in range(len(ex_sample1_df))]\n",
    "\n",
    "    # Update each row in the DataFrame with the corresponding sublist of answers\n",
    "    for i, answers in enumerate(q4_mc_answers):\n",
    "        ex_sample1_df.at[i, 'answer.q4_mc'] = answers\n",
    "else:\n",
    "    print(\"Mismatch in the number of rows and the number of extracted answers\")\n",
    "\n",
    "# Display the updated DataFrame\n",
    "print(ex_sample1_df.head())"
   ]
  },
  {
   "cell_type": "code",
   "execution_count": 52,
   "metadata": {},
   "outputs": [],
   "source": [
    "# Export the DataFrame to a CSV file\n",
    "ex_sample1_df.to_csv('ex_sample1.csv', index=False)"
   ]
  }
 ],
 "metadata": {
  "kernelspec": {
   "display_name": "standard",
   "language": "python",
   "name": "python3"
  },
  "language_info": {
   "codemirror_mode": {
    "name": "ipython",
    "version": 3
   },
   "file_extension": ".py",
   "mimetype": "text/x-python",
   "name": "python",
   "nbconvert_exporter": "python",
   "pygments_lexer": "ipython3",
   "version": "3.11.4"
  }
 },
 "nbformat": 4,
 "nbformat_minor": 2
}
