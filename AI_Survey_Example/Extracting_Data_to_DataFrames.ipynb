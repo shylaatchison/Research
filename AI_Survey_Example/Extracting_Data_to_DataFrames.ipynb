{
 "cells": [
  {
   "cell_type": "markdown",
   "metadata": {},
   "source": [
    "# Extracting Data from Survey Responses to Store in DataFrames"
   ]
  },
  {
   "cell_type": "markdown",
   "metadata": {},
   "source": [
    "Example Survey Run Code: Question 1, Sample 1. <br>\n",
    "\n",
    "result1 = q1_cb.by(sample1).by(m4).run() <br>\n",
    "\n",
    "result1.select(\"q1_cb\").print(pretty_labels={\"answer.q1_cb\":q1_cb.question_text}) <br>"
   ]
  },
  {
   "cell_type": "markdown",
   "metadata": {},
   "source": [
    "The principle methods for combining questions and administering them to agents are:<br>\n",
    "\n",
    "**by()** <br>\n",
    "\n",
    "**run()** <br>\n",
    "\n",
    "The **run()** method administers a question or survey to an LLM. It only requires a single question, as shown in the quick example above. <br>\n",
    "\n",
    "The **by()** method is used optionally to specify LLMs, AI agent personas and question parameters to be applied before a question or survey is administered. It precedes the **run()** method and can be appended as many times as needed to make each desired specification. <br>\n",
    "\n",
    "Convenient methods for inspecting results include: <br>\n",
    "\n",
    "**select()** <br>\n",
    "\n",
    "**filter()** <br>\n",
    "\n",
    "**print()** <br>\n",
    "\n",
    "The **select()** method lets us choose the results that we want to inspect or work with, the **filter()** method lets us narrow the results based on responses, and the **print()** method lets us easily show them in a table. <br>"
   ]
  },
  {
   "cell_type": "markdown",
   "metadata": {},
   "source": [
    "We can store the Results and use the **select()**, **filter()**, and **print()** methods to readily inspect them: <br>\n",
    "\n",
    "result = question.run() <br>\n",
    "\n",
    "result.filter(\"question == 'yes'\") <br>\n",
    "\n",
    "result.select(\"question\").print() <br>"
   ]
  },
  {
   "cell_type": "code",
   "execution_count": null,
   "metadata": {},
   "outputs": [],
   "source": []
  }
 ],
 "metadata": {
  "kernelspec": {
   "display_name": "standard",
   "language": "python",
   "name": "python3"
  },
  "language_info": {
   "name": "python",
   "version": "3.11.4"
  }
 },
 "nbformat": 4,
 "nbformat_minor": 2
}
