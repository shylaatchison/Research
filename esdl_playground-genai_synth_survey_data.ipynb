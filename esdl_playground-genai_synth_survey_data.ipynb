{
 "cells": [
  {
   "cell_type": "markdown",
   "metadata": {},
   "source": [
    "# EDSL Playground for GenAI Synthetic Survey Data"
   ]
  },
  {
   "cell_type": "markdown",
   "metadata": {},
   "source": [
    "Emeritus Domain-Specific Language (edsl) Package Documentation:\n",
    "* <https://www.goemeritus.com/getting-started>\n",
    "\n",
    "Package Requirements:\n",
    "* Python 3.9 - 3.11\n",
    "* OpenAI API key\n",
    "\n",
    "Installation:\n",
    "* You can check for the latest version of edsl on PyPI: <https://pypi.org/project/edsl/> \n",
    "* GitHub: <https://github.com/goemeritus/edsl/>\n",
    "* Demo notebooks: <https://github.com/goemeritus/edsl_demos/>"
   ]
  },
  {
   "cell_type": "code",
   "execution_count": 1,
   "metadata": {},
   "outputs": [
    {
     "name": "stdout",
     "output_type": "stream",
     "text": [
      "Requirement already satisfied: edsl in /Users/shylaatchison/opt/anaconda3/envs/standard/lib/python3.11/site-packages (0.1.3)\n",
      "Requirement already satisfied: jinja2<4.0.0,>=3.1.2 in /Users/shylaatchison/opt/anaconda3/envs/standard/lib/python3.11/site-packages (from edsl) (3.1.3)\n",
      "Requirement already satisfied: jupyter<2.0.0,>=1.0.0 in /Users/shylaatchison/opt/anaconda3/envs/standard/lib/python3.11/site-packages (from edsl) (1.0.0)\n",
      "Requirement already satisfied: markdown2<3.0.0,>=2.4.11 in /Users/shylaatchison/opt/anaconda3/envs/standard/lib/python3.11/site-packages (from edsl) (2.4.12)\n",
      "Requirement already satisfied: numpy<2.0,>=1.22 in /Users/shylaatchison/opt/anaconda3/envs/standard/lib/python3.11/site-packages (from edsl) (1.24.3)\n",
      "Requirement already satisfied: openai<2.0.0,>=1.4.0 in /Users/shylaatchison/opt/anaconda3/envs/standard/lib/python3.11/site-packages (from edsl) (1.6.1)\n",
      "Requirement already satisfied: pandas<3.0.0,>=2.1.4 in /Users/shylaatchison/opt/anaconda3/envs/standard/lib/python3.11/site-packages (from edsl) (2.1.4)\n",
      "Requirement already satisfied: python-docx<2.0.0,>=1.1.0 in /Users/shylaatchison/opt/anaconda3/envs/standard/lib/python3.11/site-packages (from edsl) (1.1.0)\n",
      "Requirement already satisfied: python-dotenv<2.0.0,>=1.0.0 in /Users/shylaatchison/opt/anaconda3/envs/standard/lib/python3.11/site-packages (from edsl) (1.0.0)\n",
      "Requirement already satisfied: rich<14.0.0,>=13.7.0 in /Users/shylaatchison/opt/anaconda3/envs/standard/lib/python3.11/site-packages (from edsl) (13.7.0)\n",
      "Requirement already satisfied: seaborn<0.14.0,>=0.13.0 in /Users/shylaatchison/opt/anaconda3/envs/standard/lib/python3.11/site-packages (from edsl) (0.13.1)\n",
      "Requirement already satisfied: simpleeval<0.10.0,>=0.9.13 in /Users/shylaatchison/opt/anaconda3/envs/standard/lib/python3.11/site-packages (from edsl) (0.9.13)\n",
      "Requirement already satisfied: sqlalchemy<3.0.0,>=2.0.23 in /Users/shylaatchison/opt/anaconda3/envs/standard/lib/python3.11/site-packages (from edsl) (2.0.25)\n",
      "Requirement already satisfied: statsmodels==0.13.5 in /Users/shylaatchison/opt/anaconda3/envs/standard/lib/python3.11/site-packages (from edsl) (0.13.5)\n",
      "Requirement already satisfied: tenacity<9.0.0,>=8.2.3 in /Users/shylaatchison/opt/anaconda3/envs/standard/lib/python3.11/site-packages (from edsl) (8.2.3)\n",
      "Requirement already satisfied: wordcloud<2.0.0,>=1.9.3 in /Users/shylaatchison/opt/anaconda3/envs/standard/lib/python3.11/site-packages (from edsl) (1.9.3)\n",
      "Requirement already satisfied: patsy>=0.5.2 in /Users/shylaatchison/opt/anaconda3/envs/standard/lib/python3.11/site-packages (from statsmodels==0.13.5->edsl) (0.5.3)\n",
      "Requirement already satisfied: packaging>=21.3 in /Users/shylaatchison/opt/anaconda3/envs/standard/lib/python3.11/site-packages (from statsmodels==0.13.5->edsl) (23.1)\n",
      "Requirement already satisfied: scipy>=1.3 in /Users/shylaatchison/opt/anaconda3/envs/standard/lib/python3.11/site-packages (from statsmodels==0.13.5->edsl) (1.11.2)\n",
      "Requirement already satisfied: MarkupSafe>=2.0 in /Users/shylaatchison/opt/anaconda3/envs/standard/lib/python3.11/site-packages (from jinja2<4.0.0,>=3.1.2->edsl) (2.1.3)\n",
      "Requirement already satisfied: notebook in /Users/shylaatchison/opt/anaconda3/envs/standard/lib/python3.11/site-packages (from jupyter<2.0.0,>=1.0.0->edsl) (7.0.6)\n",
      "Requirement already satisfied: qtconsole in /Users/shylaatchison/opt/anaconda3/envs/standard/lib/python3.11/site-packages (from jupyter<2.0.0,>=1.0.0->edsl) (5.5.1)\n",
      "Requirement already satisfied: jupyter-console in /Users/shylaatchison/opt/anaconda3/envs/standard/lib/python3.11/site-packages (from jupyter<2.0.0,>=1.0.0->edsl) (6.6.3)\n",
      "Requirement already satisfied: nbconvert in /Users/shylaatchison/opt/anaconda3/envs/standard/lib/python3.11/site-packages (from jupyter<2.0.0,>=1.0.0->edsl) (7.14.2)\n",
      "Requirement already satisfied: ipykernel in /Users/shylaatchison/opt/anaconda3/envs/standard/lib/python3.11/site-packages (from jupyter<2.0.0,>=1.0.0->edsl) (6.25.1)\n",
      "Requirement already satisfied: ipywidgets in /Users/shylaatchison/opt/anaconda3/envs/standard/lib/python3.11/site-packages (from jupyter<2.0.0,>=1.0.0->edsl) (8.1.1)\n",
      "Requirement already satisfied: anyio<5,>=3.5.0 in /Users/shylaatchison/opt/anaconda3/envs/standard/lib/python3.11/site-packages (from openai<2.0.0,>=1.4.0->edsl) (4.2.0)\n",
      "Requirement already satisfied: distro<2,>=1.7.0 in /Users/shylaatchison/opt/anaconda3/envs/standard/lib/python3.11/site-packages (from openai<2.0.0,>=1.4.0->edsl) (1.9.0)\n",
      "Requirement already satisfied: httpx<1,>=0.23.0 in /Users/shylaatchison/opt/anaconda3/envs/standard/lib/python3.11/site-packages (from openai<2.0.0,>=1.4.0->edsl) (0.26.0)\n",
      "Requirement already satisfied: pydantic<3,>=1.9.0 in /Users/shylaatchison/opt/anaconda3/envs/standard/lib/python3.11/site-packages (from openai<2.0.0,>=1.4.0->edsl) (2.5.3)\n",
      "Requirement already satisfied: sniffio in /Users/shylaatchison/opt/anaconda3/envs/standard/lib/python3.11/site-packages (from openai<2.0.0,>=1.4.0->edsl) (1.3.0)\n",
      "Requirement already satisfied: tqdm>4 in /Users/shylaatchison/opt/anaconda3/envs/standard/lib/python3.11/site-packages (from openai<2.0.0,>=1.4.0->edsl) (4.66.0)\n",
      "Requirement already satisfied: typing-extensions<5,>=4.7 in /Users/shylaatchison/opt/anaconda3/envs/standard/lib/python3.11/site-packages (from openai<2.0.0,>=1.4.0->edsl) (4.9.0)\n",
      "Requirement already satisfied: python-dateutil>=2.8.2 in /Users/shylaatchison/opt/anaconda3/envs/standard/lib/python3.11/site-packages (from pandas<3.0.0,>=2.1.4->edsl) (2.8.2)\n",
      "Requirement already satisfied: pytz>=2020.1 in /Users/shylaatchison/opt/anaconda3/envs/standard/lib/python3.11/site-packages (from pandas<3.0.0,>=2.1.4->edsl) (2023.3)\n",
      "Requirement already satisfied: tzdata>=2022.1 in /Users/shylaatchison/opt/anaconda3/envs/standard/lib/python3.11/site-packages (from pandas<3.0.0,>=2.1.4->edsl) (2023.3)\n",
      "Requirement already satisfied: lxml>=3.1.0 in /Users/shylaatchison/opt/anaconda3/envs/standard/lib/python3.11/site-packages (from python-docx<2.0.0,>=1.1.0->edsl) (5.1.0)\n",
      "Requirement already satisfied: markdown-it-py>=2.2.0 in /Users/shylaatchison/opt/anaconda3/envs/standard/lib/python3.11/site-packages (from rich<14.0.0,>=13.7.0->edsl) (3.0.0)\n",
      "Requirement already satisfied: pygments<3.0.0,>=2.13.0 in /Users/shylaatchison/opt/anaconda3/envs/standard/lib/python3.11/site-packages (from rich<14.0.0,>=13.7.0->edsl) (2.16.1)\n",
      "Requirement already satisfied: matplotlib!=3.6.1,>=3.4 in /Users/shylaatchison/opt/anaconda3/envs/standard/lib/python3.11/site-packages (from seaborn<0.14.0,>=0.13.0->edsl) (3.7.2)\n",
      "Requirement already satisfied: greenlet!=0.4.17 in /Users/shylaatchison/opt/anaconda3/envs/standard/lib/python3.11/site-packages (from sqlalchemy<3.0.0,>=2.0.23->edsl) (3.0.3)\n",
      "Requirement already satisfied: pillow in /Users/shylaatchison/opt/anaconda3/envs/standard/lib/python3.11/site-packages (from wordcloud<2.0.0,>=1.9.3->edsl) (10.0.0)\n",
      "Requirement already satisfied: idna>=2.8 in /Users/shylaatchison/opt/anaconda3/envs/standard/lib/python3.11/site-packages (from anyio<5,>=3.5.0->openai<2.0.0,>=1.4.0->edsl) (3.4)\n",
      "Requirement already satisfied: certifi in /Users/shylaatchison/opt/anaconda3/envs/standard/lib/python3.11/site-packages (from httpx<1,>=0.23.0->openai<2.0.0,>=1.4.0->edsl) (2023.7.22)\n",
      "Requirement already satisfied: httpcore==1.* in /Users/shylaatchison/opt/anaconda3/envs/standard/lib/python3.11/site-packages (from httpx<1,>=0.23.0->openai<2.0.0,>=1.4.0->edsl) (1.0.2)\n",
      "Requirement already satisfied: h11<0.15,>=0.13 in /Users/shylaatchison/opt/anaconda3/envs/standard/lib/python3.11/site-packages (from httpcore==1.*->httpx<1,>=0.23.0->openai<2.0.0,>=1.4.0->edsl) (0.14.0)\n",
      "Requirement already satisfied: mdurl~=0.1 in /Users/shylaatchison/opt/anaconda3/envs/standard/lib/python3.11/site-packages (from markdown-it-py>=2.2.0->rich<14.0.0,>=13.7.0->edsl) (0.1.2)\n",
      "Requirement already satisfied: contourpy>=1.0.1 in /Users/shylaatchison/opt/anaconda3/envs/standard/lib/python3.11/site-packages (from matplotlib!=3.6.1,>=3.4->seaborn<0.14.0,>=0.13.0->edsl) (1.1.0)\n",
      "Requirement already satisfied: cycler>=0.10 in /Users/shylaatchison/opt/anaconda3/envs/standard/lib/python3.11/site-packages (from matplotlib!=3.6.1,>=3.4->seaborn<0.14.0,>=0.13.0->edsl) (0.11.0)\n",
      "Requirement already satisfied: fonttools>=4.22.0 in /Users/shylaatchison/opt/anaconda3/envs/standard/lib/python3.11/site-packages (from matplotlib!=3.6.1,>=3.4->seaborn<0.14.0,>=0.13.0->edsl) (4.42.0)\n",
      "Requirement already satisfied: kiwisolver>=1.0.1 in /Users/shylaatchison/opt/anaconda3/envs/standard/lib/python3.11/site-packages (from matplotlib!=3.6.1,>=3.4->seaborn<0.14.0,>=0.13.0->edsl) (1.4.4)\n",
      "Requirement already satisfied: pyparsing<3.1,>=2.3.1 in /Users/shylaatchison/opt/anaconda3/envs/standard/lib/python3.11/site-packages (from matplotlib!=3.6.1,>=3.4->seaborn<0.14.0,>=0.13.0->edsl) (3.0.9)\n",
      "Requirement already satisfied: six in /Users/shylaatchison/opt/anaconda3/envs/standard/lib/python3.11/site-packages (from patsy>=0.5.2->statsmodels==0.13.5->edsl) (1.16.0)\n",
      "Requirement already satisfied: annotated-types>=0.4.0 in /Users/shylaatchison/opt/anaconda3/envs/standard/lib/python3.11/site-packages (from pydantic<3,>=1.9.0->openai<2.0.0,>=1.4.0->edsl) (0.6.0)\n",
      "Requirement already satisfied: pydantic-core==2.14.6 in /Users/shylaatchison/opt/anaconda3/envs/standard/lib/python3.11/site-packages (from pydantic<3,>=1.9.0->openai<2.0.0,>=1.4.0->edsl) (2.14.6)\n",
      "Requirement already satisfied: appnope in /Users/shylaatchison/opt/anaconda3/envs/standard/lib/python3.11/site-packages (from ipykernel->jupyter<2.0.0,>=1.0.0->edsl) (0.1.3)\n",
      "Requirement already satisfied: comm>=0.1.1 in /Users/shylaatchison/opt/anaconda3/envs/standard/lib/python3.11/site-packages (from ipykernel->jupyter<2.0.0,>=1.0.0->edsl) (0.1.4)\n",
      "Requirement already satisfied: debugpy>=1.6.5 in /Users/shylaatchison/opt/anaconda3/envs/standard/lib/python3.11/site-packages (from ipykernel->jupyter<2.0.0,>=1.0.0->edsl) (1.6.8)\n",
      "Requirement already satisfied: ipython>=7.23.1 in /Users/shylaatchison/opt/anaconda3/envs/standard/lib/python3.11/site-packages (from ipykernel->jupyter<2.0.0,>=1.0.0->edsl) (8.14.0)\n",
      "Requirement already satisfied: jupyter-client>=6.1.12 in /Users/shylaatchison/opt/anaconda3/envs/standard/lib/python3.11/site-packages (from ipykernel->jupyter<2.0.0,>=1.0.0->edsl) (8.3.0)\n",
      "Requirement already satisfied: jupyter-core!=5.0.*,>=4.12 in /Users/shylaatchison/opt/anaconda3/envs/standard/lib/python3.11/site-packages (from ipykernel->jupyter<2.0.0,>=1.0.0->edsl) (5.3.1)\n",
      "Requirement already satisfied: matplotlib-inline>=0.1 in /Users/shylaatchison/opt/anaconda3/envs/standard/lib/python3.11/site-packages (from ipykernel->jupyter<2.0.0,>=1.0.0->edsl) (0.1.6)\n",
      "Requirement already satisfied: nest-asyncio in /Users/shylaatchison/opt/anaconda3/envs/standard/lib/python3.11/site-packages (from ipykernel->jupyter<2.0.0,>=1.0.0->edsl) (1.5.6)\n",
      "Requirement already satisfied: psutil in /Users/shylaatchison/opt/anaconda3/envs/standard/lib/python3.11/site-packages (from ipykernel->jupyter<2.0.0,>=1.0.0->edsl) (5.9.5)\n",
      "Requirement already satisfied: pyzmq>=20 in /Users/shylaatchison/opt/anaconda3/envs/standard/lib/python3.11/site-packages (from ipykernel->jupyter<2.0.0,>=1.0.0->edsl) (25.1.0)\n",
      "Requirement already satisfied: tornado>=6.1 in /Users/shylaatchison/opt/anaconda3/envs/standard/lib/python3.11/site-packages (from ipykernel->jupyter<2.0.0,>=1.0.0->edsl) (6.3.2)\n",
      "Requirement already satisfied: traitlets>=5.4.0 in /Users/shylaatchison/opt/anaconda3/envs/standard/lib/python3.11/site-packages (from ipykernel->jupyter<2.0.0,>=1.0.0->edsl) (5.9.0)\n",
      "Requirement already satisfied: widgetsnbextension~=4.0.9 in /Users/shylaatchison/opt/anaconda3/envs/standard/lib/python3.11/site-packages (from ipywidgets->jupyter<2.0.0,>=1.0.0->edsl) (4.0.9)\n",
      "Requirement already satisfied: jupyterlab-widgets~=3.0.9 in /Users/shylaatchison/opt/anaconda3/envs/standard/lib/python3.11/site-packages (from ipywidgets->jupyter<2.0.0,>=1.0.0->edsl) (3.0.9)\n",
      "Requirement already satisfied: prompt-toolkit>=3.0.30 in /Users/shylaatchison/opt/anaconda3/envs/standard/lib/python3.11/site-packages (from jupyter-console->jupyter<2.0.0,>=1.0.0->edsl) (3.0.39)\n",
      "Requirement already satisfied: beautifulsoup4 in /Users/shylaatchison/opt/anaconda3/envs/standard/lib/python3.11/site-packages (from nbconvert->jupyter<2.0.0,>=1.0.0->edsl) (4.12.3)\n",
      "Requirement already satisfied: bleach!=5.0.0 in /Users/shylaatchison/opt/anaconda3/envs/standard/lib/python3.11/site-packages (from nbconvert->jupyter<2.0.0,>=1.0.0->edsl) (6.1.0)\n",
      "Requirement already satisfied: defusedxml in /Users/shylaatchison/opt/anaconda3/envs/standard/lib/python3.11/site-packages (from nbconvert->jupyter<2.0.0,>=1.0.0->edsl) (0.7.1)\n",
      "Requirement already satisfied: jupyterlab-pygments in /Users/shylaatchison/opt/anaconda3/envs/standard/lib/python3.11/site-packages (from nbconvert->jupyter<2.0.0,>=1.0.0->edsl) (0.3.0)\n",
      "Requirement already satisfied: mistune<4,>=2.0.3 in /Users/shylaatchison/opt/anaconda3/envs/standard/lib/python3.11/site-packages (from nbconvert->jupyter<2.0.0,>=1.0.0->edsl) (3.0.2)\n",
      "Requirement already satisfied: nbclient>=0.5.0 in /Users/shylaatchison/opt/anaconda3/envs/standard/lib/python3.11/site-packages (from nbconvert->jupyter<2.0.0,>=1.0.0->edsl) (0.9.0)\n",
      "Requirement already satisfied: nbformat>=5.7 in /Users/shylaatchison/opt/anaconda3/envs/standard/lib/python3.11/site-packages (from nbconvert->jupyter<2.0.0,>=1.0.0->edsl) (5.9.2)\n",
      "Requirement already satisfied: pandocfilters>=1.4.1 in /Users/shylaatchison/opt/anaconda3/envs/standard/lib/python3.11/site-packages (from nbconvert->jupyter<2.0.0,>=1.0.0->edsl) (1.5.0)\n",
      "Requirement already satisfied: tinycss2 in /Users/shylaatchison/opt/anaconda3/envs/standard/lib/python3.11/site-packages (from nbconvert->jupyter<2.0.0,>=1.0.0->edsl) (1.2.1)\n",
      "Requirement already satisfied: jupyter-server<3,>=2.4.0 in /Users/shylaatchison/opt/anaconda3/envs/standard/lib/python3.11/site-packages (from notebook->jupyter<2.0.0,>=1.0.0->edsl) (2.12.5)\n",
      "Requirement already satisfied: jupyterlab-server<3,>=2.22.1 in /Users/shylaatchison/opt/anaconda3/envs/standard/lib/python3.11/site-packages (from notebook->jupyter<2.0.0,>=1.0.0->edsl) (2.25.2)\n",
      "Requirement already satisfied: jupyterlab<5,>=4.0.2 in /Users/shylaatchison/opt/anaconda3/envs/standard/lib/python3.11/site-packages (from notebook->jupyter<2.0.0,>=1.0.0->edsl) (4.0.10)\n",
      "Requirement already satisfied: notebook-shim<0.3,>=0.2 in /Users/shylaatchison/opt/anaconda3/envs/standard/lib/python3.11/site-packages (from notebook->jupyter<2.0.0,>=1.0.0->edsl) (0.2.3)\n",
      "Requirement already satisfied: qtpy>=2.4.0 in /Users/shylaatchison/opt/anaconda3/envs/standard/lib/python3.11/site-packages (from qtconsole->jupyter<2.0.0,>=1.0.0->edsl) (2.4.1)\n",
      "Requirement already satisfied: webencodings in /Users/shylaatchison/opt/anaconda3/envs/standard/lib/python3.11/site-packages (from bleach!=5.0.0->nbconvert->jupyter<2.0.0,>=1.0.0->edsl) (0.5.1)\n",
      "Requirement already satisfied: backcall in /Users/shylaatchison/opt/anaconda3/envs/standard/lib/python3.11/site-packages (from ipython>=7.23.1->ipykernel->jupyter<2.0.0,>=1.0.0->edsl) (0.2.0)\n",
      "Requirement already satisfied: decorator in /Users/shylaatchison/opt/anaconda3/envs/standard/lib/python3.11/site-packages (from ipython>=7.23.1->ipykernel->jupyter<2.0.0,>=1.0.0->edsl) (5.1.1)\n",
      "Requirement already satisfied: jedi>=0.16 in /Users/shylaatchison/opt/anaconda3/envs/standard/lib/python3.11/site-packages (from ipython>=7.23.1->ipykernel->jupyter<2.0.0,>=1.0.0->edsl) (0.19.0)\n",
      "Requirement already satisfied: pickleshare in /Users/shylaatchison/opt/anaconda3/envs/standard/lib/python3.11/site-packages (from ipython>=7.23.1->ipykernel->jupyter<2.0.0,>=1.0.0->edsl) (0.7.5)\n",
      "Requirement already satisfied: stack-data in /Users/shylaatchison/opt/anaconda3/envs/standard/lib/python3.11/site-packages (from ipython>=7.23.1->ipykernel->jupyter<2.0.0,>=1.0.0->edsl) (0.6.2)\n",
      "Requirement already satisfied: pexpect>4.3 in /Users/shylaatchison/opt/anaconda3/envs/standard/lib/python3.11/site-packages (from ipython>=7.23.1->ipykernel->jupyter<2.0.0,>=1.0.0->edsl) (4.8.0)\n",
      "Requirement already satisfied: platformdirs>=2.5 in /Users/shylaatchison/opt/anaconda3/envs/standard/lib/python3.11/site-packages (from jupyter-core!=5.0.*,>=4.12->ipykernel->jupyter<2.0.0,>=1.0.0->edsl) (3.10.0)\n",
      "Requirement already satisfied: argon2-cffi in /Users/shylaatchison/opt/anaconda3/envs/standard/lib/python3.11/site-packages (from jupyter-server<3,>=2.4.0->notebook->jupyter<2.0.0,>=1.0.0->edsl) (23.1.0)\n",
      "Requirement already satisfied: jupyter-events>=0.9.0 in /Users/shylaatchison/opt/anaconda3/envs/standard/lib/python3.11/site-packages (from jupyter-server<3,>=2.4.0->notebook->jupyter<2.0.0,>=1.0.0->edsl) (0.9.0)\n",
      "Requirement already satisfied: jupyter-server-terminals in /Users/shylaatchison/opt/anaconda3/envs/standard/lib/python3.11/site-packages (from jupyter-server<3,>=2.4.0->notebook->jupyter<2.0.0,>=1.0.0->edsl) (0.5.1)\n",
      "Requirement already satisfied: overrides in /Users/shylaatchison/opt/anaconda3/envs/standard/lib/python3.11/site-packages (from jupyter-server<3,>=2.4.0->notebook->jupyter<2.0.0,>=1.0.0->edsl) (7.4.0)\n",
      "Requirement already satisfied: prometheus-client in /Users/shylaatchison/opt/anaconda3/envs/standard/lib/python3.11/site-packages (from jupyter-server<3,>=2.4.0->notebook->jupyter<2.0.0,>=1.0.0->edsl) (0.19.0)\n",
      "Requirement already satisfied: send2trash>=1.8.2 in /Users/shylaatchison/opt/anaconda3/envs/standard/lib/python3.11/site-packages (from jupyter-server<3,>=2.4.0->notebook->jupyter<2.0.0,>=1.0.0->edsl) (1.8.2)\n",
      "Requirement already satisfied: terminado>=0.8.3 in /Users/shylaatchison/opt/anaconda3/envs/standard/lib/python3.11/site-packages (from jupyter-server<3,>=2.4.0->notebook->jupyter<2.0.0,>=1.0.0->edsl) (0.18.0)\n",
      "Requirement already satisfied: websocket-client in /Users/shylaatchison/opt/anaconda3/envs/standard/lib/python3.11/site-packages (from jupyter-server<3,>=2.4.0->notebook->jupyter<2.0.0,>=1.0.0->edsl) (1.7.0)\n",
      "Requirement already satisfied: async-lru>=1.0.0 in /Users/shylaatchison/opt/anaconda3/envs/standard/lib/python3.11/site-packages (from jupyterlab<5,>=4.0.2->notebook->jupyter<2.0.0,>=1.0.0->edsl) (2.0.4)\n",
      "Requirement already satisfied: jupyter-lsp>=2.0.0 in /Users/shylaatchison/opt/anaconda3/envs/standard/lib/python3.11/site-packages (from jupyterlab<5,>=4.0.2->notebook->jupyter<2.0.0,>=1.0.0->edsl) (2.2.2)\n",
      "Requirement already satisfied: babel>=2.10 in /Users/shylaatchison/opt/anaconda3/envs/standard/lib/python3.11/site-packages (from jupyterlab-server<3,>=2.22.1->notebook->jupyter<2.0.0,>=1.0.0->edsl) (2.14.0)\n",
      "Requirement already satisfied: json5>=0.9.0 in /Users/shylaatchison/opt/anaconda3/envs/standard/lib/python3.11/site-packages (from jupyterlab-server<3,>=2.22.1->notebook->jupyter<2.0.0,>=1.0.0->edsl) (0.9.14)\n",
      "Requirement already satisfied: jsonschema>=4.18.0 in /Users/shylaatchison/opt/anaconda3/envs/standard/lib/python3.11/site-packages (from jupyterlab-server<3,>=2.22.1->notebook->jupyter<2.0.0,>=1.0.0->edsl) (4.21.0)\n",
      "Requirement already satisfied: requests>=2.31 in /Users/shylaatchison/opt/anaconda3/envs/standard/lib/python3.11/site-packages (from jupyterlab-server<3,>=2.22.1->notebook->jupyter<2.0.0,>=1.0.0->edsl) (2.31.0)\n",
      "Requirement already satisfied: fastjsonschema in /Users/shylaatchison/opt/anaconda3/envs/standard/lib/python3.11/site-packages (from nbformat>=5.7->nbconvert->jupyter<2.0.0,>=1.0.0->edsl) (2.19.1)\n",
      "Requirement already satisfied: wcwidth in /Users/shylaatchison/opt/anaconda3/envs/standard/lib/python3.11/site-packages (from prompt-toolkit>=3.0.30->jupyter-console->jupyter<2.0.0,>=1.0.0->edsl) (0.2.6)\n",
      "Requirement already satisfied: soupsieve>1.2 in /Users/shylaatchison/opt/anaconda3/envs/standard/lib/python3.11/site-packages (from beautifulsoup4->nbconvert->jupyter<2.0.0,>=1.0.0->edsl) (2.5)\n",
      "Requirement already satisfied: parso<0.9.0,>=0.8.3 in /Users/shylaatchison/opt/anaconda3/envs/standard/lib/python3.11/site-packages (from jedi>=0.16->ipython>=7.23.1->ipykernel->jupyter<2.0.0,>=1.0.0->edsl) (0.8.3)\n",
      "Requirement already satisfied: attrs>=22.2.0 in /Users/shylaatchison/opt/anaconda3/envs/standard/lib/python3.11/site-packages (from jsonschema>=4.18.0->jupyterlab-server<3,>=2.22.1->notebook->jupyter<2.0.0,>=1.0.0->edsl) (23.2.0)\n",
      "Requirement already satisfied: jsonschema-specifications>=2023.03.6 in /Users/shylaatchison/opt/anaconda3/envs/standard/lib/python3.11/site-packages (from jsonschema>=4.18.0->jupyterlab-server<3,>=2.22.1->notebook->jupyter<2.0.0,>=1.0.0->edsl) (2023.12.1)\n",
      "Requirement already satisfied: referencing>=0.28.4 in /Users/shylaatchison/opt/anaconda3/envs/standard/lib/python3.11/site-packages (from jsonschema>=4.18.0->jupyterlab-server<3,>=2.22.1->notebook->jupyter<2.0.0,>=1.0.0->edsl) (0.32.1)\n",
      "Requirement already satisfied: rpds-py>=0.7.1 in /Users/shylaatchison/opt/anaconda3/envs/standard/lib/python3.11/site-packages (from jsonschema>=4.18.0->jupyterlab-server<3,>=2.22.1->notebook->jupyter<2.0.0,>=1.0.0->edsl) (0.17.1)\n",
      "Requirement already satisfied: python-json-logger>=2.0.4 in /Users/shylaatchison/opt/anaconda3/envs/standard/lib/python3.11/site-packages (from jupyter-events>=0.9.0->jupyter-server<3,>=2.4.0->notebook->jupyter<2.0.0,>=1.0.0->edsl) (2.0.7)\n",
      "Requirement already satisfied: pyyaml>=5.3 in /Users/shylaatchison/opt/anaconda3/envs/standard/lib/python3.11/site-packages (from jupyter-events>=0.9.0->jupyter-server<3,>=2.4.0->notebook->jupyter<2.0.0,>=1.0.0->edsl) (6.0.1)\n",
      "Requirement already satisfied: rfc3339-validator in /Users/shylaatchison/opt/anaconda3/envs/standard/lib/python3.11/site-packages (from jupyter-events>=0.9.0->jupyter-server<3,>=2.4.0->notebook->jupyter<2.0.0,>=1.0.0->edsl) (0.1.4)\n",
      "Requirement already satisfied: rfc3986-validator>=0.1.1 in /Users/shylaatchison/opt/anaconda3/envs/standard/lib/python3.11/site-packages (from jupyter-events>=0.9.0->jupyter-server<3,>=2.4.0->notebook->jupyter<2.0.0,>=1.0.0->edsl) (0.1.1)\n",
      "Requirement already satisfied: ptyprocess>=0.5 in /Users/shylaatchison/opt/anaconda3/envs/standard/lib/python3.11/site-packages (from pexpect>4.3->ipython>=7.23.1->ipykernel->jupyter<2.0.0,>=1.0.0->edsl) (0.7.0)\n",
      "Requirement already satisfied: charset-normalizer<4,>=2 in /Users/shylaatchison/opt/anaconda3/envs/standard/lib/python3.11/site-packages (from requests>=2.31->jupyterlab-server<3,>=2.22.1->notebook->jupyter<2.0.0,>=1.0.0->edsl) (3.2.0)\n",
      "Requirement already satisfied: urllib3<3,>=1.21.1 in /Users/shylaatchison/opt/anaconda3/envs/standard/lib/python3.11/site-packages (from requests>=2.31->jupyterlab-server<3,>=2.22.1->notebook->jupyter<2.0.0,>=1.0.0->edsl) (1.26.16)\n",
      "Requirement already satisfied: argon2-cffi-bindings in /Users/shylaatchison/opt/anaconda3/envs/standard/lib/python3.11/site-packages (from argon2-cffi->jupyter-server<3,>=2.4.0->notebook->jupyter<2.0.0,>=1.0.0->edsl) (21.2.0)\n",
      "Requirement already satisfied: executing>=1.2.0 in /Users/shylaatchison/opt/anaconda3/envs/standard/lib/python3.11/site-packages (from stack-data->ipython>=7.23.1->ipykernel->jupyter<2.0.0,>=1.0.0->edsl) (1.2.0)\n",
      "Requirement already satisfied: asttokens>=2.1.0 in /Users/shylaatchison/opt/anaconda3/envs/standard/lib/python3.11/site-packages (from stack-data->ipython>=7.23.1->ipykernel->jupyter<2.0.0,>=1.0.0->edsl) (2.2.1)\n",
      "Requirement already satisfied: pure-eval in /Users/shylaatchison/opt/anaconda3/envs/standard/lib/python3.11/site-packages (from stack-data->ipython>=7.23.1->ipykernel->jupyter<2.0.0,>=1.0.0->edsl) (0.2.2)\n",
      "Requirement already satisfied: fqdn in /Users/shylaatchison/opt/anaconda3/envs/standard/lib/python3.11/site-packages (from jsonschema>=4.18.0->jupyterlab-server<3,>=2.22.1->notebook->jupyter<2.0.0,>=1.0.0->edsl) (1.5.1)\n",
      "Requirement already satisfied: isoduration in /Users/shylaatchison/opt/anaconda3/envs/standard/lib/python3.11/site-packages (from jsonschema>=4.18.0->jupyterlab-server<3,>=2.22.1->notebook->jupyter<2.0.0,>=1.0.0->edsl) (20.11.0)\n",
      "Requirement already satisfied: jsonpointer>1.13 in /Users/shylaatchison/opt/anaconda3/envs/standard/lib/python3.11/site-packages (from jsonschema>=4.18.0->jupyterlab-server<3,>=2.22.1->notebook->jupyter<2.0.0,>=1.0.0->edsl) (2.4)\n",
      "Requirement already satisfied: uri-template in /Users/shylaatchison/opt/anaconda3/envs/standard/lib/python3.11/site-packages (from jsonschema>=4.18.0->jupyterlab-server<3,>=2.22.1->notebook->jupyter<2.0.0,>=1.0.0->edsl) (1.3.0)\n",
      "Requirement already satisfied: webcolors>=1.11 in /Users/shylaatchison/opt/anaconda3/envs/standard/lib/python3.11/site-packages (from jsonschema>=4.18.0->jupyterlab-server<3,>=2.22.1->notebook->jupyter<2.0.0,>=1.0.0->edsl) (1.13)\n",
      "Requirement already satisfied: cffi>=1.0.1 in /Users/shylaatchison/opt/anaconda3/envs/standard/lib/python3.11/site-packages (from argon2-cffi-bindings->argon2-cffi->jupyter-server<3,>=2.4.0->notebook->jupyter<2.0.0,>=1.0.0->edsl) (1.16.0)\n",
      "Requirement already satisfied: pycparser in /Users/shylaatchison/opt/anaconda3/envs/standard/lib/python3.11/site-packages (from cffi>=1.0.1->argon2-cffi-bindings->argon2-cffi->jupyter-server<3,>=2.4.0->notebook->jupyter<2.0.0,>=1.0.0->edsl) (2.21)\n",
      "Requirement already satisfied: arrow>=0.15.0 in /Users/shylaatchison/opt/anaconda3/envs/standard/lib/python3.11/site-packages (from isoduration->jsonschema>=4.18.0->jupyterlab-server<3,>=2.22.1->notebook->jupyter<2.0.0,>=1.0.0->edsl) (1.3.0)\n",
      "Requirement already satisfied: types-python-dateutil>=2.8.10 in /Users/shylaatchison/opt/anaconda3/envs/standard/lib/python3.11/site-packages (from arrow>=0.15.0->isoduration->jsonschema>=4.18.0->jupyterlab-server<3,>=2.22.1->notebook->jupyter<2.0.0,>=1.0.0->edsl) (2.8.19.20240106)\n"
     ]
    }
   ],
   "source": [
    "!pip install edsl"
   ]
  },
  {
   "cell_type": "markdown",
   "metadata": {},
   "source": [
    "### To-Do:\n",
    "1. Set Up Developing Enviornment: <https://tech-vcanus.github.io/development/mac-dev/>\n",
    "2. Install Homebrew\n",
    "3. Add OpenAI key (<https://platform.openai.com/api-keys>) to the .env file found at (/opt/homebrew/lib/python3.11/site-packages/.env)\n",
    "4. Continue Reviewing EDSL Documentation: <https://www.goemeritus.com/getting-started>\n",
    "5. Delete this List from NB"
   ]
  },
  {
   "cell_type": "markdown",
   "metadata": {},
   "source": [
    "### A Quick Example:"
   ]
  },
  {
   "cell_type": "code",
   "execution_count": 2,
   "metadata": {},
   "outputs": [
    {
     "data": {
      "text/html": [
       "<pre style=\"white-space:pre;overflow-x:auto;line-height:normal;font-family:Menlo,'DejaVu Sans Mono',consolas,'Courier New',monospace\">WARNING: Passing question_names is deprecated. Please use questions with names instead.\n",
       "</pre>\n"
      ],
      "text/plain": [
       "WARNING: Passing question_names is deprecated. Please use questions with names instead.\n"
      ]
     },
     "metadata": {},
     "output_type": "display_data"
    },
    {
     "name": "stdout",
     "output_type": "stream",
     "text": [
      "WARNING: This method is deprecated. We now enforce valid names on Agent creation\n",
      "WARNING: This method is deprecated. We now enforce valid names on Agent creation\n",
      "WARNING: This method is deprecated. We now enforce valid names on Agent creation\n",
      "WARNING: This method is deprecated. We now enforce valid names on Agent creation\n",
      "WARNING: This method is deprecated. We now enforce valid names on Agent creation\n",
      "WARNING: This method is deprecated. We now enforce valid names on Agent creation\n",
      "WARNING: This method is deprecated. We now enforce valid names on Agent creation\n",
      "WARNING: This method is deprecated. We now enforce valid names on Agent creation\n",
      "WARNING: This method is deprecated. We now enforce valid names on Agent creation\n",
      "WARNING: This method is deprecated. We now enforce valid names on Agent creation\n",
      "WARNING: This method is deprecated. We now enforce valid names on Agent creation\n",
      "WARNING: This method is deprecated. We now enforce valid names on Agent creation\n",
      "WARNING: This method is deprecated. We now enforce valid names on Agent creation\n",
      "WARNING: This method is deprecated. We now enforce valid names on Agent creation\n",
      "WARNING: This method is deprecated. We now enforce valid names on Agent creation\n",
      "WARNING: This method is deprecated. We now enforce valid names on Agent creation\n",
      "WARNING: This method is deprecated. We now enforce valid names on Agent creation\n",
      "WARNING: This method is deprecated. We now enforce valid names on Agent creation\n",
      "WARNING: This method is deprecated. We now enforce valid names on Agent creation\n",
      "WARNING: This method is deprecated. We now enforce valid names on Agent creation\n",
      "WARNING: This method is deprecated. We now enforce valid names on Agent creation\n",
      "WARNING: This method is deprecated. We now enforce valid names on Agent creation\n",
      "WARNING: This method is deprecated. We now enforce valid names on Agent creation\n",
      "WARNING: This method is deprecated. We now enforce valid names on Agent creation\n",
      "WARNING: This method is deprecated. We now enforce valid names on Agent creation\n",
      "WARNING: This method is deprecated. We now enforce valid names on Agent creation\n",
      "WARNING: This method is deprecated. We now enforce valid names on Agent creation\n"
     ]
    },
    {
     "data": {
      "text/html": [
       "<pre style=\"white-space:pre;overflow-x:auto;line-height:normal;font-family:Menlo,'DejaVu Sans Mono',consolas,'Courier New',monospace\">┏━━━━━━━━━━┳━━━━━━━━━━━━━┳━━━━━━━━━━━━┳━━━━━━━━━━━━━┳━━━━━━━━━━━━┳━━━━━━━━━━━━━┳━━━━━━━━━━━━┳━━━━━━━━━━━━┳━━━━━━━━┓\n",
       "┃<span style=\"color: #800080; text-decoration-color: #800080; font-weight: bold\"> answer   </span>┃<span style=\"color: #800080; text-decoration-color: #800080; font-weight: bold\"> answer      </span>┃<span style=\"color: #800080; text-decoration-color: #800080; font-weight: bold\"> model      </span>┃<span style=\"color: #800080; text-decoration-color: #800080; font-weight: bold\"> model       </span>┃<span style=\"color: #800080; text-decoration-color: #800080; font-weight: bold\"> model      </span>┃<span style=\"color: #800080; text-decoration-color: #800080; font-weight: bold\"> model       </span>┃<span style=\"color: #800080; text-decoration-color: #800080; font-weight: bold\"> model      </span>┃<span style=\"color: #800080; text-decoration-color: #800080; font-weight: bold\"> model      </span>┃<span style=\"color: #800080; text-decoration-color: #800080; font-weight: bold\"> model  </span>┃\n",
       "┃<span style=\"color: #800080; text-decoration-color: #800080; font-weight: bold\"> .example </span>┃<span style=\"color: #800080; text-decoration-color: #800080; font-weight: bold\"> .example_c… </span>┃<span style=\"color: #800080; text-decoration-color: #800080; font-weight: bold\"> .frequenc… </span>┃<span style=\"color: #800080; text-decoration-color: #800080; font-weight: bold\"> .model      </span>┃<span style=\"color: #800080; text-decoration-color: #800080; font-weight: bold\"> .max_toke… </span>┃<span style=\"color: #800080; text-decoration-color: #800080; font-weight: bold\"> .presence_… </span>┃<span style=\"color: #800080; text-decoration-color: #800080; font-weight: bold\"> .temperat… </span>┃<span style=\"color: #800080; text-decoration-color: #800080; font-weight: bold\"> .use_cache </span>┃<span style=\"color: #800080; text-decoration-color: #800080; font-weight: bold\"> .top_p </span>┃\n",
       "┡━━━━━━━━━━╇━━━━━━━━━━━━━╇━━━━━━━━━━━━╇━━━━━━━━━━━━━╇━━━━━━━━━━━━╇━━━━━━━━━━━━━╇━━━━━━━━━━━━╇━━━━━━━━━━━━╇━━━━━━━━┩\n",
       "│<span style=\"color: #7f7f7f; text-decoration-color: #7f7f7f\"> Good     </span>│<span style=\"color: #7f7f7f; text-decoration-color: #7f7f7f\"> I feel good </span>│<span style=\"color: #7f7f7f; text-decoration-color: #7f7f7f\"> 0          </span>│<span style=\"color: #7f7f7f; text-decoration-color: #7f7f7f\"> gpt-3.5-tu… </span>│<span style=\"color: #7f7f7f; text-decoration-color: #7f7f7f\"> 1000       </span>│<span style=\"color: #7f7f7f; text-decoration-color: #7f7f7f\"> 0           </span>│<span style=\"color: #7f7f7f; text-decoration-color: #7f7f7f\"> 0.5        </span>│<span style=\"color: #7f7f7f; text-decoration-color: #7f7f7f\"> True       </span>│<span style=\"color: #7f7f7f; text-decoration-color: #7f7f7f\"> 1      </span>│\n",
       "│<span style=\"color: #7f7f7f; text-decoration-color: #7f7f7f\">          </span>│<span style=\"color: #7f7f7f; text-decoration-color: #7f7f7f\"> today.      </span>│<span style=\"color: #7f7f7f; text-decoration-color: #7f7f7f\">            </span>│<span style=\"color: #7f7f7f; text-decoration-color: #7f7f7f\">             </span>│<span style=\"color: #7f7f7f; text-decoration-color: #7f7f7f\">            </span>│<span style=\"color: #7f7f7f; text-decoration-color: #7f7f7f\">             </span>│<span style=\"color: #7f7f7f; text-decoration-color: #7f7f7f\">            </span>│<span style=\"color: #7f7f7f; text-decoration-color: #7f7f7f\">            </span>│<span style=\"color: #7f7f7f; text-decoration-color: #7f7f7f\">        </span>│\n",
       "└──────────┴─────────────┴────────────┴─────────────┴────────────┴─────────────┴────────────┴────────────┴────────┘\n",
       "</pre>\n"
      ],
      "text/plain": [
       "┏━━━━━━━━━━┳━━━━━━━━━━━━━┳━━━━━━━━━━━━┳━━━━━━━━━━━━━┳━━━━━━━━━━━━┳━━━━━━━━━━━━━┳━━━━━━━━━━━━┳━━━━━━━━━━━━┳━━━━━━━━┓\n",
       "┃\u001b[1;35m \u001b[0m\u001b[1;35manswer  \u001b[0m\u001b[1;35m \u001b[0m┃\u001b[1;35m \u001b[0m\u001b[1;35manswer     \u001b[0m\u001b[1;35m \u001b[0m┃\u001b[1;35m \u001b[0m\u001b[1;35mmodel     \u001b[0m\u001b[1;35m \u001b[0m┃\u001b[1;35m \u001b[0m\u001b[1;35mmodel      \u001b[0m\u001b[1;35m \u001b[0m┃\u001b[1;35m \u001b[0m\u001b[1;35mmodel     \u001b[0m\u001b[1;35m \u001b[0m┃\u001b[1;35m \u001b[0m\u001b[1;35mmodel      \u001b[0m\u001b[1;35m \u001b[0m┃\u001b[1;35m \u001b[0m\u001b[1;35mmodel     \u001b[0m\u001b[1;35m \u001b[0m┃\u001b[1;35m \u001b[0m\u001b[1;35mmodel     \u001b[0m\u001b[1;35m \u001b[0m┃\u001b[1;35m \u001b[0m\u001b[1;35mmodel \u001b[0m\u001b[1;35m \u001b[0m┃\n",
       "┃\u001b[1;35m \u001b[0m\u001b[1;35m.example\u001b[0m\u001b[1;35m \u001b[0m┃\u001b[1;35m \u001b[0m\u001b[1;35m.example_c…\u001b[0m\u001b[1;35m \u001b[0m┃\u001b[1;35m \u001b[0m\u001b[1;35m.frequenc…\u001b[0m\u001b[1;35m \u001b[0m┃\u001b[1;35m \u001b[0m\u001b[1;35m.model     \u001b[0m\u001b[1;35m \u001b[0m┃\u001b[1;35m \u001b[0m\u001b[1;35m.max_toke…\u001b[0m\u001b[1;35m \u001b[0m┃\u001b[1;35m \u001b[0m\u001b[1;35m.presence_…\u001b[0m\u001b[1;35m \u001b[0m┃\u001b[1;35m \u001b[0m\u001b[1;35m.temperat…\u001b[0m\u001b[1;35m \u001b[0m┃\u001b[1;35m \u001b[0m\u001b[1;35m.use_cache\u001b[0m\u001b[1;35m \u001b[0m┃\u001b[1;35m \u001b[0m\u001b[1;35m.top_p\u001b[0m\u001b[1;35m \u001b[0m┃\n",
       "┡━━━━━━━━━━╇━━━━━━━━━━━━━╇━━━━━━━━━━━━╇━━━━━━━━━━━━━╇━━━━━━━━━━━━╇━━━━━━━━━━━━━╇━━━━━━━━━━━━╇━━━━━━━━━━━━╇━━━━━━━━┩\n",
       "│\u001b[2m \u001b[0m\u001b[2mGood    \u001b[0m\u001b[2m \u001b[0m│\u001b[2m \u001b[0m\u001b[2mI feel good\u001b[0m\u001b[2m \u001b[0m│\u001b[2m \u001b[0m\u001b[2m0         \u001b[0m\u001b[2m \u001b[0m│\u001b[2m \u001b[0m\u001b[2mgpt-3.5-tu…\u001b[0m\u001b[2m \u001b[0m│\u001b[2m \u001b[0m\u001b[2m1000      \u001b[0m\u001b[2m \u001b[0m│\u001b[2m \u001b[0m\u001b[2m0          \u001b[0m\u001b[2m \u001b[0m│\u001b[2m \u001b[0m\u001b[2m0.5       \u001b[0m\u001b[2m \u001b[0m│\u001b[2m \u001b[0m\u001b[2mTrue      \u001b[0m\u001b[2m \u001b[0m│\u001b[2m \u001b[0m\u001b[2m1     \u001b[0m\u001b[2m \u001b[0m│\n",
       "│\u001b[2m          \u001b[0m│\u001b[2m \u001b[0m\u001b[2mtoday.     \u001b[0m\u001b[2m \u001b[0m│\u001b[2m            \u001b[0m│\u001b[2m             \u001b[0m│\u001b[2m            \u001b[0m│\u001b[2m             \u001b[0m│\u001b[2m            \u001b[0m│\u001b[2m            \u001b[0m│\u001b[2m        \u001b[0m│\n",
       "└──────────┴─────────────┴────────────┴─────────────┴────────────┴─────────────┴────────────┴────────────┴────────┘\n"
      ]
     },
     "metadata": {},
     "output_type": "display_data"
    },
    {
     "name": "stdout",
     "output_type": "stream",
     "text": [
      "WARNING: This method is deprecated. We now enforce valid names on Agent creation\n",
      "WARNING: This method is deprecated. We now enforce valid names on Agent creation\n",
      "WARNING: This method is deprecated. We now enforce valid names on Agent creation\n",
      "WARNING: This method is deprecated. We now enforce valid names on Agent creation\n",
      "WARNING: This method is deprecated. We now enforce valid names on Agent creation\n",
      "WARNING: This method is deprecated. We now enforce valid names on Agent creation\n",
      "WARNING: This method is deprecated. We now enforce valid names on Agent creation\n",
      "WARNING: This method is deprecated. We now enforce valid names on Agent creation\n",
      "WARNING: This method is deprecated. We now enforce valid names on Agent creation\n"
     ]
    },
    {
     "data": {
      "text/html": [
       "<pre style=\"white-space:pre;overflow-x:auto;line-height:normal;font-family:Menlo,'DejaVu Sans Mono',consolas,'Courier New',monospace\">┏━━━━━━━━━━━━━━━━━━━━━━━━┓\n",
       "┃<span style=\"color: #800080; text-decoration-color: #800080; font-weight: bold\"> How do you feel today? </span>┃\n",
       "┡━━━━━━━━━━━━━━━━━━━━━━━━┩\n",
       "│<span style=\"color: #7f7f7f; text-decoration-color: #7f7f7f\"> Good                   </span>│\n",
       "└────────────────────────┘\n",
       "</pre>\n"
      ],
      "text/plain": [
       "┏━━━━━━━━━━━━━━━━━━━━━━━━┓\n",
       "┃\u001b[1;35m \u001b[0m\u001b[1;35mHow do you feel today?\u001b[0m\u001b[1;35m \u001b[0m┃\n",
       "┡━━━━━━━━━━━━━━━━━━━━━━━━┩\n",
       "│\u001b[2m \u001b[0m\u001b[2mGood                  \u001b[0m\u001b[2m \u001b[0m│\n",
       "└────────────────────────┘\n"
      ]
     },
     "metadata": {},
     "output_type": "display_data"
    }
   ],
   "source": [
    "# Select a question type\n",
    "from edsl.questions import QuestionMultipleChoice\n",
    "\n",
    "# Construct a question\n",
    "q = QuestionMultipleChoice(\n",
    "question_name = \"example\",\n",
    "question_text = \"How do you feel today?\",\t\n",
    "question_options = [\"Bad\", \"OK\", \"Good\"]\t\n",
    ")\n",
    "\n",
    "# Administer it to the default LLM (GPT 3.5) with the run() method and store the results\n",
    "r = q.run() \n",
    "\n",
    "# View full results (includes information about the LLM—temperature, etc.)\n",
    "r.print() \n",
    "\n",
    "# Inspect the response alone and apply table labels as desired\n",
    "(r\n",
    ".select(\"example\")\n",
    ".print(pretty_labels={\"answer.example\":q.question_text})\n",
    ")"
   ]
  },
  {
   "cell_type": "code",
   "execution_count": null,
   "metadata": {},
   "outputs": [],
   "source": []
  }
 ],
 "metadata": {
  "kernelspec": {
   "display_name": "Python 3",
   "language": "python",
   "name": "python3"
  },
  "language_info": {
   "codemirror_mode": {
    "name": "ipython",
    "version": 3
   },
   "file_extension": ".py",
   "mimetype": "text/x-python",
   "name": "python",
   "nbconvert_exporter": "python",
   "pygments_lexer": "ipython3",
   "version": "3.11.4"
  },
  "orig_nbformat": 4
 },
 "nbformat": 4,
 "nbformat_minor": 2
}
