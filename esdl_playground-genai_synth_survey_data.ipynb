{
 "cells": [
  {
   "cell_type": "markdown",
   "metadata": {},
   "source": [
    "# EDSL Playground for GenAI Synthetic Survey Data"
   ]
  },
  {
   "cell_type": "markdown",
   "metadata": {},
   "source": [
    "Emeritus Domain-Specific Language (edsl) Package Documentation:\n",
    "* <https://www.goemeritus.com/getting-started>\n",
    "\n",
    "Package Requirements:\n",
    "* Python 3.9 - 3.11\n",
    "* OpenAI API key\n",
    "\n",
    "Installation:\n",
    "* You can check for the latest version of edsl on PyPI: <https://pypi.org/project/edsl/> \n",
    "* GitHub: <https://github.com/goemeritus/edsl/>\n",
    "* Demo notebooks: <https://github.com/goemeritus/edsl_demos/>"
   ]
  },
  {
   "cell_type": "code",
   "execution_count": 3,
   "metadata": {},
   "outputs": [],
   "source": [
    "#!pip install edsl"
   ]
  },
  {
   "cell_type": "markdown",
   "metadata": {},
   "source": [
    "### To-Do:\n",
    "1. Set Up Developing Enviornment: <https://tech-vcanus.github.io/development/mac-dev/>\n",
    "2. Install Homebrew\n",
    "3. Add OpenAI key (<https://platform.openai.com/api-keys>) to the .env file found at (/opt/homebrew/lib/python3.11/site-packages/.env)\n",
    "4. Continue Reviewing EDSL Documentation: <https://www.goemeritus.com/getting-started>\n",
    "5. Delete this List from NB"
   ]
  },
  {
   "cell_type": "markdown",
   "metadata": {},
   "source": [
    "### A Quick Example:"
   ]
  },
  {
   "cell_type": "code",
   "execution_count": 2,
   "metadata": {},
   "outputs": [
    {
     "data": {
      "text/html": [
       "<pre style=\"white-space:pre;overflow-x:auto;line-height:normal;font-family:Menlo,'DejaVu Sans Mono',consolas,'Courier New',monospace\">WARNING: Passing question_names is deprecated. Please use questions with names instead.\n",
       "</pre>\n"
      ],
      "text/plain": [
       "WARNING: Passing question_names is deprecated. Please use questions with names instead.\n"
      ]
     },
     "metadata": {},
     "output_type": "display_data"
    },
    {
     "name": "stdout",
     "output_type": "stream",
     "text": [
      "WARNING: This method is deprecated. We now enforce valid names on Agent creation\n",
      "WARNING: This method is deprecated. We now enforce valid names on Agent creation\n",
      "WARNING: This method is deprecated. We now enforce valid names on Agent creation\n",
      "WARNING: This method is deprecated. We now enforce valid names on Agent creation\n",
      "WARNING: This method is deprecated. We now enforce valid names on Agent creation\n",
      "WARNING: This method is deprecated. We now enforce valid names on Agent creation\n",
      "WARNING: This method is deprecated. We now enforce valid names on Agent creation\n",
      "WARNING: This method is deprecated. We now enforce valid names on Agent creation\n",
      "WARNING: This method is deprecated. We now enforce valid names on Agent creation\n",
      "WARNING: This method is deprecated. We now enforce valid names on Agent creation\n",
      "WARNING: This method is deprecated. We now enforce valid names on Agent creation\n",
      "WARNING: This method is deprecated. We now enforce valid names on Agent creation\n",
      "WARNING: This method is deprecated. We now enforce valid names on Agent creation\n",
      "WARNING: This method is deprecated. We now enforce valid names on Agent creation\n",
      "WARNING: This method is deprecated. We now enforce valid names on Agent creation\n",
      "WARNING: This method is deprecated. We now enforce valid names on Agent creation\n",
      "WARNING: This method is deprecated. We now enforce valid names on Agent creation\n",
      "WARNING: This method is deprecated. We now enforce valid names on Agent creation\n",
      "WARNING: This method is deprecated. We now enforce valid names on Agent creation\n",
      "WARNING: This method is deprecated. We now enforce valid names on Agent creation\n",
      "WARNING: This method is deprecated. We now enforce valid names on Agent creation\n",
      "WARNING: This method is deprecated. We now enforce valid names on Agent creation\n",
      "WARNING: This method is deprecated. We now enforce valid names on Agent creation\n",
      "WARNING: This method is deprecated. We now enforce valid names on Agent creation\n",
      "WARNING: This method is deprecated. We now enforce valid names on Agent creation\n",
      "WARNING: This method is deprecated. We now enforce valid names on Agent creation\n",
      "WARNING: This method is deprecated. We now enforce valid names on Agent creation\n"
     ]
    },
    {
     "data": {
      "text/html": [
       "<pre style=\"white-space:pre;overflow-x:auto;line-height:normal;font-family:Menlo,'DejaVu Sans Mono',consolas,'Courier New',monospace\">┏━━━━━━━━━━┳━━━━━━━━━━━━━┳━━━━━━━━━━━━┳━━━━━━━━━━━━━┳━━━━━━━━━━━━┳━━━━━━━━━━━━━┳━━━━━━━━━━━━┳━━━━━━━━━━━━┳━━━━━━━━┓\n",
       "┃<span style=\"color: #800080; text-decoration-color: #800080; font-weight: bold\"> answer   </span>┃<span style=\"color: #800080; text-decoration-color: #800080; font-weight: bold\"> answer      </span>┃<span style=\"color: #800080; text-decoration-color: #800080; font-weight: bold\"> model      </span>┃<span style=\"color: #800080; text-decoration-color: #800080; font-weight: bold\"> model       </span>┃<span style=\"color: #800080; text-decoration-color: #800080; font-weight: bold\"> model      </span>┃<span style=\"color: #800080; text-decoration-color: #800080; font-weight: bold\"> model       </span>┃<span style=\"color: #800080; text-decoration-color: #800080; font-weight: bold\"> model      </span>┃<span style=\"color: #800080; text-decoration-color: #800080; font-weight: bold\"> model      </span>┃<span style=\"color: #800080; text-decoration-color: #800080; font-weight: bold\"> model  </span>┃\n",
       "┃<span style=\"color: #800080; text-decoration-color: #800080; font-weight: bold\"> .example </span>┃<span style=\"color: #800080; text-decoration-color: #800080; font-weight: bold\"> .example_c… </span>┃<span style=\"color: #800080; text-decoration-color: #800080; font-weight: bold\"> .frequenc… </span>┃<span style=\"color: #800080; text-decoration-color: #800080; font-weight: bold\"> .model      </span>┃<span style=\"color: #800080; text-decoration-color: #800080; font-weight: bold\"> .max_toke… </span>┃<span style=\"color: #800080; text-decoration-color: #800080; font-weight: bold\"> .presence_… </span>┃<span style=\"color: #800080; text-decoration-color: #800080; font-weight: bold\"> .temperat… </span>┃<span style=\"color: #800080; text-decoration-color: #800080; font-weight: bold\"> .use_cache </span>┃<span style=\"color: #800080; text-decoration-color: #800080; font-weight: bold\"> .top_p </span>┃\n",
       "┡━━━━━━━━━━╇━━━━━━━━━━━━━╇━━━━━━━━━━━━╇━━━━━━━━━━━━━╇━━━━━━━━━━━━╇━━━━━━━━━━━━━╇━━━━━━━━━━━━╇━━━━━━━━━━━━╇━━━━━━━━┩\n",
       "│<span style=\"color: #7f7f7f; text-decoration-color: #7f7f7f\"> Good     </span>│<span style=\"color: #7f7f7f; text-decoration-color: #7f7f7f\"> I feel good </span>│<span style=\"color: #7f7f7f; text-decoration-color: #7f7f7f\"> 0          </span>│<span style=\"color: #7f7f7f; text-decoration-color: #7f7f7f\"> gpt-3.5-tu… </span>│<span style=\"color: #7f7f7f; text-decoration-color: #7f7f7f\"> 1000       </span>│<span style=\"color: #7f7f7f; text-decoration-color: #7f7f7f\"> 0           </span>│<span style=\"color: #7f7f7f; text-decoration-color: #7f7f7f\"> 0.5        </span>│<span style=\"color: #7f7f7f; text-decoration-color: #7f7f7f\"> True       </span>│<span style=\"color: #7f7f7f; text-decoration-color: #7f7f7f\"> 1      </span>│\n",
       "│<span style=\"color: #7f7f7f; text-decoration-color: #7f7f7f\">          </span>│<span style=\"color: #7f7f7f; text-decoration-color: #7f7f7f\"> today.      </span>│<span style=\"color: #7f7f7f; text-decoration-color: #7f7f7f\">            </span>│<span style=\"color: #7f7f7f; text-decoration-color: #7f7f7f\">             </span>│<span style=\"color: #7f7f7f; text-decoration-color: #7f7f7f\">            </span>│<span style=\"color: #7f7f7f; text-decoration-color: #7f7f7f\">             </span>│<span style=\"color: #7f7f7f; text-decoration-color: #7f7f7f\">            </span>│<span style=\"color: #7f7f7f; text-decoration-color: #7f7f7f\">            </span>│<span style=\"color: #7f7f7f; text-decoration-color: #7f7f7f\">        </span>│\n",
       "└──────────┴─────────────┴────────────┴─────────────┴────────────┴─────────────┴────────────┴────────────┴────────┘\n",
       "</pre>\n"
      ],
      "text/plain": [
       "┏━━━━━━━━━━┳━━━━━━━━━━━━━┳━━━━━━━━━━━━┳━━━━━━━━━━━━━┳━━━━━━━━━━━━┳━━━━━━━━━━━━━┳━━━━━━━━━━━━┳━━━━━━━━━━━━┳━━━━━━━━┓\n",
       "┃\u001b[1;35m \u001b[0m\u001b[1;35manswer  \u001b[0m\u001b[1;35m \u001b[0m┃\u001b[1;35m \u001b[0m\u001b[1;35manswer     \u001b[0m\u001b[1;35m \u001b[0m┃\u001b[1;35m \u001b[0m\u001b[1;35mmodel     \u001b[0m\u001b[1;35m \u001b[0m┃\u001b[1;35m \u001b[0m\u001b[1;35mmodel      \u001b[0m\u001b[1;35m \u001b[0m┃\u001b[1;35m \u001b[0m\u001b[1;35mmodel     \u001b[0m\u001b[1;35m \u001b[0m┃\u001b[1;35m \u001b[0m\u001b[1;35mmodel      \u001b[0m\u001b[1;35m \u001b[0m┃\u001b[1;35m \u001b[0m\u001b[1;35mmodel     \u001b[0m\u001b[1;35m \u001b[0m┃\u001b[1;35m \u001b[0m\u001b[1;35mmodel     \u001b[0m\u001b[1;35m \u001b[0m┃\u001b[1;35m \u001b[0m\u001b[1;35mmodel \u001b[0m\u001b[1;35m \u001b[0m┃\n",
       "┃\u001b[1;35m \u001b[0m\u001b[1;35m.example\u001b[0m\u001b[1;35m \u001b[0m┃\u001b[1;35m \u001b[0m\u001b[1;35m.example_c…\u001b[0m\u001b[1;35m \u001b[0m┃\u001b[1;35m \u001b[0m\u001b[1;35m.frequenc…\u001b[0m\u001b[1;35m \u001b[0m┃\u001b[1;35m \u001b[0m\u001b[1;35m.model     \u001b[0m\u001b[1;35m \u001b[0m┃\u001b[1;35m \u001b[0m\u001b[1;35m.max_toke…\u001b[0m\u001b[1;35m \u001b[0m┃\u001b[1;35m \u001b[0m\u001b[1;35m.presence_…\u001b[0m\u001b[1;35m \u001b[0m┃\u001b[1;35m \u001b[0m\u001b[1;35m.temperat…\u001b[0m\u001b[1;35m \u001b[0m┃\u001b[1;35m \u001b[0m\u001b[1;35m.use_cache\u001b[0m\u001b[1;35m \u001b[0m┃\u001b[1;35m \u001b[0m\u001b[1;35m.top_p\u001b[0m\u001b[1;35m \u001b[0m┃\n",
       "┡━━━━━━━━━━╇━━━━━━━━━━━━━╇━━━━━━━━━━━━╇━━━━━━━━━━━━━╇━━━━━━━━━━━━╇━━━━━━━━━━━━━╇━━━━━━━━━━━━╇━━━━━━━━━━━━╇━━━━━━━━┩\n",
       "│\u001b[2m \u001b[0m\u001b[2mGood    \u001b[0m\u001b[2m \u001b[0m│\u001b[2m \u001b[0m\u001b[2mI feel good\u001b[0m\u001b[2m \u001b[0m│\u001b[2m \u001b[0m\u001b[2m0         \u001b[0m\u001b[2m \u001b[0m│\u001b[2m \u001b[0m\u001b[2mgpt-3.5-tu…\u001b[0m\u001b[2m \u001b[0m│\u001b[2m \u001b[0m\u001b[2m1000      \u001b[0m\u001b[2m \u001b[0m│\u001b[2m \u001b[0m\u001b[2m0          \u001b[0m\u001b[2m \u001b[0m│\u001b[2m \u001b[0m\u001b[2m0.5       \u001b[0m\u001b[2m \u001b[0m│\u001b[2m \u001b[0m\u001b[2mTrue      \u001b[0m\u001b[2m \u001b[0m│\u001b[2m \u001b[0m\u001b[2m1     \u001b[0m\u001b[2m \u001b[0m│\n",
       "│\u001b[2m          \u001b[0m│\u001b[2m \u001b[0m\u001b[2mtoday.     \u001b[0m\u001b[2m \u001b[0m│\u001b[2m            \u001b[0m│\u001b[2m             \u001b[0m│\u001b[2m            \u001b[0m│\u001b[2m             \u001b[0m│\u001b[2m            \u001b[0m│\u001b[2m            \u001b[0m│\u001b[2m        \u001b[0m│\n",
       "└──────────┴─────────────┴────────────┴─────────────┴────────────┴─────────────┴────────────┴────────────┴────────┘\n"
      ]
     },
     "metadata": {},
     "output_type": "display_data"
    },
    {
     "name": "stdout",
     "output_type": "stream",
     "text": [
      "WARNING: This method is deprecated. We now enforce valid names on Agent creation\n",
      "WARNING: This method is deprecated. We now enforce valid names on Agent creation\n",
      "WARNING: This method is deprecated. We now enforce valid names on Agent creation\n",
      "WARNING: This method is deprecated. We now enforce valid names on Agent creation\n",
      "WARNING: This method is deprecated. We now enforce valid names on Agent creation\n",
      "WARNING: This method is deprecated. We now enforce valid names on Agent creation\n",
      "WARNING: This method is deprecated. We now enforce valid names on Agent creation\n",
      "WARNING: This method is deprecated. We now enforce valid names on Agent creation\n",
      "WARNING: This method is deprecated. We now enforce valid names on Agent creation\n"
     ]
    },
    {
     "data": {
      "text/html": [
       "<pre style=\"white-space:pre;overflow-x:auto;line-height:normal;font-family:Menlo,'DejaVu Sans Mono',consolas,'Courier New',monospace\">┏━━━━━━━━━━━━━━━━━━━━━━━━┓\n",
       "┃<span style=\"color: #800080; text-decoration-color: #800080; font-weight: bold\"> How do you feel today? </span>┃\n",
       "┡━━━━━━━━━━━━━━━━━━━━━━━━┩\n",
       "│<span style=\"color: #7f7f7f; text-decoration-color: #7f7f7f\"> Good                   </span>│\n",
       "└────────────────────────┘\n",
       "</pre>\n"
      ],
      "text/plain": [
       "┏━━━━━━━━━━━━━━━━━━━━━━━━┓\n",
       "┃\u001b[1;35m \u001b[0m\u001b[1;35mHow do you feel today?\u001b[0m\u001b[1;35m \u001b[0m┃\n",
       "┡━━━━━━━━━━━━━━━━━━━━━━━━┩\n",
       "│\u001b[2m \u001b[0m\u001b[2mGood                  \u001b[0m\u001b[2m \u001b[0m│\n",
       "└────────────────────────┘\n"
      ]
     },
     "metadata": {},
     "output_type": "display_data"
    }
   ],
   "source": [
    "# Select a question type\n",
    "from edsl.questions import QuestionMultipleChoice\n",
    "\n",
    "# Construct a question\n",
    "q = QuestionMultipleChoice(\n",
    "question_name = \"example\",\n",
    "question_text = \"How do you feel today?\",\t\n",
    "question_options = [\"Bad\", \"OK\", \"Good\"]\t\n",
    ")\n",
    "\n",
    "# Administer it to the default LLM (GPT 3.5) with the run() method and store the results\n",
    "r = q.run() \n",
    "\n",
    "# View full results (includes information about the LLM—temperature, etc.)\n",
    "r.print() \n",
    "\n",
    "# Inspect the response alone and apply table labels as desired\n",
    "(r\n",
    ".select(\"example\")\n",
    ".print(pretty_labels={\"answer.example\":q.question_text})\n",
    ")"
   ]
  },
  {
   "cell_type": "code",
   "execution_count": null,
   "metadata": {},
   "outputs": [],
   "source": []
  }
 ],
 "metadata": {
  "kernelspec": {
   "display_name": "Python 3",
   "language": "python",
   "name": "python3"
  },
  "language_info": {
   "codemirror_mode": {
    "name": "ipython",
    "version": 3
   },
   "file_extension": ".py",
   "mimetype": "text/x-python",
   "name": "python",
   "nbconvert_exporter": "python",
   "pygments_lexer": "ipython3",
   "version": "3.11.4"
  },
  "orig_nbformat": 4
 },
 "nbformat": 4,
 "nbformat_minor": 2
}
