{
 "cells": [
  {
   "cell_type": "markdown",
   "metadata": {},
   "source": [
    "# EDSL Playground for GenAI Synthetic Survey Data"
   ]
  },
  {
   "cell_type": "markdown",
   "metadata": {},
   "source": [
    "Emeritus Domain-Specific Language (edsl) Package Documentation:\n",
    "* <https://www.goemeritus.com/getting-started>\n",
    "\n",
    "Package Requirements:\n",
    "* Python 3.9 - 3.11\n",
    "* OpenAI API key\n",
    "\n",
    "Installation:\n",
    "* You can check for the latest version of edsl on PyPI: <https://pypi.org/project/edsl/> \n",
    "* GitHub: <https://github.com/goemeritus/edsl/>\n",
    "* Demo notebooks: <https://github.com/goemeritus/edsl_demos/>"
   ]
  },
  {
   "cell_type": "code",
   "execution_count": 2,
   "metadata": {},
   "outputs": [],
   "source": [
    "#!pip install edsl"
   ]
  },
  {
   "cell_type": "markdown",
   "metadata": {},
   "source": [
    "### To-Do:\n",
    "1. Set Up Developing Enviornment: <https://tech-vcanus.github.io/development/mac-dev/>\n",
    "2. Install Homebrew\n",
    "3. Add OpenAI key (<https://platform.openai.com/api-keys>) to the .env file found at (/opt/homebrew/lib/python3.11/site-packages/.env)\n",
    "4. Continue Reviewing EDSL Documentation: <https://www.goemeritus.com/getting-started>\n",
    "5. Delete this List from NB"
   ]
  },
  {
   "cell_type": "markdown",
   "metadata": {},
   "source": [
    "### A Quick Example:"
   ]
  },
  {
   "cell_type": "code",
   "execution_count": null,
   "metadata": {},
   "outputs": [],
   "source": [
    "# Select a question type\n",
    "from edsl.questions import QuestionMultipleChoice"
   ]
  }
 ],
 "metadata": {
  "kernelspec": {
   "display_name": "Python 3",
   "language": "python",
   "name": "python3"
  },
  "language_info": {
   "codemirror_mode": {
    "name": "ipython",
    "version": 3
   },
   "file_extension": ".py",
   "mimetype": "text/x-python",
   "name": "python",
   "nbconvert_exporter": "python",
   "pygments_lexer": "ipython3",
   "version": "3.11.4"
  },
  "orig_nbformat": 4
 },
 "nbformat": 4,
 "nbformat_minor": 2
}
