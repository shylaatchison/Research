{
 "cells": [
  {
   "cell_type": "markdown",
   "metadata": {},
   "source": [
    "# EDSL Playground for GenAI Synthetic Survey Data"
   ]
  },
  {
   "cell_type": "markdown",
   "metadata": {},
   "source": [
    "Emeritus Domain-Specific Language (edsl) Package Documentation:\n",
    "* <https://www.goemeritus.com/getting-started>\n",
    "\n",
    "Package Requirements:\n",
    "* Python 3.9 - 3.11\n",
    "* OpenAI API key\n",
    "\n",
    "Installation:\n",
    "* You can check for the latest version of edsl on PyPI: <https://pypi.org/project/edsl/> \n",
    "* GitHub: <https://github.com/goemeritus/edsl/>\n",
    "* Demo notebooks: <https://github.com/goemeritus/edsl_demos/>"
   ]
  },
  {
   "cell_type": "code",
   "execution_count": 2,
   "metadata": {},
   "outputs": [],
   "source": [
    "#!pip install edsl"
   ]
  },
  {
   "cell_type": "markdown",
   "metadata": {},
   "source": [
    "### To-Do:\n",
    "1. Set Up Developing Enviornment: <https://tech-vcanus.github.io/development/mac-dev/>\n",
    "2. Install Homebrew\n",
    "3. Add OpenAI key (<https://platform.openai.com/api-keys>) to the .env file found at (/opt/homebrew/lib/python3.11/site-packages/.env)\n",
    "4. Continue Reviewing EDSL Documentation: <https://www.goemeritus.com/getting-started>\n",
    "5. Delete this List from NB"
   ]
  },
  {
   "cell_type": "markdown",
   "metadata": {},
   "source": [
    "### A Quick Example:"
   ]
  },
  {
   "cell_type": "code",
   "execution_count": 1,
   "metadata": {},
   "outputs": [
    {
     "name": "stdout",
     "output_type": "stream",
     "text": [
      "Please provide your OpenAI API key (https://platform.openai.com/api-keys).\n",
      "There are three ways you can do this:\n",
      "1. Set it as a regular environment variable\n",
      "2. Close this program and add a line\n",
      "OPENAI_API_KEY=... \n",
      "in the .env file (found at /Users/shylaatchison/wd/GitHub/introtodeeplearning/.conda/lib/python3.11/site-packages/.env)\n",
      "3. Enter the value below and press enter: \n",
      "Environment variable OPENAI_API_KEY set successfully to .\n",
      "Also saved the value in the .env file for future use.\n"
     ]
    }
   ],
   "source": [
    "# Select a question type\n",
    "from edsl.questions import QuestionMultipleChoice"
   ]
  },
  {
   "cell_type": "code",
   "execution_count": null,
   "metadata": {},
   "outputs": [],
   "source": []
  }
 ],
 "metadata": {
  "kernelspec": {
   "display_name": "Python 3",
   "language": "python",
   "name": "python3"
  },
  "language_info": {
   "codemirror_mode": {
    "name": "ipython",
    "version": 3
   },
   "file_extension": ".py",
   "mimetype": "text/x-python",
   "name": "python",
   "nbconvert_exporter": "python",
   "pygments_lexer": "ipython3",
   "version": "3.11.4"
  },
  "orig_nbformat": 4
 },
 "nbformat": 4,
 "nbformat_minor": 2
}
