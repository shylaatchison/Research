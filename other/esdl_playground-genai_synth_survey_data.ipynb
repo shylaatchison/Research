{
 "cells": [
  {
   "cell_type": "markdown",
   "metadata": {},
   "source": [
    "# EDSL Playground"
   ]
  },
  {
   "cell_type": "markdown",
   "metadata": {},
   "source": [
    "Emeritus Domain-Specific Language (edsl) Package Documentation:\n",
    "* <https://www.goemeritus.com/getting-started>\n",
    "\n",
    "Installation:\n",
    "* You can check for the latest version of edsl on PyPI: <https://pypi.org/project/edsl/> \n",
    "* GitHub: <https://github.com/goemeritus/edsl/>\n",
    "* Demo notebooks: <https://github.com/goemeritus/edsl_demos/>"
   ]
  },
  {
   "cell_type": "code",
   "execution_count": 3,
   "metadata": {},
   "outputs": [],
   "source": [
    "#!pip install edsl"
   ]
  },
  {
   "cell_type": "code",
   "execution_count": 1,
   "metadata": {},
   "outputs": [
    {
     "name": "stdout",
     "output_type": "stream",
     "text": [
      "Name: edsl\n",
      "Version: 0.1.3\n",
      "Summary: Create and analyze LLM-based surveys\n",
      "Home-page: https://www.goemeritus.com/\n",
      "Author: Apostolos Filippas\n",
      "Author-email: apostolos@goemeritus.com\n",
      "License: MIT\n",
      "Location: /Users/shylaatchison/opt/anaconda3/envs/standard/lib/python3.11/site-packages\n",
      "Requires: jinja2, jupyter, markdown2, numpy, openai, pandas, python-docx, python-dotenv, rich, seaborn, simpleeval, sqlalchemy, statsmodels, tenacity, wordcloud\n",
      "Required-by: \n",
      "Note: you may need to restart the kernel to use updated packages.\n"
     ]
    }
   ],
   "source": [
    "pip show edsl"
   ]
  },
  {
   "cell_type": "code",
   "execution_count": 2,
   "metadata": {},
   "outputs": [
    {
     "name": "stdout",
     "output_type": "stream",
     "text": [
      "Requirement already satisfied: edsl in /Users/shylaatchison/opt/anaconda3/envs/standard/lib/python3.11/site-packages (0.1.3)\n",
      "Collecting edsl\n",
      "  Obtaining dependency information for edsl from https://files.pythonhosted.org/packages/05/68/fc6122bdbf4c189b4be2a9729eec1fb6ccac323efa77dada98c3e1947b74/edsl-0.1.5-py3-none-any.whl.metadata\n",
      "  Downloading edsl-0.1.5-py3-none-any.whl.metadata (2.8 kB)\n",
      "Requirement already satisfied: aiohttp<4.0.0,>=3.9.1 in /Users/shylaatchison/opt/anaconda3/envs/standard/lib/python3.11/site-packages (from edsl) (3.9.1)\n",
      "Requirement already satisfied: jinja2<4.0.0,>=3.1.2 in /Users/shylaatchison/opt/anaconda3/envs/standard/lib/python3.11/site-packages (from edsl) (3.1.3)\n",
      "Requirement already satisfied: jupyter<2.0.0,>=1.0.0 in /Users/shylaatchison/opt/anaconda3/envs/standard/lib/python3.11/site-packages (from edsl) (1.0.0)\n",
      "Collecting nest-asyncio<2.0.0,>=1.5.9 (from edsl)\n",
      "  Obtaining dependency information for nest-asyncio<2.0.0,>=1.5.9 from https://files.pythonhosted.org/packages/a0/c4/c2971a3ba4c6103a3d10c4b0f24f461ddc027f0f09763220cf35ca1401b3/nest_asyncio-1.6.0-py3-none-any.whl.metadata\n",
      "  Downloading nest_asyncio-1.6.0-py3-none-any.whl.metadata (2.8 kB)\n",
      "Requirement already satisfied: numpy<2.0,>=1.22 in /Users/shylaatchison/opt/anaconda3/envs/standard/lib/python3.11/site-packages (from edsl) (1.24.3)\n",
      "Requirement already satisfied: openai<2.0.0,>=1.4.0 in /Users/shylaatchison/opt/anaconda3/envs/standard/lib/python3.11/site-packages (from edsl) (1.6.1)\n",
      "Requirement already satisfied: pandas<3.0.0,>=2.1.4 in /Users/shylaatchison/opt/anaconda3/envs/standard/lib/python3.11/site-packages (from edsl) (2.1.4)\n",
      "Requirement already satisfied: pillow>=9.4.0 in /Users/shylaatchison/opt/anaconda3/envs/standard/lib/python3.11/site-packages (from edsl) (10.0.0)\n",
      "Requirement already satisfied: python-docx<2.0.0,>=1.1.0 in /Users/shylaatchison/opt/anaconda3/envs/standard/lib/python3.11/site-packages (from edsl) (1.1.0)\n",
      "Requirement already satisfied: python-dotenv<2.0.0,>=1.0.0 in /Users/shylaatchison/opt/anaconda3/envs/standard/lib/python3.11/site-packages (from edsl) (1.0.0)\n",
      "Requirement already satisfied: rich<14.0.0,>=13.7.0 in /Users/shylaatchison/opt/anaconda3/envs/standard/lib/python3.11/site-packages (from edsl) (13.7.0)\n",
      "Requirement already satisfied: simpleeval<0.10.0,>=0.9.13 in /Users/shylaatchison/opt/anaconda3/envs/standard/lib/python3.11/site-packages (from edsl) (0.9.13)\n",
      "Requirement already satisfied: sqlalchemy<3.0.0,>=2.0.23 in /Users/shylaatchison/opt/anaconda3/envs/standard/lib/python3.11/site-packages (from edsl) (2.0.25)\n",
      "Requirement already satisfied: tenacity<9.0.0,>=8.2.3 in /Users/shylaatchison/opt/anaconda3/envs/standard/lib/python3.11/site-packages (from edsl) (8.2.3)\n",
      "Requirement already satisfied: attrs>=17.3.0 in /Users/shylaatchison/opt/anaconda3/envs/standard/lib/python3.11/site-packages (from aiohttp<4.0.0,>=3.9.1->edsl) (23.2.0)\n",
      "Requirement already satisfied: multidict<7.0,>=4.5 in /Users/shylaatchison/opt/anaconda3/envs/standard/lib/python3.11/site-packages (from aiohttp<4.0.0,>=3.9.1->edsl) (6.0.4)\n",
      "Requirement already satisfied: yarl<2.0,>=1.0 in /Users/shylaatchison/opt/anaconda3/envs/standard/lib/python3.11/site-packages (from aiohttp<4.0.0,>=3.9.1->edsl) (1.9.4)\n",
      "Requirement already satisfied: frozenlist>=1.1.1 in /Users/shylaatchison/opt/anaconda3/envs/standard/lib/python3.11/site-packages (from aiohttp<4.0.0,>=3.9.1->edsl) (1.4.1)\n",
      "Requirement already satisfied: aiosignal>=1.1.2 in /Users/shylaatchison/opt/anaconda3/envs/standard/lib/python3.11/site-packages (from aiohttp<4.0.0,>=3.9.1->edsl) (1.3.1)\n",
      "Requirement already satisfied: MarkupSafe>=2.0 in /Users/shylaatchison/opt/anaconda3/envs/standard/lib/python3.11/site-packages (from jinja2<4.0.0,>=3.1.2->edsl) (2.1.3)\n",
      "Requirement already satisfied: notebook in /Users/shylaatchison/opt/anaconda3/envs/standard/lib/python3.11/site-packages (from jupyter<2.0.0,>=1.0.0->edsl) (7.0.6)\n",
      "Requirement already satisfied: qtconsole in /Users/shylaatchison/opt/anaconda3/envs/standard/lib/python3.11/site-packages (from jupyter<2.0.0,>=1.0.0->edsl) (5.5.1)\n",
      "Requirement already satisfied: jupyter-console in /Users/shylaatchison/opt/anaconda3/envs/standard/lib/python3.11/site-packages (from jupyter<2.0.0,>=1.0.0->edsl) (6.6.3)\n",
      "Requirement already satisfied: nbconvert in /Users/shylaatchison/opt/anaconda3/envs/standard/lib/python3.11/site-packages (from jupyter<2.0.0,>=1.0.0->edsl) (7.14.2)\n",
      "Requirement already satisfied: ipykernel in /Users/shylaatchison/opt/anaconda3/envs/standard/lib/python3.11/site-packages (from jupyter<2.0.0,>=1.0.0->edsl) (6.25.1)\n",
      "Requirement already satisfied: ipywidgets in /Users/shylaatchison/opt/anaconda3/envs/standard/lib/python3.11/site-packages (from jupyter<2.0.0,>=1.0.0->edsl) (8.1.1)\n",
      "Requirement already satisfied: anyio<5,>=3.5.0 in /Users/shylaatchison/opt/anaconda3/envs/standard/lib/python3.11/site-packages (from openai<2.0.0,>=1.4.0->edsl) (4.2.0)\n",
      "Requirement already satisfied: distro<2,>=1.7.0 in /Users/shylaatchison/opt/anaconda3/envs/standard/lib/python3.11/site-packages (from openai<2.0.0,>=1.4.0->edsl) (1.9.0)\n",
      "Requirement already satisfied: httpx<1,>=0.23.0 in /Users/shylaatchison/opt/anaconda3/envs/standard/lib/python3.11/site-packages (from openai<2.0.0,>=1.4.0->edsl) (0.26.0)\n",
      "Requirement already satisfied: pydantic<3,>=1.9.0 in /Users/shylaatchison/opt/anaconda3/envs/standard/lib/python3.11/site-packages (from openai<2.0.0,>=1.4.0->edsl) (2.5.3)\n",
      "Requirement already satisfied: sniffio in /Users/shylaatchison/opt/anaconda3/envs/standard/lib/python3.11/site-packages (from openai<2.0.0,>=1.4.0->edsl) (1.3.0)\n",
      "Requirement already satisfied: tqdm>4 in /Users/shylaatchison/opt/anaconda3/envs/standard/lib/python3.11/site-packages (from openai<2.0.0,>=1.4.0->edsl) (4.66.0)\n",
      "Requirement already satisfied: typing-extensions<5,>=4.7 in /Users/shylaatchison/opt/anaconda3/envs/standard/lib/python3.11/site-packages (from openai<2.0.0,>=1.4.0->edsl) (4.9.0)\n",
      "Requirement already satisfied: python-dateutil>=2.8.2 in /Users/shylaatchison/opt/anaconda3/envs/standard/lib/python3.11/site-packages (from pandas<3.0.0,>=2.1.4->edsl) (2.8.2)\n",
      "Requirement already satisfied: pytz>=2020.1 in /Users/shylaatchison/opt/anaconda3/envs/standard/lib/python3.11/site-packages (from pandas<3.0.0,>=2.1.4->edsl) (2023.3)\n",
      "Requirement already satisfied: tzdata>=2022.1 in /Users/shylaatchison/opt/anaconda3/envs/standard/lib/python3.11/site-packages (from pandas<3.0.0,>=2.1.4->edsl) (2023.3)\n",
      "Requirement already satisfied: lxml>=3.1.0 in /Users/shylaatchison/opt/anaconda3/envs/standard/lib/python3.11/site-packages (from python-docx<2.0.0,>=1.1.0->edsl) (5.1.0)\n",
      "Requirement already satisfied: markdown-it-py>=2.2.0 in /Users/shylaatchison/opt/anaconda3/envs/standard/lib/python3.11/site-packages (from rich<14.0.0,>=13.7.0->edsl) (3.0.0)\n",
      "Requirement already satisfied: pygments<3.0.0,>=2.13.0 in /Users/shylaatchison/opt/anaconda3/envs/standard/lib/python3.11/site-packages (from rich<14.0.0,>=13.7.0->edsl) (2.16.1)\n",
      "Requirement already satisfied: greenlet!=0.4.17 in /Users/shylaatchison/opt/anaconda3/envs/standard/lib/python3.11/site-packages (from sqlalchemy<3.0.0,>=2.0.23->edsl) (3.0.3)\n",
      "Requirement already satisfied: idna>=2.8 in /Users/shylaatchison/opt/anaconda3/envs/standard/lib/python3.11/site-packages (from anyio<5,>=3.5.0->openai<2.0.0,>=1.4.0->edsl) (3.4)\n",
      "Requirement already satisfied: certifi in /Users/shylaatchison/opt/anaconda3/envs/standard/lib/python3.11/site-packages (from httpx<1,>=0.23.0->openai<2.0.0,>=1.4.0->edsl) (2023.7.22)\n",
      "Requirement already satisfied: httpcore==1.* in /Users/shylaatchison/opt/anaconda3/envs/standard/lib/python3.11/site-packages (from httpx<1,>=0.23.0->openai<2.0.0,>=1.4.0->edsl) (1.0.2)\n",
      "Requirement already satisfied: h11<0.15,>=0.13 in /Users/shylaatchison/opt/anaconda3/envs/standard/lib/python3.11/site-packages (from httpcore==1.*->httpx<1,>=0.23.0->openai<2.0.0,>=1.4.0->edsl) (0.14.0)\n",
      "Requirement already satisfied: mdurl~=0.1 in /Users/shylaatchison/opt/anaconda3/envs/standard/lib/python3.11/site-packages (from markdown-it-py>=2.2.0->rich<14.0.0,>=13.7.0->edsl) (0.1.2)\n",
      "Requirement already satisfied: annotated-types>=0.4.0 in /Users/shylaatchison/opt/anaconda3/envs/standard/lib/python3.11/site-packages (from pydantic<3,>=1.9.0->openai<2.0.0,>=1.4.0->edsl) (0.6.0)\n",
      "Requirement already satisfied: pydantic-core==2.14.6 in /Users/shylaatchison/opt/anaconda3/envs/standard/lib/python3.11/site-packages (from pydantic<3,>=1.9.0->openai<2.0.0,>=1.4.0->edsl) (2.14.6)\n",
      "Requirement already satisfied: six>=1.5 in /Users/shylaatchison/opt/anaconda3/envs/standard/lib/python3.11/site-packages (from python-dateutil>=2.8.2->pandas<3.0.0,>=2.1.4->edsl) (1.16.0)\n",
      "Requirement already satisfied: appnope in /Users/shylaatchison/opt/anaconda3/envs/standard/lib/python3.11/site-packages (from ipykernel->jupyter<2.0.0,>=1.0.0->edsl) (0.1.3)\n",
      "Requirement already satisfied: comm>=0.1.1 in /Users/shylaatchison/opt/anaconda3/envs/standard/lib/python3.11/site-packages (from ipykernel->jupyter<2.0.0,>=1.0.0->edsl) (0.1.4)\n",
      "Requirement already satisfied: debugpy>=1.6.5 in /Users/shylaatchison/opt/anaconda3/envs/standard/lib/python3.11/site-packages (from ipykernel->jupyter<2.0.0,>=1.0.0->edsl) (1.6.8)\n",
      "Requirement already satisfied: ipython>=7.23.1 in /Users/shylaatchison/opt/anaconda3/envs/standard/lib/python3.11/site-packages (from ipykernel->jupyter<2.0.0,>=1.0.0->edsl) (8.14.0)\n",
      "Requirement already satisfied: jupyter-client>=6.1.12 in /Users/shylaatchison/opt/anaconda3/envs/standard/lib/python3.11/site-packages (from ipykernel->jupyter<2.0.0,>=1.0.0->edsl) (8.3.0)\n",
      "Requirement already satisfied: jupyter-core!=5.0.*,>=4.12 in /Users/shylaatchison/opt/anaconda3/envs/standard/lib/python3.11/site-packages (from ipykernel->jupyter<2.0.0,>=1.0.0->edsl) (5.3.1)\n",
      "Requirement already satisfied: matplotlib-inline>=0.1 in /Users/shylaatchison/opt/anaconda3/envs/standard/lib/python3.11/site-packages (from ipykernel->jupyter<2.0.0,>=1.0.0->edsl) (0.1.6)\n",
      "Requirement already satisfied: packaging in /Users/shylaatchison/opt/anaconda3/envs/standard/lib/python3.11/site-packages (from ipykernel->jupyter<2.0.0,>=1.0.0->edsl) (23.1)\n",
      "Requirement already satisfied: psutil in /Users/shylaatchison/opt/anaconda3/envs/standard/lib/python3.11/site-packages (from ipykernel->jupyter<2.0.0,>=1.0.0->edsl) (5.9.5)\n",
      "Requirement already satisfied: pyzmq>=20 in /Users/shylaatchison/opt/anaconda3/envs/standard/lib/python3.11/site-packages (from ipykernel->jupyter<2.0.0,>=1.0.0->edsl) (25.1.0)\n",
      "Requirement already satisfied: tornado>=6.1 in /Users/shylaatchison/opt/anaconda3/envs/standard/lib/python3.11/site-packages (from ipykernel->jupyter<2.0.0,>=1.0.0->edsl) (6.3.2)\n",
      "Requirement already satisfied: traitlets>=5.4.0 in /Users/shylaatchison/opt/anaconda3/envs/standard/lib/python3.11/site-packages (from ipykernel->jupyter<2.0.0,>=1.0.0->edsl) (5.9.0)\n",
      "Requirement already satisfied: widgetsnbextension~=4.0.9 in /Users/shylaatchison/opt/anaconda3/envs/standard/lib/python3.11/site-packages (from ipywidgets->jupyter<2.0.0,>=1.0.0->edsl) (4.0.9)\n",
      "Requirement already satisfied: jupyterlab-widgets~=3.0.9 in /Users/shylaatchison/opt/anaconda3/envs/standard/lib/python3.11/site-packages (from ipywidgets->jupyter<2.0.0,>=1.0.0->edsl) (3.0.9)\n",
      "Requirement already satisfied: prompt-toolkit>=3.0.30 in /Users/shylaatchison/opt/anaconda3/envs/standard/lib/python3.11/site-packages (from jupyter-console->jupyter<2.0.0,>=1.0.0->edsl) (3.0.39)\n",
      "Requirement already satisfied: beautifulsoup4 in /Users/shylaatchison/opt/anaconda3/envs/standard/lib/python3.11/site-packages (from nbconvert->jupyter<2.0.0,>=1.0.0->edsl) (4.12.3)\n",
      "Requirement already satisfied: bleach!=5.0.0 in /Users/shylaatchison/opt/anaconda3/envs/standard/lib/python3.11/site-packages (from nbconvert->jupyter<2.0.0,>=1.0.0->edsl) (6.1.0)\n",
      "Requirement already satisfied: defusedxml in /Users/shylaatchison/opt/anaconda3/envs/standard/lib/python3.11/site-packages (from nbconvert->jupyter<2.0.0,>=1.0.0->edsl) (0.7.1)\n",
      "Requirement already satisfied: jupyterlab-pygments in /Users/shylaatchison/opt/anaconda3/envs/standard/lib/python3.11/site-packages (from nbconvert->jupyter<2.0.0,>=1.0.0->edsl) (0.3.0)\n",
      "Requirement already satisfied: mistune<4,>=2.0.3 in /Users/shylaatchison/opt/anaconda3/envs/standard/lib/python3.11/site-packages (from nbconvert->jupyter<2.0.0,>=1.0.0->edsl) (3.0.2)\n",
      "Requirement already satisfied: nbclient>=0.5.0 in /Users/shylaatchison/opt/anaconda3/envs/standard/lib/python3.11/site-packages (from nbconvert->jupyter<2.0.0,>=1.0.0->edsl) (0.9.0)\n",
      "Requirement already satisfied: nbformat>=5.7 in /Users/shylaatchison/opt/anaconda3/envs/standard/lib/python3.11/site-packages (from nbconvert->jupyter<2.0.0,>=1.0.0->edsl) (5.9.2)\n",
      "Requirement already satisfied: pandocfilters>=1.4.1 in /Users/shylaatchison/opt/anaconda3/envs/standard/lib/python3.11/site-packages (from nbconvert->jupyter<2.0.0,>=1.0.0->edsl) (1.5.0)\n",
      "Requirement already satisfied: tinycss2 in /Users/shylaatchison/opt/anaconda3/envs/standard/lib/python3.11/site-packages (from nbconvert->jupyter<2.0.0,>=1.0.0->edsl) (1.2.1)\n",
      "Requirement already satisfied: jupyter-server<3,>=2.4.0 in /Users/shylaatchison/opt/anaconda3/envs/standard/lib/python3.11/site-packages (from notebook->jupyter<2.0.0,>=1.0.0->edsl) (2.12.5)\n",
      "Requirement already satisfied: jupyterlab-server<3,>=2.22.1 in /Users/shylaatchison/opt/anaconda3/envs/standard/lib/python3.11/site-packages (from notebook->jupyter<2.0.0,>=1.0.0->edsl) (2.25.2)\n",
      "Requirement already satisfied: jupyterlab<5,>=4.0.2 in /Users/shylaatchison/opt/anaconda3/envs/standard/lib/python3.11/site-packages (from notebook->jupyter<2.0.0,>=1.0.0->edsl) (4.0.10)\n",
      "Requirement already satisfied: notebook-shim<0.3,>=0.2 in /Users/shylaatchison/opt/anaconda3/envs/standard/lib/python3.11/site-packages (from notebook->jupyter<2.0.0,>=1.0.0->edsl) (0.2.3)\n",
      "Requirement already satisfied: qtpy>=2.4.0 in /Users/shylaatchison/opt/anaconda3/envs/standard/lib/python3.11/site-packages (from qtconsole->jupyter<2.0.0,>=1.0.0->edsl) (2.4.1)\n",
      "Requirement already satisfied: webencodings in /Users/shylaatchison/opt/anaconda3/envs/standard/lib/python3.11/site-packages (from bleach!=5.0.0->nbconvert->jupyter<2.0.0,>=1.0.0->edsl) (0.5.1)\n",
      "Requirement already satisfied: backcall in /Users/shylaatchison/opt/anaconda3/envs/standard/lib/python3.11/site-packages (from ipython>=7.23.1->ipykernel->jupyter<2.0.0,>=1.0.0->edsl) (0.2.0)\n",
      "Requirement already satisfied: decorator in /Users/shylaatchison/opt/anaconda3/envs/standard/lib/python3.11/site-packages (from ipython>=7.23.1->ipykernel->jupyter<2.0.0,>=1.0.0->edsl) (5.1.1)\n",
      "Requirement already satisfied: jedi>=0.16 in /Users/shylaatchison/opt/anaconda3/envs/standard/lib/python3.11/site-packages (from ipython>=7.23.1->ipykernel->jupyter<2.0.0,>=1.0.0->edsl) (0.19.0)\n",
      "Requirement already satisfied: pickleshare in /Users/shylaatchison/opt/anaconda3/envs/standard/lib/python3.11/site-packages (from ipython>=7.23.1->ipykernel->jupyter<2.0.0,>=1.0.0->edsl) (0.7.5)\n",
      "Requirement already satisfied: stack-data in /Users/shylaatchison/opt/anaconda3/envs/standard/lib/python3.11/site-packages (from ipython>=7.23.1->ipykernel->jupyter<2.0.0,>=1.0.0->edsl) (0.6.2)\n",
      "Requirement already satisfied: pexpect>4.3 in /Users/shylaatchison/opt/anaconda3/envs/standard/lib/python3.11/site-packages (from ipython>=7.23.1->ipykernel->jupyter<2.0.0,>=1.0.0->edsl) (4.8.0)\n",
      "Requirement already satisfied: platformdirs>=2.5 in /Users/shylaatchison/opt/anaconda3/envs/standard/lib/python3.11/site-packages (from jupyter-core!=5.0.*,>=4.12->ipykernel->jupyter<2.0.0,>=1.0.0->edsl) (3.10.0)\n",
      "Requirement already satisfied: argon2-cffi in /Users/shylaatchison/opt/anaconda3/envs/standard/lib/python3.11/site-packages (from jupyter-server<3,>=2.4.0->notebook->jupyter<2.0.0,>=1.0.0->edsl) (23.1.0)\n",
      "Requirement already satisfied: jupyter-events>=0.9.0 in /Users/shylaatchison/opt/anaconda3/envs/standard/lib/python3.11/site-packages (from jupyter-server<3,>=2.4.0->notebook->jupyter<2.0.0,>=1.0.0->edsl) (0.9.0)\n",
      "Requirement already satisfied: jupyter-server-terminals in /Users/shylaatchison/opt/anaconda3/envs/standard/lib/python3.11/site-packages (from jupyter-server<3,>=2.4.0->notebook->jupyter<2.0.0,>=1.0.0->edsl) (0.5.1)\n",
      "Requirement already satisfied: overrides in /Users/shylaatchison/opt/anaconda3/envs/standard/lib/python3.11/site-packages (from jupyter-server<3,>=2.4.0->notebook->jupyter<2.0.0,>=1.0.0->edsl) (7.4.0)\n",
      "Requirement already satisfied: prometheus-client in /Users/shylaatchison/opt/anaconda3/envs/standard/lib/python3.11/site-packages (from jupyter-server<3,>=2.4.0->notebook->jupyter<2.0.0,>=1.0.0->edsl) (0.19.0)\n",
      "Requirement already satisfied: send2trash>=1.8.2 in /Users/shylaatchison/opt/anaconda3/envs/standard/lib/python3.11/site-packages (from jupyter-server<3,>=2.4.0->notebook->jupyter<2.0.0,>=1.0.0->edsl) (1.8.2)\n",
      "Requirement already satisfied: terminado>=0.8.3 in /Users/shylaatchison/opt/anaconda3/envs/standard/lib/python3.11/site-packages (from jupyter-server<3,>=2.4.0->notebook->jupyter<2.0.0,>=1.0.0->edsl) (0.18.0)\n",
      "Requirement already satisfied: websocket-client in /Users/shylaatchison/opt/anaconda3/envs/standard/lib/python3.11/site-packages (from jupyter-server<3,>=2.4.0->notebook->jupyter<2.0.0,>=1.0.0->edsl) (1.7.0)\n",
      "Requirement already satisfied: async-lru>=1.0.0 in /Users/shylaatchison/opt/anaconda3/envs/standard/lib/python3.11/site-packages (from jupyterlab<5,>=4.0.2->notebook->jupyter<2.0.0,>=1.0.0->edsl) (2.0.4)\n",
      "Requirement already satisfied: jupyter-lsp>=2.0.0 in /Users/shylaatchison/opt/anaconda3/envs/standard/lib/python3.11/site-packages (from jupyterlab<5,>=4.0.2->notebook->jupyter<2.0.0,>=1.0.0->edsl) (2.2.2)\n",
      "Requirement already satisfied: babel>=2.10 in /Users/shylaatchison/opt/anaconda3/envs/standard/lib/python3.11/site-packages (from jupyterlab-server<3,>=2.22.1->notebook->jupyter<2.0.0,>=1.0.0->edsl) (2.14.0)\n",
      "Requirement already satisfied: json5>=0.9.0 in /Users/shylaatchison/opt/anaconda3/envs/standard/lib/python3.11/site-packages (from jupyterlab-server<3,>=2.22.1->notebook->jupyter<2.0.0,>=1.0.0->edsl) (0.9.14)\n",
      "Requirement already satisfied: jsonschema>=4.18.0 in /Users/shylaatchison/opt/anaconda3/envs/standard/lib/python3.11/site-packages (from jupyterlab-server<3,>=2.22.1->notebook->jupyter<2.0.0,>=1.0.0->edsl) (4.21.0)\n",
      "Requirement already satisfied: requests>=2.31 in /Users/shylaatchison/opt/anaconda3/envs/standard/lib/python3.11/site-packages (from jupyterlab-server<3,>=2.22.1->notebook->jupyter<2.0.0,>=1.0.0->edsl) (2.31.0)\n",
      "Requirement already satisfied: fastjsonschema in /Users/shylaatchison/opt/anaconda3/envs/standard/lib/python3.11/site-packages (from nbformat>=5.7->nbconvert->jupyter<2.0.0,>=1.0.0->edsl) (2.19.1)\n",
      "Requirement already satisfied: wcwidth in /Users/shylaatchison/opt/anaconda3/envs/standard/lib/python3.11/site-packages (from prompt-toolkit>=3.0.30->jupyter-console->jupyter<2.0.0,>=1.0.0->edsl) (0.2.6)\n",
      "Requirement already satisfied: soupsieve>1.2 in /Users/shylaatchison/opt/anaconda3/envs/standard/lib/python3.11/site-packages (from beautifulsoup4->nbconvert->jupyter<2.0.0,>=1.0.0->edsl) (2.5)\n",
      "Requirement already satisfied: parso<0.9.0,>=0.8.3 in /Users/shylaatchison/opt/anaconda3/envs/standard/lib/python3.11/site-packages (from jedi>=0.16->ipython>=7.23.1->ipykernel->jupyter<2.0.0,>=1.0.0->edsl) (0.8.3)\n",
      "Requirement already satisfied: jsonschema-specifications>=2023.03.6 in /Users/shylaatchison/opt/anaconda3/envs/standard/lib/python3.11/site-packages (from jsonschema>=4.18.0->jupyterlab-server<3,>=2.22.1->notebook->jupyter<2.0.0,>=1.0.0->edsl) (2023.12.1)\n",
      "Requirement already satisfied: referencing>=0.28.4 in /Users/shylaatchison/opt/anaconda3/envs/standard/lib/python3.11/site-packages (from jsonschema>=4.18.0->jupyterlab-server<3,>=2.22.1->notebook->jupyter<2.0.0,>=1.0.0->edsl) (0.32.1)\n",
      "Requirement already satisfied: rpds-py>=0.7.1 in /Users/shylaatchison/opt/anaconda3/envs/standard/lib/python3.11/site-packages (from jsonschema>=4.18.0->jupyterlab-server<3,>=2.22.1->notebook->jupyter<2.0.0,>=1.0.0->edsl) (0.17.1)\n",
      "Requirement already satisfied: python-json-logger>=2.0.4 in /Users/shylaatchison/opt/anaconda3/envs/standard/lib/python3.11/site-packages (from jupyter-events>=0.9.0->jupyter-server<3,>=2.4.0->notebook->jupyter<2.0.0,>=1.0.0->edsl) (2.0.7)\n",
      "Requirement already satisfied: pyyaml>=5.3 in /Users/shylaatchison/opt/anaconda3/envs/standard/lib/python3.11/site-packages (from jupyter-events>=0.9.0->jupyter-server<3,>=2.4.0->notebook->jupyter<2.0.0,>=1.0.0->edsl) (6.0.1)\n",
      "Requirement already satisfied: rfc3339-validator in /Users/shylaatchison/opt/anaconda3/envs/standard/lib/python3.11/site-packages (from jupyter-events>=0.9.0->jupyter-server<3,>=2.4.0->notebook->jupyter<2.0.0,>=1.0.0->edsl) (0.1.4)\n",
      "Requirement already satisfied: rfc3986-validator>=0.1.1 in /Users/shylaatchison/opt/anaconda3/envs/standard/lib/python3.11/site-packages (from jupyter-events>=0.9.0->jupyter-server<3,>=2.4.0->notebook->jupyter<2.0.0,>=1.0.0->edsl) (0.1.1)\n",
      "Requirement already satisfied: ptyprocess>=0.5 in /Users/shylaatchison/opt/anaconda3/envs/standard/lib/python3.11/site-packages (from pexpect>4.3->ipython>=7.23.1->ipykernel->jupyter<2.0.0,>=1.0.0->edsl) (0.7.0)\n",
      "Requirement already satisfied: charset-normalizer<4,>=2 in /Users/shylaatchison/opt/anaconda3/envs/standard/lib/python3.11/site-packages (from requests>=2.31->jupyterlab-server<3,>=2.22.1->notebook->jupyter<2.0.0,>=1.0.0->edsl) (3.2.0)\n",
      "Requirement already satisfied: urllib3<3,>=1.21.1 in /Users/shylaatchison/opt/anaconda3/envs/standard/lib/python3.11/site-packages (from requests>=2.31->jupyterlab-server<3,>=2.22.1->notebook->jupyter<2.0.0,>=1.0.0->edsl) (1.26.16)\n",
      "Requirement already satisfied: argon2-cffi-bindings in /Users/shylaatchison/opt/anaconda3/envs/standard/lib/python3.11/site-packages (from argon2-cffi->jupyter-server<3,>=2.4.0->notebook->jupyter<2.0.0,>=1.0.0->edsl) (21.2.0)\n",
      "Requirement already satisfied: executing>=1.2.0 in /Users/shylaatchison/opt/anaconda3/envs/standard/lib/python3.11/site-packages (from stack-data->ipython>=7.23.1->ipykernel->jupyter<2.0.0,>=1.0.0->edsl) (1.2.0)\n",
      "Requirement already satisfied: asttokens>=2.1.0 in /Users/shylaatchison/opt/anaconda3/envs/standard/lib/python3.11/site-packages (from stack-data->ipython>=7.23.1->ipykernel->jupyter<2.0.0,>=1.0.0->edsl) (2.2.1)\n",
      "Requirement already satisfied: pure-eval in /Users/shylaatchison/opt/anaconda3/envs/standard/lib/python3.11/site-packages (from stack-data->ipython>=7.23.1->ipykernel->jupyter<2.0.0,>=1.0.0->edsl) (0.2.2)\n",
      "Requirement already satisfied: fqdn in /Users/shylaatchison/opt/anaconda3/envs/standard/lib/python3.11/site-packages (from jsonschema>=4.18.0->jupyterlab-server<3,>=2.22.1->notebook->jupyter<2.0.0,>=1.0.0->edsl) (1.5.1)\n",
      "Requirement already satisfied: isoduration in /Users/shylaatchison/opt/anaconda3/envs/standard/lib/python3.11/site-packages (from jsonschema>=4.18.0->jupyterlab-server<3,>=2.22.1->notebook->jupyter<2.0.0,>=1.0.0->edsl) (20.11.0)\n",
      "Requirement already satisfied: jsonpointer>1.13 in /Users/shylaatchison/opt/anaconda3/envs/standard/lib/python3.11/site-packages (from jsonschema>=4.18.0->jupyterlab-server<3,>=2.22.1->notebook->jupyter<2.0.0,>=1.0.0->edsl) (2.4)\n",
      "Requirement already satisfied: uri-template in /Users/shylaatchison/opt/anaconda3/envs/standard/lib/python3.11/site-packages (from jsonschema>=4.18.0->jupyterlab-server<3,>=2.22.1->notebook->jupyter<2.0.0,>=1.0.0->edsl) (1.3.0)\n",
      "Requirement already satisfied: webcolors>=1.11 in /Users/shylaatchison/opt/anaconda3/envs/standard/lib/python3.11/site-packages (from jsonschema>=4.18.0->jupyterlab-server<3,>=2.22.1->notebook->jupyter<2.0.0,>=1.0.0->edsl) (1.13)\n",
      "Requirement already satisfied: cffi>=1.0.1 in /Users/shylaatchison/opt/anaconda3/envs/standard/lib/python3.11/site-packages (from argon2-cffi-bindings->argon2-cffi->jupyter-server<3,>=2.4.0->notebook->jupyter<2.0.0,>=1.0.0->edsl) (1.16.0)\n",
      "Requirement already satisfied: pycparser in /Users/shylaatchison/opt/anaconda3/envs/standard/lib/python3.11/site-packages (from cffi>=1.0.1->argon2-cffi-bindings->argon2-cffi->jupyter-server<3,>=2.4.0->notebook->jupyter<2.0.0,>=1.0.0->edsl) (2.21)\n",
      "Requirement already satisfied: arrow>=0.15.0 in /Users/shylaatchison/opt/anaconda3/envs/standard/lib/python3.11/site-packages (from isoduration->jsonschema>=4.18.0->jupyterlab-server<3,>=2.22.1->notebook->jupyter<2.0.0,>=1.0.0->edsl) (1.3.0)\n",
      "Requirement already satisfied: types-python-dateutil>=2.8.10 in /Users/shylaatchison/opt/anaconda3/envs/standard/lib/python3.11/site-packages (from arrow>=0.15.0->isoduration->jsonschema>=4.18.0->jupyterlab-server<3,>=2.22.1->notebook->jupyter<2.0.0,>=1.0.0->edsl) (2.8.19.20240106)\n",
      "Downloading edsl-0.1.5-py3-none-any.whl (219 kB)\n",
      "\u001b[2K   \u001b[90m━━━━━━━━━━━━━━━━━━━━━━━━━━━━━━━━━━━━━━━━\u001b[0m \u001b[32m219.5/219.5 kB\u001b[0m \u001b[31m3.7 MB/s\u001b[0m eta \u001b[36m0:00:00\u001b[0m00:01\u001b[0m\n",
      "\u001b[?25hDownloading nest_asyncio-1.6.0-py3-none-any.whl (5.2 kB)\n",
      "Installing collected packages: nest-asyncio, edsl\n",
      "  Attempting uninstall: nest-asyncio\n",
      "    Found existing installation: nest-asyncio 1.5.6\n",
      "    Uninstalling nest-asyncio-1.5.6:\n",
      "      Successfully uninstalled nest-asyncio-1.5.6\n",
      "  Attempting uninstall: edsl\n",
      "    Found existing installation: edsl 0.1.3\n",
      "    Uninstalling edsl-0.1.3:\n",
      "      Successfully uninstalled edsl-0.1.3\n",
      "Successfully installed edsl-0.1.5 nest-asyncio-1.6.0\n"
     ]
    }
   ],
   "source": [
    "# Update edsl\n",
    "!pip install --upgrade edsl"
   ]
  },
  {
   "cell_type": "code",
   "execution_count": 3,
   "metadata": {},
   "outputs": [
    {
     "name": "stdout",
     "output_type": "stream",
     "text": [
      "Name: edsl\n",
      "Version: 0.1.5\n",
      "Summary: Create and analyze LLM-based surveys\n",
      "Home-page: https://www.goemeritus.com/\n",
      "Author: Apostolos Filippas\n",
      "Author-email: apostolos@goemeritus.com\n",
      "License: MIT\n",
      "Location: /Users/shylaatchison/opt/anaconda3/envs/standard/lib/python3.11/site-packages\n",
      "Requires: aiohttp, jinja2, jupyter, nest-asyncio, numpy, openai, pandas, pillow, python-docx, python-dotenv, rich, simpleeval, sqlalchemy, tenacity\n",
      "Required-by: \n",
      "Note: you may need to restart the kernel to use updated packages.\n"
     ]
    }
   ],
   "source": [
    "pip show edsl"
   ]
  },
  {
   "cell_type": "markdown",
   "metadata": {},
   "source": [
    "### To-Do:\n",
    "1. Set Up Developing Enviornment: <https://tech-vcanus.github.io/development/mac-dev/>\n",
    "2. Install Homebrew\n",
    "3. Add OpenAI key (<https://platform.openai.com/api-keys>) to the .env file found at (/opt/homebrew/lib/python3.11/site-packages/.env)\n",
    "4. Continue Reviewing EDSL Documentation: <https://www.goemeritus.com/getting-started>\n",
    "5. Delete this List from NB"
   ]
  },
  {
   "cell_type": "markdown",
   "metadata": {},
   "source": [
    "### A Quick Example:"
   ]
  },
  {
   "cell_type": "code",
   "execution_count": 2,
   "metadata": {},
   "outputs": [
    {
     "data": {
      "text/html": [
       "<pre style=\"white-space:pre;overflow-x:auto;line-height:normal;font-family:Menlo,'DejaVu Sans Mono',consolas,'Courier New',monospace\">WARNING: Passing question_names is deprecated. Please use questions with names instead.\n",
       "</pre>\n"
      ],
      "text/plain": [
       "WARNING: Passing question_names is deprecated. Please use questions with names instead.\n"
      ]
     },
     "metadata": {},
     "output_type": "display_data"
    },
    {
     "name": "stdout",
     "output_type": "stream",
     "text": [
      "WARNING: This method is deprecated. We now enforce valid names on Agent creation\n",
      "WARNING: This method is deprecated. We now enforce valid names on Agent creation\n",
      "WARNING: This method is deprecated. We now enforce valid names on Agent creation\n",
      "WARNING: This method is deprecated. We now enforce valid names on Agent creation\n",
      "WARNING: This method is deprecated. We now enforce valid names on Agent creation\n",
      "WARNING: This method is deprecated. We now enforce valid names on Agent creation\n",
      "WARNING: This method is deprecated. We now enforce valid names on Agent creation\n",
      "WARNING: This method is deprecated. We now enforce valid names on Agent creation\n",
      "WARNING: This method is deprecated. We now enforce valid names on Agent creation\n",
      "WARNING: This method is deprecated. We now enforce valid names on Agent creation\n",
      "WARNING: This method is deprecated. We now enforce valid names on Agent creation\n",
      "WARNING: This method is deprecated. We now enforce valid names on Agent creation\n",
      "WARNING: This method is deprecated. We now enforce valid names on Agent creation\n",
      "WARNING: This method is deprecated. We now enforce valid names on Agent creation\n",
      "WARNING: This method is deprecated. We now enforce valid names on Agent creation\n",
      "WARNING: This method is deprecated. We now enforce valid names on Agent creation\n",
      "WARNING: This method is deprecated. We now enforce valid names on Agent creation\n",
      "WARNING: This method is deprecated. We now enforce valid names on Agent creation\n",
      "WARNING: This method is deprecated. We now enforce valid names on Agent creation\n",
      "WARNING: This method is deprecated. We now enforce valid names on Agent creation\n",
      "WARNING: This method is deprecated. We now enforce valid names on Agent creation\n",
      "WARNING: This method is deprecated. We now enforce valid names on Agent creation\n",
      "WARNING: This method is deprecated. We now enforce valid names on Agent creation\n",
      "WARNING: This method is deprecated. We now enforce valid names on Agent creation\n",
      "WARNING: This method is deprecated. We now enforce valid names on Agent creation\n",
      "WARNING: This method is deprecated. We now enforce valid names on Agent creation\n",
      "WARNING: This method is deprecated. We now enforce valid names on Agent creation\n"
     ]
    },
    {
     "data": {
      "text/html": [
       "<pre style=\"white-space:pre;overflow-x:auto;line-height:normal;font-family:Menlo,'DejaVu Sans Mono',consolas,'Courier New',monospace\">┏━━━━━━━━━━┳━━━━━━━━━━━━━┳━━━━━━━━━━━━┳━━━━━━━━━━━━━┳━━━━━━━━━━━━┳━━━━━━━━━━━━━┳━━━━━━━━━━━━┳━━━━━━━━━━━━┳━━━━━━━━┓\n",
       "┃<span style=\"color: #800080; text-decoration-color: #800080; font-weight: bold\"> answer   </span>┃<span style=\"color: #800080; text-decoration-color: #800080; font-weight: bold\"> answer      </span>┃<span style=\"color: #800080; text-decoration-color: #800080; font-weight: bold\"> model      </span>┃<span style=\"color: #800080; text-decoration-color: #800080; font-weight: bold\"> model       </span>┃<span style=\"color: #800080; text-decoration-color: #800080; font-weight: bold\"> model      </span>┃<span style=\"color: #800080; text-decoration-color: #800080; font-weight: bold\"> model       </span>┃<span style=\"color: #800080; text-decoration-color: #800080; font-weight: bold\"> model      </span>┃<span style=\"color: #800080; text-decoration-color: #800080; font-weight: bold\"> model      </span>┃<span style=\"color: #800080; text-decoration-color: #800080; font-weight: bold\"> model  </span>┃\n",
       "┃<span style=\"color: #800080; text-decoration-color: #800080; font-weight: bold\"> .example </span>┃<span style=\"color: #800080; text-decoration-color: #800080; font-weight: bold\"> .example_c… </span>┃<span style=\"color: #800080; text-decoration-color: #800080; font-weight: bold\"> .frequenc… </span>┃<span style=\"color: #800080; text-decoration-color: #800080; font-weight: bold\"> .model      </span>┃<span style=\"color: #800080; text-decoration-color: #800080; font-weight: bold\"> .max_toke… </span>┃<span style=\"color: #800080; text-decoration-color: #800080; font-weight: bold\"> .presence_… </span>┃<span style=\"color: #800080; text-decoration-color: #800080; font-weight: bold\"> .temperat… </span>┃<span style=\"color: #800080; text-decoration-color: #800080; font-weight: bold\"> .use_cache </span>┃<span style=\"color: #800080; text-decoration-color: #800080; font-weight: bold\"> .top_p </span>┃\n",
       "┡━━━━━━━━━━╇━━━━━━━━━━━━━╇━━━━━━━━━━━━╇━━━━━━━━━━━━━╇━━━━━━━━━━━━╇━━━━━━━━━━━━━╇━━━━━━━━━━━━╇━━━━━━━━━━━━╇━━━━━━━━┩\n",
       "│<span style=\"color: #7f7f7f; text-decoration-color: #7f7f7f\"> Good     </span>│<span style=\"color: #7f7f7f; text-decoration-color: #7f7f7f\"> I feel good </span>│<span style=\"color: #7f7f7f; text-decoration-color: #7f7f7f\"> 0          </span>│<span style=\"color: #7f7f7f; text-decoration-color: #7f7f7f\"> gpt-3.5-tu… </span>│<span style=\"color: #7f7f7f; text-decoration-color: #7f7f7f\"> 1000       </span>│<span style=\"color: #7f7f7f; text-decoration-color: #7f7f7f\"> 0           </span>│<span style=\"color: #7f7f7f; text-decoration-color: #7f7f7f\"> 0.5        </span>│<span style=\"color: #7f7f7f; text-decoration-color: #7f7f7f\"> True       </span>│<span style=\"color: #7f7f7f; text-decoration-color: #7f7f7f\"> 1      </span>│\n",
       "│<span style=\"color: #7f7f7f; text-decoration-color: #7f7f7f\">          </span>│<span style=\"color: #7f7f7f; text-decoration-color: #7f7f7f\"> today.      </span>│<span style=\"color: #7f7f7f; text-decoration-color: #7f7f7f\">            </span>│<span style=\"color: #7f7f7f; text-decoration-color: #7f7f7f\">             </span>│<span style=\"color: #7f7f7f; text-decoration-color: #7f7f7f\">            </span>│<span style=\"color: #7f7f7f; text-decoration-color: #7f7f7f\">             </span>│<span style=\"color: #7f7f7f; text-decoration-color: #7f7f7f\">            </span>│<span style=\"color: #7f7f7f; text-decoration-color: #7f7f7f\">            </span>│<span style=\"color: #7f7f7f; text-decoration-color: #7f7f7f\">        </span>│\n",
       "└──────────┴─────────────┴────────────┴─────────────┴────────────┴─────────────┴────────────┴────────────┴────────┘\n",
       "</pre>\n"
      ],
      "text/plain": [
       "┏━━━━━━━━━━┳━━━━━━━━━━━━━┳━━━━━━━━━━━━┳━━━━━━━━━━━━━┳━━━━━━━━━━━━┳━━━━━━━━━━━━━┳━━━━━━━━━━━━┳━━━━━━━━━━━━┳━━━━━━━━┓\n",
       "┃\u001b[1;35m \u001b[0m\u001b[1;35manswer  \u001b[0m\u001b[1;35m \u001b[0m┃\u001b[1;35m \u001b[0m\u001b[1;35manswer     \u001b[0m\u001b[1;35m \u001b[0m┃\u001b[1;35m \u001b[0m\u001b[1;35mmodel     \u001b[0m\u001b[1;35m \u001b[0m┃\u001b[1;35m \u001b[0m\u001b[1;35mmodel      \u001b[0m\u001b[1;35m \u001b[0m┃\u001b[1;35m \u001b[0m\u001b[1;35mmodel     \u001b[0m\u001b[1;35m \u001b[0m┃\u001b[1;35m \u001b[0m\u001b[1;35mmodel      \u001b[0m\u001b[1;35m \u001b[0m┃\u001b[1;35m \u001b[0m\u001b[1;35mmodel     \u001b[0m\u001b[1;35m \u001b[0m┃\u001b[1;35m \u001b[0m\u001b[1;35mmodel     \u001b[0m\u001b[1;35m \u001b[0m┃\u001b[1;35m \u001b[0m\u001b[1;35mmodel \u001b[0m\u001b[1;35m \u001b[0m┃\n",
       "┃\u001b[1;35m \u001b[0m\u001b[1;35m.example\u001b[0m\u001b[1;35m \u001b[0m┃\u001b[1;35m \u001b[0m\u001b[1;35m.example_c…\u001b[0m\u001b[1;35m \u001b[0m┃\u001b[1;35m \u001b[0m\u001b[1;35m.frequenc…\u001b[0m\u001b[1;35m \u001b[0m┃\u001b[1;35m \u001b[0m\u001b[1;35m.model     \u001b[0m\u001b[1;35m \u001b[0m┃\u001b[1;35m \u001b[0m\u001b[1;35m.max_toke…\u001b[0m\u001b[1;35m \u001b[0m┃\u001b[1;35m \u001b[0m\u001b[1;35m.presence_…\u001b[0m\u001b[1;35m \u001b[0m┃\u001b[1;35m \u001b[0m\u001b[1;35m.temperat…\u001b[0m\u001b[1;35m \u001b[0m┃\u001b[1;35m \u001b[0m\u001b[1;35m.use_cache\u001b[0m\u001b[1;35m \u001b[0m┃\u001b[1;35m \u001b[0m\u001b[1;35m.top_p\u001b[0m\u001b[1;35m \u001b[0m┃\n",
       "┡━━━━━━━━━━╇━━━━━━━━━━━━━╇━━━━━━━━━━━━╇━━━━━━━━━━━━━╇━━━━━━━━━━━━╇━━━━━━━━━━━━━╇━━━━━━━━━━━━╇━━━━━━━━━━━━╇━━━━━━━━┩\n",
       "│\u001b[2m \u001b[0m\u001b[2mGood    \u001b[0m\u001b[2m \u001b[0m│\u001b[2m \u001b[0m\u001b[2mI feel good\u001b[0m\u001b[2m \u001b[0m│\u001b[2m \u001b[0m\u001b[2m0         \u001b[0m\u001b[2m \u001b[0m│\u001b[2m \u001b[0m\u001b[2mgpt-3.5-tu…\u001b[0m\u001b[2m \u001b[0m│\u001b[2m \u001b[0m\u001b[2m1000      \u001b[0m\u001b[2m \u001b[0m│\u001b[2m \u001b[0m\u001b[2m0          \u001b[0m\u001b[2m \u001b[0m│\u001b[2m \u001b[0m\u001b[2m0.5       \u001b[0m\u001b[2m \u001b[0m│\u001b[2m \u001b[0m\u001b[2mTrue      \u001b[0m\u001b[2m \u001b[0m│\u001b[2m \u001b[0m\u001b[2m1     \u001b[0m\u001b[2m \u001b[0m│\n",
       "│\u001b[2m          \u001b[0m│\u001b[2m \u001b[0m\u001b[2mtoday.     \u001b[0m\u001b[2m \u001b[0m│\u001b[2m            \u001b[0m│\u001b[2m             \u001b[0m│\u001b[2m            \u001b[0m│\u001b[2m             \u001b[0m│\u001b[2m            \u001b[0m│\u001b[2m            \u001b[0m│\u001b[2m        \u001b[0m│\n",
       "└──────────┴─────────────┴────────────┴─────────────┴────────────┴─────────────┴────────────┴────────────┴────────┘\n"
      ]
     },
     "metadata": {},
     "output_type": "display_data"
    },
    {
     "name": "stdout",
     "output_type": "stream",
     "text": [
      "WARNING: This method is deprecated. We now enforce valid names on Agent creation\n",
      "WARNING: This method is deprecated. We now enforce valid names on Agent creation\n",
      "WARNING: This method is deprecated. We now enforce valid names on Agent creation\n",
      "WARNING: This method is deprecated. We now enforce valid names on Agent creation\n",
      "WARNING: This method is deprecated. We now enforce valid names on Agent creation\n",
      "WARNING: This method is deprecated. We now enforce valid names on Agent creation\n",
      "WARNING: This method is deprecated. We now enforce valid names on Agent creation\n",
      "WARNING: This method is deprecated. We now enforce valid names on Agent creation\n",
      "WARNING: This method is deprecated. We now enforce valid names on Agent creation\n"
     ]
    },
    {
     "data": {
      "text/html": [
       "<pre style=\"white-space:pre;overflow-x:auto;line-height:normal;font-family:Menlo,'DejaVu Sans Mono',consolas,'Courier New',monospace\">┏━━━━━━━━━━━━━━━━━━━━━━━━┓\n",
       "┃<span style=\"color: #800080; text-decoration-color: #800080; font-weight: bold\"> How do you feel today? </span>┃\n",
       "┡━━━━━━━━━━━━━━━━━━━━━━━━┩\n",
       "│<span style=\"color: #7f7f7f; text-decoration-color: #7f7f7f\"> Good                   </span>│\n",
       "└────────────────────────┘\n",
       "</pre>\n"
      ],
      "text/plain": [
       "┏━━━━━━━━━━━━━━━━━━━━━━━━┓\n",
       "┃\u001b[1;35m \u001b[0m\u001b[1;35mHow do you feel today?\u001b[0m\u001b[1;35m \u001b[0m┃\n",
       "┡━━━━━━━━━━━━━━━━━━━━━━━━┩\n",
       "│\u001b[2m \u001b[0m\u001b[2mGood                  \u001b[0m\u001b[2m \u001b[0m│\n",
       "└────────────────────────┘\n"
      ]
     },
     "metadata": {},
     "output_type": "display_data"
    }
   ],
   "source": [
    "# Select a question type\n",
    "from edsl.questions import QuestionMultipleChoice\n",
    "\n",
    "# Construct a question\n",
    "q = QuestionMultipleChoice(\n",
    "question_name = \"example\",\n",
    "question_text = \"How do you feel today?\",\t\n",
    "question_options = [\"Bad\", \"OK\", \"Good\"]\t\n",
    ")\n",
    "\n",
    "# Administer it to the default LLM (GPT 3.5) with the run() method and store the results\n",
    "r = q.run() \n",
    "\n",
    "# View full results (includes information about the LLM—temperature, etc.)\n",
    "r.print() \n",
    "\n",
    "# Inspect the response alone and apply table labels as desired\n",
    "(r\n",
    ".select(\"example\")\n",
    ".print(pretty_labels={\"answer.example\":q.question_text})\n",
    ")"
   ]
  },
  {
   "cell_type": "code",
   "execution_count": 4,
   "metadata": {},
   "outputs": [
    {
     "data": {
      "text/html": [
       "<pre style=\"white-space:pre;overflow-x:auto;line-height:normal;font-family:Menlo,'DejaVu Sans Mono',consolas,'Courier New',monospace\">WARNING: Passing question_names is deprecated. Please use questions with names instead.\n",
       "</pre>\n"
      ],
      "text/plain": [
       "WARNING: Passing question_names is deprecated. Please use questions with names instead.\n"
      ]
     },
     "metadata": {},
     "output_type": "display_data"
    },
    {
     "name": "stdout",
     "output_type": "stream",
     "text": [
      "WARNING: This method is deprecated. We now enforce valid names on Agent creation\n",
      "WARNING: This method is deprecated. We now enforce valid names on Agent creation\n",
      "WARNING: This method is deprecated. We now enforce valid names on Agent creation\n",
      "WARNING: This method is deprecated. We now enforce valid names on Agent creation\n",
      "WARNING: This method is deprecated. We now enforce valid names on Agent creation\n",
      "WARNING: This method is deprecated. We now enforce valid names on Agent creation\n",
      "WARNING: This method is deprecated. We now enforce valid names on Agent creation\n",
      "WARNING: This method is deprecated. We now enforce valid names on Agent creation\n",
      "WARNING: This method is deprecated. We now enforce valid names on Agent creation\n",
      "WARNING: This method is deprecated. We now enforce valid names on Agent creation\n",
      "WARNING: This method is deprecated. We now enforce valid names on Agent creation\n",
      "WARNING: This method is deprecated. We now enforce valid names on Agent creation\n",
      "WARNING: This method is deprecated. We now enforce valid names on Agent creation\n",
      "WARNING: This method is deprecated. We now enforce valid names on Agent creation\n",
      "WARNING: This method is deprecated. We now enforce valid names on Agent creation\n",
      "WARNING: This method is deprecated. We now enforce valid names on Agent creation\n",
      "WARNING: This method is deprecated. We now enforce valid names on Agent creation\n",
      "WARNING: This method is deprecated. We now enforce valid names on Agent creation\n",
      "WARNING: This method is deprecated. We now enforce valid names on Agent creation\n",
      "WARNING: This method is deprecated. We now enforce valid names on Agent creation\n",
      "WARNING: This method is deprecated. We now enforce valid names on Agent creation\n",
      "WARNING: This method is deprecated. We now enforce valid names on Agent creation\n"
     ]
    },
    {
     "data": {
      "text/html": [
       "<pre style=\"white-space:pre;overflow-x:auto;line-height:normal;font-family:Menlo,'DejaVu Sans Mono',consolas,'Courier New',monospace\">┏━━━━━━━━━━━━━━━━━━━━┳━━━━━━━━━━━━━━━━━━━━━━┳━━━━━━━━━━━━━━━━━━━━━━━━┳━━━━━━━━━━━━━━━━━━━━━━━━━━━━━━━━━━━━━━━━━━━━┓\n",
       "┃<span style=\"color: #800080; text-decoration-color: #800080; font-weight: bold\"> LLM                </span>┃<span style=\"color: #800080; text-decoration-color: #800080; font-weight: bold\"> Persona              </span>┃<span style=\"color: #800080; text-decoration-color: #800080; font-weight: bold\"> How do you feel today? </span>┃<span style=\"color: #800080; text-decoration-color: #800080; font-weight: bold\"> Commentary                                 </span>┃\n",
       "┡━━━━━━━━━━━━━━━━━━━━╇━━━━━━━━━━━━━━━━━━━━━━╇━━━━━━━━━━━━━━━━━━━━━━━━╇━━━━━━━━━━━━━━━━━━━━━━━━━━━━━━━━━━━━━━━━━━━━┩\n",
       "│<span style=\"color: #7f7f7f; text-decoration-color: #7f7f7f\"> gpt-4-1106-preview </span>│<span style=\"color: #7f7f7f; text-decoration-color: #7f7f7f\"> You have a toothache </span>│<span style=\"color: #7f7f7f; text-decoration-color: #7f7f7f\"> Bad                    </span>│<span style=\"color: #7f7f7f; text-decoration-color: #7f7f7f\"> I'm dealing with a toothache, which is     </span>│\n",
       "│<span style=\"color: #7f7f7f; text-decoration-color: #7f7f7f\">                    </span>│<span style=\"color: #7f7f7f; text-decoration-color: #7f7f7f\">                      </span>│<span style=\"color: #7f7f7f; text-decoration-color: #7f7f7f\">                        </span>│<span style=\"color: #7f7f7f; text-decoration-color: #7f7f7f\"> quite painful and distracting, so I'm not  </span>│\n",
       "│<span style=\"color: #7f7f7f; text-decoration-color: #7f7f7f\">                    </span>│<span style=\"color: #7f7f7f; text-decoration-color: #7f7f7f\">                      </span>│<span style=\"color: #7f7f7f; text-decoration-color: #7f7f7f\">                        </span>│<span style=\"color: #7f7f7f; text-decoration-color: #7f7f7f\"> feeling well today.                        </span>│\n",
       "└────────────────────┴──────────────────────┴────────────────────────┴────────────────────────────────────────────┘\n",
       "</pre>\n"
      ],
      "text/plain": [
       "┏━━━━━━━━━━━━━━━━━━━━┳━━━━━━━━━━━━━━━━━━━━━━┳━━━━━━━━━━━━━━━━━━━━━━━━┳━━━━━━━━━━━━━━━━━━━━━━━━━━━━━━━━━━━━━━━━━━━━┓\n",
       "┃\u001b[1;35m \u001b[0m\u001b[1;35mLLM               \u001b[0m\u001b[1;35m \u001b[0m┃\u001b[1;35m \u001b[0m\u001b[1;35mPersona             \u001b[0m\u001b[1;35m \u001b[0m┃\u001b[1;35m \u001b[0m\u001b[1;35mHow do you feel today?\u001b[0m\u001b[1;35m \u001b[0m┃\u001b[1;35m \u001b[0m\u001b[1;35mCommentary                                \u001b[0m\u001b[1;35m \u001b[0m┃\n",
       "┡━━━━━━━━━━━━━━━━━━━━╇━━━━━━━━━━━━━━━━━━━━━━╇━━━━━━━━━━━━━━━━━━━━━━━━╇━━━━━━━━━━━━━━━━━━━━━━━━━━━━━━━━━━━━━━━━━━━━┩\n",
       "│\u001b[2m \u001b[0m\u001b[2mgpt-4-1106-preview\u001b[0m\u001b[2m \u001b[0m│\u001b[2m \u001b[0m\u001b[2mYou have a toothache\u001b[0m\u001b[2m \u001b[0m│\u001b[2m \u001b[0m\u001b[2mBad                   \u001b[0m\u001b[2m \u001b[0m│\u001b[2m \u001b[0m\u001b[2mI'm dealing with a toothache, which is    \u001b[0m\u001b[2m \u001b[0m│\n",
       "│\u001b[2m                    \u001b[0m│\u001b[2m                      \u001b[0m│\u001b[2m                        \u001b[0m│\u001b[2m \u001b[0m\u001b[2mquite painful and distracting, so I'm not \u001b[0m\u001b[2m \u001b[0m│\n",
       "│\u001b[2m                    \u001b[0m│\u001b[2m                      \u001b[0m│\u001b[2m                        \u001b[0m│\u001b[2m \u001b[0m\u001b[2mfeeling well today.                       \u001b[0m\u001b[2m \u001b[0m│\n",
       "└────────────────────┴──────────────────────┴────────────────────────┴────────────────────────────────────────────┘\n"
      ]
     },
     "metadata": {},
     "output_type": "display_data"
    }
   ],
   "source": [
    "# Select a different LLM (e.g., GPT 4)\n",
    "from edsl.language_models import LanguageModelOpenAIFour\n",
    "m4 = LanguageModelOpenAIFour()\n",
    "\n",
    "# Create a \"persona\" for the LLM to reference in responding to the question \n",
    "from edsl.agents import Agent\n",
    "agent = Agent(traits={\"persona\":\"You have a toothache\"})\n",
    "\n",
    "# Use the by() method to chain components and re-administer the question\n",
    "result = q.by(agent).by(m4).run()\n",
    "\n",
    "(result\n",
    " .select(\"model.model\", \"agent.persona\", \"answer.example\", \"answer.example_comment\")\n",
    " .print(pretty_labels={\"model.model\":\"LLM\", \"agent.persona\":\"Persona\", \"answer.example\":q.question_text, \"answer.example_comment\":\"Commentary\"})\n",
    ")"
   ]
  },
  {
   "cell_type": "markdown",
   "metadata": {},
   "source": [
    "### Components\n",
    "The *edsl* package consist of several basic components (<https://www.goemeritus.com/getting-started#h.d3zr54c6xz2u>):\n",
    "* **Questions** (multiple choice, checkbox, linear scale, free text, etc.)\n",
    "* **Surveys** (collections of questions, with any additional logic)\n",
    "* **Agents** (LLMs that can be assigned personas to reference in responding to questions)\n",
    "* **Results** (JSON for survey components and responses simulated by agents)"
   ]
  },
  {
   "cell_type": "markdown",
   "metadata": {},
   "source": [
    "### Methods\n",
    "The principle methods for combining questions and administering them to agents are:\n",
    "\n",
    "* ``by()`` \n",
    "\n",
    "* ``run()``\n",
    "\n",
    "\n",
    "The ``run()`` method administers a question or survey to an LLM. It only requires a single question, as shown in the quick example above.\n",
    "\n",
    "The ``by()`` method is used optionally to specify LLMs, AI agent personas and question parameters to be applied before a question or survey is administered. It precedes the run() method and can be appended as many times as needed to make each desired specification.\n",
    "\n",
    "\n",
    "Convenient methods for inspecting results include:\n",
    "\n",
    "* ``select()``\n",
    "\n",
    "* ``filter()``\n",
    "\n",
    "* ``print()``\n",
    "\n",
    "\n",
    "The ``select()`` method lets us choose the results that we want to inspect or work with, the ``filter()`` method lets us narrow the results based on responses, and the print() method lets us easily show them in a table.\n",
    "\n",
    "In the simplest case, we can simulate a response to a question by appending ``run()`` to the question name:\n",
    "\n",
    "    ``question.run()``\n",
    "\n",
    "If the question takes any specified parameters (called \"Scenarios\"—variations of a question where an input is changed) we append the ``by()`` method first:\n",
    "\n",
    "    ``question.by(scenarios).run()``\n",
    "\n",
    "If multiple questions have been combined into a survey we can administer them all at once in the same way as a single question:\n",
    "\n",
    "    ``survey.run()``\n",
    "\n",
    "If we've created any AI agent personas to use or want to change the LLM we append those instructions as well:\n",
    "\n",
    "    ``survey.by(scenarios).by(agents).by(llms).run()``\n",
    "\n",
    "where each ``by()`` specifies a scenario, agent or LLM or a list of scenarios, agents or LLMs.\n",
    "\n",
    "Then we can store the Results and use the ``select()``, ``filter()`` and ``print()`` methods to readily inspect them:\n",
    "\n",
    "    ``result = question.run()``\n",
    "\n",
    "    ``result.filter(\"question == 'yes'\")``\n",
    "\n",
    "    ``result.select(\"question\").print()``"
   ]
  },
  {
   "cell_type": "markdown",
   "metadata": {},
   "source": [
    "## Tutorials & Demonstrations\n",
    "\n",
    "### General Tutorial\n",
    "This notebook contains a demonstration of how to design, create and administer a survey in edsl. <http://www.google.com/url?q=http%3A%2F%2Fexamples.goemeritus.com%2Fedsl_tutorial%2F&sa=D&sntz=1&usg=AOvVaw30OB01xhjtZ9EOgVHM4Wmk>\n",
    "\n",
    "### Use Cases\n",
    "This notebook contains some examples of ways to use edsl to conduct qualitative analyses. <http://www.google.com/url?q=http%3A%2F%2Fexamples.goemeritus.com%2Fexample_use_cases%2F&sa=D&sntz=1&usg=AOvVaw2_WBaAVybSMuC5hgIV-gIi>\n",
    "\n",
    "### Topics & Examples\n",
    "Learn how to construct questions, surveys and AI agents in edsl and explore related topics.\n",
    "\n",
    "**Questions**: <https://www.google.com/url?q=https%3A%2F%2Fexamples.goemeritus.com%2Fexample_question%2F&sa=D&sntz=1&usg=AOvVaw1mcKowWfHZSDBppinpJC5o>\n",
    "\n",
    "* **Basics**: <https://examples.goemeritus.com/example_question/>\n",
    "\n",
    "* **Administering Questions**: <https://examples.goemeritus.com/example_question/#Administering-questions>\n",
    "\n",
    "* **Refining Questions with Cognitive Testing**: <https://examples.goemeritus.com/example_use_cases/#Cognitive-testing>\n",
    "\n",
    "---\n",
    "\n",
    "**Surveys**: <https://www.google.com/url?q=https%3A%2F%2Fexamples.goemeritus.com%2Fexample_survey%2F&sa=D&sntz=1&usg=AOvVaw1IV-CYdVQCY21Oo0ha04ep>\n",
    "\n",
    "* **Basics**: <https://examples.goemeritus.com/example_survey/#Combining-questions>\n",
    "\n",
    "* **Combining Questions**: <https://examples.goemeritus.com/example_survey/#Combining-questions>\n",
    "\n",
    "* **Applying Response Logic**: <https://examples.goemeritus.com/example_survey/#Survey-rules>\n",
    "\n",
    "* **Seeding Questions**: <https://examples.goemeritus.com/example_survey/#Seeding-questions>\n",
    "\n",
    "* **Parameterizing Questions**: <https://examples.goemeritus.com/example_survey/#Question-scenarios>\n",
    "\n",
    "* **Show Question Prompts**: <https://examples.goemeritus.com/example_survey/#Show-prompts>\n",
    "\n",
    "---\n",
    "\n",
    "**Agents**: <https://www.google.com/url?q=https%3A%2F%2Fexamples.goemeritus.com%2Fexample_agent%2F&sa=D&sntz=1&usg=AOvVaw3bd2mTFBbf8c_1BR6_kTLF>\n",
    "\n",
    "* **Basics**: <https://examples.goemeritus.com/example_agent/#Base-agent>\n",
    "\n",
    "* **Specifying Agent LLMs**: <https://examples.goemeritus.com/edsl_tutorial/#Specifying-the-agent-LLM>\n",
    "\n",
    "* **Identifying Relevant Audiences and Attributes**: <https://examples.goemeritus.com/example_agent/#Identifying-relevant-attributes>\n",
    "\n",
    "---"
   ]
  },
  {
   "cell_type": "markdown",
   "metadata": {},
   "source": [
    "# Experimenting with EDSL"
   ]
  },
  {
   "cell_type": "markdown",
   "metadata": {},
   "source": [
    "**Github Repo Fork of EDSL Package**: <https://github.com/shylaatchison/edsl>"
   ]
  },
  {
   "cell_type": "markdown",
   "metadata": {},
   "source": [
    "## Questions"
   ]
  },
  {
   "cell_type": "code",
   "execution_count": 1,
   "metadata": {},
   "outputs": [],
   "source": [
    "from edsl.questions import QuestionMultipleChoice, QuestionCheckBox, QuestionFreeText, QuestionList, QuestionBudget\n",
    "from edsl.questions.derived.QuestionYesNo import QuestionYesNo\n",
    "from edsl.questions.derived.QuestionLinearScale import QuestionLinearScale"
   ]
  },
  {
   "cell_type": "markdown",
   "metadata": {},
   "source": [
    "### Questions on AI Product Familiarity and Usage"
   ]
  },
  {
   "cell_type": "code",
   "execution_count": 29,
   "metadata": {},
   "outputs": [],
   "source": [
    "# Check Box (Question 1): AI Product Familiarity\n",
    "q1_cb = QuestionCheckBox(\n",
    "    question_name = \"q1_cb\",\n",
    "    question_text = \"Which of the following AI products have you heard of before? Select all that apply.\",\n",
    "    question_options = [\n",
    "        \"ChatGPT\",\n",
    "        \"DALL-E\",\n",
    "        \"Whisper\",\n",
    "        \"Roomba\",\n",
    "        \"Siri\",\n",
    "        \"Alexa\",\n",
    "        \"Tesla\",\n",
    "        \"Netflix\",\n",
    "        \"Hulu\",\n",
    "        \"Google Maps\",\n",
    "        \"Waze\",\n",
    "        \"Uber\",\n",
    "        \"Lyft\",\n",
    "        \"Midjourney\",\n",
    "        \"Microsoft Copilot\",\n",
    "        \"Character AI\",\n",
    "        \"Grammarly\",\n",
    "        \"Google Bard AI\",\n",
    "        \"Otter.ai\"\n",
    "    ]\n",
    ")"
   ]
  },
  {
   "cell_type": "code",
   "execution_count": 22,
   "metadata": {},
   "outputs": [],
   "source": [
    "# Check Box (Question 2): AI Products Used\n",
    "q2_cb = QuestionCheckBox(\n",
    "    question_name = \"q2_cb\",\n",
    "    question_text = \"Which of the following AI products have you used before? Select all that apply.\",\n",
    "    question_options = [\n",
    "        \"ChatGPT\",\n",
    "        \"DALL-E\",\n",
    "        \"Whisper\",\n",
    "        \"Roomba\",\n",
    "        \"Siri\",\n",
    "        \"Alexa\",\n",
    "        \"Tesla\",\n",
    "        \"Netflix\",\n",
    "        \"Hulu\",\n",
    "        \"Google Maps\",\n",
    "        \"Waze\",\n",
    "        \"Uber\",\n",
    "        \"Lyft\",\n",
    "        \"Midjourney\",\n",
    "        \"Microsoft Copilot\",\n",
    "        \"Character AI\",\n",
    "        \"Grammarly\",\n",
    "        \"Google Bard AI\",\n",
    "        \"Otter.ai\"\n",
    "    ]\n",
    ")"
   ]
  },
  {
   "cell_type": "code",
   "execution_count": 23,
   "metadata": {},
   "outputs": [],
   "source": [
    "# Multiple Choice (Question 3): Frequency of AI Product Use\n",
    "q3_mc = QuestionMultipleChoice(\n",
    "    question_name = \"q3_mc\",\n",
    "    question_text = \"How often did you use one or more AI products within the last month?\",\n",
    "    question_options = [\n",
    "        \"Not at all\",\n",
    "        \"A few days a month\",\n",
    "        \"Weekly\",\n",
    "        \"Several days a week\",\n",
    "        \"Daily\"\n",
    "    ]\n",
    ")"
   ]
  },
  {
   "cell_type": "markdown",
   "metadata": {},
   "source": [
    "### Questions on Pre-Informed AI Opinion"
   ]
  },
  {
   "cell_type": "code",
   "execution_count": 24,
   "metadata": {},
   "outputs": [],
   "source": [
    "# Linear Scale (Question 4): Current AI Product Enjoyment and Benefit\n",
    "q4_ls = QuestionLinearScale(\n",
    "    question_name = \"q4_ls\",\n",
    "    question_text = \"On a scale of 0-10, how much do you typically enjoy or benefit from current AI products? (0 = Not at all, 10 = Very much)\",\n",
    "    question_options = [0,1,2,3,4,5,6,7,8,9,10]\n",
    ")"
   ]
  },
  {
   "cell_type": "code",
   "execution_count": 25,
   "metadata": {},
   "outputs": [],
   "source": [
    "# Linear Scale (Question 5): Future AI Product Enjoyment and Benefit\n",
    "q5_ls = QuestionLinearScale(\n",
    "    question_name = \"q5_ls\",\n",
    "    question_text = \"On a scale of 0-10, how much do you expect you will enjoy or benefit from future AI products? (0 = Not at all, 10 = Very much)\",\n",
    "    question_options = [0,1,2,3,4,5,6,7,8,9,10]\n",
    ")"
   ]
  },
  {
   "cell_type": "code",
   "execution_count": 26,
   "metadata": {},
   "outputs": [],
   "source": [
    "# Linear Scale (Question 6): Current AI Products Safety\n",
    "q6_ls = QuestionLinearScale(\n",
    "    question_name = \"q6_ls\",\n",
    "    question_text = \"On a scale of 0-10, how much do you typically worry about the safety of the AI products you currently use or have used in the past? (0 = Not at all, 10 = Very much)\",\n",
    "    question_options = [0,1,2,3,4,5,6,7,8,9,10]\n",
    ")"
   ]
  },
  {
   "cell_type": "code",
   "execution_count": 27,
   "metadata": {},
   "outputs": [],
   "source": [
    "# Linear Scale (Question 7): Current AI Products Replacing Jobs\n",
    "q7_ls = QuestionLinearScale(\n",
    "    question_name = \"q7_ls\",\n",
    "    question_text = \"On a scale of 0-10, how much do you typically worry about the AI products you currently use or have used in the past replacing your job? (0 = Not at all, 10 = Very much)\",\n",
    "    question_options = [0,1,2,3,4,5,6,7,8,9,10]\n",
    ")"
   ]
  },
  {
   "cell_type": "code",
   "execution_count": 20,
   "metadata": {},
   "outputs": [],
   "source": [
    "# Linear Scale (Question 8): Future AI Products Safety\n",
    "q8_ls = QuestionLinearScale(\n",
    "    question_name = \"q8_ls\",\n",
    "    question_text = \"On a scale of 0-10, how much do you typically worry about the safety of future AI products? (0 = Not at all, 10 = Very much)\",\n",
    "    question_options = [0,1,2,3,4,5,6,7,8,9,10]\n",
    ")"
   ]
  },
  {
   "cell_type": "code",
   "execution_count": 28,
   "metadata": {},
   "outputs": [],
   "source": [
    "# Linear Scale (Question 9): Future AI Products Replacing Jobs\n",
    "q9_ls = QuestionLinearScale(\n",
    "    question_name = \"q9_ls\",\n",
    "    question_text = \"On a scale of 0-10, how much do you typically worry about future AI products replacing your job? (0 = Not at all, 10 = Very much)\",\n",
    "    question_options = [0,1,2,3,4,5,6,7,8,9,10]\n",
    ")"
   ]
  },
  {
   "cell_type": "markdown",
   "metadata": {},
   "source": [
    "### Questions on Demographic Data"
   ]
  },
  {
   "cell_type": "code",
   "execution_count": 30,
   "metadata": {},
   "outputs": [],
   "source": [
    "# Multiple Choice (Question 10): Occupation Group of Work\n",
    "q10_mc = QuestionMultipleChoice(\n",
    "    question_name = \"q10_mc\",\n",
    "    question_text = \"Which of the following major occupation groups does your work belong to?\",\n",
    "    question_options = [\n",
    "        \"Professionals\",\n",
    "        \"Managers\",\n",
    "        \"Clerical Support Workers\",\n",
    "        \"Technicians\",\n",
    "        \"Services and Sales Workers\",\n",
    "        \"Craft and Related Trades Workers\",\n",
    "        \"Machine Operators\",\n",
    "        \"Skilled Agricultural Workers\",\n",
    "        \"Elementary Occupations\"\n",
    "    ]\n",
    ")"
   ]
  },
  {
   "cell_type": "code",
   "execution_count": 31,
   "metadata": {},
   "outputs": [],
   "source": [
    "# Multiple Choice (Question 11): Gender\n",
    "q11_mc = QuestionMultipleChoice(\n",
    "    question_name = \"q11_mc\",\n",
    "    question_text = \"Which gender do you most closely identify as?\",\n",
    "    question_options = [\n",
    "        \"Male\",\n",
    "        \"Female\"\n",
    "    ]\n",
    ")"
   ]
  },
  {
   "cell_type": "code",
   "execution_count": 32,
   "metadata": {},
   "outputs": [],
   "source": [
    "# Multiple Choice (Question 12): Education Level\n",
    "q12_mc = QuestionMultipleChoice(\n",
    "    question_name = \"q12_mc\",\n",
    "    question_text = \"What is your highest level of educational attainment?\",\n",
    "    question_options = [\n",
    "        \"Middle School and Below\",\n",
    "        \"High School\",\n",
    "        \"Some College/Higher Education\",\n",
    "        \"College Degree\",\n",
    "        \"Graduate or Professional Degree\"\n",
    "    ]\n",
    ")"
   ]
  },
  {
   "cell_type": "code",
   "execution_count": 33,
   "metadata": {},
   "outputs": [],
   "source": [
    "# Multiple Choice (Question 13): Age Group\n",
    "q13_mc = QuestionMultipleChoice(\n",
    "    question_name = \"q13_mc\",\n",
    "    question_text = \"Which of the following age groups do you belong to?\",\n",
    "    question_options = [\n",
    "        \"Age below 25\",\n",
    "        \"Age 25-44\",\n",
    "        \"Age 45-59\",\n",
    "        \"Age 60+\"\n",
    "    ]\n",
    ")"
   ]
  },
  {
   "cell_type": "code",
   "execution_count": 36,
   "metadata": {},
   "outputs": [],
   "source": [
    "# Multiple Choice Question 14: Annual Earnings Groups\n",
    "q14_mc = QuestionMultipleChoice(\n",
    "    question_name = \"q14_mc\"\n",
    "    question_text = \"Which of the following groups of pre-tax annual earnings do you belong to?\",\n",
    "    question_options = [\n",
    "        \"Less than $20,000\",\n",
    "        \"$20,000-$34,999\",\n",
    "        \"$35,000-$44,999\",\n",
    "        \"$45,000-$54,999\",\n",
    "        \"$55,000-59,999\",\n",
    "        \"$60,000-$74,999\",\n",
    "        \"$75,000-$99,999\",\n",
    "        \"$100,000-$149,999\",\n",
    "        \"$150,000-$199,999\",\n",
    "        \"$200,000 or more\"\n",
    "    ]\n",
    ")"
   ]
  },
  {
   "cell_type": "markdown",
   "metadata": {},
   "source": [
    "## Information on IMF AI Labor Market Exposure Paper\n",
    "\n",
    "**INSERT PAPER CITATION AND LINK** <br>\n",
    "\n",
    "... <br>\n",
    "\n",
    "<br>\n",
    "\n",
    "---\n",
    "\n",
    "<br>"
   ]
  },
  {
   "cell_type": "markdown",
   "metadata": {},
   "source": [
    "### Information on AI Exposure Share by Demographic Charateristics\n",
    "\n",
    "<br>\n",
    "\n",
    "---\n",
    "\n",
    "<br>\n",
    "\n",
    "#### Information on AI Exposure Share by Gender\n",
    "\n",
    "* **Gender**: Employment Share of Low Complementary, High Complementary for U.S. Males and Females <br>\n",
    "\n",
    "**[ INSERT TABLE ]** <br>\n",
    "\n",
    "<br>\n",
    "\n",
    "---\n",
    "\n",
    "<br>\n",
    "\n",
    "#### Information on AI Exposure Share by Educational Attainment\n",
    "\n",
    "* **Educational Attainment**: Employment Share of Low Complementary, High Complementary for Educational Attatinment in the U.S. <br>\n",
    "\n",
    "**[ INSERT TABLE ]** <br>\n",
    "\n",
    "<br>\n",
    "\n",
    "---\n",
    "\n",
    "<br>\n",
    "\n",
    "#### Information on AI Exposure Share by Age\n",
    "\n",
    "* **Age**: Employment Share of Low Complementary, High Complementary for Age Groups in the U.S. <br>\n",
    "\n",
    "**[ INSERT TABLE ]** <br>\n",
    "\n",
    "<br>\n",
    "\n",
    "---\n",
    "\n",
    "<br>"
   ]
  },
  {
   "cell_type": "markdown",
   "metadata": {},
   "source": [
    "### Information on AI Exposure Share by Occupation\n",
    "\n",
    "* AI Exposure Share Low Complementary, High Complementary for Occupation Group in U.S. <br>\n",
    "\n",
    "**[ INSERT TABLE ]** <br>\n",
    "\n",
    "* ... <br>\n",
    "\n",
    "<br>\n",
    "\n",
    "---\n",
    "\n",
    "<br>"
   ]
  },
  {
   "cell_type": "markdown",
   "metadata": {},
   "source": [
    "### Information on AI Exposure Share by Earnings Class\n",
    "\n",
    "* **Earnings**: Employment Share of Low Complementary, High Complementary for Earnings Groups in the U.S. <br>\n",
    "\n",
    "**[ INSERT TABLE ]** <br>\n",
    "\n",
    "* ... <br>\n",
    "\n",
    "<br>\n",
    "\n",
    "---\n",
    "\n",
    "<br>"
   ]
  },
  {
   "cell_type": "markdown",
   "metadata": {},
   "source": [
    "## Questions on Post-Informed AI Opinion"
   ]
  },
  {
   "cell_type": "code",
   "execution_count": 39,
   "metadata": {},
   "outputs": [],
   "source": [
    "# Linear Scale (Question 15): Future AI Risk to Jobs\n",
    "q15_ls = QuestionLinearScale(\n",
    "    question_name = \"q15_ls\",\n",
    "    question_text = \"On a scale of 0-10, how worried are you that AI products will pose a risk to your job security in the future? (0 = Not at all, 10 = Very much)\",\n",
    "    question_options = [0,1,2,3,4,5,6,7,8,9,10]\n",
    ")"
   ]
  },
  {
   "cell_type": "code",
   "execution_count": 35,
   "metadata": {},
   "outputs": [],
   "source": [
    "# Linear Scale (Question 16): Future AI Safety Risk\n",
    "q16_ls = QuestionLinearScale(\n",
    "    question_name = \"q16_ls\",\n",
    "    question_text = \"On a scale of 0-10, how concerned are you that AI products will pose a safety risk in the future? (0 = Not at all, 10 = Very much)\",\n",
    "    question_options = [0,1,2,3,4,5,6,7,8,9,10]\n",
    ")"
   ]
  },
  {
   "cell_type": "code",
   "execution_count": 37,
   "metadata": {},
   "outputs": [],
   "source": [
    "# Linear Scale (Question 17): Future AI Risk to Privacy\n",
    "q17_ls = QuestionLinearScale(\n",
    "    question_name = \"q17_ls\",\n",
    "    question_text = \"On a scale of 0-10, how concerned are you that AI products will pose a risk to your privacy in the future? (0 = Not at all, 10 = Very much)\",\n",
    "    question_options = [0,1,2,3,4,5,6,7,8,9,10]\n",
    ")"
   ]
  },
  {
   "cell_type": "code",
   "execution_count": 43,
   "metadata": {},
   "outputs": [],
   "source": [
    "# Yes/No (Question 18): Need for AI Regulation and Oversight (Yes/No)\n",
    "q18_yn = QuestionYesNo(\n",
    "    question_name = \"q18_yn\",\n",
    "    question_text = \"Do you believe there exists a strong need for pre-emptive legislation to establish regulation and oversight for AI?\", \n",
    ")"
   ]
  },
  {
   "cell_type": "code",
   "execution_count": 40,
   "metadata": {},
   "outputs": [],
   "source": [
    "# Linear Scale (Question 19): Need for AI Regulation and Oversight\n",
    "q19_ls = QuestionLinearScale(\n",
    "    question_name = \"q19_ls\",\n",
    "    question_text = \"On a scale of 0-10, to what degree of strictness do you believe pre-emptive legislation needs to be for establishing regulation and oversight for AI? (0 = No regulatory and oversight legislation at all, 10 = Extremely strict regulatory and oversight legislation)\",\n",
    "    question_options = [0,1,2,3,4,5,6,7,8,9,10]\n",
    ")"
   ]
  },
  {
   "cell_type": "code",
   "execution_count": 41,
   "metadata": {},
   "outputs": [],
   "source": [
    "# Check Box (Question 20): AI Regulation and Oversight\n",
    "q20_cb = QuestionCheckBox(\n",
    "    question_name = \"q20_cb\",\n",
    "    question_text = \"Which of the following areas do you believe pre-emptive legislation for AI should focus on? Select all that apply.\",\n",
    "    question_options = [\n",
    "        \"Licensing Use of Training AI Models\",\n",
    "        \"Required Reporting of AI Model Training Data\",\n",
    "        \"Required Safety Benchmark Testing of AI Models for Commercial Use\",\n",
    "        \"Other\"\n",
    "    ]\n",
    ")"
   ]
  },
  {
   "cell_type": "code",
   "execution_count": 42,
   "metadata": {},
   "outputs": [],
   "source": [
    "# Multiple Choice (Question 21): Political Party Affiliation (Democrat, Republican, Independent, Other)\n",
    "q21_mc = QuestionMultipleChoice(\n",
    "    question_name = \"q21_mc\",\n",
    "    question_text = \"Which of the following political parties do you most closely identify with?\",\n",
    "    question_options = [\n",
    "        \"Democrat\",\n",
    "        \"Republican\",\n",
    "        \"Independent\",\n",
    "        \"Other\"\n",
    "    ]\n",
    ")"
   ]
  },
  {
   "cell_type": "markdown",
   "metadata": {},
   "source": [
    "## Administering Questions\n",
    "Here we administer each question to the default LLM. We do this by simply appending the `run()` method to a question. (See how to administer questions and surveys to specific agent personas and LLMs in example <a href=\"https://examples.goemeritus.com/example_agent/\">Agents</a> and <a href=\"https://examples.goemeritus.com/example_survey/\">Surveys</a>.)"
   ]
  },
  {
   "cell_type": "code",
   "execution_count": null,
   "metadata": {},
   "outputs": [],
   "source": [
    "# Run all questions\n",
    "result1_cb = q1_cb.run()\n",
    "result2_cb = q2_cb.run()\n",
    "result3_mc = q3_mc.run()\n",
    "result4_ls = q4_ls.run()\n",
    "result5_ls = q5_ls.run()\n",
    "result6_ls = q6_ls.run()\n",
    "result7_ls = q7_ls.run()\n",
    "result8_ls = q8_ls.run()\n",
    "result9_ls = q9_ls.run()\n",
    "result10_mc = q10_mc.run()\n",
    "result11_mc = q11_mc.run()\n",
    "result12_mc = q12_mc.run()\n",
    "result13_mc = q13_mc.run()\n",
    "result14_mc = q14_mc.run()\n",
    "result15_ls = q15_ls.run()\n",
    "result16_ls = q16_ls.run()\n",
    "result17_ls = q17_ls.run()\n",
    "result18_yn = q18_yn.run()\n",
    "result19_ls = q19_ls.run()\n",
    "result20_cb = q20_cb.run()\n",
    "result21_mc = q21_mc.run()"
   ]
  },
  {
   "cell_type": "markdown",
   "metadata": {},
   "source": [
    "<br>\n",
    "<p>Here we inspect the results&mdash;more on how to do this in <a href=\"https://examples.goemeritus.com/example_visualization/\"><i>visualization examples</i></a>.</p>"
   ]
  },
  {
   "cell_type": "code",
   "execution_count": null,
   "metadata": {},
   "outputs": [],
   "source": [
    "result1_cb"
   ]
  },
  {
   "cell_type": "code",
   "execution_count": null,
   "metadata": {},
   "outputs": [],
   "source": [
    "result3_mc"
   ]
  },
  {
   "cell_type": "code",
   "execution_count": null,
   "metadata": {},
   "outputs": [],
   "source": [
    "# Select fields to inspect (the responses to the questions)\n",
    "result1_cb.select(\"q1_cb\").print()\n",
    "result2_cb.select(\"q2_cb\").print()\n",
    "result3_mc.select(\"q3_mc\").print()\n",
    "result4_ls.select(\"q4_ls\").print()\n",
    "result5_ls.select(\"5_ls\").print()\n",
    "result6_ls.select(\"q6_ls\").print()\n",
    "result7_ls.select(\"q7_ls\").print()\n",
    "result8_ls.select(\"q8_ls\").print()\n",
    "result9_ls.select(\"q9_ls\").print()\n",
    "result10_mc.select(\"q10_mc\").print()\n",
    "result11_mc.select(\"q11_mc\").print()\n",
    "result12_mc.select(\"q12_mc\").print()\n",
    "result13_mc.select(\"q13_mc\").print()\n",
    "result14_mc.select(\"q14_mc\").print()\n",
    "result15_ls.select(\"q15_ls\").print()\n",
    "result16_ls.select(\"q16_ls\").print()\n",
    "result17_ls.select(\"q17_ls\").print()\n",
    "result18_yn.select(\"q18_yn\").print()\n",
    "result19_ls.select(\"q19_ls\").print()\n",
    "result20_cb.select(\"q20_cb\").print()\n",
    "result21_mc.select(\"q21_mc\").print()"
   ]
  },
  {
   "cell_type": "code",
   "execution_count": null,
   "metadata": {},
   "outputs": [],
   "source": [
    "# Add Pretty Colors\n",
    "# Change to correct question names\n",
    "result_mc.select(\"q_mc\").print(pretty_labels={\"answer.q_mc\":q_mc.question_text})\n",
    "result_cb.select(\"q_cb\").print(pretty_labels={\"answer.q_cb\":q_cb.question_text})\n",
    "result_ls.select(\"q_ls\").print(pretty_labels={\"answer.q_ls\":q_ls.question_text})\n",
    "result_yn.select(\"q_yn\").print(pretty_labels={\"answer.q_yn\":q_yn.question_text})\n",
    "result_bg.select(\"q_bg\").print(pretty_labels={\"answer.q_bg\":q_bg.question_text})\n",
    "result_ft.select(\"q_ft\").print(pretty_labels={\"answer.q_ft\":q_ft.question_text})\n",
    "result_li.select(\"q_li\").print(pretty_labels={\"answer.q_li\":q_li.question_text})"
   ]
  },
  {
   "cell_type": "code",
   "execution_count": null,
   "metadata": {},
   "outputs": [],
   "source": [
    "result1_cb.select(\"q1_cb\").print(pretty_labels={\"answer.q1_cb\":q1_cb.question_text})\n",
    "result2_cb.select(\"q2_cb\").print(pretty_labels={\"answer.q2_cb\":q2_cb.question_text})\n",
    "result3_mc.select(\"q3_mc\").print(pretty_labels={\"answer.q3_mc\":q3_mc.question_text})\n",
    "result4_ls.select(\"q4_ls\").print(pretty_labels={\"answer.q4_ls\":q4_ls.question_text})\n",
    "result5_ls.select(\"5_ls\").print(pretty_labels={\"answer.q5_ls\":q5_ls.question_text})\n",
    "result6_ls.select(\"q6_ls\").print(pretty_labels={\"answer.q6_ls\":q6_ls.question_text})\n",
    "result7_ls.select(\"q7_ls\").print(pretty_labels={\"answer.q7_ls\":q7_ls.question_text})\n",
    "result8_ls.select(\"q8_ls\").print(pretty_labels={\"answer.q8_ls\":q8_ls.question_text})\n",
    "result9_ls.select(\"q9_ls\").print(pretty_labels={\"answer.q9_ls\":q9_ls.question_text})\n",
    "result10_mc.select(\"q10_mc\").print(pretty_labels={\"answer.q10_mc\":q10_mc.question_text})\n",
    "result11_mc.select(\"q11_mc\").print(pretty_labels={\"answer.q11_mc\":q11_mc.question_text})\n",
    "result12_mc.select(\"q12_mc\").print(pretty_labels={\"answer.q12_mc\":q12_mc.question_text})\n",
    "result13_mc.select(\"q13_mc\").print(pretty_labels={\"answer.q13_mc\":q13_mc.question_text})\n",
    "result14_mc.select(\"q14_mc\").print(pretty_labels={\"answer.q14_mc\":q14_mc.question_text})\n",
    "result15_ls.select(\"q15_ls\").print(pretty_labels={\"answer.q15_ls\":q15_ls.question_text})\n",
    "result16_ls.select(\"q16_ls\").print(pretty_labels={\"answer.q16_ls\":q16_ls.question_text})\n",
    "result17_ls.select(\"q17_ls\").print(pretty_labels={\"answer.q17_ls\":q17_ls.question_text})\n",
    "result18_yn.select(\"q18_yn\").print(pretty_labels={\"answer.q18_yn\":q18_yn.question_text})\n",
    "result19_ls.select(\"q19_ls\").print(pretty_labels={\"answer.q19_ls\":q19_ls.question_text})\n",
    "result20_cb.select(\"q20_cb\").print(pretty_labels={\"answer.q20_cb\":q20_cb.question_text})\n",
    "result21_mc.select(\"q21_mc\").print(pretty_labels={\"answer.q21_mc\":q21_mc.question_text})"
   ]
  },
  {
   "cell_type": "markdown",
   "metadata": {},
   "source": [
    "<br>\n",
    "\n",
    "---\n",
    "\n",
    "<br>"
   ]
  },
  {
   "cell_type": "markdown",
   "metadata": {},
   "source": [
    "# Surveys"
   ]
  },
  {
   "cell_type": "markdown",
   "metadata": {},
   "source": [
    "**Surveys**: <https://www.google.com/url?q=https%3A%2F%2Fexamples.goemeritus.com%2Fexample_survey%2F&sa=D&sntz=1&usg=AOvVaw1IV-CYdVQCY21Oo0ha04ep>\n",
    "\n",
    "* **Basics**: <https://examples.goemeritus.com/example_survey/#Combining-questions>\n",
    "\n",
    "* **Combining Questions**: <https://examples.goemeritus.com/example_survey/#Combining-questions>\n",
    "\n",
    "* **Applying Response Logic**: <https://examples.goemeritus.com/example_survey/#Survey-rules>\n",
    "\n",
    "* **Seeding Questions**: <https://examples.goemeritus.com/example_survey/#Seeding-questions>\n",
    "\n",
    "* **Parameterizing Questions**: <https://examples.goemeritus.com/example_survey/#Question-scenarios>\n",
    "\n",
    "* **Show Question Prompts**: <https://examples.goemeritus.com/example_survey/#Show-prompts>\n",
    "\n",
    "<br>\n",
    "\n",
    "---\n",
    "\n",
    "<br>"
   ]
  },
  {
   "cell_type": "markdown",
   "metadata": {},
   "source": [
    "# Agents"
   ]
  },
  {
   "cell_type": "markdown",
   "metadata": {},
   "source": [
    "**Agents**: <https://www.google.com/url?q=https%3A%2F%2Fexamples.goemeritus.com%2Fexample_agent%2F&sa=D&sntz=1&usg=AOvVaw3bd2mTFBbf8c_1BR6_kTLF>\n",
    "\n",
    "* **Basics**: <https://examples.goemeritus.com/example_agent/#Base-agent>\n",
    "\n",
    "* **Specifying Agent LLMs**: <https://examples.goemeritus.com/edsl_tutorial/#Specifying-the-agent-LLM>\n",
    "\n",
    "* **Identifying Relevant Audiences and Attributes**: <https://examples.goemeritus.com/example_agent/#Identifying-relevant-attributes>\n",
    "\n",
    "<br>\n",
    "\n",
    "---\n",
    "\n",
    "<br>"
   ]
  },
  {
   "cell_type": "markdown",
   "metadata": {},
   "source": [
    "# Prompting LLMs to Generate Diverse Personas"
   ]
  },
  {
   "cell_type": "code",
   "execution_count": 1,
   "metadata": {},
   "outputs": [
    {
     "name": "stdout",
     "output_type": "stream",
     "text": [
      "==================================================\n",
      "Please provide your OpenAI API key (https://platform.openai.com/api-keys).\n",
      "If you would like to skip this step, press enter.\n",
      "If you would like to provide your key, do one of the following:\n",
      "1. Set it as a regular environment variable\n",
      "2. Create a .env file and add `OPENAI_API_KEY=...` to it\n",
      "3. Enter the value below and press enter: \n",
      "Environment variable OPENAI_API_KEY set successfully to sk***********************************************TM.\n",
      "==================================================\n",
      "\n",
      "\n",
      "==================================================\n",
      "Please provide your Google API key (https://console.cloud.google.com/apis/credentials).\n",
      "If you would like to skip this step, press enter.\n",
      "If you would like to provide your key, do one of the following:\n",
      "1. Set it as a regular environment variable\n",
      "2. Create a .env file and add `GOOGLE_API_KEY=...` to it\n",
      "3. Enter the value below and press enter: \n",
      "Environment variable GOOGLE_API_KEY set successfully to AI***********************************nU.\n",
      "==================================================\n",
      "\n",
      "\n",
      "==================================================\n",
      "Please provide your DeepInfra API key (https://deepinfra.com/).\n",
      "If you would like to skip this step, press enter.\n",
      "If you would like to provide your key, do one of the following:\n",
      "1. Set it as a regular environment variable\n",
      "2. Create a .env file and add `DEEP_INFRA_API_KEY=...` to it\n",
      "3. Enter the value below and press enter: \n",
      "Environment variable DEEP_INFRA_API_KEY set successfully to FJ****************************9h.\n",
      "==================================================\n",
      "\n",
      "\n"
     ]
    }
   ],
   "source": [
    "from edsl.questions import QuestionMultipleChoice, QuestionCheckBox, QuestionFreeText, QuestionList, QuestionBudget\n",
    "from edsl.questions.derived.QuestionYesNo import QuestionYesNo\n",
    "from edsl.questions.derived.QuestionLinearScale import QuestionLinearScale"
   ]
  },
  {
   "cell_type": "code",
   "execution_count": 2,
   "metadata": {},
   "outputs": [],
   "source": [
    "from edsl.agents import Agent\n",
    "from edsl.scenarios import Scenario\n",
    "from edsl.surveys import Survey\n",
    "from edsl.language_models import LanguageModelOpenAIFour, LanguageModelOpenAIThreeFiveTurbo\n",
    "m35 = LanguageModelOpenAIThreeFiveTurbo()\n",
    "m4 = LanguageModelOpenAIFour()"
   ]
  },
  {
   "cell_type": "code",
   "execution_count": 3,
   "metadata": {},
   "outputs": [],
   "source": [
    "import random\n",
    "import pandas as pd\n",
    "import numpy as np"
   ]
  },
  {
   "cell_type": "code",
   "execution_count": null,
   "metadata": {},
   "outputs": [],
   "source": [
    "# m = Model('gpt-4-1106-preview')"
   ]
  },
  {
   "cell_type": "code",
   "execution_count": 4,
   "metadata": {},
   "outputs": [],
   "source": [
    "q_personas = QuestionList(\n",
    "    question_name = \"personas\",\n",
    "    question_text = \"Draft detailed narratives for 5 personas likely to provide diverse responses to a public opinion poll about AI\",\n",
    ")"
   ]
  },
  {
   "cell_type": "code",
   "execution_count": 5,
   "metadata": {},
   "outputs": [],
   "source": [
    "r_personas = q_personas.by(m4).run()"
   ]
  },
  {
   "cell_type": "code",
   "execution_count": 6,
   "metadata": {},
   "outputs": [
    {
     "data": {
      "text/html": [
       "<pre style=\"white-space:pre;overflow-x:auto;line-height:normal;font-family:Menlo,'DejaVu Sans Mono',consolas,'Courier New',monospace\">┏━━━━━━━━━━━━━━━━━━━━━━━━━━━━━━━━━━━━━━━━━━━━━━━━━━━━━━━━━━━━━━━━━━━━━━━━━━━━━━━━━━━━━━━━━━━━━━━━━━━━━━━━━━━━━━━━━┓\n",
       "┃<span style=\"color: #800080; text-decoration-color: #800080; font-weight: bold\"> answer                                                                                                          </span>┃\n",
       "┃<span style=\"color: #800080; text-decoration-color: #800080; font-weight: bold\"> .personas                                                                                                       </span>┃\n",
       "┡━━━━━━━━━━━━━━━━━━━━━━━━━━━━━━━━━━━━━━━━━━━━━━━━━━━━━━━━━━━━━━━━━━━━━━━━━━━━━━━━━━━━━━━━━━━━━━━━━━━━━━━━━━━━━━━━━┩\n",
       "│<span style=\"color: #7f7f7f; text-decoration-color: #7f7f7f\"> ['Tech-savvy Millennial', 'Retired Baby Boomer', 'AI Ethics Researcher', 'Small Business Owner', 'Rural High    </span>│\n",
       "│<span style=\"color: #7f7f7f; text-decoration-color: #7f7f7f\"> School Teacher']                                                                                                </span>│\n",
       "└─────────────────────────────────────────────────────────────────────────────────────────────────────────────────┘\n",
       "</pre>\n"
      ],
      "text/plain": [
       "┏━━━━━━━━━━━━━━━━━━━━━━━━━━━━━━━━━━━━━━━━━━━━━━━━━━━━━━━━━━━━━━━━━━━━━━━━━━━━━━━━━━━━━━━━━━━━━━━━━━━━━━━━━━━━━━━━━┓\n",
       "┃\u001b[1;35m \u001b[0m\u001b[1;35manswer                                                                                                         \u001b[0m\u001b[1;35m \u001b[0m┃\n",
       "┃\u001b[1;35m \u001b[0m\u001b[1;35m.personas                                                                                                      \u001b[0m\u001b[1;35m \u001b[0m┃\n",
       "┡━━━━━━━━━━━━━━━━━━━━━━━━━━━━━━━━━━━━━━━━━━━━━━━━━━━━━━━━━━━━━━━━━━━━━━━━━━━━━━━━━━━━━━━━━━━━━━━━━━━━━━━━━━━━━━━━━┩\n",
       "│\u001b[2m \u001b[0m\u001b[2m['Tech-savvy Millennial', 'Retired Baby Boomer', 'AI Ethics Researcher', 'Small Business Owner', 'Rural High   \u001b[0m\u001b[2m \u001b[0m│\n",
       "│\u001b[2m \u001b[0m\u001b[2mSchool Teacher']                                                                                               \u001b[0m\u001b[2m \u001b[0m│\n",
       "└─────────────────────────────────────────────────────────────────────────────────────────────────────────────────┘\n"
      ]
     },
     "metadata": {},
     "output_type": "display_data"
    }
   ],
   "source": [
    "r_personas.select(\"personas\").print()"
   ]
  },
  {
   "cell_type": "code",
   "execution_count": 7,
   "metadata": {},
   "outputs": [],
   "source": [
    "q_dimensions = QuestionList(\n",
    "    question_name = \"dimensions\",\n",
    "    question_text = \"What human dimensions are most likely to produce diverse responses to a public opinion poll about AI?\"\n",
    ")"
   ]
  },
  {
   "cell_type": "code",
   "execution_count": 8,
   "metadata": {},
   "outputs": [],
   "source": [
    "r_dimensions = q_dimensions.by(m4).run()"
   ]
  },
  {
   "cell_type": "code",
   "execution_count": 9,
   "metadata": {},
   "outputs": [
    {
     "data": {
      "text/html": [
       "<pre style=\"white-space:pre;overflow-x:auto;line-height:normal;font-family:Menlo,'DejaVu Sans Mono',consolas,'Courier New',monospace\">┏━━━━━━━━━━━━━━━━━━━━━━━━━━━━━━━━━━━━━━━━━━━━━━━━━━━━━━━━━━━━━━━━━━━━━━━━━━━━━━━━━━━━━━━━━━━━━━━━━━━━━━━━━━━━━━━━━┓\n",
       "┃<span style=\"color: #800080; text-decoration-color: #800080; font-weight: bold\"> answer                                                                                                          </span>┃\n",
       "┃<span style=\"color: #800080; text-decoration-color: #800080; font-weight: bold\"> .dimensions                                                                                                     </span>┃\n",
       "┡━━━━━━━━━━━━━━━━━━━━━━━━━━━━━━━━━━━━━━━━━━━━━━━━━━━━━━━━━━━━━━━━━━━━━━━━━━━━━━━━━━━━━━━━━━━━━━━━━━━━━━━━━━━━━━━━━┩\n",
       "│<span style=\"color: #7f7f7f; text-decoration-color: #7f7f7f\"> ['age', 'education level', 'cultural background', 'socioeconomic status', 'employment sector', 'technological   </span>│\n",
       "│<span style=\"color: #7f7f7f; text-decoration-color: #7f7f7f\"> proficiency', 'personal experience with AI', 'privacy concerns', 'ethical views']                               </span>│\n",
       "└─────────────────────────────────────────────────────────────────────────────────────────────────────────────────┘\n",
       "</pre>\n"
      ],
      "text/plain": [
       "┏━━━━━━━━━━━━━━━━━━━━━━━━━━━━━━━━━━━━━━━━━━━━━━━━━━━━━━━━━━━━━━━━━━━━━━━━━━━━━━━━━━━━━━━━━━━━━━━━━━━━━━━━━━━━━━━━━┓\n",
       "┃\u001b[1;35m \u001b[0m\u001b[1;35manswer                                                                                                         \u001b[0m\u001b[1;35m \u001b[0m┃\n",
       "┃\u001b[1;35m \u001b[0m\u001b[1;35m.dimensions                                                                                                    \u001b[0m\u001b[1;35m \u001b[0m┃\n",
       "┡━━━━━━━━━━━━━━━━━━━━━━━━━━━━━━━━━━━━━━━━━━━━━━━━━━━━━━━━━━━━━━━━━━━━━━━━━━━━━━━━━━━━━━━━━━━━━━━━━━━━━━━━━━━━━━━━━┩\n",
       "│\u001b[2m \u001b[0m\u001b[2m['age', 'education level', 'cultural background', 'socioeconomic status', 'employment sector', 'technological  \u001b[0m\u001b[2m \u001b[0m│\n",
       "│\u001b[2m \u001b[0m\u001b[2mproficiency', 'personal experience with AI', 'privacy concerns', 'ethical views']                              \u001b[0m\u001b[2m \u001b[0m│\n",
       "└─────────────────────────────────────────────────────────────────────────────────────────────────────────────────┘\n"
      ]
     },
     "metadata": {},
     "output_type": "display_data"
    }
   ],
   "source": [
    "r_dimensions.select(\"dimensions\").print()"
   ]
  },
  {
   "cell_type": "markdown",
   "metadata": {},
   "source": [
    "<br>\n",
    "\n",
    "---\n",
    "\n",
    "<br>\n",
    "\n",
    "### Running Survey for Agents with Traits via the ``Survey()`` Function:\n",
    "\n",
    "#### Defining the Agents:"
   ]
  },
  {
   "cell_type": "code",
   "execution_count": null,
   "metadata": {},
   "outputs": [],
   "source": [
    "# Defining the Personas Trait for the Simulated Agents\n",
    "\n",
    "# Defining Persona 1\n",
    "persona1 = \"\"\"You are open to new information. \n",
    "    You have a high amount of trust in scientific reseach.\n",
    "    You are concerned about artifical intelligence.\"\"\"\n",
    "\n",
    "# Defining Persona 2\n",
    "persona2 = \"\"\"You are minimally open to new information. \n",
    "    You have a small amount of trust in scientific reseach.\n",
    "    You are not very concerned about artifical intelligence.\"\"\"\n",
    "\n",
    "# Defining the Personas\n",
    "personas = [persona1, persona2]"
   ]
  },
  {
   "cell_type": "code",
   "execution_count": null,
   "metadata": {},
   "outputs": [],
   "source": [
    "# Defining the Agents by Assigning it the Personas Trait\n",
    "agents = [Agent({'persona':p}) for p in personas]"
   ]
  },
  {
   "cell_type": "markdown",
   "metadata": {},
   "source": [
    "#### Defining the Survey:"
   ]
  },
  {
   "cell_type": "code",
   "execution_count": null,
   "metadata": {},
   "outputs": [],
   "source": [
    "# Defining the Survey\n",
    "survey = Survey(questions=[q5_pre, q5_post, q6_pre, q6_post, q7_pre, q7_post, q8_pre, q8_post, q9_pre, q9_post, q17_pre, q17_post, q18_pre, q18_post, q19_pre, q19_post, q20_pre, q20_post])"
   ]
  },
  {
   "cell_type": "markdown",
   "metadata": {},
   "source": [
    "#### Running the Survey:"
   ]
  },
  {
   "cell_type": "code",
   "execution_count": null,
   "metadata": {},
   "outputs": [],
   "source": [
    "# Running the Survey to Generate Results\n",
    "results = survey.by(agents).run()"
   ]
  },
  {
   "cell_type": "markdown",
   "metadata": {},
   "source": [
    "#### Printing the Survey Results:"
   ]
  },
  {
   "cell_type": "code",
   "execution_count": null,
   "metadata": {},
   "outputs": [],
   "source": [
    "# Printing the Results of the Survey with Pretty Labels for the Pre-Post Information Shock Questions\n",
    "\n",
    "# Printing the Results of the Survey with Pretty Labels for the Pre-Post Information Shock Question 5\n",
    "(results\n",
    " .select(\"agent.*\",\"pre5\",\"post5\")\n",
    " .print(pretty_labels={\"agent.persona\":\"Persona\", \"answer.pre5\":\"Before\", \"answer.post5\":\"After\"})\n",
    ")\n",
    "\n",
    "# Printing the Results of the Survey with Pretty Labels for the Pre-Post Information Shock Question 6\n",
    "(results\n",
    " .select(\"agent.*\",\"pre6\",\"post6\")\n",
    " .print(pretty_labels={\"agent.persona\":\"Persona\", \"answer.pre6\":\"Before\", \"answer.post6\":\"After\"})\n",
    ")\n",
    "\n",
    "# Printing the Results of the Survey with Pretty Labels for the Pre-Post Information Shock Question 7\n",
    "(results\n",
    " .select(\"agent.*\",\"pre7\",\"post7\")\n",
    " .print(pretty_labels={\"agent.persona\":\"Persona\", \"answer.pre7\":\"Before\", \"answer.post7\":\"After\"})\n",
    ")\n",
    "\n",
    "# Printing the Results of the Survey with Pretty Labels for the Pre-Post Information Shock Question 8\n",
    "(results\n",
    " .select(\"agent.*\",\"pre8\",\"post8\")\n",
    " .print(pretty_labels={\"agent.persona\":\"Persona\", \"answer.pre8\":\"Before\", \"answer.post8\":\"After\"})\n",
    ")\n",
    "\n",
    "# Printing the Results of the Survey with Pretty Labels for the Pre-Post Information Shock Question 9\n",
    "(results\n",
    " .select(\"agent.*\",\"pre9\",\"post9\")\n",
    " .print(pretty_labels={\"agent.persona\":\"Persona\", \"answer.pre9\":\"Before\", \"answer.post9\":\"After\"})\n",
    ")\n",
    "\n",
    "# Printing the Results of the Survey with Pretty Labels for the Pre-Post Information Shock Question 17\n",
    "(results\n",
    " .select(\"agent.*\",\"pre17\",\"post17\")\n",
    " .print(pretty_labels={\"agent.persona\":\"Persona\", \"answer.pre17\":\"Before\", \"answer.post17\":\"After\"})\n",
    ")\n",
    "\n",
    "# Printing the Results of the Survey with Pretty Labels for the Pre-Post Information Shock Question 18\n",
    "(results\n",
    " .select(\"agent.*\",\"pre18\",\"post18\")\n",
    " .print(pretty_labels={\"agent.persona\":\"Persona\", \"answer.pre18\":\"Before\", \"answer.post18\":\"After\"})\n",
    ")\n",
    "\n",
    "# Printing the Results of the Survey with Pretty Labels for the Pre-Post Information Shock Question 19\n",
    "(results\n",
    " .select(\"agent.*\",\"pre19\",\"post19\")\n",
    " .print(pretty_labels={\"agent.persona\":\"Persona\", \"answer.pre19\":\"Before\", \"answer.post19\":\"After\"})\n",
    ")\n",
    "\n",
    "# Printing the Results of the Survey with Pretty Labels for the Pre-Post Information Shock Question 20\n",
    "(results\n",
    " .select(\"agent.*\",\"pre20\",\"post20\")\n",
    " .print(pretty_labels={\"agent.persona\":\"Persona\", \"answer.pre20\":\"Before\", \"answer.post20\":\"After\"})\n",
    ")\n",
    "\n",
    "# Printing the Results of the Survey with Pretty Labels for the Pre-Post Information Shock Question 22\n",
    "(results\n",
    " .select(\"agent.*\",\"pre22\",\"post22\")\n",
    " .print(pretty_labels={\"agent.persona\":\"Persona\", \"answer.pre22\":\"Before\", \"answer.post22\":\"After\"})\n",
    ")"
   ]
  },
  {
   "cell_type": "markdown",
   "metadata": {},
   "source": [
    "<br>\n",
    "\n",
    "---\n",
    "\n",
    "<br>\n",
    "\n",
    "### Show Prompts\n",
    "\n",
    "Especially when using scenarios or other parameters, it can be helpful to review the prompts that will be sent to the LLM in advance. This can be done as by creating a simple method to print the texts of the question prompts with the parameters:"
   ]
  },
  {
   "cell_type": "code",
   "execution_count": null,
   "metadata": {},
   "outputs": [],
   "source": [
    "def print_full_prompt(question, agent, scenario=None):\n",
    "    \"\"\"Prints the full prompt and system prompt for the given question and agent.\"\"\"\n",
    "    if scenarios:\n",
    "        scenario = scenario or Scenario()\n",
    "        system_prompt = agent.construct_system_prompt(question)\n",
    "        case_prompt = question.get_prompt(scenario=scenario)\n",
    "\n",
    "        print(f\"Prompt for Scenario: {scenario}\")\n",
    "        print(f\"System Prompt: {system_prompt}\")\n",
    "        print(f\"Scenario Prompt: {case_prompt}\\n\")\n",
    "    else:\n",
    "        system_prompt = agent.construct_system_prompt(question)\n",
    "        prompt = question.get_prompt()\n",
    "\n",
    "        print(f\"Prompt: {prompt}\")\n",
    "        print(f\"System Prompt: {system_prompt}\")"
   ]
  },
  {
   "cell_type": "markdown",
   "metadata": {},
   "source": [
    "#### Test Example:"
   ]
  },
  {
   "cell_type": "code",
   "execution_count": null,
   "metadata": {},
   "outputs": [],
   "source": [
    "from edsl.agents import Agent\n",
    "from edsl.questions import QuestionMultipleChoice\n",
    "from edsl.scenarios import Scenario\n",
    "\n",
    "agent = Agent(traits={\"age\": 44, \"gender\": \"female\"})\n",
    "\n",
    "question = QuestionMultipleChoice(\n",
    "    question_text=\"Do you enjoy {{activity}}?\",\n",
    "    question_options=[\"Yes\", \"No\"],\n",
    "    question_name=\"activities\",\n",
    ")\n",
    "\n",
    "activities = [\"drafting surveys\", \"taking surveys\", \"thinking about survey software\"]\n",
    "scenarios = [Scenario({\"activity\": a}) for a in activities]\n",
    "\n",
    "for scenario in scenarios:\n",
    "    print_full_prompt(question, agent, scenario)"
   ]
  },
  {
   "cell_type": "markdown",
   "metadata": {},
   "source": []
  }
 ],
 "metadata": {
  "kernelspec": {
   "display_name": "Python 3",
   "language": "python",
   "name": "python3"
  },
  "language_info": {
   "codemirror_mode": {
    "name": "ipython",
    "version": 3
   },
   "file_extension": ".py",
   "mimetype": "text/x-python",
   "name": "python",
   "nbconvert_exporter": "python",
   "pygments_lexer": "ipython3",
   "version": "3.11.4"
  },
  "orig_nbformat": 4
 },
 "nbformat": 4,
 "nbformat_minor": 2
}
